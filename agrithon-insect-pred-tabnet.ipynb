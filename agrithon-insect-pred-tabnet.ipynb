{
 "cells": [
  {
   "cell_type": "code",
   "execution_count": 1,
   "metadata": {
    "execution": {
     "iopub.execute_input": "2025-08-01T01:51:51.484514Z",
     "iopub.status.busy": "2025-08-01T01:51:51.484176Z",
     "iopub.status.idle": "2025-08-01T01:53:18.734304Z",
     "shell.execute_reply": "2025-08-01T01:53:18.733158Z",
     "shell.execute_reply.started": "2025-08-01T01:51:51.484460Z"
    },
    "trusted": true
   },
   "outputs": [],
   "source": [
    "!pip -q install pytorch-tabnet"
   ]
  },
  {
   "cell_type": "code",
   "execution_count": 3,
   "metadata": {
    "_cell_guid": "b1076dfc-b9ad-4769-8c92-a6c4dae69d19",
    "_uuid": "8f2839f25d086af736a60e9eeb907d3b93b6e0e5",
    "execution": {
     "iopub.execute_input": "2025-08-01T01:53:23.623846Z",
     "iopub.status.busy": "2025-08-01T01:53:23.623405Z",
     "iopub.status.idle": "2025-08-01T01:53:27.919863Z",
     "shell.execute_reply": "2025-08-01T01:53:27.916927Z",
     "shell.execute_reply.started": "2025-08-01T01:53:23.623815Z"
    },
    "trusted": true
   },
   "outputs": [],
   "source": [
    "import pandas as pd\n",
    "import numpy as np\n",
    "from sklearn.model_selection import train_test_split\n",
    "from sklearn.metrics import accuracy_score, precision_score, recall_score, f1_score, confusion_matrix, classification_report\n",
    "from pytorch_tabnet.tab_model import TabNetClassifier\n",
    "import matplotlib.pyplot as plt\n",
    "import seaborn as sns\n",
    "import torch"
   ]
  },
  {
   "cell_type": "code",
   "execution_count": 7,
   "metadata": {
    "execution": {
     "iopub.execute_input": "2025-08-01T01:55:52.422293Z",
     "iopub.status.busy": "2025-08-01T01:55:52.420535Z",
     "iopub.status.idle": "2025-08-01T01:55:52.454982Z",
     "shell.execute_reply": "2025-08-01T01:55:52.453811Z",
     "shell.execute_reply.started": "2025-08-01T01:55:52.422246Z"
    },
    "trusted": true
   },
   "outputs": [],
   "source": [
    "path = '/kaggle/input/insect/insect_symptom_synthetic_dataset.csv'\n",
    "df = pd.read_csv(path)"
   ]
  },
  {
   "cell_type": "code",
   "execution_count": 8,
   "metadata": {
    "execution": {
     "iopub.execute_input": "2025-08-01T01:55:53.886523Z",
     "iopub.status.busy": "2025-08-01T01:55:53.886142Z",
     "iopub.status.idle": "2025-08-01T01:55:53.904742Z",
     "shell.execute_reply": "2025-08-01T01:55:53.903442Z",
     "shell.execute_reply.started": "2025-08-01T01:55:53.886489Z"
    },
    "trusted": true
   },
   "outputs": [
    {
     "data": {
      "text/html": [
       "<div>\n",
       "<style scoped>\n",
       "    .dataframe tbody tr th:only-of-type {\n",
       "        vertical-align: middle;\n",
       "    }\n",
       "\n",
       "    .dataframe tbody tr th {\n",
       "        vertical-align: top;\n",
       "    }\n",
       "\n",
       "    .dataframe thead th {\n",
       "        text-align: right;\n",
       "    }\n",
       "</style>\n",
       "<table border=\"1\" class=\"dataframe\">\n",
       "  <thead>\n",
       "    <tr style=\"text-align: right;\">\n",
       "      <th></th>\n",
       "      <th>Is the pest in the image an armyworm?</th>\n",
       "      <th>Is the armyworm green in color?</th>\n",
       "      <th>Is the armyworm brown in color?</th>\n",
       "      <th>Is the armyworm found on the leaf top?</th>\n",
       "      <th>Is the armyworm found on the underside of the leaf?</th>\n",
       "      <th>Is the armyworm present on the stem?</th>\n",
       "      <th>Is the armyworm feeding on the crop?</th>\n",
       "      <th>Are visible bite marks present on the leaf?</th>\n",
       "      <th>Are there multiple armyworms in the image?</th>\n",
       "      <th>Is any frass (armyworm waste) visible near the pest?</th>\n",
       "      <th>...</th>\n",
       "      <th>Is the armyworm moving actively?</th>\n",
       "      <th>Are there signs of curled leaves due to feeding?</th>\n",
       "      <th>Has the armyworm damaged more than one section of the same plant?</th>\n",
       "      <th>Is there visible discoloration of the crop due to pest feeding?</th>\n",
       "      <th>Does the armyworm show striping or lines on its body?</th>\n",
       "      <th>Is the length of the armyworm greater than 20 mm?</th>\n",
       "      <th>Are any dead armyworms seen in the area (possibly due to pesticide)?</th>\n",
       "      <th>Is any chewing sound audible during the inspection?</th>\n",
       "      <th>Has any farmer nearby reported armyworm infestation in the last week?</th>\n",
       "      <th>Insect_Present_Label</th>\n",
       "    </tr>\n",
       "  </thead>\n",
       "  <tbody>\n",
       "    <tr>\n",
       "      <th>0</th>\n",
       "      <td>0</td>\n",
       "      <td>1</td>\n",
       "      <td>1</td>\n",
       "      <td>1</td>\n",
       "      <td>1</td>\n",
       "      <td>0</td>\n",
       "      <td>1</td>\n",
       "      <td>1</td>\n",
       "      <td>0</td>\n",
       "      <td>1</td>\n",
       "      <td>...</td>\n",
       "      <td>1</td>\n",
       "      <td>0</td>\n",
       "      <td>1</td>\n",
       "      <td>0</td>\n",
       "      <td>1</td>\n",
       "      <td>1</td>\n",
       "      <td>0</td>\n",
       "      <td>0</td>\n",
       "      <td>1</td>\n",
       "      <td>1</td>\n",
       "    </tr>\n",
       "    <tr>\n",
       "      <th>1</th>\n",
       "      <td>0</td>\n",
       "      <td>0</td>\n",
       "      <td>1</td>\n",
       "      <td>0</td>\n",
       "      <td>1</td>\n",
       "      <td>0</td>\n",
       "      <td>1</td>\n",
       "      <td>1</td>\n",
       "      <td>0</td>\n",
       "      <td>0</td>\n",
       "      <td>...</td>\n",
       "      <td>0</td>\n",
       "      <td>0</td>\n",
       "      <td>0</td>\n",
       "      <td>1</td>\n",
       "      <td>0</td>\n",
       "      <td>0</td>\n",
       "      <td>1</td>\n",
       "      <td>1</td>\n",
       "      <td>0</td>\n",
       "      <td>0</td>\n",
       "    </tr>\n",
       "    <tr>\n",
       "      <th>2</th>\n",
       "      <td>1</td>\n",
       "      <td>0</td>\n",
       "      <td>0</td>\n",
       "      <td>0</td>\n",
       "      <td>1</td>\n",
       "      <td>0</td>\n",
       "      <td>0</td>\n",
       "      <td>0</td>\n",
       "      <td>0</td>\n",
       "      <td>1</td>\n",
       "      <td>...</td>\n",
       "      <td>1</td>\n",
       "      <td>0</td>\n",
       "      <td>1</td>\n",
       "      <td>0</td>\n",
       "      <td>0</td>\n",
       "      <td>0</td>\n",
       "      <td>0</td>\n",
       "      <td>0</td>\n",
       "      <td>0</td>\n",
       "      <td>0</td>\n",
       "    </tr>\n",
       "    <tr>\n",
       "      <th>3</th>\n",
       "      <td>0</td>\n",
       "      <td>0</td>\n",
       "      <td>0</td>\n",
       "      <td>1</td>\n",
       "      <td>0</td>\n",
       "      <td>0</td>\n",
       "      <td>0</td>\n",
       "      <td>0</td>\n",
       "      <td>0</td>\n",
       "      <td>0</td>\n",
       "      <td>...</td>\n",
       "      <td>1</td>\n",
       "      <td>1</td>\n",
       "      <td>1</td>\n",
       "      <td>0</td>\n",
       "      <td>0</td>\n",
       "      <td>1</td>\n",
       "      <td>0</td>\n",
       "      <td>1</td>\n",
       "      <td>0</td>\n",
       "      <td>0</td>\n",
       "    </tr>\n",
       "    <tr>\n",
       "      <th>4</th>\n",
       "      <td>1</td>\n",
       "      <td>0</td>\n",
       "      <td>0</td>\n",
       "      <td>0</td>\n",
       "      <td>1</td>\n",
       "      <td>0</td>\n",
       "      <td>1</td>\n",
       "      <td>1</td>\n",
       "      <td>1</td>\n",
       "      <td>0</td>\n",
       "      <td>...</td>\n",
       "      <td>1</td>\n",
       "      <td>1</td>\n",
       "      <td>0</td>\n",
       "      <td>0</td>\n",
       "      <td>1</td>\n",
       "      <td>1</td>\n",
       "      <td>0</td>\n",
       "      <td>0</td>\n",
       "      <td>0</td>\n",
       "      <td>1</td>\n",
       "    </tr>\n",
       "  </tbody>\n",
       "</table>\n",
       "<p>5 rows × 31 columns</p>\n",
       "</div>"
      ],
      "text/plain": [
       "   Is the pest in the image an armyworm?  Is the armyworm green in color?  \\\n",
       "0                                      0                                1   \n",
       "1                                      0                                0   \n",
       "2                                      1                                0   \n",
       "3                                      0                                0   \n",
       "4                                      1                                0   \n",
       "\n",
       "   Is the armyworm brown in color?  Is the armyworm found on the leaf top?  \\\n",
       "0                                1                                       1   \n",
       "1                                1                                       0   \n",
       "2                                0                                       0   \n",
       "3                                0                                       1   \n",
       "4                                0                                       0   \n",
       "\n",
       "   Is the armyworm found on the underside of the leaf?  \\\n",
       "0                                                  1     \n",
       "1                                                  1     \n",
       "2                                                  1     \n",
       "3                                                  0     \n",
       "4                                                  1     \n",
       "\n",
       "   Is the armyworm present on the stem?  Is the armyworm feeding on the crop?  \\\n",
       "0                                     0                                     1   \n",
       "1                                     0                                     1   \n",
       "2                                     0                                     0   \n",
       "3                                     0                                     0   \n",
       "4                                     0                                     1   \n",
       "\n",
       "   Are visible bite marks present on the leaf?  \\\n",
       "0                                            1   \n",
       "1                                            1   \n",
       "2                                            0   \n",
       "3                                            0   \n",
       "4                                            1   \n",
       "\n",
       "   Are there multiple armyworms in the image?  \\\n",
       "0                                           0   \n",
       "1                                           0   \n",
       "2                                           0   \n",
       "3                                           0   \n",
       "4                                           1   \n",
       "\n",
       "   Is any frass (armyworm waste) visible near the pest?  ...  \\\n",
       "0                                                  1     ...   \n",
       "1                                                  0     ...   \n",
       "2                                                  1     ...   \n",
       "3                                                  0     ...   \n",
       "4                                                  0     ...   \n",
       "\n",
       "   Is the armyworm moving actively?  \\\n",
       "0                                 1   \n",
       "1                                 0   \n",
       "2                                 1   \n",
       "3                                 1   \n",
       "4                                 1   \n",
       "\n",
       "   Are there signs of curled leaves due to feeding?  \\\n",
       "0                                                 0   \n",
       "1                                                 0   \n",
       "2                                                 0   \n",
       "3                                                 1   \n",
       "4                                                 1   \n",
       "\n",
       "   Has the armyworm damaged more than one section of the same plant?  \\\n",
       "0                                                  1                   \n",
       "1                                                  0                   \n",
       "2                                                  1                   \n",
       "3                                                  1                   \n",
       "4                                                  0                   \n",
       "\n",
       "   Is there visible discoloration of the crop due to pest feeding?  \\\n",
       "0                                                  0                 \n",
       "1                                                  1                 \n",
       "2                                                  0                 \n",
       "3                                                  0                 \n",
       "4                                                  0                 \n",
       "\n",
       "   Does the armyworm show striping or lines on its body?  \\\n",
       "0                                                  1       \n",
       "1                                                  0       \n",
       "2                                                  0       \n",
       "3                                                  0       \n",
       "4                                                  1       \n",
       "\n",
       "   Is the length of the armyworm greater than 20 mm?  \\\n",
       "0                                                  1   \n",
       "1                                                  0   \n",
       "2                                                  0   \n",
       "3                                                  1   \n",
       "4                                                  1   \n",
       "\n",
       "   Are any dead armyworms seen in the area (possibly due to pesticide)?  \\\n",
       "0                                                  0                      \n",
       "1                                                  1                      \n",
       "2                                                  0                      \n",
       "3                                                  0                      \n",
       "4                                                  0                      \n",
       "\n",
       "   Is any chewing sound audible during the inspection?  \\\n",
       "0                                                  0     \n",
       "1                                                  1     \n",
       "2                                                  0     \n",
       "3                                                  1     \n",
       "4                                                  0     \n",
       "\n",
       "   Has any farmer nearby reported armyworm infestation in the last week?  \\\n",
       "0                                                  1                       \n",
       "1                                                  0                       \n",
       "2                                                  0                       \n",
       "3                                                  0                       \n",
       "4                                                  0                       \n",
       "\n",
       "   Insect_Present_Label  \n",
       "0                     1  \n",
       "1                     0  \n",
       "2                     0  \n",
       "3                     0  \n",
       "4                     1  \n",
       "\n",
       "[5 rows x 31 columns]"
      ]
     },
     "execution_count": 8,
     "metadata": {},
     "output_type": "execute_result"
    }
   ],
   "source": [
    "df.head()"
   ]
  },
  {
   "cell_type": "code",
   "execution_count": 9,
   "metadata": {
    "execution": {
     "iopub.execute_input": "2025-08-01T01:56:48.577510Z",
     "iopub.status.busy": "2025-08-01T01:56:48.576545Z",
     "iopub.status.idle": "2025-08-01T01:56:48.601744Z",
     "shell.execute_reply": "2025-08-01T01:56:48.600968Z",
     "shell.execute_reply.started": "2025-08-01T01:56:48.577473Z"
    },
    "trusted": true
   },
   "outputs": [
    {
     "name": "stdout",
     "output_type": "stream",
     "text": [
      "\n",
      "Training set shape: X_train=(200, 30), y_train=(200,)\n",
      "Testing set shape: X_test=(50, 30), y_test=(50,)\n"
     ]
    }
   ],
   "source": [
    "X = df.drop('Insect_Present_Label', axis=1)\n",
    "y = df['Insect_Present_Label']\n",
    "\n",
    "# Identify categorical features\n",
    "# Since all features are 0/1, we can treat them as categorical for TabNet\n",
    "categorical_features_indices = [i for i, col in enumerate(X.columns)]\n",
    "\n",
    "X_train, X_test, y_train, y_test = train_test_split(X, y, test_size=0.2, random_state=42, stratify=y)\n",
    "\n",
    "print(f\"\\nTraining set shape: X_train={X_train.shape}, y_train={y_train.shape}\")\n",
    "print(f\"Testing set shape: X_test={X_test.shape}, y_test={y_test.shape}\")"
   ]
  },
  {
   "cell_type": "code",
   "execution_count": 10,
   "metadata": {
    "execution": {
     "iopub.execute_input": "2025-08-01T01:57:10.153859Z",
     "iopub.status.busy": "2025-08-01T01:57:10.153504Z",
     "iopub.status.idle": "2025-08-01T01:57:10.170386Z",
     "shell.execute_reply": "2025-08-01T01:57:10.169242Z",
     "shell.execute_reply.started": "2025-08-01T01:57:10.153837Z"
    },
    "trusted": true
   },
   "outputs": [],
   "source": [
    "clf = TabNetClassifier(\n",
    "    n_d=64, n_a=64, n_steps=5, gamma=1.5,\n",
    "    cat_idxs=categorical_features_indices,\n",
    "    cat_dims=[2 for _ in categorical_features_indices],  # All features are binary (0, 1), so 2 unique values\n",
    "    cat_emb_dim=1,  # Embedding dimension for categorical features\n",
    "    optimizer_fn=torch.optim.Adam,\n",
    "    optimizer_params=dict(lr=2e-2),\n",
    "    scheduler_params={\"step_size\": 50, \"gamma\": 0.9},\n",
    "    scheduler_fn=torch.optim.lr_scheduler.StepLR,\n",
    "    mask_type='sparsemax',  # \"sparsemax\" or \"entmax\"\n",
    "    verbose=0  # Set to 1 to see training progress\n",
    ")"
   ]
  },
  {
   "cell_type": "code",
   "execution_count": 12,
   "metadata": {
    "execution": {
     "iopub.execute_input": "2025-08-01T01:59:11.343889Z",
     "iopub.status.busy": "2025-08-01T01:59:11.343542Z",
     "iopub.status.idle": "2025-08-01T01:59:25.959096Z",
     "shell.execute_reply": "2025-08-01T01:59:25.958120Z",
     "shell.execute_reply.started": "2025-08-01T01:59:11.343865Z"
    },
    "trusted": true
   },
   "outputs": [
    {
     "name": "stdout",
     "output_type": "stream",
     "text": [
      "\n",
      "Training TabNet model...\n",
      "\n",
      "Early stopping occurred at epoch 34 with best_epoch = 24 and best_val_0_accuracy = 0.78\n",
      "TabNet model training complete.\n"
     ]
    },
    {
     "name": "stderr",
     "output_type": "stream",
     "text": [
      "/usr/local/lib/python3.11/dist-packages/pytorch_tabnet/callbacks.py:172: UserWarning: Best weights from best epoch are automatically used!\n",
      "  warnings.warn(wrn_msg)\n"
     ]
    }
   ],
   "source": [
    "print(\"\\nTraining TabNet model...\")\n",
    "\n",
    "# Convert data to numpy arrays as expected by TabNet\n",
    "X_train_np = X_train.values\n",
    "y_train_np = y_train.values\n",
    "X_test_np = X_test.values\n",
    "\n",
    "clf.fit(\n",
    "    X_train_np, y_train_np,  # Pass X and y as positional arguments\n",
    "    eval_set=[(X_test_np, y_test.values)],\n",
    "    eval_metric=['accuracy'],\n",
    "    max_epochs=100,\n",
    "    patience=10,\n",
    "    batch_size=32,\n",
    "    virtual_batch_size=16\n",
    ")\n",
    "print(\"TabNet model training complete.\")\n"
   ]
  },
  {
   "cell_type": "code",
   "execution_count": 13,
   "metadata": {
    "execution": {
     "iopub.execute_input": "2025-08-01T01:59:57.574820Z",
     "iopub.status.busy": "2025-08-01T01:59:57.574309Z",
     "iopub.status.idle": "2025-08-01T01:59:57.630050Z",
     "shell.execute_reply": "2025-08-01T01:59:57.628744Z",
     "shell.execute_reply.started": "2025-08-01T01:59:57.574797Z"
    },
    "trusted": true
   },
   "outputs": [
    {
     "name": "stdout",
     "output_type": "stream",
     "text": [
      "\n",
      "--- Model Evaluation ---\n",
      "Accuracy: 0.7800\n",
      "Precision: 0.8519\n",
      "Recall: 0.7667\n",
      "F1-Score: 0.8070\n"
     ]
    }
   ],
   "source": [
    "y_pred = clf.predict(X_test_np)\n",
    "\n",
    "# Evaluate the model\n",
    "print(\"\\n--- Model Evaluation ---\")\n",
    "\n",
    "# Accuracy\n",
    "accuracy = accuracy_score(y_test, y_pred)\n",
    "print(f\"Accuracy: {accuracy:.4f}\")\n",
    "\n",
    "# Precision, Recall, F1-Score\n",
    "precision = precision_score(y_test, y_pred, average='binary')\n",
    "recall = recall_score(y_test, y_pred, average='binary')\n",
    "f1 = f1_score(y_test, y_pred, average='binary')\n",
    "\n",
    "print(f\"Precision: {precision:.4f}\")\n",
    "print(f\"Recall: {recall:.4f}\")\n",
    "print(f\"F1-Score: {f1:.4f}\")"
   ]
  },
  {
   "cell_type": "code",
   "execution_count": null,
   "metadata": {
    "trusted": true
   },
   "outputs": [],
   "source": []
  }
 ],
 "metadata": {
  "kaggle": {
   "accelerator": "none",
   "dataSources": [
    {
     "datasetId": 7983942,
     "sourceId": 12634927,
     "sourceType": "datasetVersion"
    }
   ],
   "dockerImageVersionId": 31089,
   "isGpuEnabled": false,
   "isInternetEnabled": true,
   "language": "python",
   "sourceType": "notebook"
  },
  "kernelspec": {
   "display_name": "agri",
   "language": "python",
   "name": "python3"
  },
  "language_info": {
   "codemirror_mode": {
    "name": "ipython",
    "version": 3
   },
   "file_extension": ".py",
   "mimetype": "text/x-python",
   "name": "python",
   "nbconvert_exporter": "python",
   "pygments_lexer": "ipython3",
   "version": "3.10.12"
  }
 },
 "nbformat": 4,
 "nbformat_minor": 4
}
