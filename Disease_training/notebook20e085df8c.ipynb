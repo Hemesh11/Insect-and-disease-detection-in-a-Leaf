{
 "cells": [
  {
   "cell_type": "code",
   "execution_count": 1,
   "id": "2cdd2327",
   "metadata": {
    "_cell_guid": "b1076dfc-b9ad-4769-8c92-a6c4dae69d19",
    "_uuid": "8f2839f25d086af736a60e9eeb907d3b93b6e0e5",
    "execution": {
     "iopub.execute_input": "2025-07-29T05:01:54.414283Z",
     "iopub.status.busy": "2025-07-29T05:01:54.414075Z",
     "iopub.status.idle": "2025-07-29T05:03:21.096197Z",
     "shell.execute_reply": "2025-07-29T05:03:21.095425Z"
    },
    "papermill": {
     "duration": 86.686996,
     "end_time": "2025-07-29T05:03:21.097557",
     "exception": false,
     "start_time": "2025-07-29T05:01:54.410561",
     "status": "completed"
    },
    "tags": []
   },
   "outputs": [
    {
     "name": "stdout",
     "output_type": "stream",
     "text": [
      "Collecting ultralytics\r\n",
      "  Downloading ultralytics-8.3.170-py3-none-any.whl.metadata (37 kB)\r\n",
      "Requirement already satisfied: numpy>=1.23.0 in /usr/local/lib/python3.11/dist-packages (from ultralytics) (1.26.4)\r\n",
      "Requirement already satisfied: matplotlib>=3.3.0 in /usr/local/lib/python3.11/dist-packages (from ultralytics) (3.7.2)\r\n",
      "Requirement already satisfied: opencv-python>=4.6.0 in /usr/local/lib/python3.11/dist-packages (from ultralytics) (4.11.0.86)\r\n",
      "Requirement already satisfied: pillow>=7.1.2 in /usr/local/lib/python3.11/dist-packages (from ultralytics) (11.2.1)\r\n",
      "Requirement already satisfied: pyyaml>=5.3.1 in /usr/local/lib/python3.11/dist-packages (from ultralytics) (6.0.2)\r\n",
      "Requirement already satisfied: requests>=2.23.0 in /usr/local/lib/python3.11/dist-packages (from ultralytics) (2.32.4)\r\n",
      "Requirement already satisfied: scipy>=1.4.1 in /usr/local/lib/python3.11/dist-packages (from ultralytics) (1.15.3)\r\n",
      "Requirement already satisfied: torch>=1.8.0 in /usr/local/lib/python3.11/dist-packages (from ultralytics) (2.6.0+cu124)\r\n",
      "Requirement already satisfied: torchvision>=0.9.0 in /usr/local/lib/python3.11/dist-packages (from ultralytics) (0.21.0+cu124)\r\n",
      "Requirement already satisfied: tqdm>=4.64.0 in /usr/local/lib/python3.11/dist-packages (from ultralytics) (4.67.1)\r\n",
      "Requirement already satisfied: psutil in /usr/local/lib/python3.11/dist-packages (from ultralytics) (7.0.0)\r\n",
      "Requirement already satisfied: py-cpuinfo in /usr/local/lib/python3.11/dist-packages (from ultralytics) (9.0.0)\r\n",
      "Requirement already satisfied: pandas>=1.1.4 in /usr/local/lib/python3.11/dist-packages (from ultralytics) (2.2.3)\r\n",
      "Collecting ultralytics-thop>=2.0.0 (from ultralytics)\r\n",
      "  Downloading ultralytics_thop-2.0.14-py3-none-any.whl.metadata (9.4 kB)\r\n",
      "Requirement already satisfied: contourpy>=1.0.1 in /usr/local/lib/python3.11/dist-packages (from matplotlib>=3.3.0->ultralytics) (1.3.2)\r\n",
      "Requirement already satisfied: cycler>=0.10 in /usr/local/lib/python3.11/dist-packages (from matplotlib>=3.3.0->ultralytics) (0.12.1)\r\n",
      "Requirement already satisfied: fonttools>=4.22.0 in /usr/local/lib/python3.11/dist-packages (from matplotlib>=3.3.0->ultralytics) (4.58.4)\r\n",
      "Requirement already satisfied: kiwisolver>=1.0.1 in /usr/local/lib/python3.11/dist-packages (from matplotlib>=3.3.0->ultralytics) (1.4.8)\r\n",
      "Requirement already satisfied: packaging>=20.0 in /usr/local/lib/python3.11/dist-packages (from matplotlib>=3.3.0->ultralytics) (25.0)\r\n",
      "Requirement already satisfied: pyparsing<3.1,>=2.3.1 in /usr/local/lib/python3.11/dist-packages (from matplotlib>=3.3.0->ultralytics) (3.0.9)\r\n",
      "Requirement already satisfied: python-dateutil>=2.7 in /usr/local/lib/python3.11/dist-packages (from matplotlib>=3.3.0->ultralytics) (2.9.0.post0)\r\n",
      "Requirement already satisfied: mkl_fft in /usr/local/lib/python3.11/dist-packages (from numpy>=1.23.0->ultralytics) (1.3.8)\r\n",
      "Requirement already satisfied: mkl_random in /usr/local/lib/python3.11/dist-packages (from numpy>=1.23.0->ultralytics) (1.2.4)\r\n",
      "Requirement already satisfied: mkl_umath in /usr/local/lib/python3.11/dist-packages (from numpy>=1.23.0->ultralytics) (0.1.1)\r\n",
      "Requirement already satisfied: mkl in /usr/local/lib/python3.11/dist-packages (from numpy>=1.23.0->ultralytics) (2025.2.0)\r\n",
      "Requirement already satisfied: tbb4py in /usr/local/lib/python3.11/dist-packages (from numpy>=1.23.0->ultralytics) (2022.2.0)\r\n",
      "Requirement already satisfied: mkl-service in /usr/local/lib/python3.11/dist-packages (from numpy>=1.23.0->ultralytics) (2.4.1)\r\n",
      "Requirement already satisfied: pytz>=2020.1 in /usr/local/lib/python3.11/dist-packages (from pandas>=1.1.4->ultralytics) (2025.2)\r\n",
      "Requirement already satisfied: tzdata>=2022.7 in /usr/local/lib/python3.11/dist-packages (from pandas>=1.1.4->ultralytics) (2025.2)\r\n",
      "Requirement already satisfied: charset_normalizer<4,>=2 in /usr/local/lib/python3.11/dist-packages (from requests>=2.23.0->ultralytics) (3.4.2)\r\n",
      "Requirement already satisfied: idna<4,>=2.5 in /usr/local/lib/python3.11/dist-packages (from requests>=2.23.0->ultralytics) (3.10)\r\n",
      "Requirement already satisfied: urllib3<3,>=1.21.1 in /usr/local/lib/python3.11/dist-packages (from requests>=2.23.0->ultralytics) (2.5.0)\r\n",
      "Requirement already satisfied: certifi>=2017.4.17 in /usr/local/lib/python3.11/dist-packages (from requests>=2.23.0->ultralytics) (2025.6.15)\r\n",
      "Requirement already satisfied: filelock in /usr/local/lib/python3.11/dist-packages (from torch>=1.8.0->ultralytics) (3.18.0)\r\n",
      "Requirement already satisfied: typing-extensions>=4.10.0 in /usr/local/lib/python3.11/dist-packages (from torch>=1.8.0->ultralytics) (4.14.0)\r\n",
      "Requirement already satisfied: networkx in /usr/local/lib/python3.11/dist-packages (from torch>=1.8.0->ultralytics) (3.5)\r\n",
      "Requirement already satisfied: jinja2 in /usr/local/lib/python3.11/dist-packages (from torch>=1.8.0->ultralytics) (3.1.6)\r\n",
      "Requirement already satisfied: fsspec in /usr/local/lib/python3.11/dist-packages (from torch>=1.8.0->ultralytics) (2025.5.1)\r\n",
      "Collecting nvidia-cuda-nvrtc-cu12==12.4.127 (from torch>=1.8.0->ultralytics)\r\n",
      "  Downloading nvidia_cuda_nvrtc_cu12-12.4.127-py3-none-manylinux2014_x86_64.whl.metadata (1.5 kB)\r\n",
      "Collecting nvidia-cuda-runtime-cu12==12.4.127 (from torch>=1.8.0->ultralytics)\r\n",
      "  Downloading nvidia_cuda_runtime_cu12-12.4.127-py3-none-manylinux2014_x86_64.whl.metadata (1.5 kB)\r\n",
      "Collecting nvidia-cuda-cupti-cu12==12.4.127 (from torch>=1.8.0->ultralytics)\r\n",
      "  Downloading nvidia_cuda_cupti_cu12-12.4.127-py3-none-manylinux2014_x86_64.whl.metadata (1.6 kB)\r\n",
      "Collecting nvidia-cudnn-cu12==9.1.0.70 (from torch>=1.8.0->ultralytics)\r\n",
      "  Downloading nvidia_cudnn_cu12-9.1.0.70-py3-none-manylinux2014_x86_64.whl.metadata (1.6 kB)\r\n",
      "Collecting nvidia-cublas-cu12==12.4.5.8 (from torch>=1.8.0->ultralytics)\r\n",
      "  Downloading nvidia_cublas_cu12-12.4.5.8-py3-none-manylinux2014_x86_64.whl.metadata (1.5 kB)\r\n",
      "Collecting nvidia-cufft-cu12==11.2.1.3 (from torch>=1.8.0->ultralytics)\r\n",
      "  Downloading nvidia_cufft_cu12-11.2.1.3-py3-none-manylinux2014_x86_64.whl.metadata (1.5 kB)\r\n",
      "Collecting nvidia-curand-cu12==10.3.5.147 (from torch>=1.8.0->ultralytics)\r\n",
      "  Downloading nvidia_curand_cu12-10.3.5.147-py3-none-manylinux2014_x86_64.whl.metadata (1.5 kB)\r\n",
      "Collecting nvidia-cusolver-cu12==11.6.1.9 (from torch>=1.8.0->ultralytics)\r\n",
      "  Downloading nvidia_cusolver_cu12-11.6.1.9-py3-none-manylinux2014_x86_64.whl.metadata (1.6 kB)\r\n",
      "Collecting nvidia-cusparse-cu12==12.3.1.170 (from torch>=1.8.0->ultralytics)\r\n",
      "  Downloading nvidia_cusparse_cu12-12.3.1.170-py3-none-manylinux2014_x86_64.whl.metadata (1.6 kB)\r\n",
      "Requirement already satisfied: nvidia-cusparselt-cu12==0.6.2 in /usr/local/lib/python3.11/dist-packages (from torch>=1.8.0->ultralytics) (0.6.2)\r\n",
      "Requirement already satisfied: nvidia-nccl-cu12==2.21.5 in /usr/local/lib/python3.11/dist-packages (from torch>=1.8.0->ultralytics) (2.21.5)\r\n",
      "Requirement already satisfied: nvidia-nvtx-cu12==12.4.127 in /usr/local/lib/python3.11/dist-packages (from torch>=1.8.0->ultralytics) (12.4.127)\r\n",
      "Collecting nvidia-nvjitlink-cu12==12.4.127 (from torch>=1.8.0->ultralytics)\r\n",
      "  Downloading nvidia_nvjitlink_cu12-12.4.127-py3-none-manylinux2014_x86_64.whl.metadata (1.5 kB)\r\n",
      "Requirement already satisfied: triton==3.2.0 in /usr/local/lib/python3.11/dist-packages (from torch>=1.8.0->ultralytics) (3.2.0)\r\n",
      "Requirement already satisfied: sympy==1.13.1 in /usr/local/lib/python3.11/dist-packages (from torch>=1.8.0->ultralytics) (1.13.1)\r\n",
      "Requirement already satisfied: mpmath<1.4,>=1.1.0 in /usr/local/lib/python3.11/dist-packages (from sympy==1.13.1->torch>=1.8.0->ultralytics) (1.3.0)\r\n",
      "Requirement already satisfied: six>=1.5 in /usr/local/lib/python3.11/dist-packages (from python-dateutil>=2.7->matplotlib>=3.3.0->ultralytics) (1.17.0)\r\n",
      "Requirement already satisfied: MarkupSafe>=2.0 in /usr/local/lib/python3.11/dist-packages (from jinja2->torch>=1.8.0->ultralytics) (3.0.2)\r\n",
      "Requirement already satisfied: intel-openmp<2026,>=2024 in /usr/local/lib/python3.11/dist-packages (from mkl->numpy>=1.23.0->ultralytics) (2024.2.0)\r\n",
      "Requirement already satisfied: tbb==2022.* in /usr/local/lib/python3.11/dist-packages (from mkl->numpy>=1.23.0->ultralytics) (2022.2.0)\r\n",
      "Requirement already satisfied: tcmlib==1.* in /usr/local/lib/python3.11/dist-packages (from tbb==2022.*->mkl->numpy>=1.23.0->ultralytics) (1.4.0)\r\n",
      "Requirement already satisfied: intel-cmplr-lib-rt in /usr/local/lib/python3.11/dist-packages (from mkl_umath->numpy>=1.23.0->ultralytics) (2024.2.0)\r\n",
      "Requirement already satisfied: intel-cmplr-lib-ur==2024.2.0 in /usr/local/lib/python3.11/dist-packages (from intel-openmp<2026,>=2024->mkl->numpy>=1.23.0->ultralytics) (2024.2.0)\r\n",
      "Downloading ultralytics-8.3.170-py3-none-any.whl (1.0 MB)\r\n",
      "\u001b[2K   \u001b[90m━━━━━━━━━━━━━━━━━━━━━━━━━━━━━━━━━━━━━━━━\u001b[0m \u001b[32m1.0/1.0 MB\u001b[0m \u001b[31m19.0 MB/s\u001b[0m eta \u001b[36m0:00:00\u001b[0m\r\n",
      "\u001b[?25hDownloading nvidia_cublas_cu12-12.4.5.8-py3-none-manylinux2014_x86_64.whl (363.4 MB)\r\n",
      "\u001b[2K   \u001b[90m━━━━━━━━━━━━━━━━━━━━━━━━━━━━━━━━━━━━━━━━\u001b[0m \u001b[32m363.4/363.4 MB\u001b[0m \u001b[31m4.6 MB/s\u001b[0m eta \u001b[36m0:00:00\u001b[0m\r\n",
      "\u001b[?25hDownloading nvidia_cuda_cupti_cu12-12.4.127-py3-none-manylinux2014_x86_64.whl (13.8 MB)\r\n",
      "\u001b[2K   \u001b[90m━━━━━━━━━━━━━━━━━━━━━━━━━━━━━━━━━━━━━━━━\u001b[0m \u001b[32m13.8/13.8 MB\u001b[0m \u001b[31m92.1 MB/s\u001b[0m eta \u001b[36m0:00:00\u001b[0m\r\n",
      "\u001b[?25hDownloading nvidia_cuda_nvrtc_cu12-12.4.127-py3-none-manylinux2014_x86_64.whl (24.6 MB)\r\n",
      "\u001b[2K   \u001b[90m━━━━━━━━━━━━━━━━━━━━━━━━━━━━━━━━━━━━━━━━\u001b[0m \u001b[32m24.6/24.6 MB\u001b[0m \u001b[31m70.5 MB/s\u001b[0m eta \u001b[36m0:00:00\u001b[0m\r\n",
      "\u001b[?25hDownloading nvidia_cuda_runtime_cu12-12.4.127-py3-none-manylinux2014_x86_64.whl (883 kB)\r\n",
      "\u001b[2K   \u001b[90m━━━━━━━━━━━━━━━━━━━━━━━━━━━━━━━━━━━━━━━━\u001b[0m \u001b[32m883.7/883.7 kB\u001b[0m \u001b[31m35.5 MB/s\u001b[0m eta \u001b[36m0:00:00\u001b[0m\r\n",
      "\u001b[?25hDownloading nvidia_cudnn_cu12-9.1.0.70-py3-none-manylinux2014_x86_64.whl (664.8 MB)\r\n",
      "\u001b[2K   \u001b[90m━━━━━━━━━━━━━━━━━━━━━━━━━━━━━━━━━━━━━━━━\u001b[0m \u001b[32m664.8/664.8 MB\u001b[0m \u001b[31m2.5 MB/s\u001b[0m eta \u001b[36m0:00:00\u001b[0m\r\n",
      "\u001b[?25hDownloading nvidia_cufft_cu12-11.2.1.3-py3-none-manylinux2014_x86_64.whl (211.5 MB)\r\n",
      "\u001b[2K   \u001b[90m━━━━━━━━━━━━━━━━━━━━━━━━━━━━━━━━━━━━━━━━\u001b[0m \u001b[32m211.5/211.5 MB\u001b[0m \u001b[31m8.0 MB/s\u001b[0m eta \u001b[36m0:00:00\u001b[0m\r\n",
      "\u001b[?25hDownloading nvidia_curand_cu12-10.3.5.147-py3-none-manylinux2014_x86_64.whl (56.3 MB)\r\n",
      "\u001b[2K   \u001b[90m━━━━━━━━━━━━━━━━━━━━━━━━━━━━━━━━━━━━━━━━\u001b[0m \u001b[32m56.3/56.3 MB\u001b[0m \u001b[31m29.4 MB/s\u001b[0m eta \u001b[36m0:00:00\u001b[0m\r\n",
      "\u001b[?25hDownloading nvidia_cusolver_cu12-11.6.1.9-py3-none-manylinux2014_x86_64.whl (127.9 MB)\r\n",
      "\u001b[2K   \u001b[90m━━━━━━━━━━━━━━━━━━━━━━━━━━━━━━━━━━━━━━━━\u001b[0m \u001b[32m127.9/127.9 MB\u001b[0m \u001b[31m13.0 MB/s\u001b[0m eta \u001b[36m0:00:00\u001b[0m\r\n",
      "\u001b[?25hDownloading nvidia_cusparse_cu12-12.3.1.170-py3-none-manylinux2014_x86_64.whl (207.5 MB)\r\n",
      "\u001b[2K   \u001b[90m━━━━━━━━━━━━━━━━━━━━━━━━━━━━━━━━━━━━━━━━\u001b[0m \u001b[32m207.5/207.5 MB\u001b[0m \u001b[31m6.2 MB/s\u001b[0m eta \u001b[36m0:00:00\u001b[0m\r\n",
      "\u001b[?25hDownloading nvidia_nvjitlink_cu12-12.4.127-py3-none-manylinux2014_x86_64.whl (21.1 MB)\r\n",
      "\u001b[2K   \u001b[90m━━━━━━━━━━━━━━━━━━━━━━━━━━━━━━━━━━━━━━━━\u001b[0m \u001b[32m21.1/21.1 MB\u001b[0m \u001b[31m72.9 MB/s\u001b[0m eta \u001b[36m0:00:00\u001b[0m\r\n",
      "\u001b[?25hDownloading ultralytics_thop-2.0.14-py3-none-any.whl (26 kB)\r\n",
      "Installing collected packages: nvidia-nvjitlink-cu12, nvidia-curand-cu12, nvidia-cufft-cu12, nvidia-cuda-runtime-cu12, nvidia-cuda-nvrtc-cu12, nvidia-cuda-cupti-cu12, nvidia-cublas-cu12, nvidia-cusparse-cu12, nvidia-cudnn-cu12, nvidia-cusolver-cu12, ultralytics-thop, ultralytics\r\n",
      "  Attempting uninstall: nvidia-nvjitlink-cu12\r\n",
      "    Found existing installation: nvidia-nvjitlink-cu12 12.5.82\r\n",
      "    Uninstalling nvidia-nvjitlink-cu12-12.5.82:\r\n",
      "      Successfully uninstalled nvidia-nvjitlink-cu12-12.5.82\r\n",
      "  Attempting uninstall: nvidia-curand-cu12\r\n",
      "    Found existing installation: nvidia-curand-cu12 10.3.6.82\r\n",
      "    Uninstalling nvidia-curand-cu12-10.3.6.82:\r\n",
      "      Successfully uninstalled nvidia-curand-cu12-10.3.6.82\r\n",
      "  Attempting uninstall: nvidia-cufft-cu12\r\n",
      "    Found existing installation: nvidia-cufft-cu12 11.2.3.61\r\n",
      "    Uninstalling nvidia-cufft-cu12-11.2.3.61:\r\n",
      "      Successfully uninstalled nvidia-cufft-cu12-11.2.3.61\r\n",
      "  Attempting uninstall: nvidia-cuda-runtime-cu12\r\n",
      "    Found existing installation: nvidia-cuda-runtime-cu12 12.5.82\r\n",
      "    Uninstalling nvidia-cuda-runtime-cu12-12.5.82:\r\n",
      "      Successfully uninstalled nvidia-cuda-runtime-cu12-12.5.82\r\n",
      "  Attempting uninstall: nvidia-cuda-nvrtc-cu12\r\n",
      "    Found existing installation: nvidia-cuda-nvrtc-cu12 12.5.82\r\n",
      "    Uninstalling nvidia-cuda-nvrtc-cu12-12.5.82:\r\n",
      "      Successfully uninstalled nvidia-cuda-nvrtc-cu12-12.5.82\r\n",
      "  Attempting uninstall: nvidia-cuda-cupti-cu12\r\n",
      "    Found existing installation: nvidia-cuda-cupti-cu12 12.5.82\r\n",
      "    Uninstalling nvidia-cuda-cupti-cu12-12.5.82:\r\n",
      "      Successfully uninstalled nvidia-cuda-cupti-cu12-12.5.82\r\n",
      "  Attempting uninstall: nvidia-cublas-cu12\r\n",
      "    Found existing installation: nvidia-cublas-cu12 12.5.3.2\r\n",
      "    Uninstalling nvidia-cublas-cu12-12.5.3.2:\r\n",
      "      Successfully uninstalled nvidia-cublas-cu12-12.5.3.2\r\n",
      "  Attempting uninstall: nvidia-cusparse-cu12\r\n",
      "    Found existing installation: nvidia-cusparse-cu12 12.5.1.3\r\n",
      "    Uninstalling nvidia-cusparse-cu12-12.5.1.3:\r\n",
      "      Successfully uninstalled nvidia-cusparse-cu12-12.5.1.3\r\n",
      "  Attempting uninstall: nvidia-cudnn-cu12\r\n",
      "    Found existing installation: nvidia-cudnn-cu12 9.3.0.75\r\n",
      "    Uninstalling nvidia-cudnn-cu12-9.3.0.75:\r\n",
      "      Successfully uninstalled nvidia-cudnn-cu12-9.3.0.75\r\n",
      "  Attempting uninstall: nvidia-cusolver-cu12\r\n",
      "    Found existing installation: nvidia-cusolver-cu12 11.6.3.83\r\n",
      "    Uninstalling nvidia-cusolver-cu12-11.6.3.83:\r\n",
      "      Successfully uninstalled nvidia-cusolver-cu12-11.6.3.83\r\n",
      "Successfully installed nvidia-cublas-cu12-12.4.5.8 nvidia-cuda-cupti-cu12-12.4.127 nvidia-cuda-nvrtc-cu12-12.4.127 nvidia-cuda-runtime-cu12-12.4.127 nvidia-cudnn-cu12-9.1.0.70 nvidia-cufft-cu12-11.2.1.3 nvidia-curand-cu12-10.3.5.147 nvidia-cusolver-cu12-11.6.1.9 nvidia-cusparse-cu12-12.3.1.170 nvidia-nvjitlink-cu12-12.4.127 ultralytics-8.3.170 ultralytics-thop-2.0.14\r\n"
     ]
    }
   ],
   "source": [
    "!pip install ultralytics\n"
   ]
  },
  {
   "cell_type": "code",
   "execution_count": 2,
   "id": "3d9fe887",
   "metadata": {
    "execution": {
     "iopub.execute_input": "2025-07-29T05:03:21.139047Z",
     "iopub.status.busy": "2025-07-29T05:03:21.138801Z",
     "iopub.status.idle": "2025-07-29T05:03:23.265102Z",
     "shell.execute_reply": "2025-07-29T05:03:23.264218Z"
    },
    "papermill": {
     "duration": 2.14848,
     "end_time": "2025-07-29T05:03:23.266734",
     "exception": false,
     "start_time": "2025-07-29T05:03:21.118254",
     "status": "completed"
    },
    "tags": []
   },
   "outputs": [],
   "source": [
    "import os\n",
    "import shutil\n",
    "from sklearn.model_selection import train_test_split"
   ]
  },
  {
   "cell_type": "code",
   "execution_count": 3,
   "id": "f49d1029",
   "metadata": {
    "execution": {
     "iopub.execute_input": "2025-07-29T05:03:23.313345Z",
     "iopub.status.busy": "2025-07-29T05:03:23.312975Z",
     "iopub.status.idle": "2025-07-29T05:03:27.548345Z",
     "shell.execute_reply": "2025-07-29T05:03:27.547526Z"
    },
    "papermill": {
     "duration": 4.260317,
     "end_time": "2025-07-29T05:03:27.549856",
     "exception": false,
     "start_time": "2025-07-29T05:03:23.289539",
     "status": "completed"
    },
    "tags": []
   },
   "outputs": [],
   "source": [
    "images_dir = \"/kaggle/input/images\"\n",
    "labels_dir = \"/kaggle/input/labelspoints\"\n",
    "\n",
    "# Target YOLOv8 folder structure\n",
    "base_dir = \"/kaggle/working/dataset\"\n",
    "os.makedirs(f\"{base_dir}/images/train\", exist_ok=True)\n",
    "os.makedirs(f\"{base_dir}/images/val\", exist_ok=True)\n",
    "os.makedirs(f\"{base_dir}/labels/train\", exist_ok=True)\n",
    "os.makedirs(f\"{base_dir}/labels/val\", exist_ok=True)\n",
    "\n",
    "# Get all image filenames\n",
    "image_files = [f for f in os.listdir(images_dir) if f.endswith(('.jpg', '.png'))]\n",
    "train_imgs, val_imgs = train_test_split(image_files, test_size=0.2, random_state=42)\n",
    "\n",
    "# Move images and labels to correct folders\n",
    "for img_list, split in [(train_imgs, \"train\"), (val_imgs, \"val\")]:\n",
    "    for img_name in img_list:\n",
    "        base = os.path.splitext(img_name)[0]\n",
    "        label_file = f\"{base}.txt\"\n",
    "        \n",
    "        # Copy image\n",
    "        shutil.copy(os.path.join(images_dir, img_name), f\"{base_dir}/images/{split}/{img_name}\")\n",
    "        \n",
    "        # Copy corresponding label\n",
    "        label_path = os.path.join(labels_dir, label_file)\n",
    "        if os.path.exists(label_path):\n",
    "            shutil.copy(label_path, f\"{base_dir}/labels/{split}/{label_file}\")"
   ]
  },
  {
   "cell_type": "code",
   "execution_count": 4,
   "id": "42ddc25d",
   "metadata": {
    "execution": {
     "iopub.execute_input": "2025-07-29T05:03:27.591985Z",
     "iopub.status.busy": "2025-07-29T05:03:27.591645Z",
     "iopub.status.idle": "2025-07-29T05:03:27.596633Z",
     "shell.execute_reply": "2025-07-29T05:03:27.595798Z"
    },
    "papermill": {
     "duration": 0.027542,
     "end_time": "2025-07-29T05:03:27.597988",
     "exception": false,
     "start_time": "2025-07-29T05:03:27.570446",
     "status": "completed"
    },
    "tags": []
   },
   "outputs": [],
   "source": [
    "data_yaml = \"\"\"\n",
    "path: /kaggle/working/dataset\n",
    "train: images/train\n",
    "val: images/val\n",
    "\n",
    "nc: 1\n",
    "names: ['disease']\n",
    "\"\"\"\n",
    "\n",
    "with open(\"/kaggle/working/data.yaml\", \"w\") as f:\n",
    "    f.write(data_yaml)\n"
   ]
  },
  {
   "cell_type": "code",
   "execution_count": 5,
   "id": "820bddb0",
   "metadata": {
    "execution": {
     "iopub.execute_input": "2025-07-29T05:03:27.645554Z",
     "iopub.status.busy": "2025-07-29T05:03:27.645042Z",
     "iopub.status.idle": "2025-07-29T05:13:58.956557Z",
     "shell.execute_reply": "2025-07-29T05:13:58.955779Z"
    },
    "papermill": {
     "duration": 631.341534,
     "end_time": "2025-07-29T05:13:58.963293",
     "exception": false,
     "start_time": "2025-07-29T05:03:27.621759",
     "status": "completed"
    },
    "tags": []
   },
   "outputs": [
    {
     "name": "stdout",
     "output_type": "stream",
     "text": [
      "Creating new Ultralytics Settings v0.0.6 file ✅ \n",
      "View Ultralytics Settings with 'yolo settings' or at '/root/.config/Ultralytics/settings.json'\n",
      "Update Settings with 'yolo settings key=value', i.e. 'yolo settings runs_dir=path/to/dir'. For help see https://docs.ultralytics.com/quickstart/#ultralytics-settings.\n",
      "Downloading https://github.com/ultralytics/assets/releases/download/v8.3.0/yolov8s-seg.pt to 'yolov8s-seg.pt'...\n"
     ]
    },
    {
     "name": "stderr",
     "output_type": "stream",
     "text": [
      "100%|██████████| 22.8M/22.8M [00:00<00:00, 176MB/s]\n"
     ]
    },
    {
     "name": "stdout",
     "output_type": "stream",
     "text": [
      "Ultralytics 8.3.170 🚀 Python-3.11.13 torch-2.6.0+cu124 CUDA:0 (Tesla T4, 15095MiB)\n",
      "\u001b[34m\u001b[1mengine/trainer: \u001b[0magnostic_nms=False, amp=True, augment=False, auto_augment=randaugment, batch=8, bgr=0.0, box=7.5, cache=False, cfg=None, classes=None, close_mosaic=10, cls=0.5, conf=None, copy_paste=0.0, copy_paste_mode=flip, cos_lr=False, cutmix=0.0, data=/kaggle/working/data.yaml, degrees=0.0, deterministic=True, device=None, dfl=1.5, dnn=False, dropout=0.0, dynamic=False, embed=None, epochs=100, erasing=0.4, exist_ok=False, fliplr=0.5, flipud=0.0, format=torchscript, fraction=1.0, freeze=None, half=False, hsv_h=0.015, hsv_s=0.7, hsv_v=0.4, imgsz=640, int8=False, iou=0.7, keras=False, kobj=1.0, line_width=None, lr0=0.01, lrf=0.01, mask_ratio=4, max_det=300, mixup=0.0, mode=train, model=yolov8s-seg.pt, momentum=0.937, mosaic=1.0, multi_scale=False, name=train, nbs=64, nms=False, opset=None, optimize=False, optimizer=auto, overlap_mask=True, patience=100, perspective=0.0, plots=True, pose=12.0, pretrained=True, profile=False, project=None, rect=False, resume=False, retina_masks=False, save=True, save_conf=False, save_crop=False, save_dir=runs/segment/train, save_frames=False, save_json=False, save_period=-1, save_txt=False, scale=0.5, seed=0, shear=0.0, show=False, show_boxes=True, show_conf=True, show_labels=True, simplify=True, single_cls=False, source=None, split=val, stream_buffer=False, task=segment, time=None, tracker=botsort.yaml, translate=0.1, val=True, verbose=True, vid_stride=1, visualize=False, warmup_bias_lr=0.1, warmup_epochs=3.0, warmup_momentum=0.8, weight_decay=0.0005, workers=8, workspace=None\n",
      "Downloading https://ultralytics.com/assets/Arial.ttf to '/root/.config/Ultralytics/Arial.ttf'...\n"
     ]
    },
    {
     "name": "stderr",
     "output_type": "stream",
     "text": [
      "100%|██████████| 755k/755k [00:00<00:00, 15.7MB/s]\n"
     ]
    },
    {
     "name": "stdout",
     "output_type": "stream",
     "text": [
      "Overriding model.yaml nc=80 with nc=1\n",
      "\n",
      "                   from  n    params  module                                       arguments                     \n",
      "  0                  -1  1       928  ultralytics.nn.modules.conv.Conv             [3, 32, 3, 2]                 \n",
      "  1                  -1  1     18560  ultralytics.nn.modules.conv.Conv             [32, 64, 3, 2]                \n",
      "  2                  -1  1     29056  ultralytics.nn.modules.block.C2f             [64, 64, 1, True]             \n",
      "  3                  -1  1     73984  ultralytics.nn.modules.conv.Conv             [64, 128, 3, 2]               \n",
      "  4                  -1  2    197632  ultralytics.nn.modules.block.C2f             [128, 128, 2, True]           \n",
      "  5                  -1  1    295424  ultralytics.nn.modules.conv.Conv             [128, 256, 3, 2]              \n",
      "  6                  -1  2    788480  ultralytics.nn.modules.block.C2f             [256, 256, 2, True]           \n",
      "  7                  -1  1   1180672  ultralytics.nn.modules.conv.Conv             [256, 512, 3, 2]              \n",
      "  8                  -1  1   1838080  ultralytics.nn.modules.block.C2f             [512, 512, 1, True]           \n",
      "  9                  -1  1    656896  ultralytics.nn.modules.block.SPPF            [512, 512, 5]                 \n",
      " 10                  -1  1         0  torch.nn.modules.upsampling.Upsample         [None, 2, 'nearest']          \n",
      " 11             [-1, 6]  1         0  ultralytics.nn.modules.conv.Concat           [1]                           \n",
      " 12                  -1  1    591360  ultralytics.nn.modules.block.C2f             [768, 256, 1]                 \n",
      " 13                  -1  1         0  torch.nn.modules.upsampling.Upsample         [None, 2, 'nearest']          \n",
      " 14             [-1, 4]  1         0  ultralytics.nn.modules.conv.Concat           [1]                           \n",
      " 15                  -1  1    148224  ultralytics.nn.modules.block.C2f             [384, 128, 1]                 \n",
      " 16                  -1  1    147712  ultralytics.nn.modules.conv.Conv             [128, 128, 3, 2]              \n",
      " 17            [-1, 12]  1         0  ultralytics.nn.modules.conv.Concat           [1]                           \n",
      " 18                  -1  1    493056  ultralytics.nn.modules.block.C2f             [384, 256, 1]                 \n",
      " 19                  -1  1    590336  ultralytics.nn.modules.conv.Conv             [256, 256, 3, 2]              \n",
      " 20             [-1, 9]  1         0  ultralytics.nn.modules.conv.Concat           [1]                           \n",
      " 21                  -1  1   1969152  ultralytics.nn.modules.block.C2f             [768, 512, 1]                 \n",
      " 22        [15, 18, 21]  1   2770931  ultralytics.nn.modules.head.Segment          [1, 32, 128, [128, 256, 512]] \n",
      "YOLOv8s-seg summary: 151 layers, 11,790,483 parameters, 11,790,467 gradients, 42.7 GFLOPs\n",
      "\n",
      "Transferred 411/417 items from pretrained weights\n",
      "Freezing layer 'model.22.dfl.conv.weight'\n",
      "\u001b[34m\u001b[1mAMP: \u001b[0mrunning Automatic Mixed Precision (AMP) checks...\n",
      "Downloading https://github.com/ultralytics/assets/releases/download/v8.3.0/yolo11n.pt to 'yolo11n.pt'...\n"
     ]
    },
    {
     "name": "stderr",
     "output_type": "stream",
     "text": [
      "100%|██████████| 5.35M/5.35M [00:00<00:00, 72.0MB/s]\n"
     ]
    },
    {
     "name": "stdout",
     "output_type": "stream",
     "text": [
      "\u001b[34m\u001b[1mAMP: \u001b[0mchecks passed ✅\n",
      "\u001b[34m\u001b[1mtrain: \u001b[0mFast image access ✅ (ping: 0.0±0.0 ms, read: 1276.4±581.9 MB/s, size: 79.2 KB)\n"
     ]
    },
    {
     "name": "stderr",
     "output_type": "stream",
     "text": [
      "\u001b[34m\u001b[1mtrain: \u001b[0mScanning /kaggle/working/dataset/labels/train... 200 images, 0 backgrounds, 0 corrupt: 100%|██████████| 200/200 [00:00<00:00, 1150.45it/s]"
     ]
    },
    {
     "name": "stdout",
     "output_type": "stream",
     "text": [
      "\u001b[34m\u001b[1mtrain: \u001b[0mNew cache created: /kaggle/working/dataset/labels/train.cache\n"
     ]
    },
    {
     "name": "stderr",
     "output_type": "stream",
     "text": [
      "\n"
     ]
    },
    {
     "name": "stdout",
     "output_type": "stream",
     "text": [
      "\u001b[34m\u001b[1malbumentations: \u001b[0mBlur(p=0.01, blur_limit=(3, 7)), MedianBlur(p=0.01, blur_limit=(3, 7)), ToGray(p=0.01, method='weighted_average', num_output_channels=3), CLAHE(p=0.01, clip_limit=(1.0, 4.0), tile_grid_size=(8, 8))\n",
      "\u001b[34m\u001b[1mval: \u001b[0mFast image access ✅ (ping: 0.0±0.0 ms, read: 707.0±526.6 MB/s, size: 65.7 KB)\n"
     ]
    },
    {
     "name": "stderr",
     "output_type": "stream",
     "text": [
      "\u001b[34m\u001b[1mval: \u001b[0mScanning /kaggle/working/dataset/labels/val... 50 images, 0 backgrounds, 0 corrupt: 100%|██████████| 50/50 [00:00<00:00, 1031.31it/s]"
     ]
    },
    {
     "name": "stdout",
     "output_type": "stream",
     "text": [
      "\u001b[34m\u001b[1mval: \u001b[0mNew cache created: /kaggle/working/dataset/labels/val.cache\n"
     ]
    },
    {
     "name": "stderr",
     "output_type": "stream",
     "text": [
      "\n"
     ]
    },
    {
     "name": "stdout",
     "output_type": "stream",
     "text": [
      "Plotting labels to runs/segment/train/labels.jpg... \n",
      "\u001b[34m\u001b[1moptimizer:\u001b[0m 'optimizer=auto' found, ignoring 'lr0=0.01' and 'momentum=0.937' and determining best 'optimizer', 'lr0' and 'momentum' automatically... \n",
      "\u001b[34m\u001b[1moptimizer:\u001b[0m AdamW(lr=0.002, momentum=0.9) with parameter groups 66 weight(decay=0.0), 77 weight(decay=0.0005), 76 bias(decay=0.0)\n",
      "Image sizes 640 train, 640 val\n",
      "Using 2 dataloader workers\n",
      "Logging results to \u001b[1mruns/segment/train\u001b[0m\n",
      "Starting training for 100 epochs...\n",
      "\n",
      "      Epoch    GPU_mem   box_loss   seg_loss   cls_loss   dfl_loss  Instances       Size\n"
     ]
    },
    {
     "name": "stderr",
     "output_type": "stream",
     "text": [
      "      1/100      2.38G      1.795      4.622      3.048      2.019         35        640: 100%|██████████| 25/25 [00:07<00:00,  3.50it/s]\n",
      "                 Class     Images  Instances      Box(P          R      mAP50  mAP50-95)     Mask(P          R      mAP50  mAP50-95): 100%|██████████| 4/4 [00:00<00:00,  4.55it/s]\n"
     ]
    },
    {
     "name": "stdout",
     "output_type": "stream",
     "text": [
      "                   all         50         95     0.0467      0.147      0.022    0.00507     0.0589      0.221     0.0267    0.00572\n",
      "\n",
      "      Epoch    GPU_mem   box_loss   seg_loss   cls_loss   dfl_loss  Instances       Size\n"
     ]
    },
    {
     "name": "stderr",
     "output_type": "stream",
     "text": [
      "      2/100      3.13G      1.809      3.936      2.294      2.003         29        640: 100%|██████████| 25/25 [00:04<00:00,  5.30it/s]\n",
      "                 Class     Images  Instances      Box(P          R      mAP50  mAP50-95)     Mask(P          R      mAP50  mAP50-95): 100%|██████████| 4/4 [00:00<00:00,  5.17it/s]"
     ]
    },
    {
     "name": "stdout",
     "output_type": "stream",
     "text": [
      "                   all         50         95     0.0342      0.168     0.0171    0.00487     0.0146     0.0947    0.00271   0.000877\n"
     ]
    },
    {
     "name": "stderr",
     "output_type": "stream",
     "text": [
      "\n"
     ]
    },
    {
     "name": "stdout",
     "output_type": "stream",
     "text": [
      "\n",
      "      Epoch    GPU_mem   box_loss   seg_loss   cls_loss   dfl_loss  Instances       Size\n"
     ]
    },
    {
     "name": "stderr",
     "output_type": "stream",
     "text": [
      "      3/100      3.17G      1.879      3.881      2.145      2.003         35        640: 100%|██████████| 25/25 [00:04<00:00,  5.52it/s]\n",
      "                 Class     Images  Instances      Box(P          R      mAP50  mAP50-95)     Mask(P          R      mAP50  mAP50-95): 100%|██████████| 4/4 [00:00<00:00,  5.91it/s]"
     ]
    },
    {
     "name": "stdout",
     "output_type": "stream",
     "text": [
      "                   all         50         95      0.126      0.158     0.0413     0.0121     0.0122     0.0421   0.000759    8.5e-05\n"
     ]
    },
    {
     "name": "stderr",
     "output_type": "stream",
     "text": [
      "\n"
     ]
    },
    {
     "name": "stdout",
     "output_type": "stream",
     "text": [
      "\n",
      "      Epoch    GPU_mem   box_loss   seg_loss   cls_loss   dfl_loss  Instances       Size\n"
     ]
    },
    {
     "name": "stderr",
     "output_type": "stream",
     "text": [
      "      4/100      3.21G      1.921      3.841       2.07      2.061         30        640: 100%|██████████| 25/25 [00:04<00:00,  5.42it/s]\n",
      "                 Class     Images  Instances      Box(P          R      mAP50  mAP50-95)     Mask(P          R      mAP50  mAP50-95): 100%|██████████| 4/4 [00:00<00:00,  5.95it/s]"
     ]
    },
    {
     "name": "stdout",
     "output_type": "stream",
     "text": [
      "                   all         50         95      0.016     0.0737     0.0031   0.000779     0.0129     0.0421    0.00183   0.000522\n"
     ]
    },
    {
     "name": "stderr",
     "output_type": "stream",
     "text": [
      "\n"
     ]
    },
    {
     "name": "stdout",
     "output_type": "stream",
     "text": [
      "\n",
      "      Epoch    GPU_mem   box_loss   seg_loss   cls_loss   dfl_loss  Instances       Size\n"
     ]
    },
    {
     "name": "stderr",
     "output_type": "stream",
     "text": [
      "      5/100      3.25G      1.935      3.891       2.15      2.041         28        640: 100%|██████████| 25/25 [00:04<00:00,  5.44it/s]\n",
      "                 Class     Images  Instances      Box(P          R      mAP50  mAP50-95)     Mask(P          R      mAP50  mAP50-95): 100%|██████████| 4/4 [00:00<00:00,  6.00it/s]"
     ]
    },
    {
     "name": "stdout",
     "output_type": "stream",
     "text": [
      "                   all         50         95     0.0791      0.232     0.0259    0.00594     0.0368     0.0947    0.00743    0.00167\n"
     ]
    },
    {
     "name": "stderr",
     "output_type": "stream",
     "text": [
      "\n"
     ]
    },
    {
     "name": "stdout",
     "output_type": "stream",
     "text": [
      "\n",
      "      Epoch    GPU_mem   box_loss   seg_loss   cls_loss   dfl_loss  Instances       Size\n"
     ]
    },
    {
     "name": "stderr",
     "output_type": "stream",
     "text": [
      "      6/100      3.29G      1.874      3.865      2.062      1.999         28        640: 100%|██████████| 25/25 [00:04<00:00,  5.42it/s]\n",
      "                 Class     Images  Instances      Box(P          R      mAP50  mAP50-95)     Mask(P          R      mAP50  mAP50-95): 100%|██████████| 4/4 [00:00<00:00,  6.01it/s]"
     ]
    },
    {
     "name": "stdout",
     "output_type": "stream",
     "text": [
      "                   all         50         95      0.102     0.0737     0.0136    0.00387     0.0593     0.0211    0.00247   0.000359\n"
     ]
    },
    {
     "name": "stderr",
     "output_type": "stream",
     "text": [
      "\n"
     ]
    },
    {
     "name": "stdout",
     "output_type": "stream",
     "text": [
      "\n",
      "      Epoch    GPU_mem   box_loss   seg_loss   cls_loss   dfl_loss  Instances       Size\n"
     ]
    },
    {
     "name": "stderr",
     "output_type": "stream",
     "text": [
      "      7/100      3.33G      1.871      3.819      1.992      2.007         31        640: 100%|██████████| 25/25 [00:04<00:00,  5.45it/s]\n",
      "                 Class     Images  Instances      Box(P          R      mAP50  mAP50-95)     Mask(P          R      mAP50  mAP50-95): 100%|██████████| 4/4 [00:00<00:00,  5.96it/s]"
     ]
    },
    {
     "name": "stdout",
     "output_type": "stream",
     "text": [
      "                   all         50         95      0.139      0.137     0.0842     0.0255      0.107      0.105     0.0456     0.0143\n"
     ]
    },
    {
     "name": "stderr",
     "output_type": "stream",
     "text": [
      "\n"
     ]
    },
    {
     "name": "stdout",
     "output_type": "stream",
     "text": [
      "\n",
      "      Epoch    GPU_mem   box_loss   seg_loss   cls_loss   dfl_loss  Instances       Size\n"
     ]
    },
    {
     "name": "stderr",
     "output_type": "stream",
     "text": [
      "      8/100      3.37G      1.881      3.722      1.865          2         23        640: 100%|██████████| 25/25 [00:04<00:00,  5.31it/s]\n",
      "                 Class     Images  Instances      Box(P          R      mAP50  mAP50-95)     Mask(P          R      mAP50  mAP50-95): 100%|██████████| 4/4 [00:00<00:00,  6.23it/s]"
     ]
    },
    {
     "name": "stdout",
     "output_type": "stream",
     "text": [
      "                   all         50         95     0.0076      0.189    0.00335   0.000749      0.011     0.0211    0.00116   0.000266\n"
     ]
    },
    {
     "name": "stderr",
     "output_type": "stream",
     "text": [
      "\n"
     ]
    },
    {
     "name": "stdout",
     "output_type": "stream",
     "text": [
      "\n",
      "      Epoch    GPU_mem   box_loss   seg_loss   cls_loss   dfl_loss  Instances       Size\n"
     ]
    },
    {
     "name": "stderr",
     "output_type": "stream",
     "text": [
      "      9/100      3.41G      1.886      3.708      1.896      2.003         42        640: 100%|██████████| 25/25 [00:04<00:00,  5.42it/s]\n",
      "                 Class     Images  Instances      Box(P          R      mAP50  mAP50-95)     Mask(P          R      mAP50  mAP50-95): 100%|██████████| 4/4 [00:00<00:00,  6.02it/s]"
     ]
    },
    {
     "name": "stdout",
     "output_type": "stream",
     "text": [
      "                   all         50         95      0.311      0.221      0.174     0.0565      0.234      0.147     0.0782     0.0281\n"
     ]
    },
    {
     "name": "stderr",
     "output_type": "stream",
     "text": [
      "\n"
     ]
    },
    {
     "name": "stdout",
     "output_type": "stream",
     "text": [
      "\n",
      "      Epoch    GPU_mem   box_loss   seg_loss   cls_loss   dfl_loss  Instances       Size\n"
     ]
    },
    {
     "name": "stderr",
     "output_type": "stream",
     "text": [
      "     10/100      3.45G      1.827      3.731      1.887      1.939         36        640: 100%|██████████| 25/25 [00:04<00:00,  5.37it/s]\n",
      "                 Class     Images  Instances      Box(P          R      mAP50  mAP50-95)     Mask(P          R      mAP50  mAP50-95): 100%|██████████| 4/4 [00:00<00:00,  5.98it/s]"
     ]
    },
    {
     "name": "stdout",
     "output_type": "stream",
     "text": [
      "                   all         50         95      0.381      0.211      0.204     0.0603      0.401      0.189      0.154     0.0568\n"
     ]
    },
    {
     "name": "stderr",
     "output_type": "stream",
     "text": [
      "\n"
     ]
    },
    {
     "name": "stdout",
     "output_type": "stream",
     "text": [
      "\n",
      "      Epoch    GPU_mem   box_loss   seg_loss   cls_loss   dfl_loss  Instances       Size\n"
     ]
    },
    {
     "name": "stderr",
     "output_type": "stream",
     "text": [
      "     11/100      3.49G      1.826      3.763       1.91      1.949         37        640: 100%|██████████| 25/25 [00:04<00:00,  5.29it/s]\n",
      "                 Class     Images  Instances      Box(P          R      mAP50  mAP50-95)     Mask(P          R      mAP50  mAP50-95): 100%|██████████| 4/4 [00:00<00:00,  6.04it/s]"
     ]
    },
    {
     "name": "stdout",
     "output_type": "stream",
     "text": [
      "                   all         50         95      0.341      0.274      0.219     0.0787      0.469        0.2      0.183     0.0728\n"
     ]
    },
    {
     "name": "stderr",
     "output_type": "stream",
     "text": [
      "\n"
     ]
    },
    {
     "name": "stdout",
     "output_type": "stream",
     "text": [
      "\n",
      "      Epoch    GPU_mem   box_loss   seg_loss   cls_loss   dfl_loss  Instances       Size\n"
     ]
    },
    {
     "name": "stderr",
     "output_type": "stream",
     "text": [
      "     12/100      3.53G      1.735      3.587      1.752      1.912         28        640: 100%|██████████| 25/25 [00:04<00:00,  5.39it/s]\n",
      "                 Class     Images  Instances      Box(P          R      mAP50  mAP50-95)     Mask(P          R      mAP50  mAP50-95): 100%|██████████| 4/4 [00:00<00:00,  6.19it/s]"
     ]
    },
    {
     "name": "stdout",
     "output_type": "stream",
     "text": [
      "                   all         50         95      0.534      0.253      0.333      0.117      0.545      0.221      0.258     0.0912\n"
     ]
    },
    {
     "name": "stderr",
     "output_type": "stream",
     "text": [
      "\n"
     ]
    },
    {
     "name": "stdout",
     "output_type": "stream",
     "text": [
      "\n",
      "      Epoch    GPU_mem   box_loss   seg_loss   cls_loss   dfl_loss  Instances       Size\n"
     ]
    },
    {
     "name": "stderr",
     "output_type": "stream",
     "text": [
      "     13/100      3.57G      1.713      3.596      1.723      1.864         36        640: 100%|██████████| 25/25 [00:04<00:00,  5.23it/s]\n",
      "                 Class     Images  Instances      Box(P          R      mAP50  mAP50-95)     Mask(P          R      mAP50  mAP50-95): 100%|██████████| 4/4 [00:00<00:00,  6.07it/s]"
     ]
    },
    {
     "name": "stdout",
     "output_type": "stream",
     "text": [
      "                   all         50         95      0.542      0.368      0.339      0.146      0.495      0.316      0.276      0.115\n"
     ]
    },
    {
     "name": "stderr",
     "output_type": "stream",
     "text": [
      "\n"
     ]
    },
    {
     "name": "stdout",
     "output_type": "stream",
     "text": [
      "\n",
      "      Epoch    GPU_mem   box_loss   seg_loss   cls_loss   dfl_loss  Instances       Size\n"
     ]
    },
    {
     "name": "stderr",
     "output_type": "stream",
     "text": [
      "     14/100      3.61G      1.811      3.717      1.787      1.917         41        640: 100%|██████████| 25/25 [00:04<00:00,  5.33it/s]\n",
      "                 Class     Images  Instances      Box(P          R      mAP50  mAP50-95)     Mask(P          R      mAP50  mAP50-95): 100%|██████████| 4/4 [00:00<00:00,  6.09it/s]"
     ]
    },
    {
     "name": "stdout",
     "output_type": "stream",
     "text": [
      "                   all         50         95      0.563      0.316      0.386      0.173      0.589      0.274      0.313      0.139\n"
     ]
    },
    {
     "name": "stderr",
     "output_type": "stream",
     "text": [
      "\n"
     ]
    },
    {
     "name": "stdout",
     "output_type": "stream",
     "text": [
      "\n",
      "      Epoch    GPU_mem   box_loss   seg_loss   cls_loss   dfl_loss  Instances       Size\n"
     ]
    },
    {
     "name": "stderr",
     "output_type": "stream",
     "text": [
      "     15/100      3.64G      1.718       3.59      1.695      1.848         35        640: 100%|██████████| 25/25 [00:04<00:00,  5.23it/s]\n",
      "                 Class     Images  Instances      Box(P          R      mAP50  mAP50-95)     Mask(P          R      mAP50  mAP50-95): 100%|██████████| 4/4 [00:00<00:00,  5.85it/s]"
     ]
    },
    {
     "name": "stdout",
     "output_type": "stream",
     "text": [
      "                   all         50         95      0.274      0.337      0.257      0.103      0.383      0.232       0.24     0.0948\n"
     ]
    },
    {
     "name": "stderr",
     "output_type": "stream",
     "text": [
      "\n"
     ]
    },
    {
     "name": "stdout",
     "output_type": "stream",
     "text": [
      "\n",
      "      Epoch    GPU_mem   box_loss   seg_loss   cls_loss   dfl_loss  Instances       Size\n"
     ]
    },
    {
     "name": "stderr",
     "output_type": "stream",
     "text": [
      "     16/100      3.69G      1.747      3.664      1.716      1.876         32        640: 100%|██████████| 25/25 [00:04<00:00,  5.28it/s]\n",
      "                 Class     Images  Instances      Box(P          R      mAP50  mAP50-95)     Mask(P          R      mAP50  mAP50-95): 100%|██████████| 4/4 [00:00<00:00,  6.21it/s]"
     ]
    },
    {
     "name": "stdout",
     "output_type": "stream",
     "text": [
      "                   all         50         95      0.674      0.242      0.343      0.133      0.649      0.232      0.256      0.107\n"
     ]
    },
    {
     "name": "stderr",
     "output_type": "stream",
     "text": [
      "\n"
     ]
    },
    {
     "name": "stdout",
     "output_type": "stream",
     "text": [
      "\n",
      "      Epoch    GPU_mem   box_loss   seg_loss   cls_loss   dfl_loss  Instances       Size\n"
     ]
    },
    {
     "name": "stderr",
     "output_type": "stream",
     "text": [
      "     17/100      3.73G      1.677      3.554      1.692      1.835         32        640: 100%|██████████| 25/25 [00:04<00:00,  5.30it/s]\n",
      "                 Class     Images  Instances      Box(P          R      mAP50  mAP50-95)     Mask(P          R      mAP50  mAP50-95): 100%|██████████| 4/4 [00:00<00:00,  6.09it/s]"
     ]
    },
    {
     "name": "stdout",
     "output_type": "stream",
     "text": [
      "                   all         50         95      0.471      0.459      0.415      0.198      0.444      0.403      0.371      0.153\n"
     ]
    },
    {
     "name": "stderr",
     "output_type": "stream",
     "text": [
      "\n"
     ]
    },
    {
     "name": "stdout",
     "output_type": "stream",
     "text": [
      "\n",
      "      Epoch    GPU_mem   box_loss   seg_loss   cls_loss   dfl_loss  Instances       Size\n"
     ]
    },
    {
     "name": "stderr",
     "output_type": "stream",
     "text": [
      "     18/100      3.77G      1.578      3.403      1.577      1.758         34        640: 100%|██████████| 25/25 [00:04<00:00,  5.12it/s]\n",
      "                 Class     Images  Instances      Box(P          R      mAP50  mAP50-95)     Mask(P          R      mAP50  mAP50-95): 100%|██████████| 4/4 [00:00<00:00,  5.68it/s]"
     ]
    },
    {
     "name": "stdout",
     "output_type": "stream",
     "text": [
      "                   all         50         95      0.454      0.379      0.345      0.142      0.488      0.326      0.274     0.0878\n"
     ]
    },
    {
     "name": "stderr",
     "output_type": "stream",
     "text": [
      "\n"
     ]
    },
    {
     "name": "stdout",
     "output_type": "stream",
     "text": [
      "\n",
      "      Epoch    GPU_mem   box_loss   seg_loss   cls_loss   dfl_loss  Instances       Size\n"
     ]
    },
    {
     "name": "stderr",
     "output_type": "stream",
     "text": [
      "     19/100      3.81G      1.599      3.433      1.613      1.782         29        640: 100%|██████████| 25/25 [00:04<00:00,  5.24it/s]\n",
      "                 Class     Images  Instances      Box(P          R      mAP50  mAP50-95)     Mask(P          R      mAP50  mAP50-95): 100%|██████████| 4/4 [00:00<00:00,  5.98it/s]"
     ]
    },
    {
     "name": "stdout",
     "output_type": "stream",
     "text": [
      "                   all         50         95      0.492        0.4       0.41      0.202      0.451      0.305      0.315      0.133\n"
     ]
    },
    {
     "name": "stderr",
     "output_type": "stream",
     "text": [
      "\n"
     ]
    },
    {
     "name": "stdout",
     "output_type": "stream",
     "text": [
      "\n",
      "      Epoch    GPU_mem   box_loss   seg_loss   cls_loss   dfl_loss  Instances       Size\n"
     ]
    },
    {
     "name": "stderr",
     "output_type": "stream",
     "text": [
      "     20/100      3.85G       1.59      3.559      1.692        1.8         31        640: 100%|██████████| 25/25 [00:04<00:00,  5.24it/s]\n",
      "                 Class     Images  Instances      Box(P          R      mAP50  mAP50-95)     Mask(P          R      mAP50  mAP50-95): 100%|██████████| 4/4 [00:00<00:00,  6.08it/s]"
     ]
    },
    {
     "name": "stdout",
     "output_type": "stream",
     "text": [
      "                   all         50         95      0.593      0.411      0.466      0.204      0.606      0.372      0.393      0.156\n"
     ]
    },
    {
     "name": "stderr",
     "output_type": "stream",
     "text": [
      "\n"
     ]
    },
    {
     "name": "stdout",
     "output_type": "stream",
     "text": [
      "\n",
      "      Epoch    GPU_mem   box_loss   seg_loss   cls_loss   dfl_loss  Instances       Size\n"
     ]
    },
    {
     "name": "stderr",
     "output_type": "stream",
     "text": [
      "     21/100      3.89G      1.567      3.355      1.555       1.77         35        640: 100%|██████████| 25/25 [00:04<00:00,  5.26it/s]\n",
      "                 Class     Images  Instances      Box(P          R      mAP50  mAP50-95)     Mask(P          R      mAP50  mAP50-95): 100%|██████████| 4/4 [00:00<00:00,  5.94it/s]"
     ]
    },
    {
     "name": "stdout",
     "output_type": "stream",
     "text": [
      "                   all         50         95      0.657      0.368      0.507      0.233      0.624      0.347      0.432      0.191\n"
     ]
    },
    {
     "name": "stderr",
     "output_type": "stream",
     "text": [
      "\n"
     ]
    },
    {
     "name": "stdout",
     "output_type": "stream",
     "text": [
      "\n",
      "      Epoch    GPU_mem   box_loss   seg_loss   cls_loss   dfl_loss  Instances       Size\n"
     ]
    },
    {
     "name": "stderr",
     "output_type": "stream",
     "text": [
      "     22/100      3.93G      1.564      3.335      1.471      1.722         26        640: 100%|██████████| 25/25 [00:04<00:00,  5.33it/s]\n",
      "                 Class     Images  Instances      Box(P          R      mAP50  mAP50-95)     Mask(P          R      mAP50  mAP50-95): 100%|██████████| 4/4 [00:00<00:00,  6.06it/s]"
     ]
    },
    {
     "name": "stdout",
     "output_type": "stream",
     "text": [
      "                   all         50         95      0.643      0.379      0.446      0.203      0.668      0.379      0.391      0.159\n"
     ]
    },
    {
     "name": "stderr",
     "output_type": "stream",
     "text": [
      "\n"
     ]
    },
    {
     "name": "stdout",
     "output_type": "stream",
     "text": [
      "\n",
      "      Epoch    GPU_mem   box_loss   seg_loss   cls_loss   dfl_loss  Instances       Size\n"
     ]
    },
    {
     "name": "stderr",
     "output_type": "stream",
     "text": [
      "     23/100      3.97G      1.644      3.354      1.574      1.809         34        640: 100%|██████████| 25/25 [00:04<00:00,  5.31it/s]\n",
      "                 Class     Images  Instances      Box(P          R      mAP50  mAP50-95)     Mask(P          R      mAP50  mAP50-95): 100%|██████████| 4/4 [00:00<00:00,  6.18it/s]"
     ]
    },
    {
     "name": "stdout",
     "output_type": "stream",
     "text": [
      "                   all         50         95      0.511      0.453      0.473      0.236      0.652      0.347       0.41      0.185\n"
     ]
    },
    {
     "name": "stderr",
     "output_type": "stream",
     "text": [
      "\n"
     ]
    },
    {
     "name": "stdout",
     "output_type": "stream",
     "text": [
      "\n",
      "      Epoch    GPU_mem   box_loss   seg_loss   cls_loss   dfl_loss  Instances       Size\n"
     ]
    },
    {
     "name": "stderr",
     "output_type": "stream",
     "text": [
      "     24/100      4.01G      1.494      3.341      1.457      1.676         28        640: 100%|██████████| 25/25 [00:04<00:00,  5.19it/s]\n",
      "                 Class     Images  Instances      Box(P          R      mAP50  mAP50-95)     Mask(P          R      mAP50  mAP50-95): 100%|██████████| 4/4 [00:00<00:00,  6.01it/s]"
     ]
    },
    {
     "name": "stdout",
     "output_type": "stream",
     "text": [
      "                   all         50         95       0.62      0.442      0.488      0.238      0.648      0.379      0.432      0.191\n"
     ]
    },
    {
     "name": "stderr",
     "output_type": "stream",
     "text": [
      "\n"
     ]
    },
    {
     "name": "stdout",
     "output_type": "stream",
     "text": [
      "\n",
      "      Epoch    GPU_mem   box_loss   seg_loss   cls_loss   dfl_loss  Instances       Size\n"
     ]
    },
    {
     "name": "stderr",
     "output_type": "stream",
     "text": [
      "     25/100      4.05G      1.466      3.288      1.425      1.676         20        640: 100%|██████████| 25/25 [00:04<00:00,  5.37it/s]\n",
      "                 Class     Images  Instances      Box(P          R      mAP50  mAP50-95)     Mask(P          R      mAP50  mAP50-95): 100%|██████████| 4/4 [00:00<00:00,  5.88it/s]"
     ]
    },
    {
     "name": "stdout",
     "output_type": "stream",
     "text": [
      "                   all         50         95      0.524       0.44      0.448       0.22      0.689      0.374      0.437      0.176\n"
     ]
    },
    {
     "name": "stderr",
     "output_type": "stream",
     "text": [
      "\n"
     ]
    },
    {
     "name": "stdout",
     "output_type": "stream",
     "text": [
      "\n",
      "      Epoch    GPU_mem   box_loss   seg_loss   cls_loss   dfl_loss  Instances       Size\n"
     ]
    },
    {
     "name": "stderr",
     "output_type": "stream",
     "text": [
      "     26/100      4.09G      1.557      3.311      1.517      1.732         30        640: 100%|██████████| 25/25 [00:04<00:00,  5.34it/s]\n",
      "                 Class     Images  Instances      Box(P          R      mAP50  mAP50-95)     Mask(P          R      mAP50  mAP50-95): 100%|██████████| 4/4 [00:00<00:00,  6.01it/s]"
     ]
    },
    {
     "name": "stdout",
     "output_type": "stream",
     "text": [
      "                   all         50         95      0.525      0.432      0.479      0.234      0.545        0.4      0.407      0.198\n"
     ]
    },
    {
     "name": "stderr",
     "output_type": "stream",
     "text": [
      "\n"
     ]
    },
    {
     "name": "stdout",
     "output_type": "stream",
     "text": [
      "\n",
      "      Epoch    GPU_mem   box_loss   seg_loss   cls_loss   dfl_loss  Instances       Size\n"
     ]
    },
    {
     "name": "stderr",
     "output_type": "stream",
     "text": [
      "     27/100      4.13G      1.533      3.393      1.454      1.713         29        640: 100%|██████████| 25/25 [00:04<00:00,  5.27it/s]\n",
      "                 Class     Images  Instances      Box(P          R      mAP50  mAP50-95)     Mask(P          R      mAP50  mAP50-95): 100%|██████████| 4/4 [00:00<00:00,  6.37it/s]"
     ]
    },
    {
     "name": "stdout",
     "output_type": "stream",
     "text": [
      "                   all         50         95      0.534      0.567      0.553      0.281       0.68      0.421      0.487      0.216\n"
     ]
    },
    {
     "name": "stderr",
     "output_type": "stream",
     "text": [
      "\n"
     ]
    },
    {
     "name": "stdout",
     "output_type": "stream",
     "text": [
      "\n",
      "      Epoch    GPU_mem   box_loss   seg_loss   cls_loss   dfl_loss  Instances       Size\n"
     ]
    },
    {
     "name": "stderr",
     "output_type": "stream",
     "text": [
      "     28/100      4.17G       1.46       3.28      1.369      1.661         28        640: 100%|██████████| 25/25 [00:04<00:00,  5.26it/s]\n",
      "                 Class     Images  Instances      Box(P          R      mAP50  mAP50-95)     Mask(P          R      mAP50  mAP50-95): 100%|██████████| 4/4 [00:00<00:00,  6.27it/s]"
     ]
    },
    {
     "name": "stdout",
     "output_type": "stream",
     "text": [
      "                   all         50         95      0.661      0.493      0.548      0.233      0.579      0.421      0.434      0.205\n"
     ]
    },
    {
     "name": "stderr",
     "output_type": "stream",
     "text": [
      "\n"
     ]
    },
    {
     "name": "stdout",
     "output_type": "stream",
     "text": [
      "\n",
      "      Epoch    GPU_mem   box_loss   seg_loss   cls_loss   dfl_loss  Instances       Size\n"
     ]
    },
    {
     "name": "stderr",
     "output_type": "stream",
     "text": [
      "     29/100      4.21G      1.471      3.256      1.381      1.652         37        640: 100%|██████████| 25/25 [00:04<00:00,  5.20it/s]\n",
      "                 Class     Images  Instances      Box(P          R      mAP50  mAP50-95)     Mask(P          R      mAP50  mAP50-95): 100%|██████████| 4/4 [00:00<00:00,  6.17it/s]"
     ]
    },
    {
     "name": "stdout",
     "output_type": "stream",
     "text": [
      "                   all         50         95      0.595      0.505       0.58      0.271      0.657      0.423       0.49      0.214\n"
     ]
    },
    {
     "name": "stderr",
     "output_type": "stream",
     "text": [
      "\n"
     ]
    },
    {
     "name": "stdout",
     "output_type": "stream",
     "text": [
      "\n",
      "      Epoch    GPU_mem   box_loss   seg_loss   cls_loss   dfl_loss  Instances       Size\n"
     ]
    },
    {
     "name": "stderr",
     "output_type": "stream",
     "text": [
      "     30/100      4.25G      1.435      3.267      1.354      1.629         27        640: 100%|██████████| 25/25 [00:04<00:00,  5.28it/s]\n",
      "                 Class     Images  Instances      Box(P          R      mAP50  mAP50-95)     Mask(P          R      mAP50  mAP50-95): 100%|██████████| 4/4 [00:00<00:00,  6.29it/s]"
     ]
    },
    {
     "name": "stdout",
     "output_type": "stream",
     "text": [
      "                   all         50         95      0.569      0.474      0.552      0.275      0.786      0.349      0.458      0.219\n"
     ]
    },
    {
     "name": "stderr",
     "output_type": "stream",
     "text": [
      "\n"
     ]
    },
    {
     "name": "stdout",
     "output_type": "stream",
     "text": [
      "\n",
      "      Epoch    GPU_mem   box_loss   seg_loss   cls_loss   dfl_loss  Instances       Size\n"
     ]
    },
    {
     "name": "stderr",
     "output_type": "stream",
     "text": [
      "     31/100      4.33G      1.445      3.281       1.38      1.632         31        640: 100%|██████████| 25/25 [00:04<00:00,  5.27it/s]\n",
      "                 Class     Images  Instances      Box(P          R      mAP50  mAP50-95)     Mask(P          R      mAP50  mAP50-95): 100%|██████████| 4/4 [00:00<00:00,  6.15it/s]"
     ]
    },
    {
     "name": "stdout",
     "output_type": "stream",
     "text": [
      "                   all         50         95      0.658      0.426      0.512      0.232      0.626      0.379        0.4      0.201\n"
     ]
    },
    {
     "name": "stderr",
     "output_type": "stream",
     "text": [
      "\n"
     ]
    },
    {
     "name": "stdout",
     "output_type": "stream",
     "text": [
      "\n",
      "      Epoch    GPU_mem   box_loss   seg_loss   cls_loss   dfl_loss  Instances       Size\n"
     ]
    },
    {
     "name": "stderr",
     "output_type": "stream",
     "text": [
      "     32/100      4.37G      1.425      3.183      1.372      1.646         32        640: 100%|██████████| 25/25 [00:04<00:00,  5.32it/s]\n",
      "                 Class     Images  Instances      Box(P          R      mAP50  mAP50-95)     Mask(P          R      mAP50  mAP50-95): 100%|██████████| 4/4 [00:00<00:00,  6.16it/s]"
     ]
    },
    {
     "name": "stdout",
     "output_type": "stream",
     "text": [
      "                   all         50         95      0.669      0.474      0.534      0.232      0.538      0.368      0.379      0.155\n"
     ]
    },
    {
     "name": "stderr",
     "output_type": "stream",
     "text": [
      "\n"
     ]
    },
    {
     "name": "stdout",
     "output_type": "stream",
     "text": [
      "\n",
      "      Epoch    GPU_mem   box_loss   seg_loss   cls_loss   dfl_loss  Instances       Size\n"
     ]
    },
    {
     "name": "stderr",
     "output_type": "stream",
     "text": [
      "     33/100      4.45G      1.341      3.088      1.268      1.572         34        640: 100%|██████████| 25/25 [00:04<00:00,  5.28it/s]\n",
      "                 Class     Images  Instances      Box(P          R      mAP50  mAP50-95)     Mask(P          R      mAP50  mAP50-95): 100%|██████████| 4/4 [00:00<00:00,  6.39it/s]"
     ]
    },
    {
     "name": "stdout",
     "output_type": "stream",
     "text": [
      "                   all         50         95      0.669      0.558      0.611      0.336      0.609      0.492      0.481      0.221\n"
     ]
    },
    {
     "name": "stderr",
     "output_type": "stream",
     "text": [
      "\n"
     ]
    },
    {
     "name": "stdout",
     "output_type": "stream",
     "text": [
      "\n",
      "      Epoch    GPU_mem   box_loss   seg_loss   cls_loss   dfl_loss  Instances       Size\n"
     ]
    },
    {
     "name": "stderr",
     "output_type": "stream",
     "text": [
      "     34/100       4.5G      1.387      3.211      1.277      1.593         35        640: 100%|██████████| 25/25 [00:04<00:00,  5.30it/s]\n",
      "                 Class     Images  Instances      Box(P          R      mAP50  mAP50-95)     Mask(P          R      mAP50  mAP50-95): 100%|██████████| 4/4 [00:00<00:00,  5.80it/s]"
     ]
    },
    {
     "name": "stdout",
     "output_type": "stream",
     "text": [
      "                   all         50         95      0.694      0.516      0.626      0.336      0.814      0.459      0.534       0.24\n"
     ]
    },
    {
     "name": "stderr",
     "output_type": "stream",
     "text": [
      "\n"
     ]
    },
    {
     "name": "stdout",
     "output_type": "stream",
     "text": [
      "\n",
      "      Epoch    GPU_mem   box_loss   seg_loss   cls_loss   dfl_loss  Instances       Size\n"
     ]
    },
    {
     "name": "stderr",
     "output_type": "stream",
     "text": [
      "     35/100      4.58G      1.306      3.123      1.232      1.526         33        640: 100%|██████████| 25/25 [00:04<00:00,  5.22it/s]\n",
      "                 Class     Images  Instances      Box(P          R      mAP50  mAP50-95)     Mask(P          R      mAP50  mAP50-95): 100%|██████████| 4/4 [00:00<00:00,  6.17it/s]"
     ]
    },
    {
     "name": "stdout",
     "output_type": "stream",
     "text": [
      "                   all         50         95      0.704      0.516      0.604      0.316      0.722      0.495      0.532      0.247\n"
     ]
    },
    {
     "name": "stderr",
     "output_type": "stream",
     "text": [
      "\n"
     ]
    },
    {
     "name": "stdout",
     "output_type": "stream",
     "text": [
      "\n",
      "      Epoch    GPU_mem   box_loss   seg_loss   cls_loss   dfl_loss  Instances       Size\n"
     ]
    },
    {
     "name": "stderr",
     "output_type": "stream",
     "text": [
      "     36/100      4.64G      1.295      3.044      1.198      1.538         27        640: 100%|██████████| 25/25 [00:04<00:00,  5.25it/s]\n",
      "                 Class     Images  Instances      Box(P          R      mAP50  mAP50-95)     Mask(P          R      mAP50  mAP50-95): 100%|██████████| 4/4 [00:00<00:00,  6.18it/s]"
     ]
    },
    {
     "name": "stdout",
     "output_type": "stream",
     "text": [
      "                   all         50         95      0.877      0.505      0.638      0.343      0.798      0.432      0.527      0.232\n"
     ]
    },
    {
     "name": "stderr",
     "output_type": "stream",
     "text": [
      "\n"
     ]
    },
    {
     "name": "stdout",
     "output_type": "stream",
     "text": [
      "\n",
      "      Epoch    GPU_mem   box_loss   seg_loss   cls_loss   dfl_loss  Instances       Size\n"
     ]
    },
    {
     "name": "stderr",
     "output_type": "stream",
     "text": [
      "     37/100      4.71G       1.36       3.06      1.269      1.576         23        640: 100%|██████████| 25/25 [00:04<00:00,  5.31it/s]\n",
      "                 Class     Images  Instances      Box(P          R      mAP50  mAP50-95)     Mask(P          R      mAP50  mAP50-95): 100%|██████████| 4/4 [00:00<00:00,  6.25it/s]"
     ]
    },
    {
     "name": "stdout",
     "output_type": "stream",
     "text": [
      "                   all         50         95      0.795      0.573      0.688      0.369      0.707      0.483      0.513      0.261\n"
     ]
    },
    {
     "name": "stderr",
     "output_type": "stream",
     "text": [
      "\n"
     ]
    },
    {
     "name": "stdout",
     "output_type": "stream",
     "text": [
      "\n",
      "      Epoch    GPU_mem   box_loss   seg_loss   cls_loss   dfl_loss  Instances       Size\n"
     ]
    },
    {
     "name": "stderr",
     "output_type": "stream",
     "text": [
      "     38/100       4.8G      1.349      3.055      1.237      1.571         33        640: 100%|██████████| 25/25 [00:04<00:00,  5.27it/s]\n",
      "                 Class     Images  Instances      Box(P          R      mAP50  mAP50-95)     Mask(P          R      mAP50  mAP50-95): 100%|██████████| 4/4 [00:00<00:00,  6.21it/s]"
     ]
    },
    {
     "name": "stdout",
     "output_type": "stream",
     "text": [
      "                   all         50         95      0.693      0.568      0.642      0.334      0.657      0.537      0.525      0.264\n"
     ]
    },
    {
     "name": "stderr",
     "output_type": "stream",
     "text": [
      "\n"
     ]
    },
    {
     "name": "stdout",
     "output_type": "stream",
     "text": [
      "\n",
      "      Epoch    GPU_mem   box_loss   seg_loss   cls_loss   dfl_loss  Instances       Size\n"
     ]
    },
    {
     "name": "stderr",
     "output_type": "stream",
     "text": [
      "     39/100      4.89G      1.326       3.07       1.27      1.572         29        640: 100%|██████████| 25/25 [00:04<00:00,  5.31it/s]\n",
      "                 Class     Images  Instances      Box(P          R      mAP50  mAP50-95)     Mask(P          R      mAP50  mAP50-95): 100%|██████████| 4/4 [00:00<00:00,  6.05it/s]"
     ]
    },
    {
     "name": "stdout",
     "output_type": "stream",
     "text": [
      "                   all         50         95      0.679      0.526      0.623       0.33      0.638      0.453      0.499      0.263\n"
     ]
    },
    {
     "name": "stderr",
     "output_type": "stream",
     "text": [
      "\n"
     ]
    },
    {
     "name": "stdout",
     "output_type": "stream",
     "text": [
      "\n",
      "      Epoch    GPU_mem   box_loss   seg_loss   cls_loss   dfl_loss  Instances       Size\n"
     ]
    },
    {
     "name": "stderr",
     "output_type": "stream",
     "text": [
      "     40/100      4.93G       1.34      3.065      1.237      1.566         31        640: 100%|██████████| 25/25 [00:04<00:00,  5.11it/s]\n",
      "                 Class     Images  Instances      Box(P          R      mAP50  mAP50-95)     Mask(P          R      mAP50  mAP50-95): 100%|██████████| 4/4 [00:00<00:00,  6.16it/s]"
     ]
    },
    {
     "name": "stdout",
     "output_type": "stream",
     "text": [
      "                   all         50         95      0.504      0.674      0.612      0.355       0.76      0.368      0.484      0.259\n"
     ]
    },
    {
     "name": "stderr",
     "output_type": "stream",
     "text": [
      "\n"
     ]
    },
    {
     "name": "stdout",
     "output_type": "stream",
     "text": [
      "\n",
      "      Epoch    GPU_mem   box_loss   seg_loss   cls_loss   dfl_loss  Instances       Size\n"
     ]
    },
    {
     "name": "stderr",
     "output_type": "stream",
     "text": [
      "     41/100      5.19G       1.33      3.012      1.267      1.548         32        640: 100%|██████████| 25/25 [00:04<00:00,  5.30it/s]\n",
      "                 Class     Images  Instances      Box(P          R      mAP50  mAP50-95)     Mask(P          R      mAP50  mAP50-95): 100%|██████████| 4/4 [00:00<00:00,  6.13it/s]"
     ]
    },
    {
     "name": "stdout",
     "output_type": "stream",
     "text": [
      "                   all         50         95      0.728      0.495      0.628      0.336      0.639      0.411      0.487      0.246\n"
     ]
    },
    {
     "name": "stderr",
     "output_type": "stream",
     "text": [
      "\n"
     ]
    },
    {
     "name": "stdout",
     "output_type": "stream",
     "text": [
      "\n",
      "      Epoch    GPU_mem   box_loss   seg_loss   cls_loss   dfl_loss  Instances       Size\n"
     ]
    },
    {
     "name": "stderr",
     "output_type": "stream",
     "text": [
      "     42/100      5.23G        1.3      3.007      1.228      1.553         25        640: 100%|██████████| 25/25 [00:04<00:00,  5.32it/s]\n",
      "                 Class     Images  Instances      Box(P          R      mAP50  mAP50-95)     Mask(P          R      mAP50  mAP50-95): 100%|██████████| 4/4 [00:00<00:00,  6.27it/s]"
     ]
    },
    {
     "name": "stdout",
     "output_type": "stream",
     "text": [
      "                   all         50         95      0.568      0.623      0.592      0.308       0.62      0.446      0.507      0.243\n"
     ]
    },
    {
     "name": "stderr",
     "output_type": "stream",
     "text": [
      "\n"
     ]
    },
    {
     "name": "stdout",
     "output_type": "stream",
     "text": [
      "\n",
      "      Epoch    GPU_mem   box_loss   seg_loss   cls_loss   dfl_loss  Instances       Size\n"
     ]
    },
    {
     "name": "stderr",
     "output_type": "stream",
     "text": [
      "     43/100      5.27G      1.226      2.925      1.136      1.492         28        640: 100%|██████████| 25/25 [00:04<00:00,  5.28it/s]\n",
      "                 Class     Images  Instances      Box(P          R      mAP50  mAP50-95)     Mask(P          R      mAP50  mAP50-95): 100%|██████████| 4/4 [00:00<00:00,  6.14it/s]"
     ]
    },
    {
     "name": "stdout",
     "output_type": "stream",
     "text": [
      "                   all         50         95      0.615      0.657      0.668      0.344      0.769      0.492      0.576      0.272\n"
     ]
    },
    {
     "name": "stderr",
     "output_type": "stream",
     "text": [
      "\n"
     ]
    },
    {
     "name": "stdout",
     "output_type": "stream",
     "text": [
      "\n",
      "      Epoch    GPU_mem   box_loss   seg_loss   cls_loss   dfl_loss  Instances       Size\n"
     ]
    },
    {
     "name": "stderr",
     "output_type": "stream",
     "text": [
      "     44/100      5.31G      1.389      3.118      1.238      1.598         28        640: 100%|██████████| 25/25 [00:04<00:00,  5.34it/s]\n",
      "                 Class     Images  Instances      Box(P          R      mAP50  mAP50-95)     Mask(P          R      mAP50  mAP50-95): 100%|██████████| 4/4 [00:00<00:00,  6.23it/s]"
     ]
    },
    {
     "name": "stdout",
     "output_type": "stream",
     "text": [
      "                   all         50         95      0.794      0.567      0.683      0.364      0.723      0.516      0.566      0.264\n"
     ]
    },
    {
     "name": "stderr",
     "output_type": "stream",
     "text": [
      "\n"
     ]
    },
    {
     "name": "stdout",
     "output_type": "stream",
     "text": [
      "\n",
      "      Epoch    GPU_mem   box_loss   seg_loss   cls_loss   dfl_loss  Instances       Size\n"
     ]
    },
    {
     "name": "stderr",
     "output_type": "stream",
     "text": [
      "     45/100      5.35G      1.256      2.983      1.146        1.5         21        640: 100%|██████████| 25/25 [00:04<00:00,  5.24it/s]\n",
      "                 Class     Images  Instances      Box(P          R      mAP50  mAP50-95)     Mask(P          R      mAP50  mAP50-95): 100%|██████████| 4/4 [00:00<00:00,  5.80it/s]"
     ]
    },
    {
     "name": "stdout",
     "output_type": "stream",
     "text": [
      "                   all         50         95      0.751      0.579      0.665      0.396      0.778      0.555      0.596      0.281\n"
     ]
    },
    {
     "name": "stderr",
     "output_type": "stream",
     "text": [
      "\n"
     ]
    },
    {
     "name": "stdout",
     "output_type": "stream",
     "text": [
      "\n",
      "      Epoch    GPU_mem   box_loss   seg_loss   cls_loss   dfl_loss  Instances       Size\n"
     ]
    },
    {
     "name": "stderr",
     "output_type": "stream",
     "text": [
      "     46/100      5.39G      1.182      2.929      1.066      1.448         25        640: 100%|██████████| 25/25 [00:04<00:00,  5.28it/s]\n",
      "                 Class     Images  Instances      Box(P          R      mAP50  mAP50-95)     Mask(P          R      mAP50  mAP50-95): 100%|██████████| 4/4 [00:00<00:00,  6.23it/s]"
     ]
    },
    {
     "name": "stdout",
     "output_type": "stream",
     "text": [
      "                   all         50         95      0.767      0.621      0.711      0.383      0.714      0.611      0.651      0.279\n"
     ]
    },
    {
     "name": "stderr",
     "output_type": "stream",
     "text": [
      "\n"
     ]
    },
    {
     "name": "stdout",
     "output_type": "stream",
     "text": [
      "\n",
      "      Epoch    GPU_mem   box_loss   seg_loss   cls_loss   dfl_loss  Instances       Size\n"
     ]
    },
    {
     "name": "stderr",
     "output_type": "stream",
     "text": [
      "     47/100      5.43G      1.229      2.874      1.066      1.469         27        640: 100%|██████████| 25/25 [00:04<00:00,  5.31it/s]\n",
      "                 Class     Images  Instances      Box(P          R      mAP50  mAP50-95)     Mask(P          R      mAP50  mAP50-95): 100%|██████████| 4/4 [00:00<00:00,  6.38it/s]"
     ]
    },
    {
     "name": "stdout",
     "output_type": "stream",
     "text": [
      "                   all         50         95      0.655      0.653      0.677      0.366      0.651      0.568       0.57      0.285\n"
     ]
    },
    {
     "name": "stderr",
     "output_type": "stream",
     "text": [
      "\n"
     ]
    },
    {
     "name": "stdout",
     "output_type": "stream",
     "text": [
      "\n",
      "      Epoch    GPU_mem   box_loss   seg_loss   cls_loss   dfl_loss  Instances       Size\n"
     ]
    },
    {
     "name": "stderr",
     "output_type": "stream",
     "text": [
      "     48/100      5.47G       1.38      2.985      1.181      1.582         30        640: 100%|██████████| 25/25 [00:04<00:00,  5.29it/s]\n",
      "                 Class     Images  Instances      Box(P          R      mAP50  mAP50-95)     Mask(P          R      mAP50  mAP50-95): 100%|██████████| 4/4 [00:00<00:00,  6.00it/s]"
     ]
    },
    {
     "name": "stdout",
     "output_type": "stream",
     "text": [
      "                   all         50         95      0.707      0.642      0.677      0.385       0.69       0.61      0.619      0.298\n"
     ]
    },
    {
     "name": "stderr",
     "output_type": "stream",
     "text": [
      "\n"
     ]
    },
    {
     "name": "stdout",
     "output_type": "stream",
     "text": [
      "\n",
      "      Epoch    GPU_mem   box_loss   seg_loss   cls_loss   dfl_loss  Instances       Size\n"
     ]
    },
    {
     "name": "stderr",
     "output_type": "stream",
     "text": [
      "     49/100      5.53G      1.252      2.932      1.166      1.508         29        640: 100%|██████████| 25/25 [00:04<00:00,  5.28it/s]\n",
      "                 Class     Images  Instances      Box(P          R      mAP50  mAP50-95)     Mask(P          R      mAP50  mAP50-95): 100%|██████████| 4/4 [00:00<00:00,  6.13it/s]"
     ]
    },
    {
     "name": "stdout",
     "output_type": "stream",
     "text": [
      "                   all         50         95      0.659      0.611      0.657      0.397      0.633       0.58      0.575      0.278\n"
     ]
    },
    {
     "name": "stderr",
     "output_type": "stream",
     "text": [
      "\n"
     ]
    },
    {
     "name": "stdout",
     "output_type": "stream",
     "text": [
      "\n",
      "      Epoch    GPU_mem   box_loss   seg_loss   cls_loss   dfl_loss  Instances       Size\n"
     ]
    },
    {
     "name": "stderr",
     "output_type": "stream",
     "text": [
      "     50/100      5.62G      1.224      3.006      1.154      1.483         25        640: 100%|██████████| 25/25 [00:04<00:00,  5.27it/s]\n",
      "                 Class     Images  Instances      Box(P          R      mAP50  mAP50-95)     Mask(P          R      mAP50  mAP50-95): 100%|██████████| 4/4 [00:00<00:00,  6.29it/s]"
     ]
    },
    {
     "name": "stdout",
     "output_type": "stream",
     "text": [
      "                   all         50         95       0.72      0.674      0.729       0.43      0.656        0.6      0.617      0.316\n"
     ]
    },
    {
     "name": "stderr",
     "output_type": "stream",
     "text": [
      "\n"
     ]
    },
    {
     "name": "stdout",
     "output_type": "stream",
     "text": [
      "\n",
      "      Epoch    GPU_mem   box_loss   seg_loss   cls_loss   dfl_loss  Instances       Size\n"
     ]
    },
    {
     "name": "stderr",
     "output_type": "stream",
     "text": [
      "     51/100      5.68G      1.216       2.91      1.089      1.457         34        640: 100%|██████████| 25/25 [00:04<00:00,  5.17it/s]\n",
      "                 Class     Images  Instances      Box(P          R      mAP50  mAP50-95)     Mask(P          R      mAP50  mAP50-95): 100%|██████████| 4/4 [00:00<00:00,  6.30it/s]"
     ]
    },
    {
     "name": "stdout",
     "output_type": "stream",
     "text": [
      "                   all         50         95      0.655      0.674       0.72      0.442      0.809      0.526      0.604      0.312\n"
     ]
    },
    {
     "name": "stderr",
     "output_type": "stream",
     "text": [
      "\n"
     ]
    },
    {
     "name": "stdout",
     "output_type": "stream",
     "text": [
      "\n",
      "      Epoch    GPU_mem   box_loss   seg_loss   cls_loss   dfl_loss  Instances       Size\n"
     ]
    },
    {
     "name": "stderr",
     "output_type": "stream",
     "text": [
      "     52/100      5.75G      1.114      2.813      1.008      1.404         41        640: 100%|██████████| 25/25 [00:04<00:00,  5.30it/s]\n",
      "                 Class     Images  Instances      Box(P          R      mAP50  mAP50-95)     Mask(P          R      mAP50  mAP50-95): 100%|██████████| 4/4 [00:00<00:00,  6.19it/s]"
     ]
    },
    {
     "name": "stdout",
     "output_type": "stream",
     "text": [
      "                   all         50         95      0.654      0.747      0.728      0.426      0.757      0.642      0.668      0.305\n"
     ]
    },
    {
     "name": "stderr",
     "output_type": "stream",
     "text": [
      "\n"
     ]
    },
    {
     "name": "stdout",
     "output_type": "stream",
     "text": [
      "\n",
      "      Epoch    GPU_mem   box_loss   seg_loss   cls_loss   dfl_loss  Instances       Size\n"
     ]
    },
    {
     "name": "stderr",
     "output_type": "stream",
     "text": [
      "     53/100      5.82G       1.27      2.907      1.092       1.54         26        640: 100%|██████████| 25/25 [00:04<00:00,  5.27it/s]\n",
      "                 Class     Images  Instances      Box(P          R      mAP50  mAP50-95)     Mask(P          R      mAP50  mAP50-95): 100%|██████████| 4/4 [00:00<00:00,  5.92it/s]"
     ]
    },
    {
     "name": "stdout",
     "output_type": "stream",
     "text": [
      "                   all         50         95      0.718      0.695      0.726      0.453        0.9      0.568      0.639      0.324\n"
     ]
    },
    {
     "name": "stderr",
     "output_type": "stream",
     "text": [
      "\n"
     ]
    },
    {
     "name": "stdout",
     "output_type": "stream",
     "text": [
      "\n",
      "      Epoch    GPU_mem   box_loss   seg_loss   cls_loss   dfl_loss  Instances       Size\n"
     ]
    },
    {
     "name": "stderr",
     "output_type": "stream",
     "text": [
      "     54/100      5.88G      1.166      2.853       1.03      1.444         20        640: 100%|██████████| 25/25 [00:04<00:00,  5.33it/s]\n",
      "                 Class     Images  Instances      Box(P          R      mAP50  mAP50-95)     Mask(P          R      mAP50  mAP50-95): 100%|██████████| 4/4 [00:00<00:00,  6.12it/s]"
     ]
    },
    {
     "name": "stdout",
     "output_type": "stream",
     "text": [
      "                   all         50         95      0.704      0.611      0.668      0.349      0.749      0.537      0.617      0.313\n"
     ]
    },
    {
     "name": "stderr",
     "output_type": "stream",
     "text": [
      "\n"
     ]
    },
    {
     "name": "stdout",
     "output_type": "stream",
     "text": [
      "\n",
      "      Epoch    GPU_mem   box_loss   seg_loss   cls_loss   dfl_loss  Instances       Size\n"
     ]
    },
    {
     "name": "stderr",
     "output_type": "stream",
     "text": [
      "     55/100      5.94G      1.149      2.797          1       1.42         27        640: 100%|██████████| 25/25 [00:04<00:00,  5.25it/s]\n",
      "                 Class     Images  Instances      Box(P          R      mAP50  mAP50-95)     Mask(P          R      mAP50  mAP50-95): 100%|██████████| 4/4 [00:00<00:00,  6.41it/s]"
     ]
    },
    {
     "name": "stdout",
     "output_type": "stream",
     "text": [
      "                   all         50         95      0.719      0.672      0.721      0.415      0.801      0.442      0.536       0.28\n"
     ]
    },
    {
     "name": "stderr",
     "output_type": "stream",
     "text": [
      "\n"
     ]
    },
    {
     "name": "stdout",
     "output_type": "stream",
     "text": [
      "\n",
      "      Epoch    GPU_mem   box_loss   seg_loss   cls_loss   dfl_loss  Instances       Size\n"
     ]
    },
    {
     "name": "stderr",
     "output_type": "stream",
     "text": [
      "     56/100      6.03G      1.135      2.814      1.007      1.392         41        640: 100%|██████████| 25/25 [00:04<00:00,  5.12it/s]\n",
      "                 Class     Images  Instances      Box(P          R      mAP50  mAP50-95)     Mask(P          R      mAP50  mAP50-95): 100%|██████████| 4/4 [00:00<00:00,  6.25it/s]"
     ]
    },
    {
     "name": "stdout",
     "output_type": "stream",
     "text": [
      "                   all         50         95      0.757      0.695       0.74       0.45      0.711      0.621      0.666      0.343\n"
     ]
    },
    {
     "name": "stderr",
     "output_type": "stream",
     "text": [
      "\n"
     ]
    },
    {
     "name": "stdout",
     "output_type": "stream",
     "text": [
      "\n",
      "      Epoch    GPU_mem   box_loss   seg_loss   cls_loss   dfl_loss  Instances       Size\n"
     ]
    },
    {
     "name": "stderr",
     "output_type": "stream",
     "text": [
      "     57/100      6.11G      1.105      2.753     0.9748      1.368         33        640: 100%|██████████| 25/25 [00:04<00:00,  5.24it/s]\n",
      "                 Class     Images  Instances      Box(P          R      mAP50  mAP50-95)     Mask(P          R      mAP50  mAP50-95): 100%|██████████| 4/4 [00:00<00:00,  6.23it/s]"
     ]
    },
    {
     "name": "stdout",
     "output_type": "stream",
     "text": [
      "                   all         50         95      0.789       0.67      0.734      0.446      0.799      0.621      0.666      0.331\n"
     ]
    },
    {
     "name": "stderr",
     "output_type": "stream",
     "text": [
      "\n"
     ]
    },
    {
     "name": "stdout",
     "output_type": "stream",
     "text": [
      "\n",
      "      Epoch    GPU_mem   box_loss   seg_loss   cls_loss   dfl_loss  Instances       Size\n"
     ]
    },
    {
     "name": "stderr",
     "output_type": "stream",
     "text": [
      "     58/100      6.19G      1.134      2.753     0.9785      1.408         39        640: 100%|██████████| 25/25 [00:04<00:00,  5.34it/s]\n",
      "                 Class     Images  Instances      Box(P          R      mAP50  mAP50-95)     Mask(P          R      mAP50  mAP50-95): 100%|██████████| 4/4 [00:00<00:00,  6.18it/s]"
     ]
    },
    {
     "name": "stdout",
     "output_type": "stream",
     "text": [
      "                   all         50         95      0.838      0.709       0.79       0.47      0.782      0.611      0.656       0.34\n"
     ]
    },
    {
     "name": "stderr",
     "output_type": "stream",
     "text": [
      "\n"
     ]
    },
    {
     "name": "stdout",
     "output_type": "stream",
     "text": [
      "\n",
      "      Epoch    GPU_mem   box_loss   seg_loss   cls_loss   dfl_loss  Instances       Size\n"
     ]
    },
    {
     "name": "stderr",
     "output_type": "stream",
     "text": [
      "     59/100      6.23G      1.122      2.758     0.9833      1.413         16        640: 100%|██████████| 25/25 [00:04<00:00,  5.22it/s]\n",
      "                 Class     Images  Instances      Box(P          R      mAP50  mAP50-95)     Mask(P          R      mAP50  mAP50-95): 100%|██████████| 4/4 [00:00<00:00,  6.34it/s]"
     ]
    },
    {
     "name": "stdout",
     "output_type": "stream",
     "text": [
      "                   all         50         95      0.724      0.747      0.795      0.472      0.644      0.663      0.661      0.354\n"
     ]
    },
    {
     "name": "stderr",
     "output_type": "stream",
     "text": [
      "\n"
     ]
    },
    {
     "name": "stdout",
     "output_type": "stream",
     "text": [
      "\n",
      "      Epoch    GPU_mem   box_loss   seg_loss   cls_loss   dfl_loss  Instances       Size\n"
     ]
    },
    {
     "name": "stderr",
     "output_type": "stream",
     "text": [
      "     60/100      6.33G      1.134      2.794      1.014       1.39         23        640: 100%|██████████| 25/25 [00:04<00:00,  5.28it/s]\n",
      "                 Class     Images  Instances      Box(P          R      mAP50  mAP50-95)     Mask(P          R      mAP50  mAP50-95): 100%|██████████| 4/4 [00:00<00:00,  6.25it/s]"
     ]
    },
    {
     "name": "stdout",
     "output_type": "stream",
     "text": [
      "                   all         50         95      0.802      0.695      0.781      0.507      0.836      0.632       0.72      0.379\n"
     ]
    },
    {
     "name": "stderr",
     "output_type": "stream",
     "text": [
      "\n"
     ]
    },
    {
     "name": "stdout",
     "output_type": "stream",
     "text": [
      "\n",
      "      Epoch    GPU_mem   box_loss   seg_loss   cls_loss   dfl_loss  Instances       Size\n"
     ]
    },
    {
     "name": "stderr",
     "output_type": "stream",
     "text": [
      "     61/100      6.39G      1.143      2.734     0.9994      1.396         23        640: 100%|██████████| 25/25 [00:04<00:00,  5.30it/s]\n",
      "                 Class     Images  Instances      Box(P          R      mAP50  mAP50-95)     Mask(P          R      mAP50  mAP50-95): 100%|██████████| 4/4 [00:00<00:00,  5.98it/s]"
     ]
    },
    {
     "name": "stdout",
     "output_type": "stream",
     "text": [
      "                   all         50         95      0.836      0.697      0.777       0.51       0.85      0.621      0.678      0.384\n"
     ]
    },
    {
     "name": "stderr",
     "output_type": "stream",
     "text": [
      "\n"
     ]
    },
    {
     "name": "stdout",
     "output_type": "stream",
     "text": [
      "\n",
      "      Epoch    GPU_mem   box_loss   seg_loss   cls_loss   dfl_loss  Instances       Size\n"
     ]
    },
    {
     "name": "stderr",
     "output_type": "stream",
     "text": [
      "     62/100      6.64G       1.09      2.722     0.9283      1.373         29        640: 100%|██████████| 25/25 [00:04<00:00,  5.23it/s]\n",
      "                 Class     Images  Instances      Box(P          R      mAP50  mAP50-95)     Mask(P          R      mAP50  mAP50-95): 100%|██████████| 4/4 [00:00<00:00,  6.37it/s]"
     ]
    },
    {
     "name": "stdout",
     "output_type": "stream",
     "text": [
      "                   all         50         95      0.831      0.737      0.775      0.508      0.847      0.642      0.706      0.376\n"
     ]
    },
    {
     "name": "stderr",
     "output_type": "stream",
     "text": [
      "\n"
     ]
    },
    {
     "name": "stdout",
     "output_type": "stream",
     "text": [
      "\n",
      "      Epoch    GPU_mem   box_loss   seg_loss   cls_loss   dfl_loss  Instances       Size\n"
     ]
    },
    {
     "name": "stderr",
     "output_type": "stream",
     "text": [
      "     63/100      6.68G      1.137      2.751     0.9673      1.399         29        640: 100%|██████████| 25/25 [00:04<00:00,  5.30it/s]\n",
      "                 Class     Images  Instances      Box(P          R      mAP50  mAP50-95)     Mask(P          R      mAP50  mAP50-95): 100%|██████████| 4/4 [00:00<00:00,  6.39it/s]"
     ]
    },
    {
     "name": "stdout",
     "output_type": "stream",
     "text": [
      "                   all         50         95       0.81      0.737      0.778      0.494      0.825      0.646      0.712      0.381\n"
     ]
    },
    {
     "name": "stderr",
     "output_type": "stream",
     "text": [
      "\n"
     ]
    },
    {
     "name": "stdout",
     "output_type": "stream",
     "text": [
      "\n",
      "      Epoch    GPU_mem   box_loss   seg_loss   cls_loss   dfl_loss  Instances       Size\n"
     ]
    },
    {
     "name": "stderr",
     "output_type": "stream",
     "text": [
      "     64/100      6.72G       1.13      2.805     0.9778      1.398         32        640: 100%|██████████| 25/25 [00:04<00:00,  5.33it/s]\n",
      "                 Class     Images  Instances      Box(P          R      mAP50  mAP50-95)     Mask(P          R      mAP50  mAP50-95): 100%|██████████| 4/4 [00:00<00:00,  6.37it/s]"
     ]
    },
    {
     "name": "stdout",
     "output_type": "stream",
     "text": [
      "                   all         50         95      0.886      0.674      0.789      0.501       0.91       0.64      0.748      0.393\n"
     ]
    },
    {
     "name": "stderr",
     "output_type": "stream",
     "text": [
      "\n"
     ]
    },
    {
     "name": "stdout",
     "output_type": "stream",
     "text": [
      "\n",
      "      Epoch    GPU_mem   box_loss   seg_loss   cls_loss   dfl_loss  Instances       Size\n"
     ]
    },
    {
     "name": "stderr",
     "output_type": "stream",
     "text": [
      "     65/100      6.76G      1.186      2.802      0.981      1.422         21        640: 100%|██████████| 25/25 [00:04<00:00,  5.25it/s]\n",
      "                 Class     Images  Instances      Box(P          R      mAP50  mAP50-95)     Mask(P          R      mAP50  mAP50-95): 100%|██████████| 4/4 [00:00<00:00,  6.29it/s]"
     ]
    },
    {
     "name": "stdout",
     "output_type": "stream",
     "text": [
      "                   all         50         95      0.841      0.725      0.797      0.495      0.828        0.6      0.703      0.357\n"
     ]
    },
    {
     "name": "stderr",
     "output_type": "stream",
     "text": [
      "\n"
     ]
    },
    {
     "name": "stdout",
     "output_type": "stream",
     "text": [
      "\n",
      "      Epoch    GPU_mem   box_loss   seg_loss   cls_loss   dfl_loss  Instances       Size\n"
     ]
    },
    {
     "name": "stderr",
     "output_type": "stream",
     "text": [
      "     66/100       6.8G      1.021      2.601     0.8813      1.321         24        640: 100%|██████████| 25/25 [00:04<00:00,  5.28it/s]\n",
      "                 Class     Images  Instances      Box(P          R      mAP50  mAP50-95)     Mask(P          R      mAP50  mAP50-95): 100%|██████████| 4/4 [00:00<00:00,  6.34it/s]"
     ]
    },
    {
     "name": "stdout",
     "output_type": "stream",
     "text": [
      "                   all         50         95      0.823      0.716      0.811      0.513      0.763      0.679      0.738      0.391\n"
     ]
    },
    {
     "name": "stderr",
     "output_type": "stream",
     "text": [
      "\n"
     ]
    },
    {
     "name": "stdout",
     "output_type": "stream",
     "text": [
      "\n",
      "      Epoch    GPU_mem   box_loss   seg_loss   cls_loss   dfl_loss  Instances       Size\n"
     ]
    },
    {
     "name": "stderr",
     "output_type": "stream",
     "text": [
      "     67/100      6.85G       1.03       2.64     0.8791      1.329         28        640: 100%|██████████| 25/25 [00:04<00:00,  5.10it/s]\n",
      "                 Class     Images  Instances      Box(P          R      mAP50  mAP50-95)     Mask(P          R      mAP50  mAP50-95): 100%|██████████| 4/4 [00:00<00:00,  6.27it/s]"
     ]
    },
    {
     "name": "stdout",
     "output_type": "stream",
     "text": [
      "                   all         50         95       0.82      0.695      0.786      0.523      0.827      0.652       0.73      0.385\n"
     ]
    },
    {
     "name": "stderr",
     "output_type": "stream",
     "text": [
      "\n"
     ]
    },
    {
     "name": "stdout",
     "output_type": "stream",
     "text": [
      "\n",
      "      Epoch    GPU_mem   box_loss   seg_loss   cls_loss   dfl_loss  Instances       Size\n"
     ]
    },
    {
     "name": "stderr",
     "output_type": "stream",
     "text": [
      "     68/100      6.88G      1.112      2.761     0.9399      1.386         30        640: 100%|██████████| 25/25 [00:04<00:00,  5.31it/s]\n",
      "                 Class     Images  Instances      Box(P          R      mAP50  mAP50-95)     Mask(P          R      mAP50  mAP50-95): 100%|██████████| 4/4 [00:00<00:00,  6.18it/s]"
     ]
    },
    {
     "name": "stdout",
     "output_type": "stream",
     "text": [
      "                   all         50         95      0.818      0.716      0.819      0.543      0.785       0.69      0.746      0.393\n"
     ]
    },
    {
     "name": "stderr",
     "output_type": "stream",
     "text": [
      "\n"
     ]
    },
    {
     "name": "stdout",
     "output_type": "stream",
     "text": [
      "\n",
      "      Epoch    GPU_mem   box_loss   seg_loss   cls_loss   dfl_loss  Instances       Size\n"
     ]
    },
    {
     "name": "stderr",
     "output_type": "stream",
     "text": [
      "     69/100      6.96G      1.024      2.584     0.8791      1.326         38        640: 100%|██████████| 25/25 [00:04<00:00,  5.29it/s]\n",
      "                 Class     Images  Instances      Box(P          R      mAP50  mAP50-95)     Mask(P          R      mAP50  mAP50-95): 100%|██████████| 4/4 [00:00<00:00,  6.15it/s]"
     ]
    },
    {
     "name": "stdout",
     "output_type": "stream",
     "text": [
      "                   all         50         95       0.76      0.758      0.802      0.541      0.833      0.628      0.728       0.38\n"
     ]
    },
    {
     "name": "stderr",
     "output_type": "stream",
     "text": [
      "\n"
     ]
    },
    {
     "name": "stdout",
     "output_type": "stream",
     "text": [
      "\n",
      "      Epoch    GPU_mem   box_loss   seg_loss   cls_loss   dfl_loss  Instances       Size\n"
     ]
    },
    {
     "name": "stderr",
     "output_type": "stream",
     "text": [
      "     70/100      7.02G      1.003      2.529      0.858      1.313         21        640: 100%|██████████| 25/25 [00:04<00:00,  5.29it/s]\n",
      "                 Class     Images  Instances      Box(P          R      mAP50  mAP50-95)     Mask(P          R      mAP50  mAP50-95): 100%|██████████| 4/4 [00:00<00:00,  6.31it/s]"
     ]
    },
    {
     "name": "stdout",
     "output_type": "stream",
     "text": [
      "                   all         50         95      0.848      0.726      0.804      0.531      0.812       0.68       0.74      0.393\n"
     ]
    },
    {
     "name": "stderr",
     "output_type": "stream",
     "text": [
      "\n"
     ]
    },
    {
     "name": "stdout",
     "output_type": "stream",
     "text": [
      "\n",
      "      Epoch    GPU_mem   box_loss   seg_loss   cls_loss   dfl_loss  Instances       Size\n"
     ]
    },
    {
     "name": "stderr",
     "output_type": "stream",
     "text": [
      "     71/100      7.08G      1.035      2.568     0.8656      1.334         44        640: 100%|██████████| 25/25 [00:04<00:00,  5.33it/s]\n",
      "                 Class     Images  Instances      Box(P          R      mAP50  mAP50-95)     Mask(P          R      mAP50  mAP50-95): 100%|██████████| 4/4 [00:00<00:00,  6.41it/s]"
     ]
    },
    {
     "name": "stdout",
     "output_type": "stream",
     "text": [
      "                   all         50         95      0.783      0.758      0.813      0.551      0.812      0.653      0.745      0.416\n"
     ]
    },
    {
     "name": "stderr",
     "output_type": "stream",
     "text": [
      "\n"
     ]
    },
    {
     "name": "stdout",
     "output_type": "stream",
     "text": [
      "\n",
      "      Epoch    GPU_mem   box_loss   seg_loss   cls_loss   dfl_loss  Instances       Size\n"
     ]
    },
    {
     "name": "stderr",
     "output_type": "stream",
     "text": [
      "     72/100      7.16G     0.9953      2.482      0.814      1.313         32        640: 100%|██████████| 25/25 [00:04<00:00,  5.15it/s]\n",
      "                 Class     Images  Instances      Box(P          R      mAP50  mAP50-95)     Mask(P          R      mAP50  mAP50-95): 100%|██████████| 4/4 [00:00<00:00,  5.86it/s]"
     ]
    },
    {
     "name": "stdout",
     "output_type": "stream",
     "text": [
      "                   all         50         95      0.862      0.726       0.82      0.537      0.837      0.705      0.775      0.416\n"
     ]
    },
    {
     "name": "stderr",
     "output_type": "stream",
     "text": [
      "\n"
     ]
    },
    {
     "name": "stdout",
     "output_type": "stream",
     "text": [
      "\n",
      "      Epoch    GPU_mem   box_loss   seg_loss   cls_loss   dfl_loss  Instances       Size\n"
     ]
    },
    {
     "name": "stderr",
     "output_type": "stream",
     "text": [
      "     73/100      7.21G      1.005      2.514     0.8509      1.307         25        640: 100%|██████████| 25/25 [00:04<00:00,  5.31it/s]\n",
      "                 Class     Images  Instances      Box(P          R      mAP50  mAP50-95)     Mask(P          R      mAP50  mAP50-95): 100%|██████████| 4/4 [00:00<00:00,  6.24it/s]"
     ]
    },
    {
     "name": "stdout",
     "output_type": "stream",
     "text": [
      "                   all         50         95       0.82      0.719      0.803      0.506      0.814      0.674      0.722      0.402\n"
     ]
    },
    {
     "name": "stderr",
     "output_type": "stream",
     "text": [
      "\n"
     ]
    },
    {
     "name": "stdout",
     "output_type": "stream",
     "text": [
      "\n",
      "      Epoch    GPU_mem   box_loss   seg_loss   cls_loss   dfl_loss  Instances       Size\n"
     ]
    },
    {
     "name": "stderr",
     "output_type": "stream",
     "text": [
      "     74/100      7.31G     0.9974      2.548     0.8495      1.331         23        640: 100%|██████████| 25/25 [00:04<00:00,  5.31it/s]\n",
      "                 Class     Images  Instances      Box(P          R      mAP50  mAP50-95)     Mask(P          R      mAP50  mAP50-95): 100%|██████████| 4/4 [00:00<00:00,  6.20it/s]"
     ]
    },
    {
     "name": "stdout",
     "output_type": "stream",
     "text": [
      "                   all         50         95      0.843      0.732      0.822      0.531      0.783      0.683       0.71      0.401\n"
     ]
    },
    {
     "name": "stderr",
     "output_type": "stream",
     "text": [
      "\n"
     ]
    },
    {
     "name": "stdout",
     "output_type": "stream",
     "text": [
      "\n",
      "      Epoch    GPU_mem   box_loss   seg_loss   cls_loss   dfl_loss  Instances       Size\n"
     ]
    },
    {
     "name": "stderr",
     "output_type": "stream",
     "text": [
      "     75/100      7.35G      1.004      2.512     0.8507      1.316         28        640: 100%|██████████| 25/25 [00:04<00:00,  5.29it/s]\n",
      "                 Class     Images  Instances      Box(P          R      mAP50  mAP50-95)     Mask(P          R      mAP50  mAP50-95): 100%|██████████| 4/4 [00:00<00:00,  6.06it/s]"
     ]
    },
    {
     "name": "stdout",
     "output_type": "stream",
     "text": [
      "                   all         50         95      0.813      0.705      0.794      0.537      0.776      0.674      0.732      0.407\n"
     ]
    },
    {
     "name": "stderr",
     "output_type": "stream",
     "text": [
      "\n"
     ]
    },
    {
     "name": "stdout",
     "output_type": "stream",
     "text": [
      "\n",
      "      Epoch    GPU_mem   box_loss   seg_loss   cls_loss   dfl_loss  Instances       Size\n"
     ]
    },
    {
     "name": "stderr",
     "output_type": "stream",
     "text": [
      "     76/100      7.42G      1.023      2.469     0.8677      1.358         21        640: 100%|██████████| 25/25 [00:04<00:00,  5.36it/s]\n",
      "                 Class     Images  Instances      Box(P          R      mAP50  mAP50-95)     Mask(P          R      mAP50  mAP50-95): 100%|██████████| 4/4 [00:00<00:00,  6.45it/s]"
     ]
    },
    {
     "name": "stdout",
     "output_type": "stream",
     "text": [
      "                   all         50         95      0.827      0.726      0.817      0.561      0.829      0.713      0.766      0.429\n"
     ]
    },
    {
     "name": "stderr",
     "output_type": "stream",
     "text": [
      "\n"
     ]
    },
    {
     "name": "stdout",
     "output_type": "stream",
     "text": [
      "\n",
      "      Epoch    GPU_mem   box_loss   seg_loss   cls_loss   dfl_loss  Instances       Size\n"
     ]
    },
    {
     "name": "stderr",
     "output_type": "stream",
     "text": [
      "     77/100      2.67G          1      2.487     0.8478      1.338         28        640: 100%|██████████| 25/25 [00:04<00:00,  5.31it/s]\n",
      "                 Class     Images  Instances      Box(P          R      mAP50  mAP50-95)     Mask(P          R      mAP50  mAP50-95): 100%|██████████| 4/4 [00:00<00:00,  6.44it/s]"
     ]
    },
    {
     "name": "stdout",
     "output_type": "stream",
     "text": [
      "                   all         50         95      0.815      0.779      0.842      0.578      0.774      0.759      0.775      0.421\n"
     ]
    },
    {
     "name": "stderr",
     "output_type": "stream",
     "text": [
      "\n"
     ]
    },
    {
     "name": "stdout",
     "output_type": "stream",
     "text": [
      "\n",
      "      Epoch    GPU_mem   box_loss   seg_loss   cls_loss   dfl_loss  Instances       Size\n"
     ]
    },
    {
     "name": "stderr",
     "output_type": "stream",
     "text": [
      "     78/100      2.67G     0.9572      2.386     0.8285      1.306         20        640: 100%|██████████| 25/25 [00:04<00:00,  5.26it/s]\n",
      "                 Class     Images  Instances      Box(P          R      mAP50  mAP50-95)     Mask(P          R      mAP50  mAP50-95): 100%|██████████| 4/4 [00:00<00:00,  6.39it/s]"
     ]
    },
    {
     "name": "stdout",
     "output_type": "stream",
     "text": [
      "                   all         50         95      0.899      0.747      0.851      0.598      0.886      0.737       0.81      0.442\n"
     ]
    },
    {
     "name": "stderr",
     "output_type": "stream",
     "text": [
      "\n"
     ]
    },
    {
     "name": "stdout",
     "output_type": "stream",
     "text": [
      "\n",
      "      Epoch    GPU_mem   box_loss   seg_loss   cls_loss   dfl_loss  Instances       Size\n"
     ]
    },
    {
     "name": "stderr",
     "output_type": "stream",
     "text": [
      "     79/100      2.67G     0.9443      2.403     0.7969      1.293         28        640: 100%|██████████| 25/25 [00:04<00:00,  5.25it/s]\n",
      "                 Class     Images  Instances      Box(P          R      mAP50  mAP50-95)     Mask(P          R      mAP50  mAP50-95): 100%|██████████| 4/4 [00:00<00:00,  6.48it/s]"
     ]
    },
    {
     "name": "stdout",
     "output_type": "stream",
     "text": [
      "                   all         50         95      0.863      0.768      0.852      0.594      0.867      0.758      0.813      0.445\n"
     ]
    },
    {
     "name": "stderr",
     "output_type": "stream",
     "text": [
      "\n"
     ]
    },
    {
     "name": "stdout",
     "output_type": "stream",
     "text": [
      "\n",
      "      Epoch    GPU_mem   box_loss   seg_loss   cls_loss   dfl_loss  Instances       Size\n"
     ]
    },
    {
     "name": "stderr",
     "output_type": "stream",
     "text": [
      "     80/100      2.67G     0.9819      2.525     0.8189      1.299         46        640: 100%|██████████| 25/25 [00:04<00:00,  5.31it/s]\n",
      "                 Class     Images  Instances      Box(P          R      mAP50  mAP50-95)     Mask(P          R      mAP50  mAP50-95): 100%|██████████| 4/4 [00:00<00:00,  5.98it/s]"
     ]
    },
    {
     "name": "stdout",
     "output_type": "stream",
     "text": [
      "                   all         50         95      0.857      0.747      0.853      0.592      0.853      0.747      0.804      0.433\n"
     ]
    },
    {
     "name": "stderr",
     "output_type": "stream",
     "text": [
      "\n"
     ]
    },
    {
     "name": "stdout",
     "output_type": "stream",
     "text": [
      "\n",
      "      Epoch    GPU_mem   box_loss   seg_loss   cls_loss   dfl_loss  Instances       Size\n"
     ]
    },
    {
     "name": "stderr",
     "output_type": "stream",
     "text": [
      "     81/100      2.88G     0.9991      2.482     0.8565      1.299         39        640: 100%|██████████| 25/25 [00:04<00:00,  5.30it/s]\n",
      "                 Class     Images  Instances      Box(P          R      mAP50  mAP50-95)     Mask(P          R      mAP50  mAP50-95): 100%|██████████| 4/4 [00:00<00:00,  6.45it/s]"
     ]
    },
    {
     "name": "stdout",
     "output_type": "stream",
     "text": [
      "                   all         50         95      0.827      0.768      0.852      0.609      0.804      0.747      0.782      0.423\n"
     ]
    },
    {
     "name": "stderr",
     "output_type": "stream",
     "text": [
      "\n"
     ]
    },
    {
     "name": "stdout",
     "output_type": "stream",
     "text": [
      "\n",
      "      Epoch    GPU_mem   box_loss   seg_loss   cls_loss   dfl_loss  Instances       Size\n"
     ]
    },
    {
     "name": "stderr",
     "output_type": "stream",
     "text": [
      "     82/100      2.88G      0.967      2.475     0.8232      1.288         44        640: 100%|██████████| 25/25 [00:04<00:00,  5.29it/s]\n",
      "                 Class     Images  Instances      Box(P          R      mAP50  mAP50-95)     Mask(P          R      mAP50  mAP50-95): 100%|██████████| 4/4 [00:00<00:00,  6.08it/s]"
     ]
    },
    {
     "name": "stdout",
     "output_type": "stream",
     "text": [
      "                   all         50         95      0.877      0.747      0.868      0.621      0.881      0.695      0.799      0.431\n"
     ]
    },
    {
     "name": "stderr",
     "output_type": "stream",
     "text": [
      "\n"
     ]
    },
    {
     "name": "stdout",
     "output_type": "stream",
     "text": [
      "\n",
      "      Epoch    GPU_mem   box_loss   seg_loss   cls_loss   dfl_loss  Instances       Size\n"
     ]
    },
    {
     "name": "stderr",
     "output_type": "stream",
     "text": [
      "     83/100      2.88G      0.865      2.321     0.7412      1.235         35        640: 100%|██████████| 25/25 [00:04<00:00,  5.10it/s]\n",
      "                 Class     Images  Instances      Box(P          R      mAP50  mAP50-95)     Mask(P          R      mAP50  mAP50-95): 100%|██████████| 4/4 [00:00<00:00,  6.22it/s]"
     ]
    },
    {
     "name": "stdout",
     "output_type": "stream",
     "text": [
      "                   all         50         95      0.857        0.8      0.859      0.607      0.877      0.705      0.797      0.446\n"
     ]
    },
    {
     "name": "stderr",
     "output_type": "stream",
     "text": [
      "\n"
     ]
    },
    {
     "name": "stdout",
     "output_type": "stream",
     "text": [
      "\n",
      "      Epoch    GPU_mem   box_loss   seg_loss   cls_loss   dfl_loss  Instances       Size\n"
     ]
    },
    {
     "name": "stderr",
     "output_type": "stream",
     "text": [
      "     84/100      2.88G     0.9136       2.37     0.7891      1.265         34        640: 100%|██████████| 25/25 [00:04<00:00,  5.30it/s]\n",
      "                 Class     Images  Instances      Box(P          R      mAP50  mAP50-95)     Mask(P          R      mAP50  mAP50-95): 100%|██████████| 4/4 [00:00<00:00,  6.34it/s]"
     ]
    },
    {
     "name": "stdout",
     "output_type": "stream",
     "text": [
      "                   all         50         95      0.851      0.842      0.864      0.619       0.83      0.769      0.811      0.454\n"
     ]
    },
    {
     "name": "stderr",
     "output_type": "stream",
     "text": [
      "\n"
     ]
    },
    {
     "name": "stdout",
     "output_type": "stream",
     "text": [
      "\n",
      "      Epoch    GPU_mem   box_loss   seg_loss   cls_loss   dfl_loss  Instances       Size\n"
     ]
    },
    {
     "name": "stderr",
     "output_type": "stream",
     "text": [
      "     85/100      2.91G     0.9102      2.288     0.7489      1.259         48        640: 100%|██████████| 25/25 [00:04<00:00,  5.30it/s]\n",
      "                 Class     Images  Instances      Box(P          R      mAP50  mAP50-95)     Mask(P          R      mAP50  mAP50-95): 100%|██████████| 4/4 [00:00<00:00,  6.20it/s]"
     ]
    },
    {
     "name": "stdout",
     "output_type": "stream",
     "text": [
      "                   all         50         95      0.902      0.779      0.866       0.63      0.875      0.737      0.784      0.458\n"
     ]
    },
    {
     "name": "stderr",
     "output_type": "stream",
     "text": [
      "\n"
     ]
    },
    {
     "name": "stdout",
     "output_type": "stream",
     "text": [
      "\n",
      "      Epoch    GPU_mem   box_loss   seg_loss   cls_loss   dfl_loss  Instances       Size\n"
     ]
    },
    {
     "name": "stderr",
     "output_type": "stream",
     "text": [
      "     86/100      2.95G      0.916      2.394      0.766      1.248         29        640: 100%|██████████| 25/25 [00:04<00:00,  5.30it/s]\n",
      "                 Class     Images  Instances      Box(P          R      mAP50  mAP50-95)     Mask(P          R      mAP50  mAP50-95): 100%|██████████| 4/4 [00:00<00:00,  6.34it/s]"
     ]
    },
    {
     "name": "stdout",
     "output_type": "stream",
     "text": [
      "                   all         50         95      0.825        0.8      0.847      0.616      0.831      0.725      0.779      0.436\n"
     ]
    },
    {
     "name": "stderr",
     "output_type": "stream",
     "text": [
      "\n"
     ]
    },
    {
     "name": "stdout",
     "output_type": "stream",
     "text": [
      "\n",
      "      Epoch    GPU_mem   box_loss   seg_loss   cls_loss   dfl_loss  Instances       Size\n"
     ]
    },
    {
     "name": "stderr",
     "output_type": "stream",
     "text": [
      "     87/100      2.99G     0.9263      2.325     0.7807      1.259         21        640: 100%|██████████| 25/25 [00:04<00:00,  5.31it/s]\n",
      "                 Class     Images  Instances      Box(P          R      mAP50  mAP50-95)     Mask(P          R      mAP50  mAP50-95): 100%|██████████| 4/4 [00:00<00:00,  6.40it/s]"
     ]
    },
    {
     "name": "stdout",
     "output_type": "stream",
     "text": [
      "                   all         50         95      0.824      0.786      0.858      0.612      0.798      0.758      0.762      0.423\n"
     ]
    },
    {
     "name": "stderr",
     "output_type": "stream",
     "text": [
      "\n"
     ]
    },
    {
     "name": "stdout",
     "output_type": "stream",
     "text": [
      "\n",
      "      Epoch    GPU_mem   box_loss   seg_loss   cls_loss   dfl_loss  Instances       Size\n"
     ]
    },
    {
     "name": "stderr",
     "output_type": "stream",
     "text": [
      "     88/100      3.04G     0.8867      2.311     0.7698      1.261         26        640: 100%|██████████| 25/25 [00:04<00:00,  5.24it/s]\n",
      "                 Class     Images  Instances      Box(P          R      mAP50  mAP50-95)     Mask(P          R      mAP50  mAP50-95): 100%|██████████| 4/4 [00:00<00:00,  5.64it/s]"
     ]
    },
    {
     "name": "stdout",
     "output_type": "stream",
     "text": [
      "                   all         50         95      0.817      0.779      0.862      0.606      0.876      0.705        0.8       0.44\n"
     ]
    },
    {
     "name": "stderr",
     "output_type": "stream",
     "text": [
      "\n"
     ]
    },
    {
     "name": "stdout",
     "output_type": "stream",
     "text": [
      "\n",
      "      Epoch    GPU_mem   box_loss   seg_loss   cls_loss   dfl_loss  Instances       Size\n"
     ]
    },
    {
     "name": "stderr",
     "output_type": "stream",
     "text": [
      "     89/100       3.1G     0.8637      2.217     0.7265       1.23         29        640: 100%|██████████| 25/25 [00:04<00:00,  5.26it/s]\n",
      "                 Class     Images  Instances      Box(P          R      mAP50  mAP50-95)     Mask(P          R      mAP50  mAP50-95): 100%|██████████| 4/4 [00:00<00:00,  6.45it/s]"
     ]
    },
    {
     "name": "stdout",
     "output_type": "stream",
     "text": [
      "                   all         50         95      0.852      0.788      0.884      0.624      0.839      0.716      0.796      0.437\n"
     ]
    },
    {
     "name": "stderr",
     "output_type": "stream",
     "text": [
      "\n"
     ]
    },
    {
     "name": "stdout",
     "output_type": "stream",
     "text": [
      "\n",
      "      Epoch    GPU_mem   box_loss   seg_loss   cls_loss   dfl_loss  Instances       Size\n"
     ]
    },
    {
     "name": "stderr",
     "output_type": "stream",
     "text": [
      "     90/100      3.18G     0.8506      2.209     0.6978      1.201         42        640: 100%|██████████| 25/25 [00:04<00:00,  5.31it/s]\n",
      "                 Class     Images  Instances      Box(P          R      mAP50  mAP50-95)     Mask(P          R      mAP50  mAP50-95): 100%|██████████| 4/4 [00:00<00:00,  6.41it/s]"
     ]
    },
    {
     "name": "stdout",
     "output_type": "stream",
     "text": [
      "                   all         50         95      0.856       0.75      0.864      0.619      0.821      0.722      0.785      0.444\n"
     ]
    },
    {
     "name": "stderr",
     "output_type": "stream",
     "text": [
      "\n"
     ]
    },
    {
     "name": "stdout",
     "output_type": "stream",
     "text": [
      "Closing dataloader mosaic\n",
      "\u001b[34m\u001b[1malbumentations: \u001b[0mBlur(p=0.01, blur_limit=(3, 7)), MedianBlur(p=0.01, blur_limit=(3, 7)), ToGray(p=0.01, method='weighted_average', num_output_channels=3), CLAHE(p=0.01, clip_limit=(1.0, 4.0), tile_grid_size=(8, 8))\n",
      "\n",
      "      Epoch    GPU_mem   box_loss   seg_loss   cls_loss   dfl_loss  Instances       Size\n"
     ]
    },
    {
     "name": "stderr",
     "output_type": "stream",
     "text": [
      "     91/100      3.23G     0.8268      2.126     0.7225        1.3         10        640: 100%|██████████| 25/25 [00:05<00:00,  4.78it/s]\n",
      "                 Class     Images  Instances      Box(P          R      mAP50  mAP50-95)     Mask(P          R      mAP50  mAP50-95): 100%|██████████| 4/4 [00:00<00:00,  6.22it/s]"
     ]
    },
    {
     "name": "stdout",
     "output_type": "stream",
     "text": [
      "                   all         50         95      0.866       0.75      0.857      0.626      0.814      0.693      0.753      0.438\n"
     ]
    },
    {
     "name": "stderr",
     "output_type": "stream",
     "text": [
      "\n"
     ]
    },
    {
     "name": "stdout",
     "output_type": "stream",
     "text": [
      "\n",
      "      Epoch    GPU_mem   box_loss   seg_loss   cls_loss   dfl_loss  Instances       Size\n"
     ]
    },
    {
     "name": "stderr",
     "output_type": "stream",
     "text": [
      "     92/100      3.27G     0.7974      2.093     0.6981      1.259         11        640: 100%|██████████| 25/25 [00:04<00:00,  5.34it/s]\n",
      "                 Class     Images  Instances      Box(P          R      mAP50  mAP50-95)     Mask(P          R      mAP50  mAP50-95): 100%|██████████| 4/4 [00:00<00:00,  6.52it/s]"
     ]
    },
    {
     "name": "stdout",
     "output_type": "stream",
     "text": [
      "                   all         50         95      0.801      0.779      0.853      0.604      0.729      0.763      0.774      0.448\n"
     ]
    },
    {
     "name": "stderr",
     "output_type": "stream",
     "text": [
      "\n"
     ]
    },
    {
     "name": "stdout",
     "output_type": "stream",
     "text": [
      "\n",
      "      Epoch    GPU_mem   box_loss   seg_loss   cls_loss   dfl_loss  Instances       Size\n"
     ]
    },
    {
     "name": "stderr",
     "output_type": "stream",
     "text": [
      "     93/100      3.32G     0.8287      2.055     0.6841      1.304         13        640: 100%|██████████| 25/25 [00:04<00:00,  5.32it/s]\n",
      "                 Class     Images  Instances      Box(P          R      mAP50  mAP50-95)     Mask(P          R      mAP50  mAP50-95): 100%|██████████| 4/4 [00:00<00:00,  6.31it/s]"
     ]
    },
    {
     "name": "stdout",
     "output_type": "stream",
     "text": [
      "                   all         50         95      0.891      0.737      0.872      0.605      0.889      0.684      0.796       0.46\n"
     ]
    },
    {
     "name": "stderr",
     "output_type": "stream",
     "text": [
      "\n"
     ]
    },
    {
     "name": "stdout",
     "output_type": "stream",
     "text": [
      "\n",
      "      Epoch    GPU_mem   box_loss   seg_loss   cls_loss   dfl_loss  Instances       Size\n"
     ]
    },
    {
     "name": "stderr",
     "output_type": "stream",
     "text": [
      "     94/100       3.4G     0.7579      2.036     0.6329      1.244         12        640: 100%|██████████| 25/25 [00:04<00:00,  5.21it/s]\n",
      "                 Class     Images  Instances      Box(P          R      mAP50  mAP50-95)     Mask(P          R      mAP50  mAP50-95): 100%|██████████| 4/4 [00:00<00:00,  6.34it/s]"
     ]
    },
    {
     "name": "stdout",
     "output_type": "stream",
     "text": [
      "                   all         50         95      0.882        0.8      0.882      0.631      0.847      0.768      0.832      0.479\n"
     ]
    },
    {
     "name": "stderr",
     "output_type": "stream",
     "text": [
      "\n"
     ]
    },
    {
     "name": "stdout",
     "output_type": "stream",
     "text": [
      "\n",
      "      Epoch    GPU_mem   box_loss   seg_loss   cls_loss   dfl_loss  Instances       Size\n"
     ]
    },
    {
     "name": "stderr",
     "output_type": "stream",
     "text": [
      "     95/100      3.48G     0.7583      2.041     0.6218      1.245         16        640: 100%|██████████| 25/25 [00:04<00:00,  5.34it/s]\n",
      "                 Class     Images  Instances      Box(P          R      mAP50  mAP50-95)     Mask(P          R      mAP50  mAP50-95): 100%|██████████| 4/4 [00:00<00:00,  6.32it/s]"
     ]
    },
    {
     "name": "stdout",
     "output_type": "stream",
     "text": [
      "                   all         50         95      0.874      0.821      0.892      0.643      0.854       0.74      0.817      0.479\n"
     ]
    },
    {
     "name": "stderr",
     "output_type": "stream",
     "text": [
      "\n"
     ]
    },
    {
     "name": "stdout",
     "output_type": "stream",
     "text": [
      "\n",
      "      Epoch    GPU_mem   box_loss   seg_loss   cls_loss   dfl_loss  Instances       Size\n"
     ]
    },
    {
     "name": "stderr",
     "output_type": "stream",
     "text": [
      "     96/100      3.54G     0.7728      2.042     0.6391      1.225         12        640: 100%|██████████| 25/25 [00:04<00:00,  5.36it/s]\n",
      "                 Class     Images  Instances      Box(P          R      mAP50  mAP50-95)     Mask(P          R      mAP50  mAP50-95): 100%|██████████| 4/4 [00:00<00:00,  6.20it/s]"
     ]
    },
    {
     "name": "stdout",
     "output_type": "stream",
     "text": [
      "                   all         50         95      0.899      0.789       0.89       0.64      0.878      0.747      0.844      0.483\n"
     ]
    },
    {
     "name": "stderr",
     "output_type": "stream",
     "text": [
      "\n"
     ]
    },
    {
     "name": "stdout",
     "output_type": "stream",
     "text": [
      "\n",
      "      Epoch    GPU_mem   box_loss   seg_loss   cls_loss   dfl_loss  Instances       Size\n"
     ]
    },
    {
     "name": "stderr",
     "output_type": "stream",
     "text": [
      "     97/100      3.61G     0.7427       1.93     0.5908       1.23         16        640: 100%|██████████| 25/25 [00:04<00:00,  5.32it/s]\n",
      "                 Class     Images  Instances      Box(P          R      mAP50  mAP50-95)     Mask(P          R      mAP50  mAP50-95): 100%|██████████| 4/4 [00:00<00:00,  6.11it/s]"
     ]
    },
    {
     "name": "stdout",
     "output_type": "stream",
     "text": [
      "                   all         50         95       0.86      0.853      0.897      0.641      0.848      0.766      0.823      0.479\n"
     ]
    },
    {
     "name": "stderr",
     "output_type": "stream",
     "text": [
      "\n"
     ]
    },
    {
     "name": "stdout",
     "output_type": "stream",
     "text": [
      "\n",
      "      Epoch    GPU_mem   box_loss   seg_loss   cls_loss   dfl_loss  Instances       Size\n"
     ]
    },
    {
     "name": "stderr",
     "output_type": "stream",
     "text": [
      "     98/100      3.69G     0.7606      1.944     0.6098       1.23         10        640: 100%|██████████| 25/25 [00:04<00:00,  5.33it/s]\n",
      "                 Class     Images  Instances      Box(P          R      mAP50  mAP50-95)     Mask(P          R      mAP50  mAP50-95): 100%|██████████| 4/4 [00:00<00:00,  6.44it/s]"
     ]
    },
    {
     "name": "stdout",
     "output_type": "stream",
     "text": [
      "                   all         50         95      0.839      0.881      0.904      0.648      0.859      0.769      0.824      0.477\n"
     ]
    },
    {
     "name": "stderr",
     "output_type": "stream",
     "text": [
      "\n"
     ]
    },
    {
     "name": "stdout",
     "output_type": "stream",
     "text": [
      "\n",
      "      Epoch    GPU_mem   box_loss   seg_loss   cls_loss   dfl_loss  Instances       Size\n"
     ]
    },
    {
     "name": "stderr",
     "output_type": "stream",
     "text": [
      "     99/100      3.75G     0.7182       1.94      0.593      1.216         16        640: 100%|██████████| 25/25 [00:04<00:00,  5.21it/s]\n",
      "                 Class     Images  Instances      Box(P          R      mAP50  mAP50-95)     Mask(P          R      mAP50  mAP50-95): 100%|██████████| 4/4 [00:00<00:00,  6.14it/s]"
     ]
    },
    {
     "name": "stdout",
     "output_type": "stream",
     "text": [
      "                   all         50         95      0.828      0.895      0.911      0.647      0.873      0.747      0.806      0.479\n"
     ]
    },
    {
     "name": "stderr",
     "output_type": "stream",
     "text": [
      "\n"
     ]
    },
    {
     "name": "stdout",
     "output_type": "stream",
     "text": [
      "\n",
      "      Epoch    GPU_mem   box_loss   seg_loss   cls_loss   dfl_loss  Instances       Size\n"
     ]
    },
    {
     "name": "stderr",
     "output_type": "stream",
     "text": [
      "    100/100      3.82G     0.7239      1.963     0.6057      1.201         11        640: 100%|██████████| 25/25 [00:04<00:00,  5.36it/s]\n",
      "                 Class     Images  Instances      Box(P          R      mAP50  mAP50-95)     Mask(P          R      mAP50  mAP50-95): 100%|██████████| 4/4 [00:00<00:00,  6.23it/s]"
     ]
    },
    {
     "name": "stdout",
     "output_type": "stream",
     "text": [
      "                   all         50         95      0.809      0.893      0.907      0.656      0.836      0.749      0.806       0.48\n"
     ]
    },
    {
     "name": "stderr",
     "output_type": "stream",
     "text": [
      "\n"
     ]
    },
    {
     "name": "stdout",
     "output_type": "stream",
     "text": [
      "\n",
      "100 epochs completed in 0.165 hours.\n",
      "Optimizer stripped from runs/segment/train/weights/last.pt, 23.9MB\n",
      "Optimizer stripped from runs/segment/train/weights/best.pt, 23.9MB\n",
      "\n",
      "Validating runs/segment/train/weights/best.pt...\n",
      "Ultralytics 8.3.170 🚀 Python-3.11.13 torch-2.6.0+cu124 CUDA:0 (Tesla T4, 15095MiB)\n",
      "YOLOv8s-seg summary (fused): 85 layers, 11,779,987 parameters, 0 gradients, 42.4 GFLOPs\n"
     ]
    },
    {
     "name": "stderr",
     "output_type": "stream",
     "text": [
      "                 Class     Images  Instances      Box(P          R      mAP50  mAP50-95)     Mask(P          R      mAP50  mAP50-95):   0%|          | 0/4 [00:00<?, ?it/s]"
     ]
    },
    {
     "name": "stdout",
     "output_type": "stream",
     "text": [
      "WARNING ⚠️ Limiting validation plots to first 50 items per image for speed...\n",
      "WARNING ⚠️ Limiting validation plots to first 50 items per image for speed...\n",
      "WARNING ⚠️ Limiting validation plots to first 50 items per image for speed...\n"
     ]
    },
    {
     "name": "stderr",
     "output_type": "stream",
     "text": [
      "                 Class     Images  Instances      Box(P          R      mAP50  mAP50-95)     Mask(P          R      mAP50  mAP50-95):  25%|██▌       | 1/4 [00:00<00:00,  5.00it/s]"
     ]
    },
    {
     "name": "stdout",
     "output_type": "stream",
     "text": [
      "WARNING ⚠️ Limiting validation plots to first 50 items per image for speed...\n",
      "WARNING ⚠️ Limiting validation plots to first 50 items per image for speed...\n",
      "WARNING ⚠️ Limiting validation plots to first 50 items per image for speed...\n",
      "WARNING ⚠️ Limiting validation plots to first 50 items per image for speed...\n",
      "WARNING ⚠️ Limiting validation plots to first 50 items per image for speed...\n"
     ]
    },
    {
     "name": "stderr",
     "output_type": "stream",
     "text": [
      "                 Class     Images  Instances      Box(P          R      mAP50  mAP50-95)     Mask(P          R      mAP50  mAP50-95):  50%|█████     | 2/4 [00:00<00:00,  3.89it/s]"
     ]
    },
    {
     "name": "stdout",
     "output_type": "stream",
     "text": [
      "WARNING ⚠️ Limiting validation plots to first 50 items per image for speed...\n"
     ]
    },
    {
     "name": "stderr",
     "output_type": "stream",
     "text": [
      "                 Class     Images  Instances      Box(P          R      mAP50  mAP50-95)     Mask(P          R      mAP50  mAP50-95): 100%|██████████| 4/4 [00:01<00:00,  2.45it/s]\n",
      "/usr/local/lib/python3.11/dist-packages/matplotlib/colors.py:721: RuntimeWarning: invalid value encountered in less\n",
      "  xa[xa < 0] = -1\n",
      "/usr/local/lib/python3.11/dist-packages/matplotlib/colors.py:721: RuntimeWarning: invalid value encountered in less\n",
      "  xa[xa < 0] = -1\n"
     ]
    },
    {
     "name": "stdout",
     "output_type": "stream",
     "text": [
      "                   all         50         95       0.81      0.896      0.907      0.657      0.836      0.749      0.806      0.482\n",
      "Speed: 0.2ms preprocess, 9.5ms inference, 0.0ms loss, 5.0ms postprocess per image\n",
      "Results saved to \u001b[1mruns/segment/train\u001b[0m\n"
     ]
    },
    {
     "data": {
      "text/plain": [
       "ultralytics.utils.metrics.SegmentMetrics object with attributes:\n",
       "\n",
       "ap_class_index: array([0])\n",
       "box: ultralytics.utils.metrics.Metric object\n",
       "confusion_matrix: <ultralytics.utils.metrics.ConfusionMatrix object at 0x7e5270de7550>\n",
       "curves: ['Precision-Recall(B)', 'F1-Confidence(B)', 'Precision-Confidence(B)', 'Recall-Confidence(B)', 'Precision-Recall(M)', 'F1-Confidence(M)', 'Precision-Confidence(M)', 'Recall-Confidence(M)']\n",
       "curves_results: [[array([          0,    0.001001,    0.002002,    0.003003,    0.004004,    0.005005,    0.006006,    0.007007,    0.008008,    0.009009,     0.01001,    0.011011,    0.012012,    0.013013,    0.014014,    0.015015,    0.016016,    0.017017,    0.018018,    0.019019,     0.02002,    0.021021,    0.022022,    0.023023,\n",
       "          0.024024,    0.025025,    0.026026,    0.027027,    0.028028,    0.029029,     0.03003,    0.031031,    0.032032,    0.033033,    0.034034,    0.035035,    0.036036,    0.037037,    0.038038,    0.039039,     0.04004,    0.041041,    0.042042,    0.043043,    0.044044,    0.045045,    0.046046,    0.047047,\n",
       "          0.048048,    0.049049,     0.05005,    0.051051,    0.052052,    0.053053,    0.054054,    0.055055,    0.056056,    0.057057,    0.058058,    0.059059,     0.06006,    0.061061,    0.062062,    0.063063,    0.064064,    0.065065,    0.066066,    0.067067,    0.068068,    0.069069,     0.07007,    0.071071,\n",
       "          0.072072,    0.073073,    0.074074,    0.075075,    0.076076,    0.077077,    0.078078,    0.079079,     0.08008,    0.081081,    0.082082,    0.083083,    0.084084,    0.085085,    0.086086,    0.087087,    0.088088,    0.089089,     0.09009,    0.091091,    0.092092,    0.093093,    0.094094,    0.095095,\n",
       "          0.096096,    0.097097,    0.098098,    0.099099,      0.1001,      0.1011,      0.1021,      0.1031,      0.1041,     0.10511,     0.10611,     0.10711,     0.10811,     0.10911,     0.11011,     0.11111,     0.11211,     0.11311,     0.11411,     0.11512,     0.11612,     0.11712,     0.11812,     0.11912,\n",
       "           0.12012,     0.12112,     0.12212,     0.12312,     0.12412,     0.12513,     0.12613,     0.12713,     0.12813,     0.12913,     0.13013,     0.13113,     0.13213,     0.13313,     0.13413,     0.13514,     0.13614,     0.13714,     0.13814,     0.13914,     0.14014,     0.14114,     0.14214,     0.14314,\n",
       "           0.14414,     0.14515,     0.14615,     0.14715,     0.14815,     0.14915,     0.15015,     0.15115,     0.15215,     0.15315,     0.15415,     0.15516,     0.15616,     0.15716,     0.15816,     0.15916,     0.16016,     0.16116,     0.16216,     0.16316,     0.16416,     0.16517,     0.16617,     0.16717,\n",
       "           0.16817,     0.16917,     0.17017,     0.17117,     0.17217,     0.17317,     0.17417,     0.17518,     0.17618,     0.17718,     0.17818,     0.17918,     0.18018,     0.18118,     0.18218,     0.18318,     0.18418,     0.18519,     0.18619,     0.18719,     0.18819,     0.18919,     0.19019,     0.19119,\n",
       "           0.19219,     0.19319,     0.19419,      0.1952,      0.1962,      0.1972,      0.1982,      0.1992,      0.2002,      0.2012,      0.2022,      0.2032,      0.2042,     0.20521,     0.20621,     0.20721,     0.20821,     0.20921,     0.21021,     0.21121,     0.21221,     0.21321,     0.21421,     0.21522,\n",
       "           0.21622,     0.21722,     0.21822,     0.21922,     0.22022,     0.22122,     0.22222,     0.22322,     0.22422,     0.22523,     0.22623,     0.22723,     0.22823,     0.22923,     0.23023,     0.23123,     0.23223,     0.23323,     0.23423,     0.23524,     0.23624,     0.23724,     0.23824,     0.23924,\n",
       "           0.24024,     0.24124,     0.24224,     0.24324,     0.24424,     0.24525,     0.24625,     0.24725,     0.24825,     0.24925,     0.25025,     0.25125,     0.25225,     0.25325,     0.25425,     0.25526,     0.25626,     0.25726,     0.25826,     0.25926,     0.26026,     0.26126,     0.26226,     0.26326,\n",
       "           0.26426,     0.26527,     0.26627,     0.26727,     0.26827,     0.26927,     0.27027,     0.27127,     0.27227,     0.27327,     0.27427,     0.27528,     0.27628,     0.27728,     0.27828,     0.27928,     0.28028,     0.28128,     0.28228,     0.28328,     0.28428,     0.28529,     0.28629,     0.28729,\n",
       "           0.28829,     0.28929,     0.29029,     0.29129,     0.29229,     0.29329,     0.29429,      0.2953,      0.2963,      0.2973,      0.2983,      0.2993,      0.3003,      0.3013,      0.3023,      0.3033,      0.3043,     0.30531,     0.30631,     0.30731,     0.30831,     0.30931,     0.31031,     0.31131,\n",
       "           0.31231,     0.31331,     0.31431,     0.31532,     0.31632,     0.31732,     0.31832,     0.31932,     0.32032,     0.32132,     0.32232,     0.32332,     0.32432,     0.32533,     0.32633,     0.32733,     0.32833,     0.32933,     0.33033,     0.33133,     0.33233,     0.33333,     0.33433,     0.33534,\n",
       "           0.33634,     0.33734,     0.33834,     0.33934,     0.34034,     0.34134,     0.34234,     0.34334,     0.34434,     0.34535,     0.34635,     0.34735,     0.34835,     0.34935,     0.35035,     0.35135,     0.35235,     0.35335,     0.35435,     0.35536,     0.35636,     0.35736,     0.35836,     0.35936,\n",
       "           0.36036,     0.36136,     0.36236,     0.36336,     0.36436,     0.36537,     0.36637,     0.36737,     0.36837,     0.36937,     0.37037,     0.37137,     0.37237,     0.37337,     0.37437,     0.37538,     0.37638,     0.37738,     0.37838,     0.37938,     0.38038,     0.38138,     0.38238,     0.38338,\n",
       "           0.38438,     0.38539,     0.38639,     0.38739,     0.38839,     0.38939,     0.39039,     0.39139,     0.39239,     0.39339,     0.39439,      0.3954,      0.3964,      0.3974,      0.3984,      0.3994,      0.4004,      0.4014,      0.4024,      0.4034,      0.4044,     0.40541,     0.40641,     0.40741,\n",
       "           0.40841,     0.40941,     0.41041,     0.41141,     0.41241,     0.41341,     0.41441,     0.41542,     0.41642,     0.41742,     0.41842,     0.41942,     0.42042,     0.42142,     0.42242,     0.42342,     0.42442,     0.42543,     0.42643,     0.42743,     0.42843,     0.42943,     0.43043,     0.43143,\n",
       "           0.43243,     0.43343,     0.43443,     0.43544,     0.43644,     0.43744,     0.43844,     0.43944,     0.44044,     0.44144,     0.44244,     0.44344,     0.44444,     0.44545,     0.44645,     0.44745,     0.44845,     0.44945,     0.45045,     0.45145,     0.45245,     0.45345,     0.45445,     0.45546,\n",
       "           0.45646,     0.45746,     0.45846,     0.45946,     0.46046,     0.46146,     0.46246,     0.46346,     0.46446,     0.46547,     0.46647,     0.46747,     0.46847,     0.46947,     0.47047,     0.47147,     0.47247,     0.47347,     0.47447,     0.47548,     0.47648,     0.47748,     0.47848,     0.47948,\n",
       "           0.48048,     0.48148,     0.48248,     0.48348,     0.48448,     0.48549,     0.48649,     0.48749,     0.48849,     0.48949,     0.49049,     0.49149,     0.49249,     0.49349,     0.49449,      0.4955,      0.4965,      0.4975,      0.4985,      0.4995,      0.5005,      0.5015,      0.5025,      0.5035,\n",
       "            0.5045,     0.50551,     0.50651,     0.50751,     0.50851,     0.50951,     0.51051,     0.51151,     0.51251,     0.51351,     0.51451,     0.51552,     0.51652,     0.51752,     0.51852,     0.51952,     0.52052,     0.52152,     0.52252,     0.52352,     0.52452,     0.52553,     0.52653,     0.52753,\n",
       "           0.52853,     0.52953,     0.53053,     0.53153,     0.53253,     0.53353,     0.53453,     0.53554,     0.53654,     0.53754,     0.53854,     0.53954,     0.54054,     0.54154,     0.54254,     0.54354,     0.54454,     0.54555,     0.54655,     0.54755,     0.54855,     0.54955,     0.55055,     0.55155,\n",
       "           0.55255,     0.55355,     0.55455,     0.55556,     0.55656,     0.55756,     0.55856,     0.55956,     0.56056,     0.56156,     0.56256,     0.56356,     0.56456,     0.56557,     0.56657,     0.56757,     0.56857,     0.56957,     0.57057,     0.57157,     0.57257,     0.57357,     0.57457,     0.57558,\n",
       "           0.57658,     0.57758,     0.57858,     0.57958,     0.58058,     0.58158,     0.58258,     0.58358,     0.58458,     0.58559,     0.58659,     0.58759,     0.58859,     0.58959,     0.59059,     0.59159,     0.59259,     0.59359,     0.59459,      0.5956,      0.5966,      0.5976,      0.5986,      0.5996,\n",
       "            0.6006,      0.6016,      0.6026,      0.6036,      0.6046,     0.60561,     0.60661,     0.60761,     0.60861,     0.60961,     0.61061,     0.61161,     0.61261,     0.61361,     0.61461,     0.61562,     0.61662,     0.61762,     0.61862,     0.61962,     0.62062,     0.62162,     0.62262,     0.62362,\n",
       "           0.62462,     0.62563,     0.62663,     0.62763,     0.62863,     0.62963,     0.63063,     0.63163,     0.63263,     0.63363,     0.63463,     0.63564,     0.63664,     0.63764,     0.63864,     0.63964,     0.64064,     0.64164,     0.64264,     0.64364,     0.64464,     0.64565,     0.64665,     0.64765,\n",
       "           0.64865,     0.64965,     0.65065,     0.65165,     0.65265,     0.65365,     0.65465,     0.65566,     0.65666,     0.65766,     0.65866,     0.65966,     0.66066,     0.66166,     0.66266,     0.66366,     0.66466,     0.66567,     0.66667,     0.66767,     0.66867,     0.66967,     0.67067,     0.67167,\n",
       "           0.67267,     0.67367,     0.67467,     0.67568,     0.67668,     0.67768,     0.67868,     0.67968,     0.68068,     0.68168,     0.68268,     0.68368,     0.68468,     0.68569,     0.68669,     0.68769,     0.68869,     0.68969,     0.69069,     0.69169,     0.69269,     0.69369,     0.69469,      0.6957,\n",
       "            0.6967,      0.6977,      0.6987,      0.6997,      0.7007,      0.7017,      0.7027,      0.7037,      0.7047,     0.70571,     0.70671,     0.70771,     0.70871,     0.70971,     0.71071,     0.71171,     0.71271,     0.71371,     0.71471,     0.71572,     0.71672,     0.71772,     0.71872,     0.71972,\n",
       "           0.72072,     0.72172,     0.72272,     0.72372,     0.72472,     0.72573,     0.72673,     0.72773,     0.72873,     0.72973,     0.73073,     0.73173,     0.73273,     0.73373,     0.73473,     0.73574,     0.73674,     0.73774,     0.73874,     0.73974,     0.74074,     0.74174,     0.74274,     0.74374,\n",
       "           0.74474,     0.74575,     0.74675,     0.74775,     0.74875,     0.74975,     0.75075,     0.75175,     0.75275,     0.75375,     0.75475,     0.75576,     0.75676,     0.75776,     0.75876,     0.75976,     0.76076,     0.76176,     0.76276,     0.76376,     0.76476,     0.76577,     0.76677,     0.76777,\n",
       "           0.76877,     0.76977,     0.77077,     0.77177,     0.77277,     0.77377,     0.77477,     0.77578,     0.77678,     0.77778,     0.77878,     0.77978,     0.78078,     0.78178,     0.78278,     0.78378,     0.78478,     0.78579,     0.78679,     0.78779,     0.78879,     0.78979,     0.79079,     0.79179,\n",
       "           0.79279,     0.79379,     0.79479,      0.7958,      0.7968,      0.7978,      0.7988,      0.7998,      0.8008,      0.8018,      0.8028,      0.8038,      0.8048,     0.80581,     0.80681,     0.80781,     0.80881,     0.80981,     0.81081,     0.81181,     0.81281,     0.81381,     0.81481,     0.81582,\n",
       "           0.81682,     0.81782,     0.81882,     0.81982,     0.82082,     0.82182,     0.82282,     0.82382,     0.82482,     0.82583,     0.82683,     0.82783,     0.82883,     0.82983,     0.83083,     0.83183,     0.83283,     0.83383,     0.83483,     0.83584,     0.83684,     0.83784,     0.83884,     0.83984,\n",
       "           0.84084,     0.84184,     0.84284,     0.84384,     0.84484,     0.84585,     0.84685,     0.84785,     0.84885,     0.84985,     0.85085,     0.85185,     0.85285,     0.85385,     0.85485,     0.85586,     0.85686,     0.85786,     0.85886,     0.85986,     0.86086,     0.86186,     0.86286,     0.86386,\n",
       "           0.86486,     0.86587,     0.86687,     0.86787,     0.86887,     0.86987,     0.87087,     0.87187,     0.87287,     0.87387,     0.87487,     0.87588,     0.87688,     0.87788,     0.87888,     0.87988,     0.88088,     0.88188,     0.88288,     0.88388,     0.88488,     0.88589,     0.88689,     0.88789,\n",
       "           0.88889,     0.88989,     0.89089,     0.89189,     0.89289,     0.89389,     0.89489,      0.8959,      0.8969,      0.8979,      0.8989,      0.8999,      0.9009,      0.9019,      0.9029,      0.9039,      0.9049,     0.90591,     0.90691,     0.90791,     0.90891,     0.90991,     0.91091,     0.91191,\n",
       "           0.91291,     0.91391,     0.91491,     0.91592,     0.91692,     0.91792,     0.91892,     0.91992,     0.92092,     0.92192,     0.92292,     0.92392,     0.92492,     0.92593,     0.92693,     0.92793,     0.92893,     0.92993,     0.93093,     0.93193,     0.93293,     0.93393,     0.93493,     0.93594,\n",
       "           0.93694,     0.93794,     0.93894,     0.93994,     0.94094,     0.94194,     0.94294,     0.94394,     0.94494,     0.94595,     0.94695,     0.94795,     0.94895,     0.94995,     0.95095,     0.95195,     0.95295,     0.95395,     0.95495,     0.95596,     0.95696,     0.95796,     0.95896,     0.95996,\n",
       "           0.96096,     0.96196,     0.96296,     0.96396,     0.96496,     0.96597,     0.96697,     0.96797,     0.96897,     0.96997,     0.97097,     0.97197,     0.97297,     0.97397,     0.97497,     0.97598,     0.97698,     0.97798,     0.97898,     0.97998,     0.98098,     0.98198,     0.98298,     0.98398,\n",
       "           0.98498,     0.98599,     0.98699,     0.98799,     0.98899,     0.98999,     0.99099,     0.99199,     0.99299,     0.99399,     0.99499,       0.996,       0.997,       0.998,       0.999,           1]), array([[          1,           1,           1,           1,           1,           1,           1,           1,           1,           1,           1,           1,           1,           1,           1,           1,           1,           1,           1,           1,           1,           1,           1,\n",
       "                  1,           1,           1,           1,           1,           1,           1,           1,           1,           1,           1,           1,           1,           1,           1,           1,           1,           1,           1,           1,           1,           1,           1,\n",
       "                  1,           1,           1,           1,           1,           1,           1,           1,           1,           1,           1,           1,           1,           1,           1,           1,           1,           1,           1,           1,           1,           1,           1,\n",
       "                  1,           1,           1,           1,           1,           1,           1,           1,           1,           1,           1,           1,           1,           1,           1,           1,           1,           1,           1,           1,           1,           1,           1,\n",
       "                  1,           1,           1,           1,           1,           1,           1,           1,           1,           1,           1,           1,           1,           1,           1,           1,           1,           1,           1,           1,           1,           1,           1,\n",
       "                  1,           1,           1,           1,           1,           1,           1,           1,           1,           1,           1,           1,           1,           1,           1,           1,           1,           1,           1,           1,           1,           1,           1,\n",
       "                  1,           1,           1,           1,           1,           1,           1,           1,           1,           1,           1,           1,           1,           1,           1,           1,           1,           1,           1,           1,           1,           1,           1,\n",
       "                  1,           1,           1,           1,           1,           1,           1,           1,           1,           1,           1,           1,           1,           1,           1,           1,           1,           1,           1,           1,           1,           1,           1,\n",
       "                  1,           1,           1,           1,           1,           1,           1,           1,           1,           1,           1,           1,           1,           1,           1,           1,           1,           1,           1,           1,           1,           1,           1,\n",
       "                  1,           1,           1,           1,           1,           1,           1,           1,           1,           1,           1,           1,           1,           1,           1,           1,           1,           1,           1,           1,           1,           1,           1,\n",
       "                  1,           1,           1,           1,           1,           1,           1,           1,           1,           1,           1,           1,           1,           1,           1,           1,           1,           1,           1,           1,           1,           1,           1,\n",
       "            0.97778,     0.97778,     0.97778,     0.97778,     0.97778,     0.97778,     0.97778,     0.97778,     0.97778,     0.97778,     0.97778,     0.97778,     0.97778,     0.97778,     0.97778,     0.97778,     0.97778,     0.97778,     0.97778,     0.97778,     0.97778,     0.97778,     0.97778,\n",
       "            0.97778,     0.97778,     0.97778,     0.97778,     0.97778,     0.97778,     0.97778,     0.97778,     0.97778,     0.97778,     0.97778,     0.97778,     0.97778,     0.97778,     0.97778,     0.97778,     0.97778,     0.97778,     0.97778,     0.97778,     0.97778,     0.97778,     0.97778,\n",
       "            0.97778,     0.97778,     0.97778,     0.97778,     0.97778,     0.97778,     0.97778,     0.97778,     0.97778,     0.97778,     0.97778,     0.97778,     0.97778,     0.97778,     0.97778,     0.97778,     0.97778,     0.97778,     0.97778,     0.97778,     0.97778,     0.97778,     0.97778,\n",
       "            0.97778,     0.97778,     0.97778,     0.97778,     0.97778,     0.97778,     0.97778,     0.97778,     0.97778,     0.97778,     0.97778,     0.97778,     0.97778,     0.97778,     0.97778,     0.97778,     0.97778,     0.97778,     0.97778,     0.97778,     0.97778,     0.97778,     0.97778,\n",
       "            0.97778,     0.97778,     0.97778,     0.97778,     0.97778,     0.97778,     0.97778,     0.97778,     0.97778,     0.97778,     0.97778,     0.97778,     0.97778,     0.97778,     0.97778,     0.97778,     0.97778,     0.97778,     0.97778,     0.97778,     0.97778,     0.97778,     0.97778,\n",
       "            0.97778,     0.97778,     0.97778,     0.97778,     0.97778,     0.97778,     0.97778,     0.97778,     0.97778,     0.97778,     0.97778,     0.97778,     0.97778,     0.97778,     0.97778,     0.97778,     0.97778,     0.97778,     0.97778,     0.97778,     0.97778,     0.97778,     0.97778,\n",
       "            0.97778,     0.97778,     0.97778,     0.97778,     0.97778,     0.97778,     0.97778,     0.97778,     0.97778,     0.97778,     0.97778,     0.97778,     0.97778,     0.97778,     0.97778,     0.97778,     0.97778,     0.97778,     0.97778,     0.97778,     0.97778,     0.97778,     0.97778,\n",
       "            0.97778,     0.97778,     0.97778,     0.97778,     0.97778,     0.97778,     0.97778,     0.97778,     0.97778,     0.97778,     0.97778,     0.97778,     0.97778,     0.97778,     0.97778,     0.97778,     0.97778,     0.97778,     0.97778,     0.97778,     0.97778,     0.97778,     0.97778,\n",
       "            0.97778,     0.97778,     0.97778,     0.97778,     0.97778,     0.97778,     0.97778,     0.97778,     0.97778,     0.97778,     0.97778,     0.97778,     0.97778,     0.97778,     0.97778,     0.97778,     0.97778,     0.97778,     0.97778,     0.97778,     0.97778,     0.97778,     0.97778,\n",
       "            0.97778,     0.97778,     0.97778,     0.95312,     0.95312,     0.95312,     0.95312,     0.95312,     0.95312,     0.95312,     0.95312,     0.95312,     0.95312,     0.95312,     0.95312,     0.95312,     0.95312,     0.95312,     0.95312,     0.95312,     0.95312,     0.95312,     0.95312,\n",
       "            0.95312,     0.95312,     0.95312,     0.95312,     0.95312,     0.95312,     0.95312,     0.95312,     0.95312,     0.95312,     0.95312,     0.95312,     0.95312,     0.95312,     0.95312,     0.95312,     0.95312,     0.95312,     0.95312,     0.95312,     0.95312,     0.95312,     0.95312,\n",
       "            0.95312,     0.95312,     0.95312,     0.95312,     0.95312,     0.95312,     0.95312,     0.95312,     0.95312,     0.95312,     0.95312,     0.95312,     0.95312,     0.95312,     0.95312,     0.95312,     0.95312,     0.95312,     0.95312,     0.95312,     0.95312,     0.95312,     0.95312,\n",
       "            0.95312,     0.95312,     0.95312,     0.95312,     0.95312,     0.95312,     0.95312,     0.95312,     0.95312,     0.95312,     0.95312,     0.95312,     0.95312,     0.95312,     0.95312,     0.95312,     0.95312,     0.95312,     0.95312,     0.95312,     0.95312,     0.95312,     0.95312,\n",
       "            0.95312,     0.95312,     0.95312,     0.95312,     0.95312,     0.95312,     0.95312,     0.95312,     0.95312,     0.95312,     0.95312,     0.95312,     0.95312,     0.95312,     0.95312,     0.95312,     0.95312,     0.95312,     0.95312,     0.95312,     0.95312,     0.95312,     0.95312,\n",
       "            0.95312,     0.95312,     0.95312,     0.95312,     0.95312,     0.95312,     0.95312,     0.95312,     0.95312,     0.95312,     0.95312,     0.95312,     0.95312,     0.95312,     0.95312,     0.95312,     0.95312,     0.95312,     0.95312,     0.95312,     0.95312,     0.95312,     0.95312,\n",
       "            0.95312,     0.95312,     0.95312,     0.95312,     0.95312,     0.95312,     0.95312,     0.95312,     0.95312,     0.95312,     0.95312,     0.95312,     0.95312,     0.95312,     0.95312,     0.95312,     0.95312,     0.95312,     0.95312,     0.95312,     0.95312,     0.95312,     0.95312,\n",
       "            0.95312,     0.95312,     0.95312,     0.95312,     0.95312,     0.95312,     0.95312,     0.95312,     0.95312,     0.95312,     0.95312,     0.95312,     0.95312,     0.95312,     0.95312,     0.95312,     0.95312,     0.95312,     0.95312,     0.95312,     0.95312,     0.94203,     0.94203,\n",
       "            0.94203,     0.94203,     0.94203,     0.94203,     0.94203,     0.94203,     0.94203,     0.94203,     0.94203,     0.94203,     0.94203,     0.94203,     0.94203,     0.94203,     0.94203,     0.94203,     0.94203,     0.94203,     0.94203,     0.94203,     0.94203,     0.94203,     0.94203,\n",
       "            0.94203,     0.94203,     0.94203,     0.94203,     0.94203,     0.94203,     0.94203,     0.94203,     0.94203,     0.94203,     0.94203,     0.94203,     0.94203,     0.94203,     0.94203,     0.94203,     0.94203,     0.92958,     0.92958,     0.92958,     0.92958,     0.92958,     0.92958,\n",
       "            0.92958,     0.92958,     0.92958,     0.92958,     0.92958,     0.91892,     0.91892,     0.91892,     0.91892,     0.91892,     0.91892,     0.91892,     0.91892,     0.91892,     0.91892,     0.91892,     0.91892,     0.91892,     0.91892,     0.91892,     0.91892,     0.91892,     0.91892,\n",
       "            0.91892,     0.91892,     0.91892,     0.90244,     0.90244,     0.90244,     0.90244,     0.90244,     0.90244,     0.90244,     0.90244,     0.90244,     0.90244,     0.90244,     0.90244,     0.90244,     0.90244,     0.90244,     0.90244,     0.90244,     0.90244,     0.90244,     0.90244,\n",
       "            0.90244,     0.90244,     0.90244,     0.90244,     0.90244,     0.90244,     0.90244,     0.90244,     0.90244,     0.90244,     0.90244,     0.90244,     0.90244,     0.90244,     0.90244,     0.90244,     0.90244,     0.90244,     0.90244,     0.90244,     0.90244,     0.90244,     0.90244,\n",
       "            0.90244,     0.90244,     0.90244,     0.90244,     0.90244,     0.90244,     0.90244,     0.90244,     0.90244,     0.90244,     0.90244,     0.90244,     0.90244,     0.90244,     0.90244,     0.90244,     0.90244,     0.90244,     0.90244,     0.90244,     0.89286,     0.89286,     0.89286,\n",
       "            0.89286,     0.89286,     0.89286,     0.89286,     0.89286,     0.89286,     0.89286,     0.88636,     0.88636,     0.88636,     0.88636,     0.88636,     0.88636,     0.88636,     0.88636,     0.88636,     0.88636,     0.88636,     0.88636,     0.88636,     0.88636,     0.88636,     0.88636,\n",
       "            0.88636,     0.88636,     0.88636,     0.88636,     0.88636,     0.88636,     0.88636,     0.88636,     0.88636,     0.88636,     0.88636,     0.88636,     0.88636,     0.88636,     0.88636,     0.88636,     0.86957,     0.86957,     0.86957,     0.86957,     0.86957,     0.86957,     0.86957,\n",
       "            0.86957,     0.86957,     0.86957,     0.86957,     0.86957,     0.86957,     0.86957,     0.86957,     0.86957,     0.86957,     0.86957,     0.86957,     0.86957,     0.86957,     0.83838,     0.83838,     0.83838,     0.83838,     0.83838,     0.83838,     0.83838,     0.83838,     0.83838,\n",
       "            0.83838,     0.83838,     0.83838,     0.83838,     0.83838,     0.83838,     0.83838,     0.83838,     0.83838,     0.83838,     0.83838,     0.83838,     0.83838,     0.83838,     0.83838,     0.83838,     0.83838,     0.83838,     0.83838,     0.83838,     0.83838,     0.83838,     0.82353,\n",
       "            0.82353,     0.82353,     0.82353,     0.82353,     0.82353,     0.82353,     0.82353,     0.82353,     0.82353,     0.82353,     0.81132,     0.81132,     0.81132,     0.81132,     0.81132,     0.81132,     0.81132,     0.81132,     0.81132,     0.81132,     0.81132,     0.81132,     0.81132,\n",
       "            0.81132,     0.81132,     0.81132,     0.81132,     0.81132,     0.81132,     0.81132,     0.81132,     0.80556,     0.80556,     0.80556,     0.80556,     0.80556,     0.80556,     0.80556,     0.80556,     0.80556,     0.80556,     0.78571,     0.78571,     0.78571,     0.78571,     0.78571,\n",
       "            0.78571,     0.78571,     0.78571,     0.78571,     0.78571,     0.78571,     0.68462,     0.68462,     0.68462,     0.68462,     0.68462,     0.68462,     0.68462,     0.68462,     0.68462,     0.68462,     0.61644,     0.61644,     0.61644,     0.61644,     0.61644,     0.61644,     0.61644,\n",
       "            0.61644,     0.61644,     0.61644,     0.61644,     0.49457,     0.49457,     0.49457,     0.49457,     0.49457,     0.49457,     0.49457,     0.49457,     0.49457,     0.49457,     0.49198,     0.49198,     0.49198,     0.49198,     0.49198,     0.49198,     0.49198,     0.49198,     0.49198,\n",
       "            0.49198,     0.49198,      0.4026,      0.4026,      0.4026,      0.4026,      0.4026,      0.4026,      0.4026,      0.4026,      0.4026,      0.4026,    0.087279,    0.087279,    0.087279,    0.087279,    0.087279,    0.087279,    0.087279,    0.087279,    0.087279,    0.087279,    0.087279,\n",
       "           0.063397,    0.057057,    0.050717,    0.044378,    0.038038,    0.031698,    0.025359,    0.019019,    0.012679,   0.0063397,           0]]), 'Recall', 'Precision'], [array([          0,    0.001001,    0.002002,    0.003003,    0.004004,    0.005005,    0.006006,    0.007007,    0.008008,    0.009009,     0.01001,    0.011011,    0.012012,    0.013013,    0.014014,    0.015015,    0.016016,    0.017017,    0.018018,    0.019019,     0.02002,    0.021021,    0.022022,    0.023023,\n",
       "          0.024024,    0.025025,    0.026026,    0.027027,    0.028028,    0.029029,     0.03003,    0.031031,    0.032032,    0.033033,    0.034034,    0.035035,    0.036036,    0.037037,    0.038038,    0.039039,     0.04004,    0.041041,    0.042042,    0.043043,    0.044044,    0.045045,    0.046046,    0.047047,\n",
       "          0.048048,    0.049049,     0.05005,    0.051051,    0.052052,    0.053053,    0.054054,    0.055055,    0.056056,    0.057057,    0.058058,    0.059059,     0.06006,    0.061061,    0.062062,    0.063063,    0.064064,    0.065065,    0.066066,    0.067067,    0.068068,    0.069069,     0.07007,    0.071071,\n",
       "          0.072072,    0.073073,    0.074074,    0.075075,    0.076076,    0.077077,    0.078078,    0.079079,     0.08008,    0.081081,    0.082082,    0.083083,    0.084084,    0.085085,    0.086086,    0.087087,    0.088088,    0.089089,     0.09009,    0.091091,    0.092092,    0.093093,    0.094094,    0.095095,\n",
       "          0.096096,    0.097097,    0.098098,    0.099099,      0.1001,      0.1011,      0.1021,      0.1031,      0.1041,     0.10511,     0.10611,     0.10711,     0.10811,     0.10911,     0.11011,     0.11111,     0.11211,     0.11311,     0.11411,     0.11512,     0.11612,     0.11712,     0.11812,     0.11912,\n",
       "           0.12012,     0.12112,     0.12212,     0.12312,     0.12412,     0.12513,     0.12613,     0.12713,     0.12813,     0.12913,     0.13013,     0.13113,     0.13213,     0.13313,     0.13413,     0.13514,     0.13614,     0.13714,     0.13814,     0.13914,     0.14014,     0.14114,     0.14214,     0.14314,\n",
       "           0.14414,     0.14515,     0.14615,     0.14715,     0.14815,     0.14915,     0.15015,     0.15115,     0.15215,     0.15315,     0.15415,     0.15516,     0.15616,     0.15716,     0.15816,     0.15916,     0.16016,     0.16116,     0.16216,     0.16316,     0.16416,     0.16517,     0.16617,     0.16717,\n",
       "           0.16817,     0.16917,     0.17017,     0.17117,     0.17217,     0.17317,     0.17417,     0.17518,     0.17618,     0.17718,     0.17818,     0.17918,     0.18018,     0.18118,     0.18218,     0.18318,     0.18418,     0.18519,     0.18619,     0.18719,     0.18819,     0.18919,     0.19019,     0.19119,\n",
       "           0.19219,     0.19319,     0.19419,      0.1952,      0.1962,      0.1972,      0.1982,      0.1992,      0.2002,      0.2012,      0.2022,      0.2032,      0.2042,     0.20521,     0.20621,     0.20721,     0.20821,     0.20921,     0.21021,     0.21121,     0.21221,     0.21321,     0.21421,     0.21522,\n",
       "           0.21622,     0.21722,     0.21822,     0.21922,     0.22022,     0.22122,     0.22222,     0.22322,     0.22422,     0.22523,     0.22623,     0.22723,     0.22823,     0.22923,     0.23023,     0.23123,     0.23223,     0.23323,     0.23423,     0.23524,     0.23624,     0.23724,     0.23824,     0.23924,\n",
       "           0.24024,     0.24124,     0.24224,     0.24324,     0.24424,     0.24525,     0.24625,     0.24725,     0.24825,     0.24925,     0.25025,     0.25125,     0.25225,     0.25325,     0.25425,     0.25526,     0.25626,     0.25726,     0.25826,     0.25926,     0.26026,     0.26126,     0.26226,     0.26326,\n",
       "           0.26426,     0.26527,     0.26627,     0.26727,     0.26827,     0.26927,     0.27027,     0.27127,     0.27227,     0.27327,     0.27427,     0.27528,     0.27628,     0.27728,     0.27828,     0.27928,     0.28028,     0.28128,     0.28228,     0.28328,     0.28428,     0.28529,     0.28629,     0.28729,\n",
       "           0.28829,     0.28929,     0.29029,     0.29129,     0.29229,     0.29329,     0.29429,      0.2953,      0.2963,      0.2973,      0.2983,      0.2993,      0.3003,      0.3013,      0.3023,      0.3033,      0.3043,     0.30531,     0.30631,     0.30731,     0.30831,     0.30931,     0.31031,     0.31131,\n",
       "           0.31231,     0.31331,     0.31431,     0.31532,     0.31632,     0.31732,     0.31832,     0.31932,     0.32032,     0.32132,     0.32232,     0.32332,     0.32432,     0.32533,     0.32633,     0.32733,     0.32833,     0.32933,     0.33033,     0.33133,     0.33233,     0.33333,     0.33433,     0.33534,\n",
       "           0.33634,     0.33734,     0.33834,     0.33934,     0.34034,     0.34134,     0.34234,     0.34334,     0.34434,     0.34535,     0.34635,     0.34735,     0.34835,     0.34935,     0.35035,     0.35135,     0.35235,     0.35335,     0.35435,     0.35536,     0.35636,     0.35736,     0.35836,     0.35936,\n",
       "           0.36036,     0.36136,     0.36236,     0.36336,     0.36436,     0.36537,     0.36637,     0.36737,     0.36837,     0.36937,     0.37037,     0.37137,     0.37237,     0.37337,     0.37437,     0.37538,     0.37638,     0.37738,     0.37838,     0.37938,     0.38038,     0.38138,     0.38238,     0.38338,\n",
       "           0.38438,     0.38539,     0.38639,     0.38739,     0.38839,     0.38939,     0.39039,     0.39139,     0.39239,     0.39339,     0.39439,      0.3954,      0.3964,      0.3974,      0.3984,      0.3994,      0.4004,      0.4014,      0.4024,      0.4034,      0.4044,     0.40541,     0.40641,     0.40741,\n",
       "           0.40841,     0.40941,     0.41041,     0.41141,     0.41241,     0.41341,     0.41441,     0.41542,     0.41642,     0.41742,     0.41842,     0.41942,     0.42042,     0.42142,     0.42242,     0.42342,     0.42442,     0.42543,     0.42643,     0.42743,     0.42843,     0.42943,     0.43043,     0.43143,\n",
       "           0.43243,     0.43343,     0.43443,     0.43544,     0.43644,     0.43744,     0.43844,     0.43944,     0.44044,     0.44144,     0.44244,     0.44344,     0.44444,     0.44545,     0.44645,     0.44745,     0.44845,     0.44945,     0.45045,     0.45145,     0.45245,     0.45345,     0.45445,     0.45546,\n",
       "           0.45646,     0.45746,     0.45846,     0.45946,     0.46046,     0.46146,     0.46246,     0.46346,     0.46446,     0.46547,     0.46647,     0.46747,     0.46847,     0.46947,     0.47047,     0.47147,     0.47247,     0.47347,     0.47447,     0.47548,     0.47648,     0.47748,     0.47848,     0.47948,\n",
       "           0.48048,     0.48148,     0.48248,     0.48348,     0.48448,     0.48549,     0.48649,     0.48749,     0.48849,     0.48949,     0.49049,     0.49149,     0.49249,     0.49349,     0.49449,      0.4955,      0.4965,      0.4975,      0.4985,      0.4995,      0.5005,      0.5015,      0.5025,      0.5035,\n",
       "            0.5045,     0.50551,     0.50651,     0.50751,     0.50851,     0.50951,     0.51051,     0.51151,     0.51251,     0.51351,     0.51451,     0.51552,     0.51652,     0.51752,     0.51852,     0.51952,     0.52052,     0.52152,     0.52252,     0.52352,     0.52452,     0.52553,     0.52653,     0.52753,\n",
       "           0.52853,     0.52953,     0.53053,     0.53153,     0.53253,     0.53353,     0.53453,     0.53554,     0.53654,     0.53754,     0.53854,     0.53954,     0.54054,     0.54154,     0.54254,     0.54354,     0.54454,     0.54555,     0.54655,     0.54755,     0.54855,     0.54955,     0.55055,     0.55155,\n",
       "           0.55255,     0.55355,     0.55455,     0.55556,     0.55656,     0.55756,     0.55856,     0.55956,     0.56056,     0.56156,     0.56256,     0.56356,     0.56456,     0.56557,     0.56657,     0.56757,     0.56857,     0.56957,     0.57057,     0.57157,     0.57257,     0.57357,     0.57457,     0.57558,\n",
       "           0.57658,     0.57758,     0.57858,     0.57958,     0.58058,     0.58158,     0.58258,     0.58358,     0.58458,     0.58559,     0.58659,     0.58759,     0.58859,     0.58959,     0.59059,     0.59159,     0.59259,     0.59359,     0.59459,      0.5956,      0.5966,      0.5976,      0.5986,      0.5996,\n",
       "            0.6006,      0.6016,      0.6026,      0.6036,      0.6046,     0.60561,     0.60661,     0.60761,     0.60861,     0.60961,     0.61061,     0.61161,     0.61261,     0.61361,     0.61461,     0.61562,     0.61662,     0.61762,     0.61862,     0.61962,     0.62062,     0.62162,     0.62262,     0.62362,\n",
       "           0.62462,     0.62563,     0.62663,     0.62763,     0.62863,     0.62963,     0.63063,     0.63163,     0.63263,     0.63363,     0.63463,     0.63564,     0.63664,     0.63764,     0.63864,     0.63964,     0.64064,     0.64164,     0.64264,     0.64364,     0.64464,     0.64565,     0.64665,     0.64765,\n",
       "           0.64865,     0.64965,     0.65065,     0.65165,     0.65265,     0.65365,     0.65465,     0.65566,     0.65666,     0.65766,     0.65866,     0.65966,     0.66066,     0.66166,     0.66266,     0.66366,     0.66466,     0.66567,     0.66667,     0.66767,     0.66867,     0.66967,     0.67067,     0.67167,\n",
       "           0.67267,     0.67367,     0.67467,     0.67568,     0.67668,     0.67768,     0.67868,     0.67968,     0.68068,     0.68168,     0.68268,     0.68368,     0.68468,     0.68569,     0.68669,     0.68769,     0.68869,     0.68969,     0.69069,     0.69169,     0.69269,     0.69369,     0.69469,      0.6957,\n",
       "            0.6967,      0.6977,      0.6987,      0.6997,      0.7007,      0.7017,      0.7027,      0.7037,      0.7047,     0.70571,     0.70671,     0.70771,     0.70871,     0.70971,     0.71071,     0.71171,     0.71271,     0.71371,     0.71471,     0.71572,     0.71672,     0.71772,     0.71872,     0.71972,\n",
       "           0.72072,     0.72172,     0.72272,     0.72372,     0.72472,     0.72573,     0.72673,     0.72773,     0.72873,     0.72973,     0.73073,     0.73173,     0.73273,     0.73373,     0.73473,     0.73574,     0.73674,     0.73774,     0.73874,     0.73974,     0.74074,     0.74174,     0.74274,     0.74374,\n",
       "           0.74474,     0.74575,     0.74675,     0.74775,     0.74875,     0.74975,     0.75075,     0.75175,     0.75275,     0.75375,     0.75475,     0.75576,     0.75676,     0.75776,     0.75876,     0.75976,     0.76076,     0.76176,     0.76276,     0.76376,     0.76476,     0.76577,     0.76677,     0.76777,\n",
       "           0.76877,     0.76977,     0.77077,     0.77177,     0.77277,     0.77377,     0.77477,     0.77578,     0.77678,     0.77778,     0.77878,     0.77978,     0.78078,     0.78178,     0.78278,     0.78378,     0.78478,     0.78579,     0.78679,     0.78779,     0.78879,     0.78979,     0.79079,     0.79179,\n",
       "           0.79279,     0.79379,     0.79479,      0.7958,      0.7968,      0.7978,      0.7988,      0.7998,      0.8008,      0.8018,      0.8028,      0.8038,      0.8048,     0.80581,     0.80681,     0.80781,     0.80881,     0.80981,     0.81081,     0.81181,     0.81281,     0.81381,     0.81481,     0.81582,\n",
       "           0.81682,     0.81782,     0.81882,     0.81982,     0.82082,     0.82182,     0.82282,     0.82382,     0.82482,     0.82583,     0.82683,     0.82783,     0.82883,     0.82983,     0.83083,     0.83183,     0.83283,     0.83383,     0.83483,     0.83584,     0.83684,     0.83784,     0.83884,     0.83984,\n",
       "           0.84084,     0.84184,     0.84284,     0.84384,     0.84484,     0.84585,     0.84685,     0.84785,     0.84885,     0.84985,     0.85085,     0.85185,     0.85285,     0.85385,     0.85485,     0.85586,     0.85686,     0.85786,     0.85886,     0.85986,     0.86086,     0.86186,     0.86286,     0.86386,\n",
       "           0.86486,     0.86587,     0.86687,     0.86787,     0.86887,     0.86987,     0.87087,     0.87187,     0.87287,     0.87387,     0.87487,     0.87588,     0.87688,     0.87788,     0.87888,     0.87988,     0.88088,     0.88188,     0.88288,     0.88388,     0.88488,     0.88589,     0.88689,     0.88789,\n",
       "           0.88889,     0.88989,     0.89089,     0.89189,     0.89289,     0.89389,     0.89489,      0.8959,      0.8969,      0.8979,      0.8989,      0.8999,      0.9009,      0.9019,      0.9029,      0.9039,      0.9049,     0.90591,     0.90691,     0.90791,     0.90891,     0.90991,     0.91091,     0.91191,\n",
       "           0.91291,     0.91391,     0.91491,     0.91592,     0.91692,     0.91792,     0.91892,     0.91992,     0.92092,     0.92192,     0.92292,     0.92392,     0.92492,     0.92593,     0.92693,     0.92793,     0.92893,     0.92993,     0.93093,     0.93193,     0.93293,     0.93393,     0.93493,     0.93594,\n",
       "           0.93694,     0.93794,     0.93894,     0.93994,     0.94094,     0.94194,     0.94294,     0.94394,     0.94494,     0.94595,     0.94695,     0.94795,     0.94895,     0.94995,     0.95095,     0.95195,     0.95295,     0.95395,     0.95495,     0.95596,     0.95696,     0.95796,     0.95896,     0.95996,\n",
       "           0.96096,     0.96196,     0.96296,     0.96396,     0.96496,     0.96597,     0.96697,     0.96797,     0.96897,     0.96997,     0.97097,     0.97197,     0.97297,     0.97397,     0.97497,     0.97598,     0.97698,     0.97798,     0.97898,     0.97998,     0.98098,     0.98198,     0.98298,     0.98398,\n",
       "           0.98498,     0.98599,     0.98699,     0.98799,     0.98899,     0.98999,     0.99099,     0.99199,     0.99299,     0.99399,     0.99499,       0.996,       0.997,       0.998,       0.999,           1]), array([[    0.12492,     0.12492,     0.19233,     0.24343,     0.27731,     0.31011,     0.33946,     0.36251,     0.38306,     0.39847,      0.4106,     0.42713,     0.44571,     0.45832,     0.47517,     0.48438,     0.49154,     0.50252,     0.51082,     0.51612,      0.5212,     0.52556,     0.53409,\n",
       "             0.5411,     0.54535,     0.55545,     0.55828,     0.56719,     0.56825,     0.57052,     0.56982,     0.57604,      0.5797,      0.5849,     0.58886,     0.59256,     0.59765,     0.59883,     0.60301,     0.60521,     0.61106,     0.61506,      0.6165,     0.61812,     0.62816,     0.62988,\n",
       "            0.63461,     0.63611,     0.63797,     0.64215,     0.64449,     0.64881,     0.65089,     0.64791,     0.64888,     0.64985,     0.65191,     0.65063,     0.64854,     0.64884,     0.65279,     0.65375,     0.65507,     0.65958,     0.66053,     0.66148,     0.66332,     0.66622,     0.67166,\n",
       "            0.67325,     0.67445,     0.67512,     0.67579,     0.67646,     0.67947,     0.68002,     0.68056,     0.68111,     0.68166,     0.68349,     0.68616,     0.69258,     0.69441,     0.69531,     0.69579,     0.69627,     0.69675,     0.69723,     0.69788,     0.70073,     0.70592,     0.71023,\n",
       "            0.71352,     0.71682,     0.71751,     0.71793,     0.71836,     0.71878,     0.71921,     0.71963,     0.72011,     0.72101,      0.7219,      0.7228,     0.72391,     0.72505,     0.72634,     0.72795,     0.73027,     0.73386,     0.73528,     0.73602,     0.73676,     0.73749,     0.73872,\n",
       "            0.74014,     0.74181,     0.74367,     0.74561,     0.74192,     0.74447,     0.74623,     0.74788,     0.74904,     0.75019,     0.75139,     0.75277,     0.75414,     0.75468,     0.75515,     0.75562,     0.75609,     0.75656,     0.75703,     0.75759,     0.75899,     0.76038,     0.76399,\n",
       "            0.76484,     0.76568,     0.76653,      0.7674,     0.76845,      0.7695,     0.77054,     0.77191,     0.77328,     0.77541,     0.77746,     0.77799,     0.77852,     0.77905,     0.77957,      0.7801,     0.78063,     0.78107,      0.7815,     0.78193,     0.78235,     0.78278,     0.78321,\n",
       "            0.78363,     0.78406,     0.78591,     0.78782,     0.78875,     0.78967,      0.7906,     0.79026,     0.78834,     0.78641,     0.78583,     0.78601,     0.78618,     0.78636,     0.78654,     0.78672,     0.78689,     0.78707,     0.78725,     0.78743,      0.7876,     0.78778,     0.78796,\n",
       "            0.78813,     0.78831,     0.78849,     0.78867,     0.78884,     0.78902,      0.7892,     0.79302,     0.79332,     0.79362,     0.79392,     0.79422,     0.79453,     0.79483,     0.79513,     0.79542,     0.79572,     0.79602,     0.79632,     0.79753,     0.79894,     0.80369,     0.80386,\n",
       "            0.80402,     0.80418,     0.80434,      0.8045,     0.80467,     0.80483,     0.80499,     0.80515,     0.80531,     0.80547,     0.80564,      0.8058,     0.80596,     0.80612,     0.80628,     0.80644,     0.80661,     0.80677,     0.80693,     0.80709,     0.80725,     0.80814,     0.80993,\n",
       "            0.81115,     0.81141,     0.81166,     0.81191,     0.81217,     0.81242,     0.81267,     0.81292,     0.81318,     0.81343,     0.81368,     0.81393,     0.81418,     0.81444,     0.81469,     0.81538,     0.81654,     0.81769,     0.81896,      0.8207,     0.82243,     0.82316,     0.82388,\n",
       "             0.8246,     0.82532,     0.82603,     0.82757,     0.82957,     0.83034,     0.83056,     0.83078,       0.831,     0.83121,     0.83143,     0.83165,     0.83187,     0.83209,      0.8323,     0.83252,     0.83274,     0.83296,     0.83318,     0.83339,     0.83361,     0.83383,     0.83405,\n",
       "            0.83474,      0.8357,     0.83666,     0.83761,     0.83973,     0.84224,     0.84275,     0.84325,     0.84376,     0.84426,     0.84476,     0.84526,     0.84577,     0.84643,     0.84763,     0.84882,     0.85002,     0.84653,     0.84497,      0.8455,     0.84603,     0.84656,     0.84709,\n",
       "            0.84762,     0.84814,     0.84867,     0.84914,     0.84959,     0.85004,     0.85049,     0.85093,     0.85138,     0.85183,     0.85228,     0.85273,     0.85341,     0.85432,     0.85523,     0.85614,     0.85704,     0.85629,     0.85532,     0.85436,     0.85339,     0.85242,      0.8515,\n",
       "            0.85197,     0.85244,     0.85291,     0.85338,     0.85385,     0.85432,     0.85479,     0.85526,     0.85572,     0.85498,     0.85425,     0.85352,     0.85279,     0.85205,     0.85132,     0.85059,      0.8484,     0.84444,      0.8449,     0.84536,     0.84582,     0.84628,     0.84674,\n",
       "             0.8472,     0.84766,     0.84812,     0.84858,     0.84906,     0.84954,     0.85002,      0.8505,     0.85097,     0.85145,     0.85193,      0.8524,     0.85274,     0.85242,     0.85211,     0.85179,     0.85148,     0.85116,     0.85085,     0.85053,     0.85021,      0.8499,     0.84958,\n",
       "            0.84927,     0.84895,     0.84863,     0.84832,       0.848,     0.84769,     0.84737,     0.84705,     0.84726,     0.84775,     0.84825,     0.84875,     0.84924,     0.84974,     0.85023,     0.85072,     0.85121,     0.85437,      0.8509,     0.84769,     0.84462,     0.84352,     0.84319,\n",
       "            0.84287,     0.84254,     0.84221,     0.84189,     0.84156,     0.84124,     0.84091,     0.84058,     0.84026,     0.83993,      0.8396,     0.83927,     0.83895,     0.83862,     0.83829,     0.83796,     0.83852,     0.84229,     0.84321,     0.84413,     0.84504,     0.84595,     0.84661,\n",
       "            0.84678,     0.84694,     0.84711,     0.84727,     0.84744,      0.8476,     0.84776,     0.84793,     0.84809,     0.84825,     0.84842,     0.84858,     0.84874,     0.84891,     0.84907,     0.84923,      0.8494,     0.84956,     0.84972,     0.84989,     0.85005,     0.85021,     0.85038,\n",
       "            0.85054,      0.8507,     0.85086,     0.85103,     0.85196,     0.85313,      0.8543,     0.85546,     0.85484,     0.85394,     0.85304,     0.85214,     0.85124,     0.85033,     0.84945,     0.84909,     0.84873,     0.84838,     0.84802,     0.84766,      0.8473,     0.84694,     0.84658,\n",
       "            0.84622,     0.84586,     0.84551,     0.84515,     0.84479,     0.84443,     0.84407,     0.84371,     0.84334,     0.84347,     0.84378,      0.8441,     0.84441,     0.84473,     0.84504,     0.84535,     0.84567,     0.84598,     0.84629,     0.84661,     0.84692,     0.84723,     0.84754,\n",
       "            0.84803,     0.85041,      0.8516,      0.8461,     0.84579,     0.84548,     0.84517,     0.84486,     0.84455,     0.84424,     0.84393,     0.84362,     0.84331,       0.843,     0.84269,     0.84238,     0.84207,     0.84175,     0.84144,     0.84113,     0.84082,     0.84051,     0.84019,\n",
       "            0.83988,     0.83938,     0.83878,     0.83818,     0.83758,     0.83698,     0.83638,     0.83578,     0.83518,     0.83458,     0.83397,     0.83337,     0.83423,     0.83519,     0.83615,      0.8371,     0.83796,     0.83757,     0.83718,     0.83679,      0.8364,       0.836,     0.83561,\n",
       "            0.83522,     0.83482,     0.83443,     0.83404,     0.83364,     0.83325,     0.83285,     0.83246,     0.83206,     0.83167,     0.83169,     0.83218,     0.83266,     0.83314,     0.83362,     0.83411,     0.83459,     0.83507,     0.83555,     0.83602,     0.83546,      0.8345,     0.83353,\n",
       "            0.83256,     0.83159,     0.83062,     0.82965,     0.82711,     0.82436,     0.82129,     0.81783,      0.8157,     0.81493,     0.81415,     0.81337,     0.81259,     0.81181,     0.81103,     0.81025,     0.80947,     0.80194,     0.80141,     0.80088,     0.80035,     0.79982,     0.79929,\n",
       "            0.79876,     0.79823,      0.7977,     0.79716,     0.79663,      0.7961,     0.79556,      0.8001,     0.80027,     0.80045,     0.80062,     0.80079,     0.80097,     0.80114,     0.80132,     0.80149,     0.80166,     0.80184,     0.80201,     0.80218,     0.80236,     0.80253,      0.8027,\n",
       "            0.80288,     0.80305,     0.80322,      0.8034,     0.80357,     0.80374,     0.80391,     0.80409,     0.80426,     0.80443,      0.8046,     0.80445,     0.80324,     0.80203,     0.80081,     0.79959,     0.79838,     0.79734,      0.7966,     0.79587,     0.79513,      0.7944,     0.79366,\n",
       "            0.79292,     0.79218,     0.79144,      0.7907,     0.79348,      0.7949,     0.79446,     0.79402,     0.79358,     0.79314,      0.7927,     0.79226,     0.79182,     0.79138,     0.79094,      0.7905,     0.79006,     0.78962,     0.78918,     0.78873,     0.78829,     0.78793,     0.78869,\n",
       "            0.78945,     0.79021,     0.79097,     0.79172,     0.79247,     0.79221,     0.79155,     0.79089,     0.79023,     0.78957,     0.78891,     0.78825,     0.78759,     0.78693,     0.78627,     0.78561,     0.78506,     0.78462,     0.78418,     0.78374,     0.78331,     0.78287,     0.78243,\n",
       "            0.78199,     0.78155,     0.78111,     0.78067,     0.78023,     0.77979,     0.77935,     0.77891,     0.77847,     0.77803,     0.77682,     0.77461,     0.77238,     0.77012,     0.76619,     0.76252,     0.76279,     0.76307,     0.76334,     0.76362,     0.76389,     0.76417,     0.76444,\n",
       "            0.76471,     0.76499,     0.76526,     0.76553,      0.7658,     0.76608,     0.76635,     0.76662,     0.76689,     0.76716,     0.76596,      0.7633,     0.76062,     0.75912,     0.75848,     0.75783,     0.75718,     0.75654,     0.75589,     0.75524,     0.75459,     0.75395,      0.7533,\n",
       "            0.75265,     0.75199,     0.74951,     0.74403,     0.74287,     0.74208,     0.74129,      0.7405,     0.73971,     0.73892,     0.73812,     0.73733,     0.73654,     0.73574,     0.73485,     0.73392,     0.73299,     0.73206,     0.73112,     0.73019,     0.72925,     0.72831,     0.72737,\n",
       "             0.7251,     0.72267,     0.72022,     0.71481,      0.7016,     0.70083,     0.70006,     0.69929,     0.69852,     0.69775,     0.69698,     0.69621,     0.69544,     0.69466,     0.69389,      0.6932,     0.69274,     0.69228,     0.69183,     0.69137,     0.69091,     0.69045,     0.68999,\n",
       "            0.68953,     0.68907,      0.6886,     0.68814,     0.68768,     0.68722,     0.68676,      0.6863,     0.68583,     0.68537,     0.68491,     0.68413,     0.68248,     0.68083,     0.67917,     0.67751,     0.67585,     0.67511,     0.67447,     0.67384,      0.6732,     0.67257,     0.67193,\n",
       "             0.6713,     0.67066,     0.67002,     0.66938,     0.66875,     0.66811,     0.66747,     0.66683,     0.65726,     0.65621,     0.65516,     0.65411,     0.65305,       0.652,     0.65094,     0.64988,     0.64882,     0.64795,     0.64726,     0.64658,     0.64589,     0.64521,     0.64452,\n",
       "            0.64384,     0.64315,     0.64246,     0.64177,     0.64108,     0.64039,      0.6397,     0.63901,     0.62771,     0.62277,     0.62022,     0.62152,      0.6228,     0.62408,      0.6248,     0.62551,     0.62622,     0.62692,     0.62762,     0.62831,     0.62752,     0.62584,     0.62416,\n",
       "            0.62247,     0.62078,     0.61908,     0.60467,     0.59946,     0.59275,     0.58566,     0.57851,     0.57601,     0.57404,     0.57206,     0.57008,     0.56809,      0.5613,     0.55602,     0.55534,     0.55466,     0.55399,     0.55331,     0.55263,     0.55196,     0.55128,      0.5506,\n",
       "            0.54992,     0.54924,     0.54856,     0.54787,     0.54719,     0.54651,     0.54582,     0.54198,     0.53438,     0.52861,     0.52255,     0.50997,     0.48812,     0.48735,     0.48659,     0.48582,     0.48506,     0.48429,     0.48353,     0.48276,     0.48199,     0.48122,     0.48045,\n",
       "            0.47968,     0.47891,     0.47814,     0.47736,     0.47659,     0.47378,     0.46879,     0.46396,     0.46306,     0.46216,     0.46125,     0.46035,     0.45945,     0.45854,     0.45763,     0.45673,     0.45582,     0.45491,       0.454,     0.45309,     0.45217,      0.4365,     0.42995,\n",
       "            0.41175,     0.40838,     0.40499,     0.40159,     0.40032,      0.4009,     0.40148,     0.40206,     0.40262,     0.40318,     0.38025,     0.37104,     0.36385,     0.34586,     0.33845,     0.33176,     0.32674,     0.32169,     0.30666,     0.28174,     0.25854,     0.25063,     0.24401,\n",
       "            0.21558,     0.20445,     0.19864,     0.19278,     0.16874,     0.15368,     0.15105,     0.14841,     0.14576,     0.14311,     0.14045,     0.13778,     0.13295,     0.12756,     0.12214,     0.11757,     0.11438,     0.11118,     0.10797,     0.10474,     0.10151,    0.097681,    0.093333,\n",
       "           0.088964,    0.084576,    0.079984,    0.074285,    0.068552,    0.062785,    0.046298,    0.040079,    0.038543,    0.037004,    0.035463,    0.033919,    0.032374,    0.030825,    0.029274,    0.027721,    0.026165,    0.024607,    0.023047,    0.021484,           0,           0,           0,\n",
       "                  0,           0,           0,           0,           0,           0,           0,           0,           0,           0,           0,           0,           0,           0,           0,           0,           0,           0,           0,           0,           0,           0,           0,\n",
       "                  0,           0,           0,           0,           0,           0,           0,           0,           0,           0,           0]]), 'Confidence', 'F1'], [array([          0,    0.001001,    0.002002,    0.003003,    0.004004,    0.005005,    0.006006,    0.007007,    0.008008,    0.009009,     0.01001,    0.011011,    0.012012,    0.013013,    0.014014,    0.015015,    0.016016,    0.017017,    0.018018,    0.019019,     0.02002,    0.021021,    0.022022,    0.023023,\n",
       "          0.024024,    0.025025,    0.026026,    0.027027,    0.028028,    0.029029,     0.03003,    0.031031,    0.032032,    0.033033,    0.034034,    0.035035,    0.036036,    0.037037,    0.038038,    0.039039,     0.04004,    0.041041,    0.042042,    0.043043,    0.044044,    0.045045,    0.046046,    0.047047,\n",
       "          0.048048,    0.049049,     0.05005,    0.051051,    0.052052,    0.053053,    0.054054,    0.055055,    0.056056,    0.057057,    0.058058,    0.059059,     0.06006,    0.061061,    0.062062,    0.063063,    0.064064,    0.065065,    0.066066,    0.067067,    0.068068,    0.069069,     0.07007,    0.071071,\n",
       "          0.072072,    0.073073,    0.074074,    0.075075,    0.076076,    0.077077,    0.078078,    0.079079,     0.08008,    0.081081,    0.082082,    0.083083,    0.084084,    0.085085,    0.086086,    0.087087,    0.088088,    0.089089,     0.09009,    0.091091,    0.092092,    0.093093,    0.094094,    0.095095,\n",
       "          0.096096,    0.097097,    0.098098,    0.099099,      0.1001,      0.1011,      0.1021,      0.1031,      0.1041,     0.10511,     0.10611,     0.10711,     0.10811,     0.10911,     0.11011,     0.11111,     0.11211,     0.11311,     0.11411,     0.11512,     0.11612,     0.11712,     0.11812,     0.11912,\n",
       "           0.12012,     0.12112,     0.12212,     0.12312,     0.12412,     0.12513,     0.12613,     0.12713,     0.12813,     0.12913,     0.13013,     0.13113,     0.13213,     0.13313,     0.13413,     0.13514,     0.13614,     0.13714,     0.13814,     0.13914,     0.14014,     0.14114,     0.14214,     0.14314,\n",
       "           0.14414,     0.14515,     0.14615,     0.14715,     0.14815,     0.14915,     0.15015,     0.15115,     0.15215,     0.15315,     0.15415,     0.15516,     0.15616,     0.15716,     0.15816,     0.15916,     0.16016,     0.16116,     0.16216,     0.16316,     0.16416,     0.16517,     0.16617,     0.16717,\n",
       "           0.16817,     0.16917,     0.17017,     0.17117,     0.17217,     0.17317,     0.17417,     0.17518,     0.17618,     0.17718,     0.17818,     0.17918,     0.18018,     0.18118,     0.18218,     0.18318,     0.18418,     0.18519,     0.18619,     0.18719,     0.18819,     0.18919,     0.19019,     0.19119,\n",
       "           0.19219,     0.19319,     0.19419,      0.1952,      0.1962,      0.1972,      0.1982,      0.1992,      0.2002,      0.2012,      0.2022,      0.2032,      0.2042,     0.20521,     0.20621,     0.20721,     0.20821,     0.20921,     0.21021,     0.21121,     0.21221,     0.21321,     0.21421,     0.21522,\n",
       "           0.21622,     0.21722,     0.21822,     0.21922,     0.22022,     0.22122,     0.22222,     0.22322,     0.22422,     0.22523,     0.22623,     0.22723,     0.22823,     0.22923,     0.23023,     0.23123,     0.23223,     0.23323,     0.23423,     0.23524,     0.23624,     0.23724,     0.23824,     0.23924,\n",
       "           0.24024,     0.24124,     0.24224,     0.24324,     0.24424,     0.24525,     0.24625,     0.24725,     0.24825,     0.24925,     0.25025,     0.25125,     0.25225,     0.25325,     0.25425,     0.25526,     0.25626,     0.25726,     0.25826,     0.25926,     0.26026,     0.26126,     0.26226,     0.26326,\n",
       "           0.26426,     0.26527,     0.26627,     0.26727,     0.26827,     0.26927,     0.27027,     0.27127,     0.27227,     0.27327,     0.27427,     0.27528,     0.27628,     0.27728,     0.27828,     0.27928,     0.28028,     0.28128,     0.28228,     0.28328,     0.28428,     0.28529,     0.28629,     0.28729,\n",
       "           0.28829,     0.28929,     0.29029,     0.29129,     0.29229,     0.29329,     0.29429,      0.2953,      0.2963,      0.2973,      0.2983,      0.2993,      0.3003,      0.3013,      0.3023,      0.3033,      0.3043,     0.30531,     0.30631,     0.30731,     0.30831,     0.30931,     0.31031,     0.31131,\n",
       "           0.31231,     0.31331,     0.31431,     0.31532,     0.31632,     0.31732,     0.31832,     0.31932,     0.32032,     0.32132,     0.32232,     0.32332,     0.32432,     0.32533,     0.32633,     0.32733,     0.32833,     0.32933,     0.33033,     0.33133,     0.33233,     0.33333,     0.33433,     0.33534,\n",
       "           0.33634,     0.33734,     0.33834,     0.33934,     0.34034,     0.34134,     0.34234,     0.34334,     0.34434,     0.34535,     0.34635,     0.34735,     0.34835,     0.34935,     0.35035,     0.35135,     0.35235,     0.35335,     0.35435,     0.35536,     0.35636,     0.35736,     0.35836,     0.35936,\n",
       "           0.36036,     0.36136,     0.36236,     0.36336,     0.36436,     0.36537,     0.36637,     0.36737,     0.36837,     0.36937,     0.37037,     0.37137,     0.37237,     0.37337,     0.37437,     0.37538,     0.37638,     0.37738,     0.37838,     0.37938,     0.38038,     0.38138,     0.38238,     0.38338,\n",
       "           0.38438,     0.38539,     0.38639,     0.38739,     0.38839,     0.38939,     0.39039,     0.39139,     0.39239,     0.39339,     0.39439,      0.3954,      0.3964,      0.3974,      0.3984,      0.3994,      0.4004,      0.4014,      0.4024,      0.4034,      0.4044,     0.40541,     0.40641,     0.40741,\n",
       "           0.40841,     0.40941,     0.41041,     0.41141,     0.41241,     0.41341,     0.41441,     0.41542,     0.41642,     0.41742,     0.41842,     0.41942,     0.42042,     0.42142,     0.42242,     0.42342,     0.42442,     0.42543,     0.42643,     0.42743,     0.42843,     0.42943,     0.43043,     0.43143,\n",
       "           0.43243,     0.43343,     0.43443,     0.43544,     0.43644,     0.43744,     0.43844,     0.43944,     0.44044,     0.44144,     0.44244,     0.44344,     0.44444,     0.44545,     0.44645,     0.44745,     0.44845,     0.44945,     0.45045,     0.45145,     0.45245,     0.45345,     0.45445,     0.45546,\n",
       "           0.45646,     0.45746,     0.45846,     0.45946,     0.46046,     0.46146,     0.46246,     0.46346,     0.46446,     0.46547,     0.46647,     0.46747,     0.46847,     0.46947,     0.47047,     0.47147,     0.47247,     0.47347,     0.47447,     0.47548,     0.47648,     0.47748,     0.47848,     0.47948,\n",
       "           0.48048,     0.48148,     0.48248,     0.48348,     0.48448,     0.48549,     0.48649,     0.48749,     0.48849,     0.48949,     0.49049,     0.49149,     0.49249,     0.49349,     0.49449,      0.4955,      0.4965,      0.4975,      0.4985,      0.4995,      0.5005,      0.5015,      0.5025,      0.5035,\n",
       "            0.5045,     0.50551,     0.50651,     0.50751,     0.50851,     0.50951,     0.51051,     0.51151,     0.51251,     0.51351,     0.51451,     0.51552,     0.51652,     0.51752,     0.51852,     0.51952,     0.52052,     0.52152,     0.52252,     0.52352,     0.52452,     0.52553,     0.52653,     0.52753,\n",
       "           0.52853,     0.52953,     0.53053,     0.53153,     0.53253,     0.53353,     0.53453,     0.53554,     0.53654,     0.53754,     0.53854,     0.53954,     0.54054,     0.54154,     0.54254,     0.54354,     0.54454,     0.54555,     0.54655,     0.54755,     0.54855,     0.54955,     0.55055,     0.55155,\n",
       "           0.55255,     0.55355,     0.55455,     0.55556,     0.55656,     0.55756,     0.55856,     0.55956,     0.56056,     0.56156,     0.56256,     0.56356,     0.56456,     0.56557,     0.56657,     0.56757,     0.56857,     0.56957,     0.57057,     0.57157,     0.57257,     0.57357,     0.57457,     0.57558,\n",
       "           0.57658,     0.57758,     0.57858,     0.57958,     0.58058,     0.58158,     0.58258,     0.58358,     0.58458,     0.58559,     0.58659,     0.58759,     0.58859,     0.58959,     0.59059,     0.59159,     0.59259,     0.59359,     0.59459,      0.5956,      0.5966,      0.5976,      0.5986,      0.5996,\n",
       "            0.6006,      0.6016,      0.6026,      0.6036,      0.6046,     0.60561,     0.60661,     0.60761,     0.60861,     0.60961,     0.61061,     0.61161,     0.61261,     0.61361,     0.61461,     0.61562,     0.61662,     0.61762,     0.61862,     0.61962,     0.62062,     0.62162,     0.62262,     0.62362,\n",
       "           0.62462,     0.62563,     0.62663,     0.62763,     0.62863,     0.62963,     0.63063,     0.63163,     0.63263,     0.63363,     0.63463,     0.63564,     0.63664,     0.63764,     0.63864,     0.63964,     0.64064,     0.64164,     0.64264,     0.64364,     0.64464,     0.64565,     0.64665,     0.64765,\n",
       "           0.64865,     0.64965,     0.65065,     0.65165,     0.65265,     0.65365,     0.65465,     0.65566,     0.65666,     0.65766,     0.65866,     0.65966,     0.66066,     0.66166,     0.66266,     0.66366,     0.66466,     0.66567,     0.66667,     0.66767,     0.66867,     0.66967,     0.67067,     0.67167,\n",
       "           0.67267,     0.67367,     0.67467,     0.67568,     0.67668,     0.67768,     0.67868,     0.67968,     0.68068,     0.68168,     0.68268,     0.68368,     0.68468,     0.68569,     0.68669,     0.68769,     0.68869,     0.68969,     0.69069,     0.69169,     0.69269,     0.69369,     0.69469,      0.6957,\n",
       "            0.6967,      0.6977,      0.6987,      0.6997,      0.7007,      0.7017,      0.7027,      0.7037,      0.7047,     0.70571,     0.70671,     0.70771,     0.70871,     0.70971,     0.71071,     0.71171,     0.71271,     0.71371,     0.71471,     0.71572,     0.71672,     0.71772,     0.71872,     0.71972,\n",
       "           0.72072,     0.72172,     0.72272,     0.72372,     0.72472,     0.72573,     0.72673,     0.72773,     0.72873,     0.72973,     0.73073,     0.73173,     0.73273,     0.73373,     0.73473,     0.73574,     0.73674,     0.73774,     0.73874,     0.73974,     0.74074,     0.74174,     0.74274,     0.74374,\n",
       "           0.74474,     0.74575,     0.74675,     0.74775,     0.74875,     0.74975,     0.75075,     0.75175,     0.75275,     0.75375,     0.75475,     0.75576,     0.75676,     0.75776,     0.75876,     0.75976,     0.76076,     0.76176,     0.76276,     0.76376,     0.76476,     0.76577,     0.76677,     0.76777,\n",
       "           0.76877,     0.76977,     0.77077,     0.77177,     0.77277,     0.77377,     0.77477,     0.77578,     0.77678,     0.77778,     0.77878,     0.77978,     0.78078,     0.78178,     0.78278,     0.78378,     0.78478,     0.78579,     0.78679,     0.78779,     0.78879,     0.78979,     0.79079,     0.79179,\n",
       "           0.79279,     0.79379,     0.79479,      0.7958,      0.7968,      0.7978,      0.7988,      0.7998,      0.8008,      0.8018,      0.8028,      0.8038,      0.8048,     0.80581,     0.80681,     0.80781,     0.80881,     0.80981,     0.81081,     0.81181,     0.81281,     0.81381,     0.81481,     0.81582,\n",
       "           0.81682,     0.81782,     0.81882,     0.81982,     0.82082,     0.82182,     0.82282,     0.82382,     0.82482,     0.82583,     0.82683,     0.82783,     0.82883,     0.82983,     0.83083,     0.83183,     0.83283,     0.83383,     0.83483,     0.83584,     0.83684,     0.83784,     0.83884,     0.83984,\n",
       "           0.84084,     0.84184,     0.84284,     0.84384,     0.84484,     0.84585,     0.84685,     0.84785,     0.84885,     0.84985,     0.85085,     0.85185,     0.85285,     0.85385,     0.85485,     0.85586,     0.85686,     0.85786,     0.85886,     0.85986,     0.86086,     0.86186,     0.86286,     0.86386,\n",
       "           0.86486,     0.86587,     0.86687,     0.86787,     0.86887,     0.86987,     0.87087,     0.87187,     0.87287,     0.87387,     0.87487,     0.87588,     0.87688,     0.87788,     0.87888,     0.87988,     0.88088,     0.88188,     0.88288,     0.88388,     0.88488,     0.88589,     0.88689,     0.88789,\n",
       "           0.88889,     0.88989,     0.89089,     0.89189,     0.89289,     0.89389,     0.89489,      0.8959,      0.8969,      0.8979,      0.8989,      0.8999,      0.9009,      0.9019,      0.9029,      0.9039,      0.9049,     0.90591,     0.90691,     0.90791,     0.90891,     0.90991,     0.91091,     0.91191,\n",
       "           0.91291,     0.91391,     0.91491,     0.91592,     0.91692,     0.91792,     0.91892,     0.91992,     0.92092,     0.92192,     0.92292,     0.92392,     0.92492,     0.92593,     0.92693,     0.92793,     0.92893,     0.92993,     0.93093,     0.93193,     0.93293,     0.93393,     0.93493,     0.93594,\n",
       "           0.93694,     0.93794,     0.93894,     0.93994,     0.94094,     0.94194,     0.94294,     0.94394,     0.94494,     0.94595,     0.94695,     0.94795,     0.94895,     0.94995,     0.95095,     0.95195,     0.95295,     0.95395,     0.95495,     0.95596,     0.95696,     0.95796,     0.95896,     0.95996,\n",
       "           0.96096,     0.96196,     0.96296,     0.96396,     0.96496,     0.96597,     0.96697,     0.96797,     0.96897,     0.96997,     0.97097,     0.97197,     0.97297,     0.97397,     0.97497,     0.97598,     0.97698,     0.97798,     0.97898,     0.97998,     0.98098,     0.98198,     0.98298,     0.98398,\n",
       "           0.98498,     0.98599,     0.98699,     0.98799,     0.98899,     0.98999,     0.99099,     0.99199,     0.99299,     0.99399,     0.99499,       0.996,       0.997,       0.998,       0.999,           1]), array([[   0.066667,    0.066667,     0.10664,     0.13899,     0.16154,     0.18423,     0.20533,     0.22244,     0.23812,     0.25015,     0.25978,     0.27316,     0.28854,      0.2992,     0.31372,      0.3218,     0.32815,     0.33801,     0.34557,     0.35044,     0.35514,      0.3592,     0.36722,\n",
       "            0.37388,     0.37794,     0.38772,     0.39048,     0.39926,     0.40031,     0.40257,     0.40367,     0.40994,     0.41365,     0.41898,     0.42305,     0.42688,     0.43218,     0.43342,     0.43781,     0.44014,     0.44635,     0.45063,     0.45218,     0.45393,     0.46483,     0.46672,\n",
       "            0.47194,      0.4736,     0.47566,     0.48033,     0.48295,     0.48782,     0.49107,      0.4895,     0.49061,     0.49172,     0.49408,      0.4936,      0.4924,     0.49337,     0.49796,     0.49907,     0.50061,     0.50591,     0.50702,     0.50814,     0.51031,     0.51376,     0.52026,\n",
       "            0.52217,      0.5236,     0.52441,     0.52522,     0.52603,     0.52968,     0.53035,     0.53102,     0.53168,     0.53235,     0.53459,     0.53786,     0.54579,     0.54806,     0.54919,     0.54979,     0.55039,     0.55099,     0.55159,     0.55241,     0.55599,     0.56254,     0.56804,\n",
       "            0.57227,     0.57652,     0.57741,     0.57796,     0.57851,     0.57906,     0.57961,     0.58016,     0.58079,     0.58196,     0.58312,     0.58429,     0.58575,     0.58724,     0.58894,     0.59105,     0.59413,     0.59889,     0.60078,     0.60177,     0.60276,     0.60374,     0.60538,\n",
       "             0.6073,     0.60956,     0.61207,      0.6147,     0.61414,     0.61764,     0.62007,     0.62236,     0.62396,     0.62556,     0.62723,     0.62915,     0.63107,     0.63182,     0.63248,     0.63314,      0.6338,     0.63446,     0.63512,     0.63591,     0.63789,     0.63986,     0.64499,\n",
       "             0.6462,      0.6474,     0.64861,     0.64986,     0.65137,     0.65287,     0.65438,     0.65636,     0.65835,     0.66144,     0.66443,      0.6652,     0.66597,     0.66674,     0.66752,     0.66829,     0.66906,     0.66971,     0.67034,     0.67097,      0.6716,     0.67223,     0.67286,\n",
       "            0.67349,     0.67412,     0.67687,      0.6797,     0.68108,     0.68246,     0.68385,     0.68423,     0.68336,     0.68249,     0.68234,     0.68261,     0.68288,     0.68315,     0.68341,     0.68368,     0.68395,     0.68422,     0.68449,     0.68475,     0.68502,     0.68529,     0.68556,\n",
       "            0.68583,      0.6861,     0.68636,     0.68663,      0.6869,     0.68717,     0.68744,     0.69326,     0.69372,     0.69418,     0.69464,      0.6951,     0.69556,     0.69602,     0.69648,     0.69694,      0.6974,     0.69787,     0.69833,     0.70018,     0.70236,     0.70974,     0.70999,\n",
       "            0.71025,      0.7105,     0.71075,     0.71101,     0.71126,     0.71151,     0.71176,     0.71202,     0.71227,     0.71252,     0.71278,     0.71303,     0.71328,     0.71354,     0.71379,     0.71404,     0.71429,     0.71455,      0.7148,     0.71505,     0.71531,      0.7167,     0.71953,\n",
       "            0.72146,     0.72186,     0.72226,     0.72266,     0.72306,     0.72346,     0.72386,     0.72427,     0.72467,     0.72507,     0.72547,     0.72587,     0.72627,     0.72667,     0.72707,     0.72818,     0.73002,     0.73186,      0.7339,     0.73671,      0.7395,     0.74067,     0.74184,\n",
       "            0.74301,     0.74417,     0.74534,     0.74785,     0.75112,     0.75238,     0.75274,      0.7531,     0.75346,     0.75382,     0.75418,     0.75454,      0.7549,     0.75526,     0.75562,     0.75598,     0.75634,      0.7567,     0.75705,     0.75741,     0.75777,     0.75813,     0.75849,\n",
       "            0.75964,     0.76123,     0.76282,     0.76441,     0.76794,     0.77216,     0.77301,     0.77386,     0.77471,     0.77556,     0.77641,     0.77726,      0.7781,     0.77922,     0.78126,      0.7833,     0.78533,     0.78443,     0.78432,     0.78524,     0.78615,     0.78706,     0.78798,\n",
       "            0.78889,      0.7898,     0.79072,     0.79153,     0.79231,     0.79309,     0.79387,     0.79466,     0.79544,     0.79622,     0.79701,     0.79779,     0.79899,     0.80059,     0.80218,     0.80378,     0.80537,     0.80528,     0.80497,     0.80466,     0.80435,     0.80404,     0.80377,\n",
       "            0.80461,     0.80545,     0.80629,     0.80713,     0.80797,     0.80881,     0.80965,     0.81049,     0.81132,     0.81109,     0.81086,     0.81063,      0.8104,     0.81017,     0.80994,     0.80971,     0.80901,     0.80809,     0.80894,     0.80978,     0.81063,     0.81148,     0.81232,\n",
       "            0.81317,     0.81401,     0.81486,     0.81571,      0.8166,     0.81749,     0.81837,     0.81926,     0.82014,     0.82103,     0.82192,      0.8228,     0.82351,     0.82342,     0.82332,     0.82323,     0.82314,     0.82304,     0.82295,     0.82285,     0.82276,     0.82266,     0.82257,\n",
       "            0.82248,     0.82238,     0.82229,     0.82219,      0.8221,       0.822,     0.82191,     0.82182,     0.82238,     0.82332,     0.82426,     0.82519,     0.82613,     0.82706,       0.828,     0.82894,     0.82987,     0.83802,     0.83706,     0.83616,      0.8353,     0.83499,     0.83489,\n",
       "             0.8348,     0.83471,     0.83461,     0.83452,     0.83443,     0.83434,     0.83424,     0.83415,     0.83406,     0.83397,     0.83387,     0.83378,     0.83369,     0.83359,      0.8335,     0.83341,     0.83496,     0.84248,     0.84432,     0.84616,     0.84799,     0.84983,     0.85117,\n",
       "             0.8515,     0.85184,     0.85217,      0.8525,     0.85283,     0.85316,      0.8535,     0.85383,     0.85416,     0.85449,     0.85482,     0.85516,     0.85549,     0.85582,     0.85615,     0.85649,     0.85682,     0.85715,     0.85748,     0.85781,     0.85815,     0.85848,     0.85881,\n",
       "            0.85914,     0.85947,     0.85981,     0.86014,     0.86205,     0.86445,     0.86684,     0.86924,     0.86938,     0.86917,     0.86896,     0.86875,     0.86854,     0.86833,     0.86813,     0.86804,     0.86796,     0.86788,     0.86779,     0.86771,     0.86762,     0.86754,     0.86745,\n",
       "            0.86737,     0.86728,      0.8672,     0.86711,     0.86703,     0.86694,     0.86686,     0.86678,     0.86669,     0.86714,     0.86781,     0.86848,     0.86914,     0.86981,     0.87047,     0.87114,      0.8718,     0.87247,     0.87313,      0.8738,     0.87446,     0.87513,      0.8758,\n",
       "            0.87684,     0.88194,     0.88618,     0.88505,     0.88498,     0.88492,     0.88485,     0.88479,     0.88472,     0.88466,     0.88459,     0.88453,     0.88446,     0.88439,     0.88433,     0.88426,      0.8842,     0.88413,     0.88407,       0.884,     0.88394,     0.88387,     0.88381,\n",
       "            0.88374,     0.88364,     0.88351,     0.88338,     0.88325,     0.88313,       0.883,     0.88287,     0.88274,     0.88262,     0.88249,     0.88236,     0.88438,     0.88653,     0.88868,     0.89084,     0.89285,     0.89277,      0.8927,     0.89262,     0.89254,     0.89246,     0.89239,\n",
       "            0.89231,     0.89223,     0.89215,     0.89207,       0.892,     0.89192,     0.89184,     0.89176,     0.89168,     0.89161,      0.8921,     0.89321,     0.89433,     0.89544,     0.89656,     0.89767,     0.89878,      0.8999,     0.90101,     0.90213,     0.90231,     0.90214,     0.90196,\n",
       "            0.90178,     0.90161,     0.90143,     0.90125,     0.90078,     0.90028,     0.89971,     0.89906,     0.89866,     0.89851,     0.89836,     0.89822,     0.89807,     0.89792,     0.89777,     0.89762,     0.89748,     0.89603,     0.89593,     0.89582,     0.89572,     0.89561,     0.89551,\n",
       "            0.89541,      0.8953,      0.8952,     0.89509,     0.89499,     0.89489,     0.89478,     0.90691,     0.90736,     0.90781,     0.90826,     0.90871,     0.90916,      0.9096,     0.91005,      0.9105,     0.91095,      0.9114,     0.91185,      0.9123,     0.91274,     0.91319,     0.91364,\n",
       "            0.91409,     0.91454,     0.91499,     0.91544,     0.91588,     0.91633,     0.91678,     0.91723,     0.91768,     0.91813,     0.91858,     0.91887,     0.91868,     0.91849,     0.91831,     0.91812,     0.91793,     0.91776,     0.91765,     0.91753,     0.91741,      0.9173,     0.91718,\n",
       "            0.91706,     0.91694,     0.91683,     0.91671,     0.92494,     0.92954,     0.92948,     0.92942,     0.92936,      0.9293,     0.92923,     0.92917,     0.92911,     0.92905,     0.92899,     0.92893,     0.92887,     0.92881,     0.92875,     0.92869,     0.92863,     0.92871,     0.93083,\n",
       "            0.93295,     0.93507,      0.9372,     0.93932,     0.94144,     0.94197,      0.9419,     0.94182,     0.94175,     0.94167,     0.94159,     0.94152,     0.94144,     0.94137,     0.94129,     0.94121,     0.94115,      0.9411,     0.94105,       0.941,     0.94094,     0.94089,     0.94084,\n",
       "            0.94079,     0.94074,     0.94069,     0.94064,     0.94058,     0.94053,     0.94048,     0.94043,     0.94038,     0.94033,     0.94018,     0.93992,     0.93965,     0.93939,     0.93891,     0.93852,     0.93935,     0.94019,     0.94102,     0.94186,     0.94269,     0.94353,     0.94436,\n",
       "             0.9452,     0.94603,     0.94687,      0.9477,     0.94854,     0.94937,     0.95021,     0.95104,     0.95188,     0.95271,       0.953,     0.95274,     0.95249,     0.95234,     0.95228,     0.95222,     0.95216,     0.95209,     0.95203,     0.95197,      0.9519,     0.95184,     0.95178,\n",
       "            0.95171,     0.95165,     0.95141,     0.95086,     0.95075,     0.95067,     0.95059,     0.95051,     0.95043,     0.95035,     0.95027,     0.95019,     0.95011,     0.95003,     0.94993,     0.94984,     0.94974,     0.94965,     0.94955,     0.94945,     0.94936,     0.94926,     0.94916,\n",
       "            0.94892,     0.94867,     0.94841,     0.94783,     0.94638,      0.9463,     0.94621,     0.94612,     0.94604,     0.94595,     0.94586,     0.94578,     0.94569,      0.9456,     0.94552,     0.94544,     0.94539,     0.94533,     0.94528,     0.94523,     0.94517,     0.94512,     0.94507,\n",
       "            0.94501,     0.94496,     0.94491,     0.94486,      0.9448,     0.94475,      0.9447,     0.94464,     0.94459,     0.94454,     0.94448,     0.94439,      0.9442,       0.944,     0.94381,     0.94361,     0.94342,     0.94333,     0.94325,     0.94317,      0.9431,     0.94302,     0.94294,\n",
       "            0.94287,     0.94279,     0.94271,     0.94263,     0.94256,     0.94248,      0.9424,     0.94233,     0.94114,     0.94101,     0.94087,     0.94074,     0.94061,     0.94047,     0.94034,      0.9402,     0.94007,     0.93996,     0.93987,     0.93978,     0.93969,      0.9396,     0.93951,\n",
       "            0.93942,     0.93933,     0.93924,     0.93915,     0.93906,     0.93897,     0.93888,     0.93879,     0.93727,     0.93659,     0.93847,     0.94443,     0.95039,     0.95635,     0.95978,     0.96313,     0.96648,     0.96983,     0.97319,     0.97654,     0.97772,     0.97764,     0.97755,\n",
       "            0.97746,     0.97738,     0.97729,     0.97652,     0.97624,     0.97586,     0.97546,     0.97504,     0.97489,     0.97477,     0.97465,     0.97453,     0.97441,     0.97399,     0.97366,     0.97362,     0.97357,     0.97353,     0.97348,     0.97344,     0.97339,     0.97335,     0.97331,\n",
       "            0.97326,     0.97322,     0.97317,     0.97313,     0.97309,     0.97304,       0.973,     0.97274,     0.97222,     0.97182,     0.97139,     0.97046,     0.96874,     0.96868,     0.96861,     0.96855,     0.96849,     0.96842,     0.96836,     0.96829,     0.96823,     0.96816,      0.9681,\n",
       "            0.96803,     0.96797,      0.9679,     0.96784,     0.96778,     0.96753,     0.96709,     0.96666,     0.96658,     0.96649,     0.96641,     0.96633,     0.96624,     0.96616,     0.96607,     0.96599,     0.96591,     0.96582,     0.96574,     0.96565,     0.96557,     0.96402,     0.96334,\n",
       "            0.96137,     0.96097,     0.96058,     0.96018,     0.96365,     0.97048,     0.97732,     0.98415,     0.99098,     0.99782,           1,           1,           1,           1,           1,           1,           1,           1,           1,           1,           1,           1,           1,\n",
       "                  1,           1,           1,           1,           1,           1,           1,           1,           1,           1,           1,           1,           1,           1,           1,           1,           1,           1,           1,           1,           1,           1,           1,\n",
       "                  1,           1,           1,           1,           1,           1,           1,           1,           1,           1,           1,           1,           1,           1,           1,           1,           1,           1,           1,           1,           1,           1,           1,\n",
       "                  1,           1,           1,           1,           1,           1,           1,           1,           1,           1,           1,           1,           1,           1,           1,           1,           1,           1,           1,           1,           1,           1,           1,\n",
       "                  1,           1,           1,           1,           1,           1,           1,           1,           1,           1,           1]]), 'Confidence', 'Precision'], [array([          0,    0.001001,    0.002002,    0.003003,    0.004004,    0.005005,    0.006006,    0.007007,    0.008008,    0.009009,     0.01001,    0.011011,    0.012012,    0.013013,    0.014014,    0.015015,    0.016016,    0.017017,    0.018018,    0.019019,     0.02002,    0.021021,    0.022022,    0.023023,\n",
       "          0.024024,    0.025025,    0.026026,    0.027027,    0.028028,    0.029029,     0.03003,    0.031031,    0.032032,    0.033033,    0.034034,    0.035035,    0.036036,    0.037037,    0.038038,    0.039039,     0.04004,    0.041041,    0.042042,    0.043043,    0.044044,    0.045045,    0.046046,    0.047047,\n",
       "          0.048048,    0.049049,     0.05005,    0.051051,    0.052052,    0.053053,    0.054054,    0.055055,    0.056056,    0.057057,    0.058058,    0.059059,     0.06006,    0.061061,    0.062062,    0.063063,    0.064064,    0.065065,    0.066066,    0.067067,    0.068068,    0.069069,     0.07007,    0.071071,\n",
       "          0.072072,    0.073073,    0.074074,    0.075075,    0.076076,    0.077077,    0.078078,    0.079079,     0.08008,    0.081081,    0.082082,    0.083083,    0.084084,    0.085085,    0.086086,    0.087087,    0.088088,    0.089089,     0.09009,    0.091091,    0.092092,    0.093093,    0.094094,    0.095095,\n",
       "          0.096096,    0.097097,    0.098098,    0.099099,      0.1001,      0.1011,      0.1021,      0.1031,      0.1041,     0.10511,     0.10611,     0.10711,     0.10811,     0.10911,     0.11011,     0.11111,     0.11211,     0.11311,     0.11411,     0.11512,     0.11612,     0.11712,     0.11812,     0.11912,\n",
       "           0.12012,     0.12112,     0.12212,     0.12312,     0.12412,     0.12513,     0.12613,     0.12713,     0.12813,     0.12913,     0.13013,     0.13113,     0.13213,     0.13313,     0.13413,     0.13514,     0.13614,     0.13714,     0.13814,     0.13914,     0.14014,     0.14114,     0.14214,     0.14314,\n",
       "           0.14414,     0.14515,     0.14615,     0.14715,     0.14815,     0.14915,     0.15015,     0.15115,     0.15215,     0.15315,     0.15415,     0.15516,     0.15616,     0.15716,     0.15816,     0.15916,     0.16016,     0.16116,     0.16216,     0.16316,     0.16416,     0.16517,     0.16617,     0.16717,\n",
       "           0.16817,     0.16917,     0.17017,     0.17117,     0.17217,     0.17317,     0.17417,     0.17518,     0.17618,     0.17718,     0.17818,     0.17918,     0.18018,     0.18118,     0.18218,     0.18318,     0.18418,     0.18519,     0.18619,     0.18719,     0.18819,     0.18919,     0.19019,     0.19119,\n",
       "           0.19219,     0.19319,     0.19419,      0.1952,      0.1962,      0.1972,      0.1982,      0.1992,      0.2002,      0.2012,      0.2022,      0.2032,      0.2042,     0.20521,     0.20621,     0.20721,     0.20821,     0.20921,     0.21021,     0.21121,     0.21221,     0.21321,     0.21421,     0.21522,\n",
       "           0.21622,     0.21722,     0.21822,     0.21922,     0.22022,     0.22122,     0.22222,     0.22322,     0.22422,     0.22523,     0.22623,     0.22723,     0.22823,     0.22923,     0.23023,     0.23123,     0.23223,     0.23323,     0.23423,     0.23524,     0.23624,     0.23724,     0.23824,     0.23924,\n",
       "           0.24024,     0.24124,     0.24224,     0.24324,     0.24424,     0.24525,     0.24625,     0.24725,     0.24825,     0.24925,     0.25025,     0.25125,     0.25225,     0.25325,     0.25425,     0.25526,     0.25626,     0.25726,     0.25826,     0.25926,     0.26026,     0.26126,     0.26226,     0.26326,\n",
       "           0.26426,     0.26527,     0.26627,     0.26727,     0.26827,     0.26927,     0.27027,     0.27127,     0.27227,     0.27327,     0.27427,     0.27528,     0.27628,     0.27728,     0.27828,     0.27928,     0.28028,     0.28128,     0.28228,     0.28328,     0.28428,     0.28529,     0.28629,     0.28729,\n",
       "           0.28829,     0.28929,     0.29029,     0.29129,     0.29229,     0.29329,     0.29429,      0.2953,      0.2963,      0.2973,      0.2983,      0.2993,      0.3003,      0.3013,      0.3023,      0.3033,      0.3043,     0.30531,     0.30631,     0.30731,     0.30831,     0.30931,     0.31031,     0.31131,\n",
       "           0.31231,     0.31331,     0.31431,     0.31532,     0.31632,     0.31732,     0.31832,     0.31932,     0.32032,     0.32132,     0.32232,     0.32332,     0.32432,     0.32533,     0.32633,     0.32733,     0.32833,     0.32933,     0.33033,     0.33133,     0.33233,     0.33333,     0.33433,     0.33534,\n",
       "           0.33634,     0.33734,     0.33834,     0.33934,     0.34034,     0.34134,     0.34234,     0.34334,     0.34434,     0.34535,     0.34635,     0.34735,     0.34835,     0.34935,     0.35035,     0.35135,     0.35235,     0.35335,     0.35435,     0.35536,     0.35636,     0.35736,     0.35836,     0.35936,\n",
       "           0.36036,     0.36136,     0.36236,     0.36336,     0.36436,     0.36537,     0.36637,     0.36737,     0.36837,     0.36937,     0.37037,     0.37137,     0.37237,     0.37337,     0.37437,     0.37538,     0.37638,     0.37738,     0.37838,     0.37938,     0.38038,     0.38138,     0.38238,     0.38338,\n",
       "           0.38438,     0.38539,     0.38639,     0.38739,     0.38839,     0.38939,     0.39039,     0.39139,     0.39239,     0.39339,     0.39439,      0.3954,      0.3964,      0.3974,      0.3984,      0.3994,      0.4004,      0.4014,      0.4024,      0.4034,      0.4044,     0.40541,     0.40641,     0.40741,\n",
       "           0.40841,     0.40941,     0.41041,     0.41141,     0.41241,     0.41341,     0.41441,     0.41542,     0.41642,     0.41742,     0.41842,     0.41942,     0.42042,     0.42142,     0.42242,     0.42342,     0.42442,     0.42543,     0.42643,     0.42743,     0.42843,     0.42943,     0.43043,     0.43143,\n",
       "           0.43243,     0.43343,     0.43443,     0.43544,     0.43644,     0.43744,     0.43844,     0.43944,     0.44044,     0.44144,     0.44244,     0.44344,     0.44444,     0.44545,     0.44645,     0.44745,     0.44845,     0.44945,     0.45045,     0.45145,     0.45245,     0.45345,     0.45445,     0.45546,\n",
       "           0.45646,     0.45746,     0.45846,     0.45946,     0.46046,     0.46146,     0.46246,     0.46346,     0.46446,     0.46547,     0.46647,     0.46747,     0.46847,     0.46947,     0.47047,     0.47147,     0.47247,     0.47347,     0.47447,     0.47548,     0.47648,     0.47748,     0.47848,     0.47948,\n",
       "           0.48048,     0.48148,     0.48248,     0.48348,     0.48448,     0.48549,     0.48649,     0.48749,     0.48849,     0.48949,     0.49049,     0.49149,     0.49249,     0.49349,     0.49449,      0.4955,      0.4965,      0.4975,      0.4985,      0.4995,      0.5005,      0.5015,      0.5025,      0.5035,\n",
       "            0.5045,     0.50551,     0.50651,     0.50751,     0.50851,     0.50951,     0.51051,     0.51151,     0.51251,     0.51351,     0.51451,     0.51552,     0.51652,     0.51752,     0.51852,     0.51952,     0.52052,     0.52152,     0.52252,     0.52352,     0.52452,     0.52553,     0.52653,     0.52753,\n",
       "           0.52853,     0.52953,     0.53053,     0.53153,     0.53253,     0.53353,     0.53453,     0.53554,     0.53654,     0.53754,     0.53854,     0.53954,     0.54054,     0.54154,     0.54254,     0.54354,     0.54454,     0.54555,     0.54655,     0.54755,     0.54855,     0.54955,     0.55055,     0.55155,\n",
       "           0.55255,     0.55355,     0.55455,     0.55556,     0.55656,     0.55756,     0.55856,     0.55956,     0.56056,     0.56156,     0.56256,     0.56356,     0.56456,     0.56557,     0.56657,     0.56757,     0.56857,     0.56957,     0.57057,     0.57157,     0.57257,     0.57357,     0.57457,     0.57558,\n",
       "           0.57658,     0.57758,     0.57858,     0.57958,     0.58058,     0.58158,     0.58258,     0.58358,     0.58458,     0.58559,     0.58659,     0.58759,     0.58859,     0.58959,     0.59059,     0.59159,     0.59259,     0.59359,     0.59459,      0.5956,      0.5966,      0.5976,      0.5986,      0.5996,\n",
       "            0.6006,      0.6016,      0.6026,      0.6036,      0.6046,     0.60561,     0.60661,     0.60761,     0.60861,     0.60961,     0.61061,     0.61161,     0.61261,     0.61361,     0.61461,     0.61562,     0.61662,     0.61762,     0.61862,     0.61962,     0.62062,     0.62162,     0.62262,     0.62362,\n",
       "           0.62462,     0.62563,     0.62663,     0.62763,     0.62863,     0.62963,     0.63063,     0.63163,     0.63263,     0.63363,     0.63463,     0.63564,     0.63664,     0.63764,     0.63864,     0.63964,     0.64064,     0.64164,     0.64264,     0.64364,     0.64464,     0.64565,     0.64665,     0.64765,\n",
       "           0.64865,     0.64965,     0.65065,     0.65165,     0.65265,     0.65365,     0.65465,     0.65566,     0.65666,     0.65766,     0.65866,     0.65966,     0.66066,     0.66166,     0.66266,     0.66366,     0.66466,     0.66567,     0.66667,     0.66767,     0.66867,     0.66967,     0.67067,     0.67167,\n",
       "           0.67267,     0.67367,     0.67467,     0.67568,     0.67668,     0.67768,     0.67868,     0.67968,     0.68068,     0.68168,     0.68268,     0.68368,     0.68468,     0.68569,     0.68669,     0.68769,     0.68869,     0.68969,     0.69069,     0.69169,     0.69269,     0.69369,     0.69469,      0.6957,\n",
       "            0.6967,      0.6977,      0.6987,      0.6997,      0.7007,      0.7017,      0.7027,      0.7037,      0.7047,     0.70571,     0.70671,     0.70771,     0.70871,     0.70971,     0.71071,     0.71171,     0.71271,     0.71371,     0.71471,     0.71572,     0.71672,     0.71772,     0.71872,     0.71972,\n",
       "           0.72072,     0.72172,     0.72272,     0.72372,     0.72472,     0.72573,     0.72673,     0.72773,     0.72873,     0.72973,     0.73073,     0.73173,     0.73273,     0.73373,     0.73473,     0.73574,     0.73674,     0.73774,     0.73874,     0.73974,     0.74074,     0.74174,     0.74274,     0.74374,\n",
       "           0.74474,     0.74575,     0.74675,     0.74775,     0.74875,     0.74975,     0.75075,     0.75175,     0.75275,     0.75375,     0.75475,     0.75576,     0.75676,     0.75776,     0.75876,     0.75976,     0.76076,     0.76176,     0.76276,     0.76376,     0.76476,     0.76577,     0.76677,     0.76777,\n",
       "           0.76877,     0.76977,     0.77077,     0.77177,     0.77277,     0.77377,     0.77477,     0.77578,     0.77678,     0.77778,     0.77878,     0.77978,     0.78078,     0.78178,     0.78278,     0.78378,     0.78478,     0.78579,     0.78679,     0.78779,     0.78879,     0.78979,     0.79079,     0.79179,\n",
       "           0.79279,     0.79379,     0.79479,      0.7958,      0.7968,      0.7978,      0.7988,      0.7998,      0.8008,      0.8018,      0.8028,      0.8038,      0.8048,     0.80581,     0.80681,     0.80781,     0.80881,     0.80981,     0.81081,     0.81181,     0.81281,     0.81381,     0.81481,     0.81582,\n",
       "           0.81682,     0.81782,     0.81882,     0.81982,     0.82082,     0.82182,     0.82282,     0.82382,     0.82482,     0.82583,     0.82683,     0.82783,     0.82883,     0.82983,     0.83083,     0.83183,     0.83283,     0.83383,     0.83483,     0.83584,     0.83684,     0.83784,     0.83884,     0.83984,\n",
       "           0.84084,     0.84184,     0.84284,     0.84384,     0.84484,     0.84585,     0.84685,     0.84785,     0.84885,     0.84985,     0.85085,     0.85185,     0.85285,     0.85385,     0.85485,     0.85586,     0.85686,     0.85786,     0.85886,     0.85986,     0.86086,     0.86186,     0.86286,     0.86386,\n",
       "           0.86486,     0.86587,     0.86687,     0.86787,     0.86887,     0.86987,     0.87087,     0.87187,     0.87287,     0.87387,     0.87487,     0.87588,     0.87688,     0.87788,     0.87888,     0.87988,     0.88088,     0.88188,     0.88288,     0.88388,     0.88488,     0.88589,     0.88689,     0.88789,\n",
       "           0.88889,     0.88989,     0.89089,     0.89189,     0.89289,     0.89389,     0.89489,      0.8959,      0.8969,      0.8979,      0.8989,      0.8999,      0.9009,      0.9019,      0.9029,      0.9039,      0.9049,     0.90591,     0.90691,     0.90791,     0.90891,     0.90991,     0.91091,     0.91191,\n",
       "           0.91291,     0.91391,     0.91491,     0.91592,     0.91692,     0.91792,     0.91892,     0.91992,     0.92092,     0.92192,     0.92292,     0.92392,     0.92492,     0.92593,     0.92693,     0.92793,     0.92893,     0.92993,     0.93093,     0.93193,     0.93293,     0.93393,     0.93493,     0.93594,\n",
       "           0.93694,     0.93794,     0.93894,     0.93994,     0.94094,     0.94194,     0.94294,     0.94394,     0.94494,     0.94595,     0.94695,     0.94795,     0.94895,     0.94995,     0.95095,     0.95195,     0.95295,     0.95395,     0.95495,     0.95596,     0.95696,     0.95796,     0.95896,     0.95996,\n",
       "           0.96096,     0.96196,     0.96296,     0.96396,     0.96496,     0.96597,     0.96697,     0.96797,     0.96897,     0.96997,     0.97097,     0.97197,     0.97297,     0.97397,     0.97497,     0.97598,     0.97698,     0.97798,     0.97898,     0.97998,     0.98098,     0.98198,     0.98298,     0.98398,\n",
       "           0.98498,     0.98599,     0.98699,     0.98799,     0.98899,     0.98999,     0.99099,     0.99199,     0.99299,     0.99399,     0.99499,       0.996,       0.997,       0.998,       0.999,           1]), array([[    0.98947,     0.98947,     0.97895,     0.97895,     0.97895,     0.97895,     0.97895,     0.97895,     0.97895,     0.97895,     0.97895,     0.97895,     0.97895,     0.97895,     0.97895,     0.97895,     0.97895,     0.97895,     0.97895,     0.97895,     0.97895,     0.97895,     0.97895,\n",
       "            0.97895,     0.97895,     0.97895,     0.97895,     0.97895,     0.97895,     0.97895,     0.96842,     0.96842,     0.96842,     0.96842,     0.96842,     0.96842,     0.96842,     0.96842,     0.96842,     0.96842,     0.96842,     0.96842,     0.96842,     0.96842,     0.96842,     0.96842,\n",
       "            0.96842,     0.96842,     0.96842,     0.96842,     0.96842,     0.96842,     0.96492,     0.95789,     0.95789,     0.95789,     0.95789,      0.9542,     0.94966,     0.94737,     0.94737,     0.94737,     0.94737,     0.94737,     0.94737,     0.94737,     0.94737,     0.94737,     0.94737,\n",
       "            0.94737,     0.94737,     0.94737,     0.94737,     0.94737,     0.94737,     0.94737,     0.94737,     0.94737,     0.94737,     0.94737,     0.94737,     0.94737,     0.94737,     0.94737,     0.94737,     0.94737,     0.94737,     0.94737,     0.94737,     0.94737,     0.94737,     0.94737,\n",
       "            0.94737,     0.94737,     0.94737,     0.94737,     0.94737,     0.94737,     0.94737,     0.94737,     0.94737,     0.94737,     0.94737,     0.94737,     0.94737,     0.94737,     0.94737,     0.94737,     0.94737,     0.94737,     0.94737,     0.94737,     0.94737,     0.94737,     0.94737,\n",
       "            0.94737,     0.94737,     0.94737,     0.94737,     0.93684,     0.93684,     0.93684,     0.93684,     0.93684,     0.93684,     0.93684,     0.93684,     0.93684,     0.93684,     0.93684,     0.93684,     0.93684,     0.93684,     0.93684,     0.93684,     0.93684,     0.93684,     0.93684,\n",
       "            0.93684,     0.93684,     0.93684,     0.93684,     0.93684,     0.93684,     0.93684,     0.93684,     0.93684,     0.93684,     0.93684,     0.93684,     0.93684,     0.93684,     0.93684,     0.93684,     0.93684,     0.93684,     0.93684,     0.93684,     0.93684,     0.93684,     0.93684,\n",
       "            0.93684,     0.93684,     0.93684,     0.93684,     0.93684,     0.93684,     0.93684,     0.93518,     0.93143,     0.92767,     0.92632,     0.92632,     0.92632,     0.92632,     0.92632,     0.92632,     0.92632,     0.92632,     0.92632,     0.92632,     0.92632,     0.92632,     0.92632,\n",
       "            0.92632,     0.92632,     0.92632,     0.92632,     0.92632,     0.92632,     0.92632,     0.92632,     0.92632,     0.92632,     0.92632,     0.92632,     0.92632,     0.92632,     0.92632,     0.92632,     0.92632,     0.92632,     0.92632,     0.92632,     0.92632,     0.92632,     0.92632,\n",
       "            0.92632,     0.92632,     0.92632,     0.92632,     0.92632,     0.92632,     0.92632,     0.92632,     0.92632,     0.92632,     0.92632,     0.92632,     0.92632,     0.92632,     0.92632,     0.92632,     0.92632,     0.92632,     0.92632,     0.92632,     0.92632,     0.92632,     0.92632,\n",
       "            0.92632,     0.92632,     0.92632,     0.92632,     0.92632,     0.92632,     0.92632,     0.92632,     0.92632,     0.92632,     0.92632,     0.92632,     0.92632,     0.92632,     0.92632,     0.92632,     0.92632,     0.92632,     0.92632,     0.92632,     0.92632,     0.92632,     0.92632,\n",
       "            0.92632,     0.92632,     0.92632,     0.92632,     0.92632,     0.92632,     0.92632,     0.92632,     0.92632,     0.92632,     0.92632,     0.92632,     0.92632,     0.92632,     0.92632,     0.92632,     0.92632,     0.92632,     0.92632,     0.92632,     0.92632,     0.92632,     0.92632,\n",
       "            0.92632,     0.92632,     0.92632,     0.92632,     0.92632,     0.92632,     0.92632,     0.92632,     0.92632,     0.92632,     0.92632,     0.92632,     0.92632,     0.92632,     0.92632,     0.92632,     0.92632,     0.91931,     0.91579,     0.91579,     0.91579,     0.91579,     0.91579,\n",
       "            0.91579,     0.91579,     0.91579,     0.91579,     0.91579,     0.91579,     0.91579,     0.91579,     0.91579,     0.91579,     0.91579,     0.91579,     0.91579,     0.91579,     0.91579,     0.91579,     0.91579,      0.9142,      0.9124,      0.9106,      0.9088,       0.907,     0.90526,\n",
       "            0.90526,     0.90526,     0.90526,     0.90526,     0.90526,     0.90526,     0.90526,     0.90526,     0.90525,      0.9039,     0.90255,     0.90121,     0.89986,     0.89851,     0.89716,     0.89581,     0.89181,     0.88421,     0.88421,     0.88421,     0.88421,     0.88421,     0.88421,\n",
       "            0.88421,     0.88421,     0.88421,     0.88421,     0.88421,     0.88421,     0.88421,     0.88421,     0.88421,     0.88421,     0.88421,     0.88421,     0.88411,     0.88354,     0.88297,      0.8824,     0.88184,     0.88127,      0.8807,     0.88013,     0.87957,       0.879,     0.87843,\n",
       "            0.87786,     0.87729,     0.87673,     0.87616,     0.87559,     0.87502,     0.87445,     0.87389,     0.87368,     0.87368,     0.87368,     0.87368,     0.87368,     0.87368,     0.87368,     0.87368,     0.87368,     0.87137,     0.86521,     0.85955,     0.85416,     0.85222,     0.85166,\n",
       "            0.85109,     0.85052,     0.84995,     0.84939,     0.84882,     0.84825,     0.84768,     0.84711,     0.84655,     0.84598,     0.84541,     0.84484,     0.84427,     0.84371,     0.84314,     0.84257,     0.84211,     0.84211,     0.84211,     0.84211,     0.84211,     0.84211,     0.84211,\n",
       "            0.84211,     0.84211,     0.84211,     0.84211,     0.84211,     0.84211,     0.84211,     0.84211,     0.84211,     0.84211,     0.84211,     0.84211,     0.84211,     0.84211,     0.84211,     0.84211,     0.84211,     0.84211,     0.84211,     0.84211,     0.84211,     0.84211,     0.84211,\n",
       "            0.84211,     0.84211,     0.84211,     0.84211,     0.84211,     0.84211,     0.84211,     0.84211,     0.84077,     0.83923,     0.83769,     0.83615,     0.83461,     0.83307,     0.83156,     0.83095,     0.83034,     0.82973,     0.82913,     0.82852,     0.82791,      0.8273,     0.82669,\n",
       "            0.82609,     0.82548,     0.82487,     0.82426,     0.82366,     0.82305,     0.82244,     0.82183,     0.82122,     0.82105,     0.82105,     0.82105,     0.82105,     0.82105,     0.82105,     0.82105,     0.82105,     0.82105,     0.82105,     0.82105,     0.82105,     0.82105,     0.82105,\n",
       "            0.82105,     0.82105,     0.81961,     0.81045,     0.80993,     0.80942,      0.8089,     0.80839,     0.80788,     0.80736,     0.80685,     0.80633,     0.80582,     0.80531,     0.80479,     0.80428,     0.80377,     0.80325,     0.80274,     0.80222,     0.80171,      0.8012,     0.80068,\n",
       "            0.80017,     0.79934,     0.79836,     0.79738,      0.7964,     0.79542,     0.79444,     0.79346,     0.79248,     0.79149,     0.79051,     0.78953,     0.78947,     0.78947,     0.78947,     0.78947,     0.78943,      0.7888,     0.78817,     0.78753,      0.7869,     0.78626,     0.78563,\n",
       "            0.78499,     0.78436,     0.78372,     0.78309,     0.78245,     0.78182,     0.78118,     0.78055,     0.77991,     0.77928,     0.77895,     0.77895,     0.77895,     0.77895,     0.77895,     0.77895,     0.77895,     0.77895,     0.77895,     0.77895,     0.77784,      0.7763,     0.77475,\n",
       "            0.77321,     0.77167,     0.77013,     0.76859,     0.76457,     0.76026,     0.75545,     0.75006,     0.74677,     0.74557,     0.74437,     0.74317,     0.74197,     0.74077,     0.73957,     0.73838,     0.73718,     0.72574,     0.72494,     0.72414,     0.72334,     0.72254,     0.72174,\n",
       "            0.72094,     0.72014,     0.71935,     0.71855,     0.71775,     0.71695,     0.71615,     0.71579,     0.71579,     0.71579,     0.71579,     0.71579,     0.71579,     0.71579,     0.71579,     0.71579,     0.71579,     0.71579,     0.71579,     0.71579,     0.71579,     0.71579,     0.71579,\n",
       "            0.71579,     0.71579,     0.71579,     0.71579,     0.71579,     0.71579,     0.71579,     0.71579,     0.71579,     0.71579,     0.71579,     0.71537,     0.71357,     0.71177,     0.70997,     0.70817,     0.70638,     0.70485,     0.70377,     0.70269,     0.70162,     0.70054,     0.69946,\n",
       "            0.69838,      0.6973,     0.69622,     0.69514,     0.69474,     0.69432,     0.69369,     0.69306,     0.69242,     0.69179,     0.69115,     0.69052,     0.68988,     0.68925,     0.68861,     0.68798,     0.68734,     0.68671,     0.68607,     0.68544,      0.6848,     0.68421,     0.68421,\n",
       "            0.68421,     0.68421,     0.68421,     0.68421,     0.68421,     0.68353,     0.68259,     0.68166,     0.68072,     0.67978,     0.67884,      0.6779,     0.67696,     0.67603,     0.67509,     0.67415,     0.67337,     0.67276,     0.67214,     0.67152,     0.67091,     0.67029,     0.66967,\n",
       "            0.66906,     0.66844,     0.66782,     0.66721,     0.66659,     0.66597,     0.66536,     0.66474,     0.66413,     0.66351,     0.66183,     0.65875,     0.65566,     0.65254,     0.64715,     0.64211,     0.64211,     0.64211,     0.64211,     0.64211,     0.64211,     0.64211,     0.64211,\n",
       "            0.64211,     0.64211,     0.64211,     0.64211,     0.64211,     0.64211,     0.64211,     0.64211,     0.64211,     0.64211,     0.64029,     0.63669,      0.6331,     0.63108,     0.63022,     0.62935,     0.62849,     0.62763,     0.62676,      0.6259,     0.62504,     0.62417,     0.62331,\n",
       "            0.62245,     0.62158,      0.6183,      0.6111,     0.60958,     0.60855,     0.60753,      0.6065,     0.60547,     0.60444,     0.60342,     0.60239,     0.60136,     0.60033,     0.59919,     0.59799,     0.59679,     0.59559,     0.59439,     0.59319,       0.592,      0.5908,      0.5896,\n",
       "            0.58671,     0.58363,     0.58055,     0.57375,     0.55742,     0.55648,     0.55554,     0.55461,     0.55367,     0.55273,     0.55179,     0.55085,     0.54991,     0.54898,     0.54804,     0.54721,     0.54666,      0.5461,     0.54555,       0.545,     0.54444,     0.54389,     0.54334,\n",
       "            0.54278,     0.54223,     0.54168,     0.54112,     0.54057,     0.54002,     0.53946,     0.53891,     0.53836,      0.5378,     0.53725,     0.53633,     0.53436,      0.5324,     0.53044,     0.52848,     0.52652,     0.52565,      0.5249,     0.52416,     0.52342,     0.52267,     0.52193,\n",
       "            0.52118,     0.52044,      0.5197,     0.51895,     0.51821,     0.51746,     0.51672,     0.51597,     0.50495,     0.50375,     0.50255,     0.50135,     0.50015,     0.49895,     0.49775,     0.49656,     0.49536,     0.49436,     0.49359,     0.49282,     0.49205,     0.49128,     0.49051,\n",
       "            0.48974,     0.48897,      0.4882,     0.48743,     0.48666,     0.48589,     0.48512,     0.48435,     0.47187,     0.46647,     0.46316,     0.46316,     0.46316,     0.46316,     0.46316,     0.46316,     0.46316,     0.46316,     0.46316,     0.46316,     0.46203,     0.46023,     0.45843,\n",
       "            0.45663,     0.45483,     0.45303,     0.43792,     0.43252,     0.42564,     0.41845,     0.41126,     0.40876,      0.4068,     0.40484,     0.40288,     0.40092,     0.39425,     0.38911,     0.38846,      0.3878,     0.38715,     0.38649,     0.38584,     0.38519,     0.38453,     0.38388,\n",
       "            0.38322,     0.38257,     0.38192,     0.38126,     0.38061,     0.37995,      0.3793,     0.37564,     0.36845,     0.36304,      0.3574,     0.34586,     0.32625,     0.32558,      0.3249,     0.32423,     0.32355,     0.32288,     0.32221,     0.32153,     0.32086,     0.32018,     0.31951,\n",
       "            0.31883,     0.31816,     0.31749,     0.31681,     0.31614,      0.3137,     0.30938,     0.30523,     0.30446,     0.30369,     0.30292,     0.30215,     0.30137,      0.3006,     0.29983,     0.29906,     0.29829,     0.29752,     0.29675,     0.29598,     0.29521,     0.28212,     0.27672,\n",
       "            0.26198,     0.25928,     0.25659,     0.25389,     0.25263,     0.25263,     0.25263,     0.25263,     0.25263,     0.25263,     0.23476,     0.22778,     0.22238,     0.20909,      0.2037,     0.19887,     0.19527,     0.19167,      0.1811,     0.16397,     0.14846,     0.14327,     0.13896,\n",
       "            0.12081,     0.11387,     0.11027,     0.10667,    0.092145,    0.083236,    0.081694,    0.080153,    0.078612,     0.07707,    0.075529,    0.073988,    0.071208,    0.068125,    0.065042,    0.062459,    0.060661,    0.058862,    0.057064,    0.055266,    0.053468,    0.051348,    0.048951,\n",
       "           0.046553,    0.044155,    0.041658,    0.038575,    0.035493,     0.03241,    0.023697,    0.020449,     0.01965,    0.018851,    0.018052,    0.017252,    0.016453,    0.015654,    0.014855,    0.014055,    0.013256,    0.012457,    0.011658,    0.010858,           0,           0,           0,\n",
       "                  0,           0,           0,           0,           0,           0,           0,           0,           0,           0,           0,           0,           0,           0,           0,           0,           0,           0,           0,           0,           0,           0,           0,\n",
       "                  0,           0,           0,           0,           0,           0,           0,           0,           0,           0,           0]]), 'Confidence', 'Recall'], [array([          0,    0.001001,    0.002002,    0.003003,    0.004004,    0.005005,    0.006006,    0.007007,    0.008008,    0.009009,     0.01001,    0.011011,    0.012012,    0.013013,    0.014014,    0.015015,    0.016016,    0.017017,    0.018018,    0.019019,     0.02002,    0.021021,    0.022022,    0.023023,\n",
       "          0.024024,    0.025025,    0.026026,    0.027027,    0.028028,    0.029029,     0.03003,    0.031031,    0.032032,    0.033033,    0.034034,    0.035035,    0.036036,    0.037037,    0.038038,    0.039039,     0.04004,    0.041041,    0.042042,    0.043043,    0.044044,    0.045045,    0.046046,    0.047047,\n",
       "          0.048048,    0.049049,     0.05005,    0.051051,    0.052052,    0.053053,    0.054054,    0.055055,    0.056056,    0.057057,    0.058058,    0.059059,     0.06006,    0.061061,    0.062062,    0.063063,    0.064064,    0.065065,    0.066066,    0.067067,    0.068068,    0.069069,     0.07007,    0.071071,\n",
       "          0.072072,    0.073073,    0.074074,    0.075075,    0.076076,    0.077077,    0.078078,    0.079079,     0.08008,    0.081081,    0.082082,    0.083083,    0.084084,    0.085085,    0.086086,    0.087087,    0.088088,    0.089089,     0.09009,    0.091091,    0.092092,    0.093093,    0.094094,    0.095095,\n",
       "          0.096096,    0.097097,    0.098098,    0.099099,      0.1001,      0.1011,      0.1021,      0.1031,      0.1041,     0.10511,     0.10611,     0.10711,     0.10811,     0.10911,     0.11011,     0.11111,     0.11211,     0.11311,     0.11411,     0.11512,     0.11612,     0.11712,     0.11812,     0.11912,\n",
       "           0.12012,     0.12112,     0.12212,     0.12312,     0.12412,     0.12513,     0.12613,     0.12713,     0.12813,     0.12913,     0.13013,     0.13113,     0.13213,     0.13313,     0.13413,     0.13514,     0.13614,     0.13714,     0.13814,     0.13914,     0.14014,     0.14114,     0.14214,     0.14314,\n",
       "           0.14414,     0.14515,     0.14615,     0.14715,     0.14815,     0.14915,     0.15015,     0.15115,     0.15215,     0.15315,     0.15415,     0.15516,     0.15616,     0.15716,     0.15816,     0.15916,     0.16016,     0.16116,     0.16216,     0.16316,     0.16416,     0.16517,     0.16617,     0.16717,\n",
       "           0.16817,     0.16917,     0.17017,     0.17117,     0.17217,     0.17317,     0.17417,     0.17518,     0.17618,     0.17718,     0.17818,     0.17918,     0.18018,     0.18118,     0.18218,     0.18318,     0.18418,     0.18519,     0.18619,     0.18719,     0.18819,     0.18919,     0.19019,     0.19119,\n",
       "           0.19219,     0.19319,     0.19419,      0.1952,      0.1962,      0.1972,      0.1982,      0.1992,      0.2002,      0.2012,      0.2022,      0.2032,      0.2042,     0.20521,     0.20621,     0.20721,     0.20821,     0.20921,     0.21021,     0.21121,     0.21221,     0.21321,     0.21421,     0.21522,\n",
       "           0.21622,     0.21722,     0.21822,     0.21922,     0.22022,     0.22122,     0.22222,     0.22322,     0.22422,     0.22523,     0.22623,     0.22723,     0.22823,     0.22923,     0.23023,     0.23123,     0.23223,     0.23323,     0.23423,     0.23524,     0.23624,     0.23724,     0.23824,     0.23924,\n",
       "           0.24024,     0.24124,     0.24224,     0.24324,     0.24424,     0.24525,     0.24625,     0.24725,     0.24825,     0.24925,     0.25025,     0.25125,     0.25225,     0.25325,     0.25425,     0.25526,     0.25626,     0.25726,     0.25826,     0.25926,     0.26026,     0.26126,     0.26226,     0.26326,\n",
       "           0.26426,     0.26527,     0.26627,     0.26727,     0.26827,     0.26927,     0.27027,     0.27127,     0.27227,     0.27327,     0.27427,     0.27528,     0.27628,     0.27728,     0.27828,     0.27928,     0.28028,     0.28128,     0.28228,     0.28328,     0.28428,     0.28529,     0.28629,     0.28729,\n",
       "           0.28829,     0.28929,     0.29029,     0.29129,     0.29229,     0.29329,     0.29429,      0.2953,      0.2963,      0.2973,      0.2983,      0.2993,      0.3003,      0.3013,      0.3023,      0.3033,      0.3043,     0.30531,     0.30631,     0.30731,     0.30831,     0.30931,     0.31031,     0.31131,\n",
       "           0.31231,     0.31331,     0.31431,     0.31532,     0.31632,     0.31732,     0.31832,     0.31932,     0.32032,     0.32132,     0.32232,     0.32332,     0.32432,     0.32533,     0.32633,     0.32733,     0.32833,     0.32933,     0.33033,     0.33133,     0.33233,     0.33333,     0.33433,     0.33534,\n",
       "           0.33634,     0.33734,     0.33834,     0.33934,     0.34034,     0.34134,     0.34234,     0.34334,     0.34434,     0.34535,     0.34635,     0.34735,     0.34835,     0.34935,     0.35035,     0.35135,     0.35235,     0.35335,     0.35435,     0.35536,     0.35636,     0.35736,     0.35836,     0.35936,\n",
       "           0.36036,     0.36136,     0.36236,     0.36336,     0.36436,     0.36537,     0.36637,     0.36737,     0.36837,     0.36937,     0.37037,     0.37137,     0.37237,     0.37337,     0.37437,     0.37538,     0.37638,     0.37738,     0.37838,     0.37938,     0.38038,     0.38138,     0.38238,     0.38338,\n",
       "           0.38438,     0.38539,     0.38639,     0.38739,     0.38839,     0.38939,     0.39039,     0.39139,     0.39239,     0.39339,     0.39439,      0.3954,      0.3964,      0.3974,      0.3984,      0.3994,      0.4004,      0.4014,      0.4024,      0.4034,      0.4044,     0.40541,     0.40641,     0.40741,\n",
       "           0.40841,     0.40941,     0.41041,     0.41141,     0.41241,     0.41341,     0.41441,     0.41542,     0.41642,     0.41742,     0.41842,     0.41942,     0.42042,     0.42142,     0.42242,     0.42342,     0.42442,     0.42543,     0.42643,     0.42743,     0.42843,     0.42943,     0.43043,     0.43143,\n",
       "           0.43243,     0.43343,     0.43443,     0.43544,     0.43644,     0.43744,     0.43844,     0.43944,     0.44044,     0.44144,     0.44244,     0.44344,     0.44444,     0.44545,     0.44645,     0.44745,     0.44845,     0.44945,     0.45045,     0.45145,     0.45245,     0.45345,     0.45445,     0.45546,\n",
       "           0.45646,     0.45746,     0.45846,     0.45946,     0.46046,     0.46146,     0.46246,     0.46346,     0.46446,     0.46547,     0.46647,     0.46747,     0.46847,     0.46947,     0.47047,     0.47147,     0.47247,     0.47347,     0.47447,     0.47548,     0.47648,     0.47748,     0.47848,     0.47948,\n",
       "           0.48048,     0.48148,     0.48248,     0.48348,     0.48448,     0.48549,     0.48649,     0.48749,     0.48849,     0.48949,     0.49049,     0.49149,     0.49249,     0.49349,     0.49449,      0.4955,      0.4965,      0.4975,      0.4985,      0.4995,      0.5005,      0.5015,      0.5025,      0.5035,\n",
       "            0.5045,     0.50551,     0.50651,     0.50751,     0.50851,     0.50951,     0.51051,     0.51151,     0.51251,     0.51351,     0.51451,     0.51552,     0.51652,     0.51752,     0.51852,     0.51952,     0.52052,     0.52152,     0.52252,     0.52352,     0.52452,     0.52553,     0.52653,     0.52753,\n",
       "           0.52853,     0.52953,     0.53053,     0.53153,     0.53253,     0.53353,     0.53453,     0.53554,     0.53654,     0.53754,     0.53854,     0.53954,     0.54054,     0.54154,     0.54254,     0.54354,     0.54454,     0.54555,     0.54655,     0.54755,     0.54855,     0.54955,     0.55055,     0.55155,\n",
       "           0.55255,     0.55355,     0.55455,     0.55556,     0.55656,     0.55756,     0.55856,     0.55956,     0.56056,     0.56156,     0.56256,     0.56356,     0.56456,     0.56557,     0.56657,     0.56757,     0.56857,     0.56957,     0.57057,     0.57157,     0.57257,     0.57357,     0.57457,     0.57558,\n",
       "           0.57658,     0.57758,     0.57858,     0.57958,     0.58058,     0.58158,     0.58258,     0.58358,     0.58458,     0.58559,     0.58659,     0.58759,     0.58859,     0.58959,     0.59059,     0.59159,     0.59259,     0.59359,     0.59459,      0.5956,      0.5966,      0.5976,      0.5986,      0.5996,\n",
       "            0.6006,      0.6016,      0.6026,      0.6036,      0.6046,     0.60561,     0.60661,     0.60761,     0.60861,     0.60961,     0.61061,     0.61161,     0.61261,     0.61361,     0.61461,     0.61562,     0.61662,     0.61762,     0.61862,     0.61962,     0.62062,     0.62162,     0.62262,     0.62362,\n",
       "           0.62462,     0.62563,     0.62663,     0.62763,     0.62863,     0.62963,     0.63063,     0.63163,     0.63263,     0.63363,     0.63463,     0.63564,     0.63664,     0.63764,     0.63864,     0.63964,     0.64064,     0.64164,     0.64264,     0.64364,     0.64464,     0.64565,     0.64665,     0.64765,\n",
       "           0.64865,     0.64965,     0.65065,     0.65165,     0.65265,     0.65365,     0.65465,     0.65566,     0.65666,     0.65766,     0.65866,     0.65966,     0.66066,     0.66166,     0.66266,     0.66366,     0.66466,     0.66567,     0.66667,     0.66767,     0.66867,     0.66967,     0.67067,     0.67167,\n",
       "           0.67267,     0.67367,     0.67467,     0.67568,     0.67668,     0.67768,     0.67868,     0.67968,     0.68068,     0.68168,     0.68268,     0.68368,     0.68468,     0.68569,     0.68669,     0.68769,     0.68869,     0.68969,     0.69069,     0.69169,     0.69269,     0.69369,     0.69469,      0.6957,\n",
       "            0.6967,      0.6977,      0.6987,      0.6997,      0.7007,      0.7017,      0.7027,      0.7037,      0.7047,     0.70571,     0.70671,     0.70771,     0.70871,     0.70971,     0.71071,     0.71171,     0.71271,     0.71371,     0.71471,     0.71572,     0.71672,     0.71772,     0.71872,     0.71972,\n",
       "           0.72072,     0.72172,     0.72272,     0.72372,     0.72472,     0.72573,     0.72673,     0.72773,     0.72873,     0.72973,     0.73073,     0.73173,     0.73273,     0.73373,     0.73473,     0.73574,     0.73674,     0.73774,     0.73874,     0.73974,     0.74074,     0.74174,     0.74274,     0.74374,\n",
       "           0.74474,     0.74575,     0.74675,     0.74775,     0.74875,     0.74975,     0.75075,     0.75175,     0.75275,     0.75375,     0.75475,     0.75576,     0.75676,     0.75776,     0.75876,     0.75976,     0.76076,     0.76176,     0.76276,     0.76376,     0.76476,     0.76577,     0.76677,     0.76777,\n",
       "           0.76877,     0.76977,     0.77077,     0.77177,     0.77277,     0.77377,     0.77477,     0.77578,     0.77678,     0.77778,     0.77878,     0.77978,     0.78078,     0.78178,     0.78278,     0.78378,     0.78478,     0.78579,     0.78679,     0.78779,     0.78879,     0.78979,     0.79079,     0.79179,\n",
       "           0.79279,     0.79379,     0.79479,      0.7958,      0.7968,      0.7978,      0.7988,      0.7998,      0.8008,      0.8018,      0.8028,      0.8038,      0.8048,     0.80581,     0.80681,     0.80781,     0.80881,     0.80981,     0.81081,     0.81181,     0.81281,     0.81381,     0.81481,     0.81582,\n",
       "           0.81682,     0.81782,     0.81882,     0.81982,     0.82082,     0.82182,     0.82282,     0.82382,     0.82482,     0.82583,     0.82683,     0.82783,     0.82883,     0.82983,     0.83083,     0.83183,     0.83283,     0.83383,     0.83483,     0.83584,     0.83684,     0.83784,     0.83884,     0.83984,\n",
       "           0.84084,     0.84184,     0.84284,     0.84384,     0.84484,     0.84585,     0.84685,     0.84785,     0.84885,     0.84985,     0.85085,     0.85185,     0.85285,     0.85385,     0.85485,     0.85586,     0.85686,     0.85786,     0.85886,     0.85986,     0.86086,     0.86186,     0.86286,     0.86386,\n",
       "           0.86486,     0.86587,     0.86687,     0.86787,     0.86887,     0.86987,     0.87087,     0.87187,     0.87287,     0.87387,     0.87487,     0.87588,     0.87688,     0.87788,     0.87888,     0.87988,     0.88088,     0.88188,     0.88288,     0.88388,     0.88488,     0.88589,     0.88689,     0.88789,\n",
       "           0.88889,     0.88989,     0.89089,     0.89189,     0.89289,     0.89389,     0.89489,      0.8959,      0.8969,      0.8979,      0.8989,      0.8999,      0.9009,      0.9019,      0.9029,      0.9039,      0.9049,     0.90591,     0.90691,     0.90791,     0.90891,     0.90991,     0.91091,     0.91191,\n",
       "           0.91291,     0.91391,     0.91491,     0.91592,     0.91692,     0.91792,     0.91892,     0.91992,     0.92092,     0.92192,     0.92292,     0.92392,     0.92492,     0.92593,     0.92693,     0.92793,     0.92893,     0.92993,     0.93093,     0.93193,     0.93293,     0.93393,     0.93493,     0.93594,\n",
       "           0.93694,     0.93794,     0.93894,     0.93994,     0.94094,     0.94194,     0.94294,     0.94394,     0.94494,     0.94595,     0.94695,     0.94795,     0.94895,     0.94995,     0.95095,     0.95195,     0.95295,     0.95395,     0.95495,     0.95596,     0.95696,     0.95796,     0.95896,     0.95996,\n",
       "           0.96096,     0.96196,     0.96296,     0.96396,     0.96496,     0.96597,     0.96697,     0.96797,     0.96897,     0.96997,     0.97097,     0.97197,     0.97297,     0.97397,     0.97497,     0.97598,     0.97698,     0.97798,     0.97898,     0.97998,     0.98098,     0.98198,     0.98298,     0.98398,\n",
       "           0.98498,     0.98599,     0.98699,     0.98799,     0.98899,     0.98999,     0.99099,     0.99199,     0.99299,     0.99399,     0.99499,       0.996,       0.997,       0.998,       0.999,           1]), array([[          1,           1,           1,           1,           1,           1,           1,           1,           1,           1,           1,           1,           1,           1,           1,           1,           1,           1,           1,           1,           1,           1,           1,\n",
       "                  1,           1,           1,           1,           1,           1,           1,           1,           1,           1,           1,           1,           1,           1,           1,           1,           1,           1,           1,           1,           1,           1,           1,\n",
       "                  1,           1,           1,           1,           1,           1,           1,           1,           1,           1,           1,           1,           1,           1,           1,           1,           1,           1,           1,           1,           1,           1,           1,\n",
       "                  1,           1,           1,           1,           1,           1,           1,           1,           1,           1,           1,           1,           1,           1,           1,           1,           1,           1,           1,           1,           1,           1,           1,\n",
       "                  1,           1,           1,           1,           1,           1,           1,           1,           1,           1,           1,           1,           1,           1,           1,           1,           1,           1,           1,           1,           1,           1,           1,\n",
       "                  1,           1,           1,           1,           1,           1,           1,           1,           1,           1,           1,           1,           1,           1,           1,           1,           1,           1,           1,           1,           1,           1,           1,\n",
       "                  1,           1,           1,           1,           1,           1,           1,           1,           1,           1,           1,           1,           1,           1,           1,           1,           1,           1,           1,           1,           1,           1,           1,\n",
       "                  1,           1,           1,           1,           1,           1,           1,           1,           1,           1,           1,           1,           1,           1,           1,           1,           1,           1,           1,           1,           1,           1,           1,\n",
       "                  1,           1,           1,           1,           1,           1,           1,           1,           1,           1,           1,           1,           1,           1,           1,           1,           1,           1,           1,           1,           1,           1,           1,\n",
       "                  1,           1,           1,           1,           1,           1,           1,           1,           1,           1,           1,           1,           1,           1,           1,           1,           1,           1,           1,           1,           1,           1,           1,\n",
       "                  1,           1,           1,           1,           1,           1,           1,           1,           1,           1,           1,           1,           1,           1,           1,           1,           1,           1,           1,           1,           1,           1,           1,\n",
       "            0.96364,     0.96364,     0.96364,     0.96364,     0.96364,     0.96364,     0.96364,     0.96364,     0.96364,     0.96364,     0.96364,     0.96364,     0.96364,     0.96364,     0.96364,     0.96364,     0.96364,     0.96364,     0.96364,     0.96364,     0.96364,     0.96364,     0.96364,\n",
       "            0.96364,     0.96364,     0.96364,     0.96364,     0.96364,     0.96364,     0.96364,     0.96364,     0.96364,     0.96364,     0.96364,     0.96364,     0.96364,     0.96364,     0.96364,     0.96364,     0.96364,     0.96364,     0.96364,     0.96364,     0.96364,     0.96364,     0.96364,\n",
       "            0.96364,     0.96364,     0.96364,     0.96364,     0.96364,     0.96364,     0.96364,     0.96364,     0.96364,     0.96364,     0.96364,     0.96364,     0.96364,     0.96364,     0.96364,     0.96364,     0.96364,     0.96364,     0.96364,     0.96364,     0.96364,     0.96364,     0.96364,\n",
       "            0.96364,     0.96364,     0.96364,     0.96364,     0.96364,     0.96364,     0.96364,     0.96364,     0.96364,     0.96364,     0.96364,     0.96364,     0.96364,     0.96364,     0.96364,     0.96364,     0.96364,     0.96364,     0.96364,     0.96364,     0.96364,     0.96364,     0.96364,\n",
       "            0.96364,     0.96364,     0.96364,     0.96364,     0.96364,     0.96364,     0.96364,     0.96364,     0.96364,     0.96364,     0.96364,     0.96364,     0.96364,     0.96364,     0.96364,     0.96364,     0.96364,     0.96364,     0.96364,     0.96364,     0.96364,     0.96364,     0.96364,\n",
       "            0.96364,     0.96364,     0.96364,     0.96364,     0.96364,     0.96364,     0.96364,     0.96364,     0.96364,     0.96364,     0.96364,     0.96364,     0.96364,     0.96364,     0.96364,     0.96364,     0.96364,     0.96364,     0.96364,     0.96364,     0.96364,     0.96364,     0.96364,\n",
       "            0.96364,     0.96364,     0.96364,     0.96364,     0.96364,     0.96364,     0.96364,     0.96364,     0.96364,     0.96364,     0.96364,     0.96364,     0.96364,     0.96364,     0.96364,     0.96364,     0.96364,     0.96364,     0.96364,     0.96364,     0.96364,     0.96364,     0.96364,\n",
       "            0.96364,     0.96364,     0.96364,     0.96364,     0.96364,     0.96364,     0.96364,     0.96364,     0.96364,     0.96364,     0.96364,     0.96364,     0.96364,     0.96364,     0.96364,     0.96364,     0.96364,     0.96364,     0.96364,     0.96364,     0.96364,     0.96364,     0.96364,\n",
       "            0.96364,     0.96364,     0.96364,     0.96364,     0.96364,     0.96364,     0.96364,     0.96364,     0.96364,     0.96364,     0.96364,     0.96364,     0.96364,     0.96364,     0.96364,     0.96364,     0.96364,     0.96364,     0.96364,     0.96364,     0.96364,     0.96364,     0.96364,\n",
       "            0.96364,     0.96364,     0.96364,     0.96364,     0.96364,     0.96364,     0.96364,     0.96364,     0.96364,     0.96364,     0.96364,     0.96364,     0.96364,     0.96364,     0.96364,     0.96364,     0.96364,     0.96364,     0.96364,     0.96364,     0.96364,     0.96364,     0.96364,\n",
       "            0.96364,     0.96364,     0.96364,     0.96364,     0.96364,     0.96364,     0.96364,     0.96364,     0.96364,     0.96364,     0.96364,     0.96364,     0.96364,     0.96364,     0.96364,     0.96364,     0.96364,     0.96364,     0.96364,     0.96364,     0.96364,     0.96364,     0.96364,\n",
       "            0.96364,     0.96364,     0.96364,     0.96364,     0.96364,     0.96364,     0.96364,     0.96364,     0.96364,     0.96364,     0.96364,     0.96364,     0.96364,     0.96364,     0.96364,     0.96364,     0.96364,     0.96364,     0.96364,     0.96364,     0.96364,     0.96364,     0.96364,\n",
       "            0.96364,     0.96364,     0.96364,     0.96364,     0.96364,     0.96364,     0.96364,     0.96364,     0.96364,     0.96364,     0.96364,     0.96364,     0.96364,     0.96364,     0.96364,     0.96364,     0.96364,     0.96364,     0.96364,     0.96364,     0.96364,     0.96364,     0.96364,\n",
       "            0.96364,     0.96364,     0.96364,     0.96364,     0.96364,     0.96364,     0.95312,     0.95312,     0.95312,     0.95312,     0.95312,     0.95312,     0.95312,     0.95312,     0.95312,     0.95312,     0.95312,     0.95312,     0.95312,     0.95312,     0.95312,     0.95312,     0.95312,\n",
       "            0.95312,     0.95312,     0.95312,     0.95312,     0.95312,     0.95312,     0.95312,     0.95312,     0.95312,     0.95312,     0.95312,     0.95312,     0.95312,     0.95312,     0.95312,     0.95312,     0.95312,     0.95312,     0.95312,     0.95312,     0.95312,     0.95312,     0.95312,\n",
       "            0.95312,     0.95312,     0.95312,     0.95312,     0.95312,     0.95312,     0.95312,     0.95312,     0.95312,     0.95312,     0.95312,     0.95312,     0.95312,     0.95312,     0.95312,     0.95312,     0.95312,     0.95312,     0.95312,     0.95312,     0.95312,     0.95312,     0.95312,\n",
       "            0.95312,     0.95312,     0.95312,     0.95312,     0.95312,     0.95312,     0.95312,     0.95312,     0.95312,     0.95312,     0.95312,     0.95312,     0.95312,     0.95312,     0.95312,     0.95312,     0.95312,     0.95312,     0.95312,     0.95312,     0.95312,     0.94203,     0.94203,\n",
       "            0.94203,     0.94203,     0.94203,     0.94203,     0.94203,     0.94203,     0.94203,     0.94203,     0.94203,     0.94203,     0.94203,     0.94203,     0.94203,     0.94203,     0.94203,     0.94203,     0.94203,     0.94203,     0.94203,     0.94203,     0.94203,     0.94203,     0.94203,\n",
       "            0.94203,     0.94203,     0.94203,     0.94203,     0.94203,     0.94203,     0.94203,     0.94203,     0.94203,     0.94203,     0.94203,     0.94203,     0.94203,     0.94203,     0.94203,     0.94203,     0.94203,     0.90541,     0.90541,     0.90541,     0.90541,     0.90541,     0.90541,\n",
       "            0.90541,     0.90541,     0.90541,     0.90541,     0.90541,     0.90541,     0.90541,     0.90541,     0.90541,     0.90541,     0.90541,     0.90541,     0.90541,     0.90541,     0.90541,     0.88312,     0.88312,     0.88312,     0.88312,     0.88312,     0.88312,     0.88312,     0.88312,\n",
       "            0.88312,     0.88312,     0.88312,       0.875,       0.875,       0.875,       0.875,       0.875,       0.875,       0.875,       0.875,       0.875,       0.875,       0.875,       0.875,       0.875,       0.875,       0.875,       0.875,       0.875,       0.875,       0.875,       0.875,\n",
       "              0.875,     0.86585,     0.86585,     0.86585,     0.86585,     0.86585,     0.86585,     0.86585,     0.86585,     0.86585,     0.86585,     0.83908,     0.83908,     0.83908,     0.83908,     0.83908,     0.83908,     0.83908,     0.83908,     0.83908,     0.83908,     0.83908,     0.83908,\n",
       "            0.83908,     0.83908,     0.83908,     0.83908,     0.83908,     0.83908,     0.83908,     0.83908,     0.83908,     0.76289,     0.76289,     0.76289,     0.76289,     0.76289,     0.76289,     0.76289,     0.76289,     0.76289,     0.76289,     0.76289,     0.75758,     0.75758,     0.75758,\n",
       "            0.75758,     0.75758,     0.75758,     0.75758,     0.75758,     0.75758,     0.75758,     0.72642,     0.72642,     0.72642,     0.72642,     0.72642,     0.72642,     0.72642,     0.72642,     0.72642,     0.72642,     0.72642,     0.72642,     0.72642,     0.72642,     0.72642,     0.72642,\n",
       "            0.72642,     0.72642,     0.72642,     0.72642,     0.72642,     0.72222,     0.72222,     0.72222,     0.72222,     0.72222,     0.72222,     0.72222,     0.72222,     0.72222,     0.72222,     0.72222,     0.60769,     0.60769,     0.60769,     0.60769,     0.60769,     0.60769,     0.60769,\n",
       "            0.60769,     0.60769,     0.60769,     0.57971,     0.57971,     0.57971,     0.57971,     0.57971,     0.57971,     0.57971,     0.57971,     0.57971,     0.57971,     0.57971,     0.43316,     0.43316,     0.43316,     0.43316,     0.43316,     0.43316,     0.43316,     0.43316,     0.43316,\n",
       "            0.43316,     0.15356,     0.15356,     0.15356,     0.15356,     0.15356,     0.15356,     0.15356,     0.15356,     0.15356,     0.15356,     0.15356,     0.12824,     0.12824,     0.12824,     0.12824,     0.12824,     0.12824,     0.12824,     0.12824,     0.12824,     0.12824,     0.12824,\n",
       "            0.12824,     0.12824,     0.12824,     0.12824,     0.12824,     0.12824,     0.12824,     0.12824,     0.12824,     0.12824,    0.078923,    0.078923,    0.078923,    0.078923,    0.078923,    0.078923,    0.078923,    0.078923,    0.078923,    0.078923,    0.060193,     0.05962,    0.059047,\n",
       "           0.058473,      0.0579,    0.057327,    0.056754,     0.05618,    0.055607,    0.055034,     0.05446,    0.053887,    0.053314,    0.052741,    0.052167,    0.051594,    0.051021,    0.050448,    0.049874,    0.049301,    0.048728,    0.048155,    0.047581,    0.047008,    0.046435,    0.045861,\n",
       "           0.045288,    0.044715,    0.044142,    0.043568,    0.042995,    0.042422,    0.041849,    0.041275,    0.040702,    0.040129,    0.039556,    0.038982,    0.038409,    0.037836,    0.037262,    0.036689,    0.036116,    0.035543,    0.034969,    0.034396,    0.033823,     0.03325,    0.032676,\n",
       "           0.032103,     0.03153,    0.030956,    0.030383,     0.02981,    0.029237,    0.028663,     0.02809,    0.027517,    0.026944,     0.02637,    0.025797,    0.025224,    0.024651,    0.024077,    0.023504,    0.022931,    0.022357,    0.021784,    0.021211,    0.020638,    0.020064,    0.019491,\n",
       "           0.018918,    0.018345,    0.017771,    0.017198,    0.016625,    0.016052,    0.015478,    0.014905,    0.014332,    0.013758,    0.013185,    0.012612,    0.012039,    0.011465,    0.010892,    0.010319,   0.0097456,   0.0091723,    0.008599,   0.0080258,   0.0074525,   0.0068792,    0.006306,\n",
       "          0.0057327,   0.0051594,   0.0045861,   0.0040129,   0.0034396,   0.0028663,   0.0022931,   0.0017198,   0.0011465,  0.00057327,           0]]), 'Recall', 'Precision'], [array([          0,    0.001001,    0.002002,    0.003003,    0.004004,    0.005005,    0.006006,    0.007007,    0.008008,    0.009009,     0.01001,    0.011011,    0.012012,    0.013013,    0.014014,    0.015015,    0.016016,    0.017017,    0.018018,    0.019019,     0.02002,    0.021021,    0.022022,    0.023023,\n",
       "          0.024024,    0.025025,    0.026026,    0.027027,    0.028028,    0.029029,     0.03003,    0.031031,    0.032032,    0.033033,    0.034034,    0.035035,    0.036036,    0.037037,    0.038038,    0.039039,     0.04004,    0.041041,    0.042042,    0.043043,    0.044044,    0.045045,    0.046046,    0.047047,\n",
       "          0.048048,    0.049049,     0.05005,    0.051051,    0.052052,    0.053053,    0.054054,    0.055055,    0.056056,    0.057057,    0.058058,    0.059059,     0.06006,    0.061061,    0.062062,    0.063063,    0.064064,    0.065065,    0.066066,    0.067067,    0.068068,    0.069069,     0.07007,    0.071071,\n",
       "          0.072072,    0.073073,    0.074074,    0.075075,    0.076076,    0.077077,    0.078078,    0.079079,     0.08008,    0.081081,    0.082082,    0.083083,    0.084084,    0.085085,    0.086086,    0.087087,    0.088088,    0.089089,     0.09009,    0.091091,    0.092092,    0.093093,    0.094094,    0.095095,\n",
       "          0.096096,    0.097097,    0.098098,    0.099099,      0.1001,      0.1011,      0.1021,      0.1031,      0.1041,     0.10511,     0.10611,     0.10711,     0.10811,     0.10911,     0.11011,     0.11111,     0.11211,     0.11311,     0.11411,     0.11512,     0.11612,     0.11712,     0.11812,     0.11912,\n",
       "           0.12012,     0.12112,     0.12212,     0.12312,     0.12412,     0.12513,     0.12613,     0.12713,     0.12813,     0.12913,     0.13013,     0.13113,     0.13213,     0.13313,     0.13413,     0.13514,     0.13614,     0.13714,     0.13814,     0.13914,     0.14014,     0.14114,     0.14214,     0.14314,\n",
       "           0.14414,     0.14515,     0.14615,     0.14715,     0.14815,     0.14915,     0.15015,     0.15115,     0.15215,     0.15315,     0.15415,     0.15516,     0.15616,     0.15716,     0.15816,     0.15916,     0.16016,     0.16116,     0.16216,     0.16316,     0.16416,     0.16517,     0.16617,     0.16717,\n",
       "           0.16817,     0.16917,     0.17017,     0.17117,     0.17217,     0.17317,     0.17417,     0.17518,     0.17618,     0.17718,     0.17818,     0.17918,     0.18018,     0.18118,     0.18218,     0.18318,     0.18418,     0.18519,     0.18619,     0.18719,     0.18819,     0.18919,     0.19019,     0.19119,\n",
       "           0.19219,     0.19319,     0.19419,      0.1952,      0.1962,      0.1972,      0.1982,      0.1992,      0.2002,      0.2012,      0.2022,      0.2032,      0.2042,     0.20521,     0.20621,     0.20721,     0.20821,     0.20921,     0.21021,     0.21121,     0.21221,     0.21321,     0.21421,     0.21522,\n",
       "           0.21622,     0.21722,     0.21822,     0.21922,     0.22022,     0.22122,     0.22222,     0.22322,     0.22422,     0.22523,     0.22623,     0.22723,     0.22823,     0.22923,     0.23023,     0.23123,     0.23223,     0.23323,     0.23423,     0.23524,     0.23624,     0.23724,     0.23824,     0.23924,\n",
       "           0.24024,     0.24124,     0.24224,     0.24324,     0.24424,     0.24525,     0.24625,     0.24725,     0.24825,     0.24925,     0.25025,     0.25125,     0.25225,     0.25325,     0.25425,     0.25526,     0.25626,     0.25726,     0.25826,     0.25926,     0.26026,     0.26126,     0.26226,     0.26326,\n",
       "           0.26426,     0.26527,     0.26627,     0.26727,     0.26827,     0.26927,     0.27027,     0.27127,     0.27227,     0.27327,     0.27427,     0.27528,     0.27628,     0.27728,     0.27828,     0.27928,     0.28028,     0.28128,     0.28228,     0.28328,     0.28428,     0.28529,     0.28629,     0.28729,\n",
       "           0.28829,     0.28929,     0.29029,     0.29129,     0.29229,     0.29329,     0.29429,      0.2953,      0.2963,      0.2973,      0.2983,      0.2993,      0.3003,      0.3013,      0.3023,      0.3033,      0.3043,     0.30531,     0.30631,     0.30731,     0.30831,     0.30931,     0.31031,     0.31131,\n",
       "           0.31231,     0.31331,     0.31431,     0.31532,     0.31632,     0.31732,     0.31832,     0.31932,     0.32032,     0.32132,     0.32232,     0.32332,     0.32432,     0.32533,     0.32633,     0.32733,     0.32833,     0.32933,     0.33033,     0.33133,     0.33233,     0.33333,     0.33433,     0.33534,\n",
       "           0.33634,     0.33734,     0.33834,     0.33934,     0.34034,     0.34134,     0.34234,     0.34334,     0.34434,     0.34535,     0.34635,     0.34735,     0.34835,     0.34935,     0.35035,     0.35135,     0.35235,     0.35335,     0.35435,     0.35536,     0.35636,     0.35736,     0.35836,     0.35936,\n",
       "           0.36036,     0.36136,     0.36236,     0.36336,     0.36436,     0.36537,     0.36637,     0.36737,     0.36837,     0.36937,     0.37037,     0.37137,     0.37237,     0.37337,     0.37437,     0.37538,     0.37638,     0.37738,     0.37838,     0.37938,     0.38038,     0.38138,     0.38238,     0.38338,\n",
       "           0.38438,     0.38539,     0.38639,     0.38739,     0.38839,     0.38939,     0.39039,     0.39139,     0.39239,     0.39339,     0.39439,      0.3954,      0.3964,      0.3974,      0.3984,      0.3994,      0.4004,      0.4014,      0.4024,      0.4034,      0.4044,     0.40541,     0.40641,     0.40741,\n",
       "           0.40841,     0.40941,     0.41041,     0.41141,     0.41241,     0.41341,     0.41441,     0.41542,     0.41642,     0.41742,     0.41842,     0.41942,     0.42042,     0.42142,     0.42242,     0.42342,     0.42442,     0.42543,     0.42643,     0.42743,     0.42843,     0.42943,     0.43043,     0.43143,\n",
       "           0.43243,     0.43343,     0.43443,     0.43544,     0.43644,     0.43744,     0.43844,     0.43944,     0.44044,     0.44144,     0.44244,     0.44344,     0.44444,     0.44545,     0.44645,     0.44745,     0.44845,     0.44945,     0.45045,     0.45145,     0.45245,     0.45345,     0.45445,     0.45546,\n",
       "           0.45646,     0.45746,     0.45846,     0.45946,     0.46046,     0.46146,     0.46246,     0.46346,     0.46446,     0.46547,     0.46647,     0.46747,     0.46847,     0.46947,     0.47047,     0.47147,     0.47247,     0.47347,     0.47447,     0.47548,     0.47648,     0.47748,     0.47848,     0.47948,\n",
       "           0.48048,     0.48148,     0.48248,     0.48348,     0.48448,     0.48549,     0.48649,     0.48749,     0.48849,     0.48949,     0.49049,     0.49149,     0.49249,     0.49349,     0.49449,      0.4955,      0.4965,      0.4975,      0.4985,      0.4995,      0.5005,      0.5015,      0.5025,      0.5035,\n",
       "            0.5045,     0.50551,     0.50651,     0.50751,     0.50851,     0.50951,     0.51051,     0.51151,     0.51251,     0.51351,     0.51451,     0.51552,     0.51652,     0.51752,     0.51852,     0.51952,     0.52052,     0.52152,     0.52252,     0.52352,     0.52452,     0.52553,     0.52653,     0.52753,\n",
       "           0.52853,     0.52953,     0.53053,     0.53153,     0.53253,     0.53353,     0.53453,     0.53554,     0.53654,     0.53754,     0.53854,     0.53954,     0.54054,     0.54154,     0.54254,     0.54354,     0.54454,     0.54555,     0.54655,     0.54755,     0.54855,     0.54955,     0.55055,     0.55155,\n",
       "           0.55255,     0.55355,     0.55455,     0.55556,     0.55656,     0.55756,     0.55856,     0.55956,     0.56056,     0.56156,     0.56256,     0.56356,     0.56456,     0.56557,     0.56657,     0.56757,     0.56857,     0.56957,     0.57057,     0.57157,     0.57257,     0.57357,     0.57457,     0.57558,\n",
       "           0.57658,     0.57758,     0.57858,     0.57958,     0.58058,     0.58158,     0.58258,     0.58358,     0.58458,     0.58559,     0.58659,     0.58759,     0.58859,     0.58959,     0.59059,     0.59159,     0.59259,     0.59359,     0.59459,      0.5956,      0.5966,      0.5976,      0.5986,      0.5996,\n",
       "            0.6006,      0.6016,      0.6026,      0.6036,      0.6046,     0.60561,     0.60661,     0.60761,     0.60861,     0.60961,     0.61061,     0.61161,     0.61261,     0.61361,     0.61461,     0.61562,     0.61662,     0.61762,     0.61862,     0.61962,     0.62062,     0.62162,     0.62262,     0.62362,\n",
       "           0.62462,     0.62563,     0.62663,     0.62763,     0.62863,     0.62963,     0.63063,     0.63163,     0.63263,     0.63363,     0.63463,     0.63564,     0.63664,     0.63764,     0.63864,     0.63964,     0.64064,     0.64164,     0.64264,     0.64364,     0.64464,     0.64565,     0.64665,     0.64765,\n",
       "           0.64865,     0.64965,     0.65065,     0.65165,     0.65265,     0.65365,     0.65465,     0.65566,     0.65666,     0.65766,     0.65866,     0.65966,     0.66066,     0.66166,     0.66266,     0.66366,     0.66466,     0.66567,     0.66667,     0.66767,     0.66867,     0.66967,     0.67067,     0.67167,\n",
       "           0.67267,     0.67367,     0.67467,     0.67568,     0.67668,     0.67768,     0.67868,     0.67968,     0.68068,     0.68168,     0.68268,     0.68368,     0.68468,     0.68569,     0.68669,     0.68769,     0.68869,     0.68969,     0.69069,     0.69169,     0.69269,     0.69369,     0.69469,      0.6957,\n",
       "            0.6967,      0.6977,      0.6987,      0.6997,      0.7007,      0.7017,      0.7027,      0.7037,      0.7047,     0.70571,     0.70671,     0.70771,     0.70871,     0.70971,     0.71071,     0.71171,     0.71271,     0.71371,     0.71471,     0.71572,     0.71672,     0.71772,     0.71872,     0.71972,\n",
       "           0.72072,     0.72172,     0.72272,     0.72372,     0.72472,     0.72573,     0.72673,     0.72773,     0.72873,     0.72973,     0.73073,     0.73173,     0.73273,     0.73373,     0.73473,     0.73574,     0.73674,     0.73774,     0.73874,     0.73974,     0.74074,     0.74174,     0.74274,     0.74374,\n",
       "           0.74474,     0.74575,     0.74675,     0.74775,     0.74875,     0.74975,     0.75075,     0.75175,     0.75275,     0.75375,     0.75475,     0.75576,     0.75676,     0.75776,     0.75876,     0.75976,     0.76076,     0.76176,     0.76276,     0.76376,     0.76476,     0.76577,     0.76677,     0.76777,\n",
       "           0.76877,     0.76977,     0.77077,     0.77177,     0.77277,     0.77377,     0.77477,     0.77578,     0.77678,     0.77778,     0.77878,     0.77978,     0.78078,     0.78178,     0.78278,     0.78378,     0.78478,     0.78579,     0.78679,     0.78779,     0.78879,     0.78979,     0.79079,     0.79179,\n",
       "           0.79279,     0.79379,     0.79479,      0.7958,      0.7968,      0.7978,      0.7988,      0.7998,      0.8008,      0.8018,      0.8028,      0.8038,      0.8048,     0.80581,     0.80681,     0.80781,     0.80881,     0.80981,     0.81081,     0.81181,     0.81281,     0.81381,     0.81481,     0.81582,\n",
       "           0.81682,     0.81782,     0.81882,     0.81982,     0.82082,     0.82182,     0.82282,     0.82382,     0.82482,     0.82583,     0.82683,     0.82783,     0.82883,     0.82983,     0.83083,     0.83183,     0.83283,     0.83383,     0.83483,     0.83584,     0.83684,     0.83784,     0.83884,     0.83984,\n",
       "           0.84084,     0.84184,     0.84284,     0.84384,     0.84484,     0.84585,     0.84685,     0.84785,     0.84885,     0.84985,     0.85085,     0.85185,     0.85285,     0.85385,     0.85485,     0.85586,     0.85686,     0.85786,     0.85886,     0.85986,     0.86086,     0.86186,     0.86286,     0.86386,\n",
       "           0.86486,     0.86587,     0.86687,     0.86787,     0.86887,     0.86987,     0.87087,     0.87187,     0.87287,     0.87387,     0.87487,     0.87588,     0.87688,     0.87788,     0.87888,     0.87988,     0.88088,     0.88188,     0.88288,     0.88388,     0.88488,     0.88589,     0.88689,     0.88789,\n",
       "           0.88889,     0.88989,     0.89089,     0.89189,     0.89289,     0.89389,     0.89489,      0.8959,      0.8969,      0.8979,      0.8989,      0.8999,      0.9009,      0.9019,      0.9029,      0.9039,      0.9049,     0.90591,     0.90691,     0.90791,     0.90891,     0.90991,     0.91091,     0.91191,\n",
       "           0.91291,     0.91391,     0.91491,     0.91592,     0.91692,     0.91792,     0.91892,     0.91992,     0.92092,     0.92192,     0.92292,     0.92392,     0.92492,     0.92593,     0.92693,     0.92793,     0.92893,     0.92993,     0.93093,     0.93193,     0.93293,     0.93393,     0.93493,     0.93594,\n",
       "           0.93694,     0.93794,     0.93894,     0.93994,     0.94094,     0.94194,     0.94294,     0.94394,     0.94494,     0.94595,     0.94695,     0.94795,     0.94895,     0.94995,     0.95095,     0.95195,     0.95295,     0.95395,     0.95495,     0.95596,     0.95696,     0.95796,     0.95896,     0.95996,\n",
       "           0.96096,     0.96196,     0.96296,     0.96396,     0.96496,     0.96597,     0.96697,     0.96797,     0.96897,     0.96997,     0.97097,     0.97197,     0.97297,     0.97397,     0.97497,     0.97598,     0.97698,     0.97798,     0.97898,     0.97998,     0.98098,     0.98198,     0.98298,     0.98398,\n",
       "           0.98498,     0.98599,     0.98699,     0.98799,     0.98899,     0.98999,     0.99099,     0.99199,     0.99299,     0.99399,     0.99499,       0.996,       0.997,       0.998,       0.999,           1]), array([[    0.11296,     0.11296,     0.17372,     0.21987,     0.24451,     0.27009,     0.29566,     0.31574,     0.33363,     0.34706,     0.35762,     0.37202,      0.3882,     0.39918,     0.41386,     0.42188,     0.42811,     0.43768,     0.44491,     0.44952,     0.45395,     0.45774,     0.46518,\n",
       "            0.47128,     0.47498,     0.48378,     0.48624,       0.494,     0.49493,     0.49691,     0.50169,     0.50717,     0.51038,     0.51497,     0.51845,     0.52171,     0.52619,     0.52723,     0.53091,     0.53285,       0.538,     0.54152,     0.54279,     0.54422,     0.55305,     0.55457,\n",
       "            0.55874,     0.56006,     0.56169,     0.56537,     0.56743,     0.57124,     0.57278,     0.56959,     0.57045,      0.5713,     0.57311,      0.5742,     0.57509,     0.57675,     0.58026,     0.58111,     0.58228,      0.5863,     0.58714,     0.58798,     0.58961,      0.5922,     0.59703,\n",
       "            0.59845,     0.59951,      0.6001,      0.6007,     0.60129,     0.60397,     0.60446,     0.60495,     0.60543,     0.60592,     0.60755,     0.60992,     0.61563,     0.61725,     0.61805,     0.61848,     0.61891,     0.61933,     0.61976,     0.62034,     0.62287,     0.62748,     0.63132,\n",
       "            0.63424,     0.63717,     0.63779,     0.63816,     0.63854,     0.63892,     0.63929,     0.63967,      0.6401,      0.6409,     0.64169,     0.64249,     0.64348,     0.64449,     0.64564,     0.64706,     0.64913,     0.65232,     0.65358,     0.65424,     0.65489,     0.65555,     0.65664,\n",
       "             0.6579,     0.65939,     0.66104,     0.66277,      0.6669,     0.66918,     0.67077,     0.67226,      0.6733,     0.67433,     0.67541,     0.67665,     0.67788,     0.67836,     0.67878,     0.67921,     0.67963,     0.68005,     0.68047,     0.68098,     0.68224,     0.68349,     0.68662,\n",
       "            0.68517,     0.68372,     0.68227,     0.68117,     0.68211,     0.68304,     0.68396,     0.68518,      0.6864,     0.68829,     0.69011,     0.69058,     0.69105,     0.69151,     0.69198,     0.69245,     0.69292,     0.69331,     0.69369,     0.69407,     0.69445,     0.69483,     0.69521,\n",
       "            0.69558,     0.69596,     0.69761,      0.6993,     0.70012,     0.70095,     0.70177,     0.70131,     0.69924,     0.69718,     0.69653,     0.69669,     0.69684,       0.697,     0.69716,     0.69732,     0.69747,     0.69763,     0.69779,     0.69795,      0.6981,     0.69826,     0.69842,\n",
       "            0.69857,     0.69873,     0.69889,     0.69904,      0.6992,     0.69936,     0.69951,     0.70291,     0.70317,     0.70344,     0.70371,     0.70397,     0.70424,      0.7045,     0.70477,     0.70504,      0.7053,     0.70557,     0.70583,      0.7069,     0.70815,     0.71236,     0.71251,\n",
       "            0.71265,      0.7128,     0.71294,     0.71308,     0.71323,     0.71337,     0.71351,     0.71366,      0.7138,     0.71394,     0.71409,     0.71423,     0.71437,     0.71452,     0.71466,      0.7148,     0.71495,     0.71509,     0.71523,     0.71537,     0.71552,     0.71631,      0.7179,\n",
       "            0.71898,      0.7192,     0.71943,     0.71965,     0.71987,      0.7201,     0.72032,     0.72055,     0.72077,     0.72099,     0.72122,     0.72144,     0.72166,     0.72189,     0.72211,     0.72273,     0.72375,     0.72477,     0.72589,     0.72744,     0.72898,     0.72962,     0.73025,\n",
       "            0.73089,     0.73153,     0.73217,     0.73353,      0.7353,     0.73598,     0.73618,     0.73637,     0.73656,     0.73676,     0.73695,     0.73714,     0.73734,     0.73753,     0.73772,     0.73792,     0.73811,      0.7383,      0.7385,     0.73869,     0.73888,     0.73907,     0.73927,\n",
       "            0.73988,     0.74073,     0.74158,     0.74243,      0.7443,     0.74653,     0.74698,     0.74743,     0.74788,     0.74832,     0.74877,     0.74921,     0.74966,     0.75024,      0.7513,     0.75237,     0.75342,     0.75606,     0.75756,     0.75804,     0.75851,     0.75899,     0.75946,\n",
       "            0.75993,      0.7604,     0.76088,     0.76129,      0.7617,      0.7621,      0.7625,     0.76291,     0.76331,     0.76371,     0.76411,     0.76451,     0.76513,     0.76594,     0.76676,     0.76757,     0.76838,     0.76755,     0.76651,     0.76547,     0.76443,     0.76339,     0.76239,\n",
       "            0.76281,     0.76323,     0.76365,     0.76408,      0.7645,     0.76492,     0.76533,     0.76575,     0.76616,     0.76537,     0.76459,      0.7638,     0.76301,     0.76221,     0.76142,     0.76063,     0.75827,     0.75396,     0.75438,     0.75479,      0.7552,     0.75561,     0.75602,\n",
       "            0.75643,     0.75684,     0.75725,     0.75766,     0.75809,     0.75852,     0.75895,     0.75937,      0.7598,     0.76022,     0.76065,     0.76107,     0.76146,     0.76167,     0.76188,     0.76209,      0.7623,     0.76251,     0.76272,     0.76293,     0.76314,     0.76335,     0.76356,\n",
       "            0.76377,     0.76398,     0.76419,      0.7644,     0.76461,     0.76481,     0.76502,     0.76523,     0.76559,     0.76604,     0.76649,     0.76694,     0.76739,     0.76783,     0.76828,     0.76872,     0.76917,      0.7718,     0.76808,     0.76821,     0.77026,     0.77059,     0.77024,\n",
       "            0.76989,     0.76955,      0.7692,     0.76885,     0.76851,     0.76816,     0.76781,     0.76746,     0.76712,     0.76677,     0.76642,     0.76608,     0.76573,     0.76538,     0.76503,     0.76468,     0.76515,     0.76859,     0.76943,     0.77026,      0.7711,     0.77193,     0.77254,\n",
       "            0.77269,     0.77284,     0.77299,     0.77313,     0.77328,     0.77343,     0.77358,     0.77373,     0.77388,     0.77403,     0.77418,     0.77433,     0.77448,     0.77463,     0.77478,     0.77493,     0.77508,     0.77522,     0.77537,     0.77552,     0.77567,     0.77582,     0.77597,\n",
       "            0.77612,     0.77626,     0.77641,     0.77656,     0.77742,     0.77848,     0.77954,     0.78061,     0.78128,      0.7819,     0.78252,     0.78313,     0.78374,     0.78436,     0.78495,      0.7852,     0.78545,     0.78569,     0.78594,     0.78618,     0.78643,     0.78668,     0.78692,\n",
       "            0.78717,     0.78741,     0.78766,      0.7879,     0.78814,     0.78839,     0.78863,     0.78888,     0.78912,      0.7894,      0.7897,     0.78999,     0.79028,     0.79058,     0.79087,     0.79116,     0.79146,     0.79175,     0.79204,     0.79234,     0.79263,     0.79292,     0.79321,\n",
       "            0.79367,      0.7959,     0.79842,     0.80215,     0.80183,      0.8015,     0.80118,     0.80086,     0.80054,     0.80021,     0.79989,     0.79957,     0.79925,     0.79892,      0.7986,     0.79828,     0.79795,     0.79763,     0.79731,     0.79698,     0.79666,     0.79634,     0.79601,\n",
       "            0.79569,     0.79516,     0.79454,     0.79392,      0.7933,     0.79267,     0.79205,     0.79143,      0.7908,     0.79018,     0.78955,     0.78893,     0.78974,     0.79065,     0.79155,     0.79245,     0.79331,     0.79358,     0.79385,     0.79412,     0.79439,     0.79466,     0.79493,\n",
       "             0.7952,     0.79547,     0.79574,     0.79601,     0.79627,     0.79654,     0.79681,     0.79708,     0.79735,     0.79761,     0.79797,     0.79844,      0.7989,     0.79937,     0.79983,     0.80029,     0.80075,     0.80121,     0.80167,     0.80213,     0.80154,     0.80055,     0.79956,\n",
       "            0.79856,     0.79756,     0.79656,     0.79556,     0.79712,     0.79899,     0.79841,     0.79487,     0.79271,     0.79191,     0.79112,     0.79033,     0.78953,     0.78874,     0.78794,     0.78715,     0.78635,     0.79031,     0.78978,     0.78924,     0.78871,     0.78817,     0.78763,\n",
       "             0.7871,     0.78656,     0.78602,     0.78548,     0.78495,     0.78441,     0.78387,     0.78833,      0.7885,     0.78867,     0.78885,     0.78902,     0.78919,     0.78936,     0.78953,      0.7897,     0.78987,     0.79005,     0.79022,     0.79039,     0.79056,     0.79073,      0.7909,\n",
       "            0.79107,     0.79124,     0.79141,     0.79158,     0.79175,     0.79192,     0.79209,     0.79226,     0.79243,      0.7926,     0.79277,     0.79261,     0.79139,     0.79017,     0.78894,     0.78771,     0.78648,     0.78543,     0.78469,     0.78395,      0.7832,     0.78246,     0.78171,\n",
       "            0.78097,     0.78022,     0.77947,     0.77872,     0.78146,     0.78332,     0.78361,      0.7839,     0.78418,     0.78447,     0.78476,     0.78504,     0.78533,     0.78562,      0.7859,     0.78619,     0.78647,     0.78676,     0.78704,     0.78733,     0.78761,     0.78793,     0.78869,\n",
       "            0.78945,     0.79021,     0.79097,     0.79172,     0.79247,     0.79221,     0.79155,     0.79089,     0.79023,     0.78957,     0.78891,     0.78825,     0.78759,     0.78693,     0.78627,     0.78561,     0.78506,     0.78462,     0.78418,     0.78374,     0.78331,     0.78287,     0.78243,\n",
       "            0.78199,     0.78155,     0.78111,     0.78067,     0.78023,     0.77979,     0.77935,     0.77891,     0.77847,     0.77803,     0.77682,     0.77461,     0.77238,     0.77012,     0.76619,     0.76252,     0.76279,     0.76307,     0.76334,     0.76362,     0.76389,     0.76417,     0.76444,\n",
       "            0.76471,     0.76499,     0.76526,     0.76553,      0.7658,     0.76608,     0.76635,     0.76662,     0.76689,     0.76716,     0.76596,      0.7633,     0.76062,     0.75912,     0.75848,     0.75783,     0.75718,     0.75654,     0.75589,     0.75524,     0.75459,     0.75395,      0.7533,\n",
       "            0.75265,     0.75199,     0.74951,     0.74403,     0.74287,     0.74208,     0.74129,      0.7405,     0.73971,     0.73892,     0.73812,     0.73733,     0.73654,     0.73574,     0.73485,     0.73392,     0.73299,     0.73206,     0.73112,     0.73019,     0.72925,     0.72831,     0.72737,\n",
       "             0.7251,     0.72267,     0.72022,     0.71481,      0.7022,     0.70262,     0.70304,     0.70346,     0.70388,      0.7043,     0.70471,     0.70513,     0.70554,     0.70596,     0.70637,     0.70654,     0.70608,     0.70563,     0.70517,     0.70472,     0.70427,     0.70381,     0.70335,\n",
       "             0.7029,     0.70244,     0.70199,     0.70153,     0.70107,     0.70062,     0.70016,      0.6997,     0.69924,     0.69878,     0.69833,     0.69756,     0.69593,     0.69429,     0.69265,     0.69101,     0.68936,     0.68863,       0.688,     0.68737,     0.68674,     0.68612,     0.68549,\n",
       "            0.68486,     0.68423,     0.68359,     0.68296,     0.68233,      0.6817,     0.68106,     0.68043,     0.67096,     0.66992,     0.66888,     0.66784,      0.6668,     0.66575,     0.66471,     0.66366,     0.66261,     0.66174,     0.66107,     0.66039,     0.65971,     0.65903,     0.65835,\n",
       "            0.65767,     0.65699,     0.65631,     0.65563,     0.65495,     0.65427,     0.65358,      0.6529,     0.64172,     0.63682,     0.63271,     0.62989,     0.62705,      0.6242,     0.62262,     0.62107,     0.61953,     0.61797,     0.61642,     0.61486,     0.61322,     0.61152,     0.60982,\n",
       "            0.60812,     0.60641,      0.6047,     0.59014,     0.58487,     0.57809,     0.57093,      0.5637,     0.56118,     0.55919,     0.55719,     0.55519,     0.55318,     0.54631,     0.54097,     0.54029,     0.53961,     0.53892,     0.53824,     0.53756,     0.53687,     0.53618,      0.5355,\n",
       "            0.53481,     0.53412,     0.53344,     0.53275,     0.53206,     0.53137,     0.53068,     0.52679,     0.51911,     0.51329,     0.50716,     0.49445,     0.47237,      0.4716,     0.47082,     0.47005,     0.46928,      0.4685,     0.46773,     0.46695,     0.46618,      0.4654,     0.46462,\n",
       "            0.46384,     0.46306,     0.46228,      0.4615,     0.46072,     0.45788,     0.45284,     0.44796,     0.44705,     0.44614,     0.44522,     0.44431,      0.4434,     0.44248,     0.44157,     0.44065,     0.43973,     0.43881,     0.43789,     0.43697,     0.43605,     0.42021,     0.41359,\n",
       "            0.39707,     0.39794,     0.39878,     0.39962,     0.40032,      0.4009,     0.40148,     0.40206,     0.40262,     0.40318,     0.38025,     0.37104,     0.36385,     0.34586,     0.33845,     0.33176,     0.32674,     0.32169,     0.30666,     0.28174,     0.25854,     0.25063,     0.24401,\n",
       "            0.21558,     0.20445,     0.19864,     0.19278,     0.16874,     0.15368,     0.15105,     0.14841,     0.14576,     0.14311,     0.14045,     0.13778,     0.13295,     0.12756,     0.12214,     0.11757,     0.11438,     0.11118,     0.10797,     0.10474,     0.10151,    0.097681,    0.093333,\n",
       "           0.088964,    0.084576,    0.079984,    0.074285,    0.068552,    0.062785,    0.046298,    0.040079,    0.038543,    0.037004,    0.035463,    0.033919,    0.032374,    0.030825,    0.029274,    0.027721,    0.026165,    0.024607,    0.023047,    0.021484,           0,           0,           0,\n",
       "                  0,           0,           0,           0,           0,           0,           0,           0,           0,           0,           0,           0,           0,           0,           0,           0,           0,           0,           0,           0,           0,           0,           0,\n",
       "                  0,           0,           0,           0,           0,           0,           0,           0,           0,           0,           0]]), 'Confidence', 'F1'], [array([          0,    0.001001,    0.002002,    0.003003,    0.004004,    0.005005,    0.006006,    0.007007,    0.008008,    0.009009,     0.01001,    0.011011,    0.012012,    0.013013,    0.014014,    0.015015,    0.016016,    0.017017,    0.018018,    0.019019,     0.02002,    0.021021,    0.022022,    0.023023,\n",
       "          0.024024,    0.025025,    0.026026,    0.027027,    0.028028,    0.029029,     0.03003,    0.031031,    0.032032,    0.033033,    0.034034,    0.035035,    0.036036,    0.037037,    0.038038,    0.039039,     0.04004,    0.041041,    0.042042,    0.043043,    0.044044,    0.045045,    0.046046,    0.047047,\n",
       "          0.048048,    0.049049,     0.05005,    0.051051,    0.052052,    0.053053,    0.054054,    0.055055,    0.056056,    0.057057,    0.058058,    0.059059,     0.06006,    0.061061,    0.062062,    0.063063,    0.064064,    0.065065,    0.066066,    0.067067,    0.068068,    0.069069,     0.07007,    0.071071,\n",
       "          0.072072,    0.073073,    0.074074,    0.075075,    0.076076,    0.077077,    0.078078,    0.079079,     0.08008,    0.081081,    0.082082,    0.083083,    0.084084,    0.085085,    0.086086,    0.087087,    0.088088,    0.089089,     0.09009,    0.091091,    0.092092,    0.093093,    0.094094,    0.095095,\n",
       "          0.096096,    0.097097,    0.098098,    0.099099,      0.1001,      0.1011,      0.1021,      0.1031,      0.1041,     0.10511,     0.10611,     0.10711,     0.10811,     0.10911,     0.11011,     0.11111,     0.11211,     0.11311,     0.11411,     0.11512,     0.11612,     0.11712,     0.11812,     0.11912,\n",
       "           0.12012,     0.12112,     0.12212,     0.12312,     0.12412,     0.12513,     0.12613,     0.12713,     0.12813,     0.12913,     0.13013,     0.13113,     0.13213,     0.13313,     0.13413,     0.13514,     0.13614,     0.13714,     0.13814,     0.13914,     0.14014,     0.14114,     0.14214,     0.14314,\n",
       "           0.14414,     0.14515,     0.14615,     0.14715,     0.14815,     0.14915,     0.15015,     0.15115,     0.15215,     0.15315,     0.15415,     0.15516,     0.15616,     0.15716,     0.15816,     0.15916,     0.16016,     0.16116,     0.16216,     0.16316,     0.16416,     0.16517,     0.16617,     0.16717,\n",
       "           0.16817,     0.16917,     0.17017,     0.17117,     0.17217,     0.17317,     0.17417,     0.17518,     0.17618,     0.17718,     0.17818,     0.17918,     0.18018,     0.18118,     0.18218,     0.18318,     0.18418,     0.18519,     0.18619,     0.18719,     0.18819,     0.18919,     0.19019,     0.19119,\n",
       "           0.19219,     0.19319,     0.19419,      0.1952,      0.1962,      0.1972,      0.1982,      0.1992,      0.2002,      0.2012,      0.2022,      0.2032,      0.2042,     0.20521,     0.20621,     0.20721,     0.20821,     0.20921,     0.21021,     0.21121,     0.21221,     0.21321,     0.21421,     0.21522,\n",
       "           0.21622,     0.21722,     0.21822,     0.21922,     0.22022,     0.22122,     0.22222,     0.22322,     0.22422,     0.22523,     0.22623,     0.22723,     0.22823,     0.22923,     0.23023,     0.23123,     0.23223,     0.23323,     0.23423,     0.23524,     0.23624,     0.23724,     0.23824,     0.23924,\n",
       "           0.24024,     0.24124,     0.24224,     0.24324,     0.24424,     0.24525,     0.24625,     0.24725,     0.24825,     0.24925,     0.25025,     0.25125,     0.25225,     0.25325,     0.25425,     0.25526,     0.25626,     0.25726,     0.25826,     0.25926,     0.26026,     0.26126,     0.26226,     0.26326,\n",
       "           0.26426,     0.26527,     0.26627,     0.26727,     0.26827,     0.26927,     0.27027,     0.27127,     0.27227,     0.27327,     0.27427,     0.27528,     0.27628,     0.27728,     0.27828,     0.27928,     0.28028,     0.28128,     0.28228,     0.28328,     0.28428,     0.28529,     0.28629,     0.28729,\n",
       "           0.28829,     0.28929,     0.29029,     0.29129,     0.29229,     0.29329,     0.29429,      0.2953,      0.2963,      0.2973,      0.2983,      0.2993,      0.3003,      0.3013,      0.3023,      0.3033,      0.3043,     0.30531,     0.30631,     0.30731,     0.30831,     0.30931,     0.31031,     0.31131,\n",
       "           0.31231,     0.31331,     0.31431,     0.31532,     0.31632,     0.31732,     0.31832,     0.31932,     0.32032,     0.32132,     0.32232,     0.32332,     0.32432,     0.32533,     0.32633,     0.32733,     0.32833,     0.32933,     0.33033,     0.33133,     0.33233,     0.33333,     0.33433,     0.33534,\n",
       "           0.33634,     0.33734,     0.33834,     0.33934,     0.34034,     0.34134,     0.34234,     0.34334,     0.34434,     0.34535,     0.34635,     0.34735,     0.34835,     0.34935,     0.35035,     0.35135,     0.35235,     0.35335,     0.35435,     0.35536,     0.35636,     0.35736,     0.35836,     0.35936,\n",
       "           0.36036,     0.36136,     0.36236,     0.36336,     0.36436,     0.36537,     0.36637,     0.36737,     0.36837,     0.36937,     0.37037,     0.37137,     0.37237,     0.37337,     0.37437,     0.37538,     0.37638,     0.37738,     0.37838,     0.37938,     0.38038,     0.38138,     0.38238,     0.38338,\n",
       "           0.38438,     0.38539,     0.38639,     0.38739,     0.38839,     0.38939,     0.39039,     0.39139,     0.39239,     0.39339,     0.39439,      0.3954,      0.3964,      0.3974,      0.3984,      0.3994,      0.4004,      0.4014,      0.4024,      0.4034,      0.4044,     0.40541,     0.40641,     0.40741,\n",
       "           0.40841,     0.40941,     0.41041,     0.41141,     0.41241,     0.41341,     0.41441,     0.41542,     0.41642,     0.41742,     0.41842,     0.41942,     0.42042,     0.42142,     0.42242,     0.42342,     0.42442,     0.42543,     0.42643,     0.42743,     0.42843,     0.42943,     0.43043,     0.43143,\n",
       "           0.43243,     0.43343,     0.43443,     0.43544,     0.43644,     0.43744,     0.43844,     0.43944,     0.44044,     0.44144,     0.44244,     0.44344,     0.44444,     0.44545,     0.44645,     0.44745,     0.44845,     0.44945,     0.45045,     0.45145,     0.45245,     0.45345,     0.45445,     0.45546,\n",
       "           0.45646,     0.45746,     0.45846,     0.45946,     0.46046,     0.46146,     0.46246,     0.46346,     0.46446,     0.46547,     0.46647,     0.46747,     0.46847,     0.46947,     0.47047,     0.47147,     0.47247,     0.47347,     0.47447,     0.47548,     0.47648,     0.47748,     0.47848,     0.47948,\n",
       "           0.48048,     0.48148,     0.48248,     0.48348,     0.48448,     0.48549,     0.48649,     0.48749,     0.48849,     0.48949,     0.49049,     0.49149,     0.49249,     0.49349,     0.49449,      0.4955,      0.4965,      0.4975,      0.4985,      0.4995,      0.5005,      0.5015,      0.5025,      0.5035,\n",
       "            0.5045,     0.50551,     0.50651,     0.50751,     0.50851,     0.50951,     0.51051,     0.51151,     0.51251,     0.51351,     0.51451,     0.51552,     0.51652,     0.51752,     0.51852,     0.51952,     0.52052,     0.52152,     0.52252,     0.52352,     0.52452,     0.52553,     0.52653,     0.52753,\n",
       "           0.52853,     0.52953,     0.53053,     0.53153,     0.53253,     0.53353,     0.53453,     0.53554,     0.53654,     0.53754,     0.53854,     0.53954,     0.54054,     0.54154,     0.54254,     0.54354,     0.54454,     0.54555,     0.54655,     0.54755,     0.54855,     0.54955,     0.55055,     0.55155,\n",
       "           0.55255,     0.55355,     0.55455,     0.55556,     0.55656,     0.55756,     0.55856,     0.55956,     0.56056,     0.56156,     0.56256,     0.56356,     0.56456,     0.56557,     0.56657,     0.56757,     0.56857,     0.56957,     0.57057,     0.57157,     0.57257,     0.57357,     0.57457,     0.57558,\n",
       "           0.57658,     0.57758,     0.57858,     0.57958,     0.58058,     0.58158,     0.58258,     0.58358,     0.58458,     0.58559,     0.58659,     0.58759,     0.58859,     0.58959,     0.59059,     0.59159,     0.59259,     0.59359,     0.59459,      0.5956,      0.5966,      0.5976,      0.5986,      0.5996,\n",
       "            0.6006,      0.6016,      0.6026,      0.6036,      0.6046,     0.60561,     0.60661,     0.60761,     0.60861,     0.60961,     0.61061,     0.61161,     0.61261,     0.61361,     0.61461,     0.61562,     0.61662,     0.61762,     0.61862,     0.61962,     0.62062,     0.62162,     0.62262,     0.62362,\n",
       "           0.62462,     0.62563,     0.62663,     0.62763,     0.62863,     0.62963,     0.63063,     0.63163,     0.63263,     0.63363,     0.63463,     0.63564,     0.63664,     0.63764,     0.63864,     0.63964,     0.64064,     0.64164,     0.64264,     0.64364,     0.64464,     0.64565,     0.64665,     0.64765,\n",
       "           0.64865,     0.64965,     0.65065,     0.65165,     0.65265,     0.65365,     0.65465,     0.65566,     0.65666,     0.65766,     0.65866,     0.65966,     0.66066,     0.66166,     0.66266,     0.66366,     0.66466,     0.66567,     0.66667,     0.66767,     0.66867,     0.66967,     0.67067,     0.67167,\n",
       "           0.67267,     0.67367,     0.67467,     0.67568,     0.67668,     0.67768,     0.67868,     0.67968,     0.68068,     0.68168,     0.68268,     0.68368,     0.68468,     0.68569,     0.68669,     0.68769,     0.68869,     0.68969,     0.69069,     0.69169,     0.69269,     0.69369,     0.69469,      0.6957,\n",
       "            0.6967,      0.6977,      0.6987,      0.6997,      0.7007,      0.7017,      0.7027,      0.7037,      0.7047,     0.70571,     0.70671,     0.70771,     0.70871,     0.70971,     0.71071,     0.71171,     0.71271,     0.71371,     0.71471,     0.71572,     0.71672,     0.71772,     0.71872,     0.71972,\n",
       "           0.72072,     0.72172,     0.72272,     0.72372,     0.72472,     0.72573,     0.72673,     0.72773,     0.72873,     0.72973,     0.73073,     0.73173,     0.73273,     0.73373,     0.73473,     0.73574,     0.73674,     0.73774,     0.73874,     0.73974,     0.74074,     0.74174,     0.74274,     0.74374,\n",
       "           0.74474,     0.74575,     0.74675,     0.74775,     0.74875,     0.74975,     0.75075,     0.75175,     0.75275,     0.75375,     0.75475,     0.75576,     0.75676,     0.75776,     0.75876,     0.75976,     0.76076,     0.76176,     0.76276,     0.76376,     0.76476,     0.76577,     0.76677,     0.76777,\n",
       "           0.76877,     0.76977,     0.77077,     0.77177,     0.77277,     0.77377,     0.77477,     0.77578,     0.77678,     0.77778,     0.77878,     0.77978,     0.78078,     0.78178,     0.78278,     0.78378,     0.78478,     0.78579,     0.78679,     0.78779,     0.78879,     0.78979,     0.79079,     0.79179,\n",
       "           0.79279,     0.79379,     0.79479,      0.7958,      0.7968,      0.7978,      0.7988,      0.7998,      0.8008,      0.8018,      0.8028,      0.8038,      0.8048,     0.80581,     0.80681,     0.80781,     0.80881,     0.80981,     0.81081,     0.81181,     0.81281,     0.81381,     0.81481,     0.81582,\n",
       "           0.81682,     0.81782,     0.81882,     0.81982,     0.82082,     0.82182,     0.82282,     0.82382,     0.82482,     0.82583,     0.82683,     0.82783,     0.82883,     0.82983,     0.83083,     0.83183,     0.83283,     0.83383,     0.83483,     0.83584,     0.83684,     0.83784,     0.83884,     0.83984,\n",
       "           0.84084,     0.84184,     0.84284,     0.84384,     0.84484,     0.84585,     0.84685,     0.84785,     0.84885,     0.84985,     0.85085,     0.85185,     0.85285,     0.85385,     0.85485,     0.85586,     0.85686,     0.85786,     0.85886,     0.85986,     0.86086,     0.86186,     0.86286,     0.86386,\n",
       "           0.86486,     0.86587,     0.86687,     0.86787,     0.86887,     0.86987,     0.87087,     0.87187,     0.87287,     0.87387,     0.87487,     0.87588,     0.87688,     0.87788,     0.87888,     0.87988,     0.88088,     0.88188,     0.88288,     0.88388,     0.88488,     0.88589,     0.88689,     0.88789,\n",
       "           0.88889,     0.88989,     0.89089,     0.89189,     0.89289,     0.89389,     0.89489,      0.8959,      0.8969,      0.8979,      0.8989,      0.8999,      0.9009,      0.9019,      0.9029,      0.9039,      0.9049,     0.90591,     0.90691,     0.90791,     0.90891,     0.90991,     0.91091,     0.91191,\n",
       "           0.91291,     0.91391,     0.91491,     0.91592,     0.91692,     0.91792,     0.91892,     0.91992,     0.92092,     0.92192,     0.92292,     0.92392,     0.92492,     0.92593,     0.92693,     0.92793,     0.92893,     0.92993,     0.93093,     0.93193,     0.93293,     0.93393,     0.93493,     0.93594,\n",
       "           0.93694,     0.93794,     0.93894,     0.93994,     0.94094,     0.94194,     0.94294,     0.94394,     0.94494,     0.94595,     0.94695,     0.94795,     0.94895,     0.94995,     0.95095,     0.95195,     0.95295,     0.95395,     0.95495,     0.95596,     0.95696,     0.95796,     0.95896,     0.95996,\n",
       "           0.96096,     0.96196,     0.96296,     0.96396,     0.96496,     0.96597,     0.96697,     0.96797,     0.96897,     0.96997,     0.97097,     0.97197,     0.97297,     0.97397,     0.97497,     0.97598,     0.97698,     0.97798,     0.97898,     0.97998,     0.98098,     0.98198,     0.98298,     0.98398,\n",
       "           0.98498,     0.98599,     0.98699,     0.98799,     0.98899,     0.98999,     0.99099,     0.99199,     0.99299,     0.99399,     0.99499,       0.996,       0.997,       0.998,       0.999,           1]), array([[   0.060284,    0.060284,     0.09632,     0.12554,     0.14243,     0.16046,     0.17884,     0.19374,     0.20739,     0.21787,     0.22626,     0.23791,     0.25131,     0.26059,     0.27324,     0.28028,     0.28581,      0.2944,     0.30098,     0.30522,     0.30932,     0.31285,     0.31984,\n",
       "            0.32563,     0.32918,     0.33769,      0.3401,     0.34774,     0.34866,     0.35062,      0.3554,     0.36093,      0.3642,     0.36888,     0.37247,     0.37584,     0.38051,      0.3816,     0.38547,     0.38751,     0.39298,     0.39675,     0.39811,     0.39965,     0.40925,     0.41092,\n",
       "            0.41551,     0.41697,     0.41879,     0.42289,      0.4252,     0.42949,     0.43214,     0.43033,     0.43131,     0.43228,     0.43436,     0.43562,     0.43664,     0.43855,     0.44263,     0.44362,     0.44498,     0.44969,     0.45069,     0.45168,     0.45361,     0.45667,     0.46245,\n",
       "            0.46415,     0.46542,     0.46614,     0.46686,     0.46758,     0.47083,     0.47142,     0.47201,     0.47261,      0.4732,     0.47519,      0.4781,     0.48515,     0.48717,     0.48817,      0.4887,     0.48924,     0.48977,      0.4903,     0.49103,     0.49421,     0.50004,     0.50493,\n",
       "            0.50868,     0.51246,     0.51326,     0.51375,     0.51423,     0.51472,     0.51521,      0.5157,     0.51626,      0.5173,     0.51833,     0.51937,     0.52066,     0.52199,      0.5235,     0.52538,     0.52811,     0.53235,     0.53403,     0.53491,     0.53578,     0.53666,     0.53812,\n",
       "            0.53982,     0.54183,     0.54406,      0.5464,     0.55204,     0.55518,     0.55737,     0.55942,     0.56086,      0.5623,     0.56381,     0.56553,     0.56726,     0.56793,     0.56852,     0.56911,     0.56971,      0.5703,     0.57089,     0.57161,     0.57338,     0.57516,     0.57967,\n",
       "            0.57888,      0.5781,     0.57731,     0.57684,     0.57818,     0.57952,     0.58085,     0.58261,     0.58437,     0.58712,     0.58977,     0.59046,     0.59114,     0.59183,     0.59252,      0.5932,     0.59389,     0.59446,     0.59502,     0.59558,     0.59614,      0.5967,     0.59726,\n",
       "            0.59782,     0.59838,     0.60082,     0.60333,     0.60455,     0.60578,     0.60701,     0.60721,     0.60613,     0.60504,      0.6048,     0.60504,     0.60528,     0.60552,     0.60575,     0.60599,     0.60623,     0.60647,      0.6067,     0.60694,     0.60718,     0.60742,     0.60765,\n",
       "            0.60789,     0.60813,     0.60837,     0.60861,     0.60884,     0.60908,     0.60932,     0.61448,     0.61489,      0.6153,     0.61571,     0.61611,     0.61652,     0.61693,     0.61734,     0.61775,     0.61815,     0.61856,     0.61897,     0.62061,     0.62255,     0.62909,     0.62931,\n",
       "            0.62954,     0.62976,     0.62999,     0.63021,     0.63043,     0.63066,     0.63088,     0.63111,     0.63133,     0.63155,     0.63178,       0.632,     0.63223,     0.63245,     0.63268,      0.6329,     0.63312,     0.63335,     0.63357,      0.6338,     0.63402,     0.63526,     0.63777,\n",
       "            0.63948,     0.63983,     0.64019,     0.64054,      0.6409,     0.64125,     0.64161,     0.64196,     0.64232,     0.64267,     0.64303,     0.64338,     0.64374,     0.64409,     0.64445,     0.64543,     0.64707,      0.6487,      0.6505,     0.65299,     0.65547,      0.6565,     0.65754,\n",
       "            0.65857,     0.65961,     0.66064,     0.66287,     0.66577,     0.66689,      0.6672,     0.66752,     0.66784,     0.66816,     0.66848,      0.6688,     0.66912,     0.66943,     0.66975,     0.67007,     0.67039,     0.67071,     0.67103,     0.67134,     0.67166,     0.67198,      0.6723,\n",
       "            0.67332,     0.67473,     0.67614,     0.67755,     0.68067,     0.68442,     0.68517,     0.68592,     0.68667,     0.68743,     0.68818,     0.68893,     0.68968,     0.69067,     0.69248,     0.69428,     0.69609,     0.70061,     0.70319,     0.70401,     0.70482,     0.70564,     0.70646,\n",
       "            0.70728,      0.7081,     0.70892,     0.70964,     0.71035,     0.71105,     0.71175,     0.71245,     0.71315,     0.71386,     0.71456,     0.71526,     0.71634,     0.71777,      0.7192,     0.72063,     0.72206,     0.72183,     0.72139,     0.72094,      0.7205,     0.72006,     0.71965,\n",
       "             0.7204,     0.72116,     0.72191,     0.72266,     0.72341,     0.72416,     0.72492,     0.72567,     0.72641,     0.72608,     0.72574,     0.72541,     0.72508,     0.72474,     0.72441,     0.72408,     0.72307,     0.72151,     0.72227,     0.72302,     0.72378,     0.72453,     0.72529,\n",
       "            0.72604,      0.7268,     0.72755,     0.72832,     0.72911,      0.7299,     0.73069,     0.73148,     0.73227,     0.73306,     0.73385,     0.73464,     0.73536,     0.73576,     0.73615,     0.73654,     0.73694,     0.73733,     0.73772,     0.73811,     0.73851,      0.7389,     0.73929,\n",
       "            0.73968,     0.74008,     0.74047,     0.74086,     0.74126,     0.74165,     0.74204,     0.74243,     0.74312,     0.74396,     0.74481,     0.74566,      0.7465,     0.74735,     0.74819,     0.74904,     0.74988,     0.75703,     0.75558,     0.75777,     0.76176,     0.76279,     0.76266,\n",
       "            0.76252,     0.76239,     0.76226,     0.76212,     0.76199,     0.76186,     0.76173,     0.76159,     0.76146,     0.76133,     0.76119,     0.76106,     0.76093,     0.76079,     0.76066,     0.76053,      0.7619,     0.76876,     0.77044,     0.77212,     0.77379,     0.77547,     0.77669,\n",
       "              0.777,      0.7773,      0.7776,     0.77791,     0.77821,     0.77851,     0.77882,     0.77912,     0.77942,     0.77972,     0.78003,     0.78033,     0.78063,     0.78094,     0.78124,     0.78154,     0.78185,     0.78215,     0.78245,     0.78275,     0.78306,     0.78336,     0.78366,\n",
       "            0.78397,     0.78427,     0.78457,     0.78488,     0.78662,     0.78881,       0.791,     0.79318,     0.79458,     0.79586,     0.79714,     0.79841,     0.79969,     0.80097,     0.80222,     0.80273,     0.80325,     0.80376,     0.80427,     0.80479,      0.8053,     0.80582,     0.80633,\n",
       "            0.80685,     0.80736,     0.80788,     0.80839,     0.80891,     0.80942,     0.80994,     0.81045,     0.81097,     0.81156,     0.81218,      0.8128,     0.81343,     0.81405,     0.81467,      0.8153,     0.81592,     0.81654,     0.81716,     0.81779,     0.81841,     0.81903,     0.81965,\n",
       "            0.82063,     0.82541,     0.83085,     0.83907,     0.83897,     0.83888,     0.83879,      0.8387,     0.83861,     0.83852,     0.83843,     0.83834,     0.83824,     0.83815,     0.83806,     0.83797,     0.83788,     0.83779,      0.8377,      0.8376,     0.83751,     0.83742,     0.83733,\n",
       "            0.83724,     0.83709,     0.83691,     0.83673,     0.83655,     0.83638,      0.8362,     0.83602,     0.83584,     0.83566,     0.83548,      0.8353,     0.83721,     0.83925,     0.84129,     0.84332,     0.84528,     0.84589,      0.8465,     0.84712,     0.84773,     0.84835,     0.84896,\n",
       "            0.84957,     0.85019,      0.8508,     0.85142,     0.85203,     0.85264,     0.85326,     0.85387,     0.85449,      0.8551,     0.85593,       0.857,     0.85807,     0.85914,     0.86021,     0.86128,     0.86235,     0.86342,     0.86449,     0.86556,     0.86568,     0.86544,     0.86519,\n",
       "            0.86495,     0.86471,     0.86447,     0.86422,     0.86815,     0.87258,     0.87463,     0.87382,     0.87333,     0.87314,     0.87296,     0.87277,     0.87259,      0.8724,     0.87222,     0.87203,     0.87185,     0.88303,     0.88292,      0.8828,     0.88268,     0.88257,     0.88245,\n",
       "            0.88233,     0.88222,      0.8821,     0.88198,     0.88186,     0.88175,     0.88163,     0.89358,     0.89402,     0.89446,      0.8949,     0.89534,     0.89579,     0.89623,     0.89667,     0.89711,     0.89755,       0.898,     0.89844,     0.89888,     0.89932,     0.89976,     0.90021,\n",
       "            0.90065,     0.90109,     0.90153,     0.90197,     0.90242,     0.90286,      0.9033,     0.90374,     0.90418,     0.90463,     0.90507,     0.90535,     0.90513,     0.90491,     0.90469,     0.90447,     0.90425,     0.90406,     0.90392,     0.90378,     0.90365,     0.90351,     0.90338,\n",
       "            0.90324,      0.9031,     0.90297,     0.90283,     0.91092,     0.91601,     0.91679,     0.91758,     0.91837,     0.91916,     0.91995,     0.92074,     0.92153,     0.92231,      0.9231,     0.92389,     0.92468,     0.92547,     0.92626,     0.92705,     0.92783,     0.92871,     0.93083,\n",
       "            0.93295,     0.93507,      0.9372,     0.93932,     0.94144,     0.94197,      0.9419,     0.94182,     0.94175,     0.94167,     0.94159,     0.94152,     0.94144,     0.94137,     0.94129,     0.94121,     0.94115,      0.9411,     0.94105,       0.941,     0.94094,     0.94089,     0.94084,\n",
       "            0.94079,     0.94074,     0.94069,     0.94064,     0.94058,     0.94053,     0.94048,     0.94043,     0.94038,     0.94033,     0.94018,     0.93992,     0.93965,     0.93939,     0.93891,     0.93852,     0.93935,     0.94019,     0.94102,     0.94186,     0.94269,     0.94353,     0.94436,\n",
       "             0.9452,     0.94603,     0.94687,      0.9477,     0.94854,     0.94937,     0.95021,     0.95104,     0.95188,     0.95271,       0.953,     0.95274,     0.95249,     0.95234,     0.95228,     0.95222,     0.95216,     0.95209,     0.95203,     0.95197,      0.9519,     0.95184,     0.95178,\n",
       "            0.95171,     0.95165,     0.95141,     0.95086,     0.95075,     0.95067,     0.95059,     0.95051,     0.95043,     0.95035,     0.95027,     0.95019,     0.95011,     0.95003,     0.94993,     0.94984,     0.94974,     0.94965,     0.94955,     0.94945,     0.94936,     0.94926,     0.94916,\n",
       "            0.94892,     0.94867,     0.94841,     0.94783,      0.9472,     0.94874,     0.95027,     0.95181,     0.95334,     0.95487,     0.95641,     0.95794,     0.95947,     0.96101,     0.96254,     0.96363,     0.96359,     0.96356,     0.96352,     0.96348,     0.96345,     0.96341,     0.96338,\n",
       "            0.96334,     0.96331,     0.96327,     0.96324,      0.9632,     0.96317,     0.96313,      0.9631,     0.96306,     0.96302,     0.96299,     0.96293,      0.9628,     0.96267,     0.96254,     0.96241,     0.96228,     0.96222,     0.96217,     0.96212,     0.96206,     0.96201,     0.96196,\n",
       "            0.96191,     0.96186,     0.96181,     0.96176,     0.96171,     0.96165,      0.9616,     0.96155,     0.96076,     0.96067,     0.96058,     0.96049,      0.9604,     0.96031,     0.96022,     0.96014,     0.96005,     0.95997,     0.95991,     0.95985,     0.95979,     0.95973,     0.95967,\n",
       "            0.95961,     0.95955,     0.95949,     0.95943,     0.95937,     0.95931,     0.95925,     0.95919,     0.95818,     0.95773,     0.95734,     0.95707,      0.9568,     0.95653,     0.95637,     0.95622,     0.95607,     0.95592,     0.95576,     0.95561,     0.95545,     0.95527,      0.9551,\n",
       "            0.95493,     0.95476,     0.95458,     0.95305,     0.95248,     0.95173,     0.95092,     0.95008,     0.94979,     0.94955,     0.94931,     0.94907,     0.94883,     0.94798,     0.94732,     0.94723,     0.94714,     0.94705,     0.94697,     0.94688,     0.94679,      0.9467,     0.94661,\n",
       "            0.94652,     0.94644,     0.94635,     0.94626,     0.94617,     0.94608,     0.94599,     0.94547,     0.94445,     0.94363,     0.94278,     0.94092,     0.93749,     0.93736,     0.93723,      0.9371,     0.93697,     0.93684,     0.93671,     0.93658,     0.93645,     0.93633,      0.9362,\n",
       "            0.93607,     0.93594,     0.93581,     0.93568,     0.93555,     0.93506,     0.93417,     0.93333,     0.93316,     0.93299,     0.93282,     0.93265,     0.93248,     0.93232,     0.93215,     0.93198,     0.93181,     0.93164,     0.93147,     0.93131,     0.93114,     0.92805,     0.92669,\n",
       "            0.92721,     0.93667,     0.94613,     0.95559,     0.96365,     0.97048,     0.97732,     0.98415,     0.99098,     0.99782,           1,           1,           1,           1,           1,           1,           1,           1,           1,           1,           1,           1,           1,\n",
       "                  1,           1,           1,           1,           1,           1,           1,           1,           1,           1,           1,           1,           1,           1,           1,           1,           1,           1,           1,           1,           1,           1,           1,\n",
       "                  1,           1,           1,           1,           1,           1,           1,           1,           1,           1,           1,           1,           1,           1,           1,           1,           1,           1,           1,           1,           1,           1,           1,\n",
       "                  1,           1,           1,           1,           1,           1,           1,           1,           1,           1,           1,           1,           1,           1,           1,           1,           1,           1,           1,           1,           1,           1,           1,\n",
       "                  1,           1,           1,           1,           1,           1,           1,           1,           1,           1,           1]]), 'Confidence', 'Precision'], [array([          0,    0.001001,    0.002002,    0.003003,    0.004004,    0.005005,    0.006006,    0.007007,    0.008008,    0.009009,     0.01001,    0.011011,    0.012012,    0.013013,    0.014014,    0.015015,    0.016016,    0.017017,    0.018018,    0.019019,     0.02002,    0.021021,    0.022022,    0.023023,\n",
       "          0.024024,    0.025025,    0.026026,    0.027027,    0.028028,    0.029029,     0.03003,    0.031031,    0.032032,    0.033033,    0.034034,    0.035035,    0.036036,    0.037037,    0.038038,    0.039039,     0.04004,    0.041041,    0.042042,    0.043043,    0.044044,    0.045045,    0.046046,    0.047047,\n",
       "          0.048048,    0.049049,     0.05005,    0.051051,    0.052052,    0.053053,    0.054054,    0.055055,    0.056056,    0.057057,    0.058058,    0.059059,     0.06006,    0.061061,    0.062062,    0.063063,    0.064064,    0.065065,    0.066066,    0.067067,    0.068068,    0.069069,     0.07007,    0.071071,\n",
       "          0.072072,    0.073073,    0.074074,    0.075075,    0.076076,    0.077077,    0.078078,    0.079079,     0.08008,    0.081081,    0.082082,    0.083083,    0.084084,    0.085085,    0.086086,    0.087087,    0.088088,    0.089089,     0.09009,    0.091091,    0.092092,    0.093093,    0.094094,    0.095095,\n",
       "          0.096096,    0.097097,    0.098098,    0.099099,      0.1001,      0.1011,      0.1021,      0.1031,      0.1041,     0.10511,     0.10611,     0.10711,     0.10811,     0.10911,     0.11011,     0.11111,     0.11211,     0.11311,     0.11411,     0.11512,     0.11612,     0.11712,     0.11812,     0.11912,\n",
       "           0.12012,     0.12112,     0.12212,     0.12312,     0.12412,     0.12513,     0.12613,     0.12713,     0.12813,     0.12913,     0.13013,     0.13113,     0.13213,     0.13313,     0.13413,     0.13514,     0.13614,     0.13714,     0.13814,     0.13914,     0.14014,     0.14114,     0.14214,     0.14314,\n",
       "           0.14414,     0.14515,     0.14615,     0.14715,     0.14815,     0.14915,     0.15015,     0.15115,     0.15215,     0.15315,     0.15415,     0.15516,     0.15616,     0.15716,     0.15816,     0.15916,     0.16016,     0.16116,     0.16216,     0.16316,     0.16416,     0.16517,     0.16617,     0.16717,\n",
       "           0.16817,     0.16917,     0.17017,     0.17117,     0.17217,     0.17317,     0.17417,     0.17518,     0.17618,     0.17718,     0.17818,     0.17918,     0.18018,     0.18118,     0.18218,     0.18318,     0.18418,     0.18519,     0.18619,     0.18719,     0.18819,     0.18919,     0.19019,     0.19119,\n",
       "           0.19219,     0.19319,     0.19419,      0.1952,      0.1962,      0.1972,      0.1982,      0.1992,      0.2002,      0.2012,      0.2022,      0.2032,      0.2042,     0.20521,     0.20621,     0.20721,     0.20821,     0.20921,     0.21021,     0.21121,     0.21221,     0.21321,     0.21421,     0.21522,\n",
       "           0.21622,     0.21722,     0.21822,     0.21922,     0.22022,     0.22122,     0.22222,     0.22322,     0.22422,     0.22523,     0.22623,     0.22723,     0.22823,     0.22923,     0.23023,     0.23123,     0.23223,     0.23323,     0.23423,     0.23524,     0.23624,     0.23724,     0.23824,     0.23924,\n",
       "           0.24024,     0.24124,     0.24224,     0.24324,     0.24424,     0.24525,     0.24625,     0.24725,     0.24825,     0.24925,     0.25025,     0.25125,     0.25225,     0.25325,     0.25425,     0.25526,     0.25626,     0.25726,     0.25826,     0.25926,     0.26026,     0.26126,     0.26226,     0.26326,\n",
       "           0.26426,     0.26527,     0.26627,     0.26727,     0.26827,     0.26927,     0.27027,     0.27127,     0.27227,     0.27327,     0.27427,     0.27528,     0.27628,     0.27728,     0.27828,     0.27928,     0.28028,     0.28128,     0.28228,     0.28328,     0.28428,     0.28529,     0.28629,     0.28729,\n",
       "           0.28829,     0.28929,     0.29029,     0.29129,     0.29229,     0.29329,     0.29429,      0.2953,      0.2963,      0.2973,      0.2983,      0.2993,      0.3003,      0.3013,      0.3023,      0.3033,      0.3043,     0.30531,     0.30631,     0.30731,     0.30831,     0.30931,     0.31031,     0.31131,\n",
       "           0.31231,     0.31331,     0.31431,     0.31532,     0.31632,     0.31732,     0.31832,     0.31932,     0.32032,     0.32132,     0.32232,     0.32332,     0.32432,     0.32533,     0.32633,     0.32733,     0.32833,     0.32933,     0.33033,     0.33133,     0.33233,     0.33333,     0.33433,     0.33534,\n",
       "           0.33634,     0.33734,     0.33834,     0.33934,     0.34034,     0.34134,     0.34234,     0.34334,     0.34434,     0.34535,     0.34635,     0.34735,     0.34835,     0.34935,     0.35035,     0.35135,     0.35235,     0.35335,     0.35435,     0.35536,     0.35636,     0.35736,     0.35836,     0.35936,\n",
       "           0.36036,     0.36136,     0.36236,     0.36336,     0.36436,     0.36537,     0.36637,     0.36737,     0.36837,     0.36937,     0.37037,     0.37137,     0.37237,     0.37337,     0.37437,     0.37538,     0.37638,     0.37738,     0.37838,     0.37938,     0.38038,     0.38138,     0.38238,     0.38338,\n",
       "           0.38438,     0.38539,     0.38639,     0.38739,     0.38839,     0.38939,     0.39039,     0.39139,     0.39239,     0.39339,     0.39439,      0.3954,      0.3964,      0.3974,      0.3984,      0.3994,      0.4004,      0.4014,      0.4024,      0.4034,      0.4044,     0.40541,     0.40641,     0.40741,\n",
       "           0.40841,     0.40941,     0.41041,     0.41141,     0.41241,     0.41341,     0.41441,     0.41542,     0.41642,     0.41742,     0.41842,     0.41942,     0.42042,     0.42142,     0.42242,     0.42342,     0.42442,     0.42543,     0.42643,     0.42743,     0.42843,     0.42943,     0.43043,     0.43143,\n",
       "           0.43243,     0.43343,     0.43443,     0.43544,     0.43644,     0.43744,     0.43844,     0.43944,     0.44044,     0.44144,     0.44244,     0.44344,     0.44444,     0.44545,     0.44645,     0.44745,     0.44845,     0.44945,     0.45045,     0.45145,     0.45245,     0.45345,     0.45445,     0.45546,\n",
       "           0.45646,     0.45746,     0.45846,     0.45946,     0.46046,     0.46146,     0.46246,     0.46346,     0.46446,     0.46547,     0.46647,     0.46747,     0.46847,     0.46947,     0.47047,     0.47147,     0.47247,     0.47347,     0.47447,     0.47548,     0.47648,     0.47748,     0.47848,     0.47948,\n",
       "           0.48048,     0.48148,     0.48248,     0.48348,     0.48448,     0.48549,     0.48649,     0.48749,     0.48849,     0.48949,     0.49049,     0.49149,     0.49249,     0.49349,     0.49449,      0.4955,      0.4965,      0.4975,      0.4985,      0.4995,      0.5005,      0.5015,      0.5025,      0.5035,\n",
       "            0.5045,     0.50551,     0.50651,     0.50751,     0.50851,     0.50951,     0.51051,     0.51151,     0.51251,     0.51351,     0.51451,     0.51552,     0.51652,     0.51752,     0.51852,     0.51952,     0.52052,     0.52152,     0.52252,     0.52352,     0.52452,     0.52553,     0.52653,     0.52753,\n",
       "           0.52853,     0.52953,     0.53053,     0.53153,     0.53253,     0.53353,     0.53453,     0.53554,     0.53654,     0.53754,     0.53854,     0.53954,     0.54054,     0.54154,     0.54254,     0.54354,     0.54454,     0.54555,     0.54655,     0.54755,     0.54855,     0.54955,     0.55055,     0.55155,\n",
       "           0.55255,     0.55355,     0.55455,     0.55556,     0.55656,     0.55756,     0.55856,     0.55956,     0.56056,     0.56156,     0.56256,     0.56356,     0.56456,     0.56557,     0.56657,     0.56757,     0.56857,     0.56957,     0.57057,     0.57157,     0.57257,     0.57357,     0.57457,     0.57558,\n",
       "           0.57658,     0.57758,     0.57858,     0.57958,     0.58058,     0.58158,     0.58258,     0.58358,     0.58458,     0.58559,     0.58659,     0.58759,     0.58859,     0.58959,     0.59059,     0.59159,     0.59259,     0.59359,     0.59459,      0.5956,      0.5966,      0.5976,      0.5986,      0.5996,\n",
       "            0.6006,      0.6016,      0.6026,      0.6036,      0.6046,     0.60561,     0.60661,     0.60761,     0.60861,     0.60961,     0.61061,     0.61161,     0.61261,     0.61361,     0.61461,     0.61562,     0.61662,     0.61762,     0.61862,     0.61962,     0.62062,     0.62162,     0.62262,     0.62362,\n",
       "           0.62462,     0.62563,     0.62663,     0.62763,     0.62863,     0.62963,     0.63063,     0.63163,     0.63263,     0.63363,     0.63463,     0.63564,     0.63664,     0.63764,     0.63864,     0.63964,     0.64064,     0.64164,     0.64264,     0.64364,     0.64464,     0.64565,     0.64665,     0.64765,\n",
       "           0.64865,     0.64965,     0.65065,     0.65165,     0.65265,     0.65365,     0.65465,     0.65566,     0.65666,     0.65766,     0.65866,     0.65966,     0.66066,     0.66166,     0.66266,     0.66366,     0.66466,     0.66567,     0.66667,     0.66767,     0.66867,     0.66967,     0.67067,     0.67167,\n",
       "           0.67267,     0.67367,     0.67467,     0.67568,     0.67668,     0.67768,     0.67868,     0.67968,     0.68068,     0.68168,     0.68268,     0.68368,     0.68468,     0.68569,     0.68669,     0.68769,     0.68869,     0.68969,     0.69069,     0.69169,     0.69269,     0.69369,     0.69469,      0.6957,\n",
       "            0.6967,      0.6977,      0.6987,      0.6997,      0.7007,      0.7017,      0.7027,      0.7037,      0.7047,     0.70571,     0.70671,     0.70771,     0.70871,     0.70971,     0.71071,     0.71171,     0.71271,     0.71371,     0.71471,     0.71572,     0.71672,     0.71772,     0.71872,     0.71972,\n",
       "           0.72072,     0.72172,     0.72272,     0.72372,     0.72472,     0.72573,     0.72673,     0.72773,     0.72873,     0.72973,     0.73073,     0.73173,     0.73273,     0.73373,     0.73473,     0.73574,     0.73674,     0.73774,     0.73874,     0.73974,     0.74074,     0.74174,     0.74274,     0.74374,\n",
       "           0.74474,     0.74575,     0.74675,     0.74775,     0.74875,     0.74975,     0.75075,     0.75175,     0.75275,     0.75375,     0.75475,     0.75576,     0.75676,     0.75776,     0.75876,     0.75976,     0.76076,     0.76176,     0.76276,     0.76376,     0.76476,     0.76577,     0.76677,     0.76777,\n",
       "           0.76877,     0.76977,     0.77077,     0.77177,     0.77277,     0.77377,     0.77477,     0.77578,     0.77678,     0.77778,     0.77878,     0.77978,     0.78078,     0.78178,     0.78278,     0.78378,     0.78478,     0.78579,     0.78679,     0.78779,     0.78879,     0.78979,     0.79079,     0.79179,\n",
       "           0.79279,     0.79379,     0.79479,      0.7958,      0.7968,      0.7978,      0.7988,      0.7998,      0.8008,      0.8018,      0.8028,      0.8038,      0.8048,     0.80581,     0.80681,     0.80781,     0.80881,     0.80981,     0.81081,     0.81181,     0.81281,     0.81381,     0.81481,     0.81582,\n",
       "           0.81682,     0.81782,     0.81882,     0.81982,     0.82082,     0.82182,     0.82282,     0.82382,     0.82482,     0.82583,     0.82683,     0.82783,     0.82883,     0.82983,     0.83083,     0.83183,     0.83283,     0.83383,     0.83483,     0.83584,     0.83684,     0.83784,     0.83884,     0.83984,\n",
       "           0.84084,     0.84184,     0.84284,     0.84384,     0.84484,     0.84585,     0.84685,     0.84785,     0.84885,     0.84985,     0.85085,     0.85185,     0.85285,     0.85385,     0.85485,     0.85586,     0.85686,     0.85786,     0.85886,     0.85986,     0.86086,     0.86186,     0.86286,     0.86386,\n",
       "           0.86486,     0.86587,     0.86687,     0.86787,     0.86887,     0.86987,     0.87087,     0.87187,     0.87287,     0.87387,     0.87487,     0.87588,     0.87688,     0.87788,     0.87888,     0.87988,     0.88088,     0.88188,     0.88288,     0.88388,     0.88488,     0.88589,     0.88689,     0.88789,\n",
       "           0.88889,     0.88989,     0.89089,     0.89189,     0.89289,     0.89389,     0.89489,      0.8959,      0.8969,      0.8979,      0.8989,      0.8999,      0.9009,      0.9019,      0.9029,      0.9039,      0.9049,     0.90591,     0.90691,     0.90791,     0.90891,     0.90991,     0.91091,     0.91191,\n",
       "           0.91291,     0.91391,     0.91491,     0.91592,     0.91692,     0.91792,     0.91892,     0.91992,     0.92092,     0.92192,     0.92292,     0.92392,     0.92492,     0.92593,     0.92693,     0.92793,     0.92893,     0.92993,     0.93093,     0.93193,     0.93293,     0.93393,     0.93493,     0.93594,\n",
       "           0.93694,     0.93794,     0.93894,     0.93994,     0.94094,     0.94194,     0.94294,     0.94394,     0.94494,     0.94595,     0.94695,     0.94795,     0.94895,     0.94995,     0.95095,     0.95195,     0.95295,     0.95395,     0.95495,     0.95596,     0.95696,     0.95796,     0.95896,     0.95996,\n",
       "           0.96096,     0.96196,     0.96296,     0.96396,     0.96496,     0.96597,     0.96697,     0.96797,     0.96897,     0.96997,     0.97097,     0.97197,     0.97297,     0.97397,     0.97497,     0.97598,     0.97698,     0.97798,     0.97898,     0.97998,     0.98098,     0.98198,     0.98298,     0.98398,\n",
       "           0.98498,     0.98599,     0.98699,     0.98799,     0.98899,     0.98999,     0.99099,     0.99199,     0.99299,     0.99399,     0.99499,       0.996,       0.997,       0.998,       0.999,           1]), array([[    0.89474,     0.89474,     0.88421,     0.88421,     0.86316,     0.85263,     0.85263,     0.85263,     0.85263,     0.85263,     0.85263,     0.85263,     0.85263,     0.85263,     0.85263,     0.85263,     0.85263,     0.85263,     0.85263,     0.85263,     0.85263,     0.85263,     0.85263,\n",
       "            0.85263,     0.85263,     0.85263,     0.85263,     0.85263,     0.85263,     0.85263,     0.85263,     0.85263,     0.85263,     0.85263,     0.85263,     0.85263,     0.85263,     0.85263,     0.85263,     0.85263,     0.85263,     0.85263,     0.85263,     0.85263,     0.85263,     0.85263,\n",
       "            0.85263,     0.85263,     0.85263,     0.85263,     0.85263,     0.85263,     0.84913,     0.84211,     0.84211,     0.84211,     0.84211,     0.84211,     0.84211,     0.84211,     0.84211,     0.84211,     0.84211,     0.84211,     0.84211,     0.84211,     0.84211,     0.84211,     0.84211,\n",
       "            0.84211,     0.84211,     0.84211,     0.84211,     0.84211,     0.84211,     0.84211,     0.84211,     0.84211,     0.84211,     0.84211,     0.84211,     0.84211,     0.84211,     0.84211,     0.84211,     0.84211,     0.84211,     0.84211,     0.84211,     0.84211,     0.84211,     0.84211,\n",
       "            0.84211,     0.84211,     0.84211,     0.84211,     0.84211,     0.84211,     0.84211,     0.84211,     0.84211,     0.84211,     0.84211,     0.84211,     0.84211,     0.84211,     0.84211,     0.84211,     0.84211,     0.84211,     0.84211,     0.84211,     0.84211,     0.84211,     0.84211,\n",
       "            0.84211,     0.84211,     0.84211,     0.84211,     0.84211,     0.84211,     0.84211,     0.84211,     0.84211,     0.84211,     0.84211,     0.84211,     0.84211,     0.84211,     0.84211,     0.84211,     0.84211,     0.84211,     0.84211,     0.84211,     0.84211,     0.84211,     0.84196,\n",
       "            0.83927,     0.83657,     0.83387,     0.83158,     0.83158,     0.83158,     0.83158,     0.83158,     0.83158,     0.83158,     0.83158,     0.83158,     0.83158,     0.83158,     0.83158,     0.83158,     0.83158,     0.83158,     0.83158,     0.83158,     0.83158,     0.83158,     0.83158,\n",
       "            0.83158,     0.83158,     0.83158,     0.83158,     0.83158,     0.83158,     0.83158,     0.82992,     0.82616,     0.82241,     0.82105,     0.82105,     0.82105,     0.82105,     0.82105,     0.82105,     0.82105,     0.82105,     0.82105,     0.82105,     0.82105,     0.82105,     0.82105,\n",
       "            0.82105,     0.82105,     0.82105,     0.82105,     0.82105,     0.82105,     0.82105,     0.82105,     0.82105,     0.82105,     0.82105,     0.82105,     0.82105,     0.82105,     0.82105,     0.82105,     0.82105,     0.82105,     0.82105,     0.82105,     0.82105,     0.82105,     0.82105,\n",
       "            0.82105,     0.82105,     0.82105,     0.82105,     0.82105,     0.82105,     0.82105,     0.82105,     0.82105,     0.82105,     0.82105,     0.82105,     0.82105,     0.82105,     0.82105,     0.82105,     0.82105,     0.82105,     0.82105,     0.82105,     0.82105,     0.82105,     0.82105,\n",
       "            0.82105,     0.82105,     0.82105,     0.82105,     0.82105,     0.82105,     0.82105,     0.82105,     0.82105,     0.82105,     0.82105,     0.82105,     0.82105,     0.82105,     0.82105,     0.82105,     0.82105,     0.82105,     0.82105,     0.82105,     0.82105,     0.82105,     0.82105,\n",
       "            0.82105,     0.82105,     0.82105,     0.82105,     0.82105,     0.82105,     0.82105,     0.82105,     0.82105,     0.82105,     0.82105,     0.82105,     0.82105,     0.82105,     0.82105,     0.82105,     0.82105,     0.82105,     0.82105,     0.82105,     0.82105,     0.82105,     0.82105,\n",
       "            0.82105,     0.82105,     0.82105,     0.82105,     0.82105,     0.82105,     0.82105,     0.82105,     0.82105,     0.82105,     0.82105,     0.82105,     0.82105,     0.82105,     0.82105,     0.82105,     0.82105,     0.82105,     0.82105,     0.82105,     0.82105,     0.82105,     0.82105,\n",
       "            0.82105,     0.82105,     0.82105,     0.82105,     0.82105,     0.82105,     0.82105,     0.82105,     0.82105,     0.82105,     0.82105,     0.82105,     0.82105,     0.82105,     0.82105,     0.82105,     0.82105,     0.81946,     0.81766,     0.81586,     0.81406,     0.81227,     0.81053,\n",
       "            0.81053,     0.81053,     0.81053,     0.81053,     0.81053,     0.81053,     0.81053,     0.81053,     0.81052,     0.80917,     0.80782,     0.80647,     0.80512,     0.80377,     0.80242,     0.80107,     0.79707,     0.78947,     0.78947,     0.78947,     0.78947,     0.78947,     0.78947,\n",
       "            0.78947,     0.78947,     0.78947,     0.78947,     0.78947,     0.78947,     0.78947,     0.78947,     0.78947,     0.78947,     0.78947,     0.78947,     0.78947,     0.78947,     0.78947,     0.78947,     0.78947,     0.78947,     0.78947,     0.78947,     0.78947,     0.78947,     0.78947,\n",
       "            0.78947,     0.78947,     0.78947,     0.78947,     0.78947,     0.78947,     0.78947,     0.78947,     0.78947,     0.78947,     0.78947,     0.78947,     0.78947,     0.78947,     0.78947,     0.78947,     0.78947,     0.78716,     0.78099,     0.77895,     0.77895,     0.77854,     0.77797,\n",
       "             0.7774,     0.77684,     0.77627,      0.7757,     0.77513,     0.77457,       0.774,     0.77343,     0.77286,     0.77229,     0.77173,     0.77116,     0.77059,     0.77002,     0.76945,     0.76889,     0.76842,     0.76842,     0.76842,     0.76842,     0.76842,     0.76842,     0.76842,\n",
       "            0.76842,     0.76842,     0.76842,     0.76842,     0.76842,     0.76842,     0.76842,     0.76842,     0.76842,     0.76842,     0.76842,     0.76842,     0.76842,     0.76842,     0.76842,     0.76842,     0.76842,     0.76842,     0.76842,     0.76842,     0.76842,     0.76842,     0.76842,\n",
       "            0.76842,     0.76842,     0.76842,     0.76842,     0.76842,     0.76842,     0.76842,     0.76842,     0.76842,     0.76842,     0.76842,     0.76842,     0.76842,     0.76842,     0.76842,     0.76842,     0.76842,     0.76842,     0.76842,     0.76842,     0.76842,     0.76842,     0.76842,\n",
       "            0.76842,     0.76842,     0.76842,     0.76842,     0.76842,     0.76842,     0.76842,     0.76842,     0.76842,     0.76842,     0.76842,     0.76842,     0.76842,     0.76842,     0.76842,     0.76842,     0.76842,     0.76842,     0.76842,     0.76842,     0.76842,     0.76842,     0.76842,\n",
       "            0.76842,     0.76842,     0.76842,     0.76834,     0.76783,     0.76731,      0.7668,     0.76628,     0.76577,     0.76526,     0.76474,     0.76423,     0.76372,      0.7632,     0.76269,     0.76217,     0.76166,     0.76115,     0.76063,     0.76012,     0.75961,     0.75909,     0.75858,\n",
       "            0.75806,     0.75724,     0.75626,     0.75527,     0.75429,     0.75331,     0.75233,     0.75135,     0.75037,     0.74939,     0.74841,     0.74743,     0.74737,     0.74737,     0.74737,     0.74737,     0.74737,     0.74737,     0.74737,     0.74737,     0.74737,     0.74737,     0.74737,\n",
       "            0.74737,     0.74737,     0.74737,     0.74737,     0.74737,     0.74737,     0.74737,     0.74737,     0.74737,     0.74737,     0.74737,     0.74737,     0.74737,     0.74737,     0.74737,     0.74737,     0.74737,     0.74737,     0.74737,     0.74737,     0.74626,     0.74472,     0.74317,\n",
       "            0.74163,     0.74009,     0.73855,     0.73701,     0.73684,     0.73684,      0.7344,     0.72901,     0.72571,     0.72452,     0.72332,     0.72212,     0.72092,     0.71972,     0.71852,     0.71732,     0.71612,     0.71521,     0.71441,     0.71361,     0.71282,     0.71202,     0.71122,\n",
       "            0.71042,     0.70962,     0.70882,     0.70802,     0.70722,     0.70642,     0.70562,     0.70526,     0.70526,     0.70526,     0.70526,     0.70526,     0.70526,     0.70526,     0.70526,     0.70526,     0.70526,     0.70526,     0.70526,     0.70526,     0.70526,     0.70526,     0.70526,\n",
       "            0.70526,     0.70526,     0.70526,     0.70526,     0.70526,     0.70526,     0.70526,     0.70526,     0.70526,     0.70526,     0.70526,     0.70484,     0.70304,     0.70125,     0.69945,     0.69765,     0.69585,     0.69433,     0.69325,     0.69217,     0.69109,     0.69001,     0.68893,\n",
       "            0.68785,     0.68677,     0.68569,     0.68462,     0.68421,     0.68421,     0.68421,     0.68421,     0.68421,     0.68421,     0.68421,     0.68421,     0.68421,     0.68421,     0.68421,     0.68421,     0.68421,     0.68421,     0.68421,     0.68421,     0.68421,     0.68421,     0.68421,\n",
       "            0.68421,     0.68421,     0.68421,     0.68421,     0.68421,     0.68353,     0.68259,     0.68166,     0.68072,     0.67978,     0.67884,      0.6779,     0.67696,     0.67603,     0.67509,     0.67415,     0.67337,     0.67276,     0.67214,     0.67152,     0.67091,     0.67029,     0.66967,\n",
       "            0.66906,     0.66844,     0.66782,     0.66721,     0.66659,     0.66597,     0.66536,     0.66474,     0.66413,     0.66351,     0.66183,     0.65875,     0.65566,     0.65254,     0.64715,     0.64211,     0.64211,     0.64211,     0.64211,     0.64211,     0.64211,     0.64211,     0.64211,\n",
       "            0.64211,     0.64211,     0.64211,     0.64211,     0.64211,     0.64211,     0.64211,     0.64211,     0.64211,     0.64211,     0.64029,     0.63669,      0.6331,     0.63108,     0.63022,     0.62935,     0.62849,     0.62763,     0.62676,      0.6259,     0.62504,     0.62417,     0.62331,\n",
       "            0.62245,     0.62158,      0.6183,      0.6111,     0.60958,     0.60855,     0.60753,      0.6065,     0.60547,     0.60444,     0.60342,     0.60239,     0.60136,     0.60033,     0.59919,     0.59799,     0.59679,     0.59559,     0.59439,     0.59319,       0.592,      0.5908,      0.5896,\n",
       "            0.58671,     0.58363,     0.58055,     0.57375,     0.55789,     0.55789,     0.55789,     0.55789,     0.55789,     0.55789,     0.55789,     0.55789,     0.55789,     0.55789,     0.55789,     0.55774,     0.55718,     0.55663,     0.55608,     0.55552,     0.55497,     0.55442,     0.55386,\n",
       "            0.55331,     0.55276,      0.5522,     0.55165,      0.5511,     0.55054,     0.54999,     0.54944,     0.54888,     0.54833,     0.54778,     0.54685,     0.54489,     0.54293,     0.54097,     0.53901,     0.53704,     0.53617,     0.53543,     0.53469,     0.53394,      0.5332,     0.53245,\n",
       "            0.53171,     0.53097,     0.53022,     0.52948,     0.52873,     0.52799,     0.52725,      0.5265,     0.51547,     0.51428,     0.51308,     0.51188,     0.51068,     0.50948,     0.50828,     0.50708,     0.50588,     0.50489,     0.50412,     0.50335,     0.50258,     0.50181,     0.50104,\n",
       "            0.50027,      0.4995,     0.49873,     0.49795,     0.49718,     0.49641,     0.49564,     0.49487,     0.48239,       0.477,      0.4725,     0.46941,     0.46633,     0.46325,     0.46155,     0.45989,     0.45823,     0.45657,     0.45491,     0.45325,      0.4515,      0.4497,      0.4479,\n",
       "             0.4461,     0.44431,     0.44251,     0.42739,       0.422,     0.41512,     0.40792,     0.40073,     0.39824,     0.39628,     0.39431,     0.39235,     0.39039,     0.38373,     0.37858,     0.37793,     0.37728,     0.37662,     0.37597,     0.37531,     0.37466,     0.37401,     0.37335,\n",
       "             0.3727,     0.37204,     0.37139,     0.37074,     0.37008,     0.36943,     0.36877,     0.36511,     0.35792,     0.35252,     0.34688,     0.33534,     0.31573,     0.31505,     0.31438,      0.3137,     0.31303,     0.31235,     0.31168,     0.31101,     0.31033,     0.30966,     0.30898,\n",
       "            0.30831,     0.30763,     0.30696,     0.30628,     0.30561,     0.30317,     0.29885,      0.2947,     0.29393,     0.29316,     0.29239,     0.29162,     0.29085,     0.29008,     0.28931,     0.28854,     0.28777,     0.28699,     0.28622,     0.28545,     0.28468,     0.27159,      0.2662,\n",
       "            0.25263,     0.25263,     0.25263,     0.25263,     0.25263,     0.25263,     0.25263,     0.25263,     0.25263,     0.25263,     0.23476,     0.22778,     0.22238,     0.20909,      0.2037,     0.19887,     0.19527,     0.19167,      0.1811,     0.16397,     0.14846,     0.14327,     0.13896,\n",
       "            0.12081,     0.11387,     0.11027,     0.10667,    0.092145,    0.083236,    0.081694,    0.080153,    0.078612,     0.07707,    0.075529,    0.073988,    0.071208,    0.068125,    0.065042,    0.062459,    0.060661,    0.058862,    0.057064,    0.055266,    0.053468,    0.051348,    0.048951,\n",
       "           0.046553,    0.044155,    0.041658,    0.038575,    0.035493,     0.03241,    0.023697,    0.020449,     0.01965,    0.018851,    0.018052,    0.017252,    0.016453,    0.015654,    0.014855,    0.014055,    0.013256,    0.012457,    0.011658,    0.010858,           0,           0,           0,\n",
       "                  0,           0,           0,           0,           0,           0,           0,           0,           0,           0,           0,           0,           0,           0,           0,           0,           0,           0,           0,           0,           0,           0,           0,\n",
       "                  0,           0,           0,           0,           0,           0,           0,           0,           0,           0,           0]]), 'Confidence', 'Recall']]\n",
       "fitness: 1.196163768079174\n",
       "keys: ['metrics/precision(B)', 'metrics/recall(B)', 'metrics/mAP50(B)', 'metrics/mAP50-95(B)', 'metrics/precision(M)', 'metrics/recall(M)', 'metrics/mAP50(M)', 'metrics/mAP50-95(M)']\n",
       "maps: array([     1.1387])\n",
       "names: {0: 'disease'}\n",
       "nt_per_class: array([95])\n",
       "nt_per_image: array([50])\n",
       "results_dict: {'metrics/precision(B)': 0.8097072251946466, 'metrics/recall(B)': 0.8958112717981139, 'metrics/mAP50(B)': 0.907105909088093, 'metrics/mAP50-95(B)': 0.6571391106302273, 'metrics/precision(M)': 0.835661852624917, 'metrics/recall(M)': 0.7493895809685283, 'metrics/mAP50(M)': 0.805897133223456, 'metrics/mAP50-95(M)': 0.4815980714231271, 'fitness': 1.196163768079174}\n",
       "save_dir: PosixPath('runs/segment/train')\n",
       "seg: ultralytics.utils.metrics.Metric object\n",
       "speed: {'preprocess': 0.2245551800024259, 'inference': 9.531531060001726, 'loss': 0.0016038399985518481, 'postprocess': 5.007875740000145}\n",
       "stats: {'tp': [], 'conf': [], 'pred_cls': [], 'target_cls': [], 'target_img': [], 'tp_m': []}\n",
       "task: 'segment'"
      ]
     },
     "execution_count": 5,
     "metadata": {},
     "output_type": "execute_result"
    }
   ],
   "source": [
    "from ultralytics import YOLO\n",
    "\n",
    "model = YOLO(\"yolov8s-seg.pt\")  # Use 'yolov8n-seg.pt' for faster training\n",
    "\n",
    "model.train(\n",
    "    data=\"/kaggle/working/data.yaml\",\n",
    "    epochs=100,\n",
    "    imgsz=640,\n",
    "    batch=8,\n",
    "    task=\"segment\"\n",
    ")"
   ]
  },
  {
   "cell_type": "code",
   "execution_count": 6,
   "id": "bfcf34e8",
   "metadata": {
    "execution": {
     "iopub.execute_input": "2025-07-29T05:13:59.533091Z",
     "iopub.status.busy": "2025-07-29T05:13:59.532224Z",
     "iopub.status.idle": "2025-07-29T05:14:01.144047Z",
     "shell.execute_reply": "2025-07-29T05:14:01.143281Z"
    },
    "papermill": {
     "duration": 1.899836,
     "end_time": "2025-07-29T05:14:01.145312",
     "exception": false,
     "start_time": "2025-07-29T05:13:59.245476",
     "status": "completed"
    },
    "tags": []
   },
   "outputs": [
    {
     "name": "stdout",
     "output_type": "stream",
     "text": [
      "\n",
      "image 1/50 /kaggle/working/dataset/images/val/disease10_aug2.jpg: 640x640 1 disease, 19.5ms\n",
      "image 2/50 /kaggle/working/dataset/images/val/disease12_aug3.jpg: 640x640 1 disease, 19.5ms\n",
      "image 3/50 /kaggle/working/dataset/images/val/disease12_aug4.jpg: 640x640 1 disease, 19.5ms\n",
      "image 4/50 /kaggle/working/dataset/images/val/disease14_aug0.jpg: 640x640 4 diseases, 19.5ms\n",
      "image 5/50 /kaggle/working/dataset/images/val/disease14_aug3.jpg: 640x640 4 diseases, 19.5ms\n",
      "image 6/50 /kaggle/working/dataset/images/val/disease14_aug4.jpg: 640x640 5 diseases, 19.5ms\n",
      "image 7/50 /kaggle/working/dataset/images/val/disease15_aug1.jpg: 640x640 2 diseases, 19.5ms\n",
      "image 8/50 /kaggle/working/dataset/images/val/disease16_aug1.jpg: 640x640 1 disease, 13.8ms\n",
      "image 9/50 /kaggle/working/dataset/images/val/disease16_aug2.jpg: 640x640 1 disease, 13.8ms\n",
      "image 10/50 /kaggle/working/dataset/images/val/disease18_aug1.jpg: 640x640 3 diseases, 13.8ms\n",
      "image 11/50 /kaggle/working/dataset/images/val/disease18_aug2.jpg: 640x640 4 diseases, 13.8ms\n",
      "image 12/50 /kaggle/working/dataset/images/val/disease19_aug0.jpg: 640x640 1 disease, 13.4ms\n",
      "image 13/50 /kaggle/working/dataset/images/val/disease1_aug4.jpg: 640x640 1 disease, 13.4ms\n",
      "image 14/50 /kaggle/working/dataset/images/val/disease24_aug3.jpg: 640x640 2 diseases, 13.4ms\n",
      "image 15/50 /kaggle/working/dataset/images/val/disease26_aug1.jpg: 640x640 1 disease, 13.4ms\n",
      "image 16/50 /kaggle/working/dataset/images/val/disease27_aug0.jpg: 640x640 3 diseases, 10.8ms\n",
      "image 17/50 /kaggle/working/dataset/images/val/disease29_aug1.jpg: 640x640 3 diseases, 10.5ms\n",
      "image 18/50 /kaggle/working/dataset/images/val/disease29_aug3.jpg: 640x640 4 diseases, 10.5ms\n",
      "image 19/50 /kaggle/working/dataset/images/val/disease29_aug4.jpg: 640x640 5 diseases, 10.7ms\n",
      "image 20/50 /kaggle/working/dataset/images/val/disease2_aug2.jpg: 640x640 1 disease, 10.9ms\n",
      "image 21/50 /kaggle/working/dataset/images/val/disease2_aug4.jpg: 640x640 1 disease, 10.8ms\n",
      "image 22/50 /kaggle/working/dataset/images/val/disease30_aug1.jpg: 640x640 3 diseases, 10.7ms\n",
      "image 23/50 /kaggle/working/dataset/images/val/disease31_aug0.jpg: 640x640 1 disease, 10.4ms\n",
      "image 24/50 /kaggle/working/dataset/images/val/disease31_aug4.jpg: 640x640 1 disease, 10.2ms\n",
      "image 25/50 /kaggle/working/dataset/images/val/disease32_aug1.jpg: 640x640 2 diseases, 10.0ms\n",
      "image 26/50 /kaggle/working/dataset/images/val/disease32_aug3.jpg: 640x640 2 diseases, 9.7ms\n",
      "image 27/50 /kaggle/working/dataset/images/val/disease33_aug4.jpg: 640x640 4 diseases, 9.7ms\n",
      "image 28/50 /kaggle/working/dataset/images/val/disease37_aug2.jpg: 640x640 5 diseases, 9.8ms\n",
      "image 29/50 /kaggle/working/dataset/images/val/disease38_aug0.jpg: 640x640 1 disease, 10.0ms\n",
      "image 30/50 /kaggle/working/dataset/images/val/disease39_aug0.jpg: 640x640 2 diseases, 10.2ms\n",
      "image 31/50 /kaggle/working/dataset/images/val/disease39_aug2.jpg: 640x640 2 diseases, 10.5ms\n",
      "image 32/50 /kaggle/working/dataset/images/val/disease39_aug3.jpg: 640x640 3 diseases, 11.0ms\n",
      "image 33/50 /kaggle/working/dataset/images/val/disease42_aug0.jpg: 640x640 1 disease, 11.0ms\n",
      "image 34/50 /kaggle/working/dataset/images/val/disease42_aug2.jpg: 640x640 1 disease, 10.6ms\n",
      "image 35/50 /kaggle/working/dataset/images/val/disease43_aug1.jpg: 640x640 7 diseases, 10.0ms\n",
      "image 36/50 /kaggle/working/dataset/images/val/disease43_aug3.jpg: 640x640 5 diseases, 9.8ms\n",
      "image 37/50 /kaggle/working/dataset/images/val/disease44_aug4.jpg: 640x640 3 diseases, 10.1ms\n",
      "image 38/50 /kaggle/working/dataset/images/val/disease46_aug1.jpg: 640x640 5 diseases, 10.7ms\n",
      "image 39/50 /kaggle/working/dataset/images/val/disease47_aug0.jpg: 640x640 2 diseases, 10.9ms\n",
      "image 40/50 /kaggle/working/dataset/images/val/disease47_aug1.jpg: 640x640 2 diseases, 10.7ms\n",
      "image 41/50 /kaggle/working/dataset/images/val/disease47_aug4.jpg: 640x640 2 diseases, 11.0ms\n",
      "image 42/50 /kaggle/working/dataset/images/val/disease48_aug0.jpg: 640x640 1 disease, 9.8ms\n",
      "image 43/50 /kaggle/working/dataset/images/val/disease48_aug4.jpg: 640x640 1 disease, 11.7ms\n",
      "image 44/50 /kaggle/working/dataset/images/val/disease49_aug1.jpg: 640x640 3 diseases, 10.6ms\n",
      "image 45/50 /kaggle/working/dataset/images/val/disease49_aug3.jpg: 640x640 3 diseases, 10.2ms\n",
      "image 46/50 /kaggle/working/dataset/images/val/disease4_aug1.jpg: 640x640 1 disease, 9.8ms\n",
      "image 47/50 /kaggle/working/dataset/images/val/disease5_aug4.jpg: 640x640 2 diseases, 9.7ms\n",
      "image 48/50 /kaggle/working/dataset/images/val/disease7_aug2.jpg: 640x640 1 disease, 9.7ms\n",
      "image 49/50 /kaggle/working/dataset/images/val/disease7_aug3.jpg: 640x640 1 disease, 9.7ms\n",
      "image 50/50 /kaggle/working/dataset/images/val/disease8_aug0.jpg: 640x640 1 disease, 9.7ms\n",
      "Speed: 2.2ms preprocess, 12.2ms inference, 2.8ms postprocess per image at shape (1, 3, 640, 640)\n",
      "Results saved to \u001b[1mruns/segment/train2\u001b[0m\n"
     ]
    }
   ],
   "source": [
    "results = model.predict(source=\"/kaggle/working/dataset/images/val\", save=True)"
   ]
  },
  {
   "cell_type": "code",
   "execution_count": 7,
   "id": "c9eb9c02",
   "metadata": {
    "execution": {
     "iopub.execute_input": "2025-07-29T05:14:01.755550Z",
     "iopub.status.busy": "2025-07-29T05:14:01.755285Z",
     "iopub.status.idle": "2025-07-29T05:14:02.839460Z",
     "shell.execute_reply": "2025-07-29T05:14:02.838966Z"
    },
    "papermill": {
     "duration": 1.361603,
     "end_time": "2025-07-29T05:14:02.840571",
     "exception": false,
     "start_time": "2025-07-29T05:14:01.478968",
     "status": "completed"
    },
    "tags": []
   },
   "outputs": [
    {
     "name": "stdout",
     "output_type": "stream",
     "text": [
      "\n",
      "image 1/50 /kaggle/working/dataset/images/val/disease10_aug2.jpg: 640x640 1 disease, 9.6ms\n",
      "image 2/50 /kaggle/working/dataset/images/val/disease12_aug3.jpg: 640x640 1 disease, 9.6ms\n",
      "image 3/50 /kaggle/working/dataset/images/val/disease12_aug4.jpg: 640x640 1 disease, 9.8ms\n",
      "image 4/50 /kaggle/working/dataset/images/val/disease14_aug0.jpg: 640x640 4 diseases, 9.9ms\n",
      "image 5/50 /kaggle/working/dataset/images/val/disease14_aug3.jpg: 640x640 4 diseases, 10.4ms\n",
      "image 6/50 /kaggle/working/dataset/images/val/disease14_aug4.jpg: 640x640 5 diseases, 10.5ms\n",
      "image 7/50 /kaggle/working/dataset/images/val/disease15_aug1.jpg: 640x640 2 diseases, 10.7ms\n",
      "image 8/50 /kaggle/working/dataset/images/val/disease16_aug1.jpg: 640x640 1 disease, 10.9ms\n",
      "image 9/50 /kaggle/working/dataset/images/val/disease16_aug2.jpg: 640x640 1 disease, 11.2ms\n",
      "image 10/50 /kaggle/working/dataset/images/val/disease18_aug1.jpg: 640x640 3 diseases, 11.2ms\n",
      "image 11/50 /kaggle/working/dataset/images/val/disease18_aug2.jpg: 640x640 4 diseases, 11.0ms\n",
      "image 12/50 /kaggle/working/dataset/images/val/disease19_aug0.jpg: 640x640 1 disease, 10.6ms\n",
      "image 13/50 /kaggle/working/dataset/images/val/disease1_aug4.jpg: 640x640 1 disease, 10.1ms\n",
      "image 14/50 /kaggle/working/dataset/images/val/disease24_aug3.jpg: 640x640 2 diseases, 10.0ms\n",
      "image 15/50 /kaggle/working/dataset/images/val/disease26_aug1.jpg: 640x640 1 disease, 9.9ms\n",
      "image 16/50 /kaggle/working/dataset/images/val/disease27_aug0.jpg: 640x640 3 diseases, 9.8ms\n",
      "image 17/50 /kaggle/working/dataset/images/val/disease29_aug1.jpg: 640x640 3 diseases, 9.7ms\n",
      "image 18/50 /kaggle/working/dataset/images/val/disease29_aug3.jpg: 640x640 4 diseases, 9.7ms\n",
      "image 19/50 /kaggle/working/dataset/images/val/disease29_aug4.jpg: 640x640 5 diseases, 9.7ms\n",
      "image 20/50 /kaggle/working/dataset/images/val/disease2_aug2.jpg: 640x640 1 disease, 9.6ms\n",
      "image 21/50 /kaggle/working/dataset/images/val/disease2_aug4.jpg: 640x640 1 disease, 9.7ms\n",
      "image 22/50 /kaggle/working/dataset/images/val/disease30_aug1.jpg: 640x640 3 diseases, 9.9ms\n",
      "image 23/50 /kaggle/working/dataset/images/val/disease31_aug0.jpg: 640x640 1 disease, 10.1ms\n",
      "image 24/50 /kaggle/working/dataset/images/val/disease31_aug4.jpg: 640x640 1 disease, 10.3ms\n",
      "image 25/50 /kaggle/working/dataset/images/val/disease32_aug1.jpg: 640x640 2 diseases, 10.5ms\n",
      "image 26/50 /kaggle/working/dataset/images/val/disease32_aug3.jpg: 640x640 2 diseases, 10.8ms\n",
      "image 27/50 /kaggle/working/dataset/images/val/disease33_aug4.jpg: 640x640 4 diseases, 11.1ms\n",
      "image 28/50 /kaggle/working/dataset/images/val/disease37_aug2.jpg: 640x640 5 diseases, 11.1ms\n",
      "image 29/50 /kaggle/working/dataset/images/val/disease38_aug0.jpg: 640x640 1 disease, 10.7ms\n",
      "image 30/50 /kaggle/working/dataset/images/val/disease39_aug0.jpg: 640x640 2 diseases, 10.3ms\n",
      "image 31/50 /kaggle/working/dataset/images/val/disease39_aug2.jpg: 640x640 2 diseases, 9.9ms\n",
      "image 32/50 /kaggle/working/dataset/images/val/disease39_aug3.jpg: 640x640 3 diseases, 9.8ms\n",
      "image 33/50 /kaggle/working/dataset/images/val/disease42_aug0.jpg: 640x640 1 disease, 9.8ms\n",
      "image 34/50 /kaggle/working/dataset/images/val/disease42_aug2.jpg: 640x640 1 disease, 9.7ms\n",
      "image 35/50 /kaggle/working/dataset/images/val/disease43_aug1.jpg: 640x640 7 diseases, 9.7ms\n",
      "image 36/50 /kaggle/working/dataset/images/val/disease43_aug3.jpg: 640x640 5 diseases, 9.8ms\n",
      "image 37/50 /kaggle/working/dataset/images/val/disease44_aug4.jpg: 640x640 3 diseases, 10.5ms\n",
      "image 38/50 /kaggle/working/dataset/images/val/disease46_aug1.jpg: 640x640 5 diseases, 10.7ms\n",
      "image 39/50 /kaggle/working/dataset/images/val/disease47_aug0.jpg: 640x640 2 diseases, 11.0ms\n",
      "image 40/50 /kaggle/working/dataset/images/val/disease47_aug1.jpg: 640x640 2 diseases, 10.8ms\n",
      "image 41/50 /kaggle/working/dataset/images/val/disease47_aug4.jpg: 640x640 2 diseases, 10.5ms\n",
      "image 42/50 /kaggle/working/dataset/images/val/disease48_aug0.jpg: 640x640 1 disease, 10.1ms\n",
      "image 43/50 /kaggle/working/dataset/images/val/disease48_aug4.jpg: 640x640 1 disease, 9.8ms\n",
      "image 44/50 /kaggle/working/dataset/images/val/disease49_aug1.jpg: 640x640 3 diseases, 9.7ms\n",
      "image 45/50 /kaggle/working/dataset/images/val/disease49_aug3.jpg: 640x640 3 diseases, 9.7ms\n",
      "image 46/50 /kaggle/working/dataset/images/val/disease4_aug1.jpg: 640x640 1 disease, 9.7ms\n",
      "image 47/50 /kaggle/working/dataset/images/val/disease5_aug4.jpg: 640x640 2 diseases, 9.8ms\n",
      "image 48/50 /kaggle/working/dataset/images/val/disease7_aug2.jpg: 640x640 1 disease, 9.8ms\n",
      "image 49/50 /kaggle/working/dataset/images/val/disease7_aug3.jpg: 640x640 1 disease, 10.1ms\n",
      "image 50/50 /kaggle/working/dataset/images/val/disease8_aug0.jpg: 640x640 1 disease, 10.0ms\n",
      "Speed: 2.1ms preprocess, 10.2ms inference, 1.9ms postprocess per image at shape (1, 3, 640, 640)\n",
      "Results saved to \u001b[1mruns/segment/train3\u001b[0m\n"
     ]
    }
   ],
   "source": [
    "results = model.predict(source=\"/kaggle/working/dataset/images/val\", save=True)"
   ]
  },
  {
   "cell_type": "code",
   "execution_count": 8,
   "id": "fd3cf0e2",
   "metadata": {
    "execution": {
     "iopub.execute_input": "2025-07-29T05:14:03.411523Z",
     "iopub.status.busy": "2025-07-29T05:14:03.411213Z",
     "iopub.status.idle": "2025-07-29T05:14:03.457493Z",
     "shell.execute_reply": "2025-07-29T05:14:03.456763Z"
    },
    "papermill": {
     "duration": 0.332024,
     "end_time": "2025-07-29T05:14:03.458995",
     "exception": false,
     "start_time": "2025-07-29T05:14:03.126971",
     "status": "completed"
    },
    "tags": []
   },
   "outputs": [],
   "source": [
    "import shutil\n",
    "import os\n",
    "\n",
    "# Delete everything inside /kaggle/working/\n",
    "for filename in os.listdir(\"/kaggle/working\"):\n",
    "    file_path = os.path.join(\"/kaggle/working\", filename)\n",
    "    try:\n",
    "        if os.path.isfile(file_path) or os.path.islink(file_path):\n",
    "            os.unlink(file_path)  # Remove file or link\n",
    "        elif os.path.isdir(file_path):\n",
    "            shutil.rmtree(file_path)  # Remove directory\n",
    "    except Exception as e:\n",
    "        print(f'Failed to delete {file_path}. Reason: {e}')\n"
   ]
  },
  {
   "cell_type": "code",
   "execution_count": 9,
   "id": "79d14eac",
   "metadata": {
    "execution": {
     "iopub.execute_input": "2025-07-29T05:14:04.092980Z",
     "iopub.status.busy": "2025-07-29T05:14:04.092636Z",
     "iopub.status.idle": "2025-07-29T05:14:04.610738Z",
     "shell.execute_reply": "2025-07-29T05:14:04.610145Z"
    },
    "papermill": {
     "duration": 0.808412,
     "end_time": "2025-07-29T05:14:04.611792",
     "exception": false,
     "start_time": "2025-07-29T05:14:03.803380",
     "status": "completed"
    },
    "tags": []
   },
   "outputs": [
    {
     "name": "stdout",
     "output_type": "stream",
     "text": [
      "\n",
      "image 1/1 /kaggle/input/picture/pexels-kelly-1179532-2559931.jpg: 640x448 1 disease, 53.1ms\n",
      "Speed: 3.2ms preprocess, 53.1ms inference, 2.2ms postprocess per image at shape (1, 3, 640, 448)\n",
      "Results saved to \u001b[1mruns/segment/train\u001b[0m\n"
     ]
    }
   ],
   "source": [
    "results = model.predict(source=\"/kaggle/input/picture\", save=True)"
   ]
  },
  {
   "cell_type": "code",
   "execution_count": 10,
   "id": "f5ea1cdd",
   "metadata": {
    "execution": {
     "iopub.execute_input": "2025-07-29T05:14:05.228452Z",
     "iopub.status.busy": "2025-07-29T05:14:05.228159Z",
     "iopub.status.idle": "2025-07-29T05:14:05.377288Z",
     "shell.execute_reply": "2025-07-29T05:14:05.376672Z"
    },
    "papermill": {
     "duration": 0.484608,
     "end_time": "2025-07-29T05:14:05.378419",
     "exception": false,
     "start_time": "2025-07-29T05:14:04.893811",
     "status": "completed"
    },
    "tags": []
   },
   "outputs": [
    {
     "name": "stdout",
     "output_type": "stream",
     "text": [
      "\n",
      "image 1/1 /kaggle/input/picturedis/pic1.jpeg: 480x640 1 disease, 54.6ms\n",
      "Speed: 2.4ms preprocess, 54.6ms inference, 2.2ms postprocess per image at shape (1, 3, 480, 640)\n",
      "Results saved to \u001b[1mruns/segment/train2\u001b[0m\n"
     ]
    }
   ],
   "source": [
    "results = model.predict(source=\"/kaggle/input/picturedis\", save=True)"
   ]
  },
  {
   "cell_type": "code",
   "execution_count": 11,
   "id": "9edeb7aa",
   "metadata": {
    "execution": {
     "iopub.execute_input": "2025-07-29T05:14:05.938773Z",
     "iopub.status.busy": "2025-07-29T05:14:05.937940Z",
     "iopub.status.idle": "2025-07-29T05:14:05.985116Z",
     "shell.execute_reply": "2025-07-29T05:14:05.984526Z"
    },
    "papermill": {
     "duration": 0.328793,
     "end_time": "2025-07-29T05:14:05.986141",
     "exception": false,
     "start_time": "2025-07-29T05:14:05.657348",
     "status": "completed"
    },
    "tags": []
   },
   "outputs": [
    {
     "name": "stdout",
     "output_type": "stream",
     "text": [
      "\n",
      "image 1/1 /kaggle/input/piccc2/pic2.jpeg: 480x640 1 disease, 16.8ms\n",
      "Speed: 1.8ms preprocess, 16.8ms inference, 2.3ms postprocess per image at shape (1, 3, 480, 640)\n",
      "Results saved to \u001b[1mruns/segment/train3\u001b[0m\n"
     ]
    }
   ],
   "source": [
    "results = model.predict(source=\"/kaggle/input/piccc2\", save=True)"
   ]
  },
  {
   "cell_type": "code",
   "execution_count": null,
   "id": "3e809e2d",
   "metadata": {
    "papermill": {
     "duration": 0.325001,
     "end_time": "2025-07-29T05:14:06.589762",
     "exception": false,
     "start_time": "2025-07-29T05:14:06.264761",
     "status": "completed"
    },
    "tags": []
   },
   "outputs": [],
   "source": []
  }
 ],
 "metadata": {
  "kaggle": {
   "accelerator": "nvidiaTeslaT4",
   "dataSources": [
    {
     "datasetId": 7962535,
     "sourceId": 12605957,
     "sourceType": "datasetVersion"
    },
    {
     "datasetId": 7962551,
     "sourceId": 12605992,
     "sourceType": "datasetVersion"
    },
    {
     "datasetId": 7962702,
     "sourceId": 12606195,
     "sourceType": "datasetVersion"
    },
    {
     "datasetId": 7962714,
     "sourceId": 12606209,
     "sourceType": "datasetVersion"
    },
    {
     "datasetId": 7962806,
     "sourceId": 12606340,
     "sourceType": "datasetVersion"
    }
   ],
   "dockerImageVersionId": 31090,
   "isGpuEnabled": true,
   "isInternetEnabled": true,
   "language": "python",
   "sourceType": "notebook"
  },
  "kernelspec": {
   "display_name": "Python 3",
   "language": "python",
   "name": "python3"
  },
  "language_info": {
   "codemirror_mode": {
    "name": "ipython",
    "version": 3
   },
   "file_extension": ".py",
   "mimetype": "text/x-python",
   "name": "python",
   "nbconvert_exporter": "python",
   "pygments_lexer": "ipython3",
   "version": "3.11.13"
  },
  "papermill": {
   "default_parameters": {},
   "duration": 740.951967,
   "end_time": "2025-07-29T05:14:09.784203",
   "environment_variables": {},
   "exception": null,
   "input_path": "__notebook__.ipynb",
   "output_path": "__notebook__.ipynb",
   "parameters": {},
   "start_time": "2025-07-29T05:01:48.832236",
   "version": "2.6.0"
  }
 },
 "nbformat": 4,
 "nbformat_minor": 5
}
